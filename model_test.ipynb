{
 "cells": [
  {
   "cell_type": "markdown",
   "metadata": {},
   "source": [
    "# Demonstration of the CNN used for time series classification\n",
    "\n",
    "## Data preparation\n",
    "\n",
    "In order to feed data to our model, we need to turn it into a keras sequence. This way it is fed to the network as batches of 1 sample each time, and there is no issue with the fact the time series have a different size. The whole preparation is done in the data_preparation function. The data are also shuffled."
   ]
  },
  {
   "cell_type": "code",
   "execution_count": 1,
   "metadata": {},
   "outputs": [
    {
     "name": "stdout",
     "output_type": "stream",
     "text": [
      "[INFO]  Data folder /media/louis/TOSHIBA EXT/FullData/NoNoise/3/auto_sending_goals_2021-06-29-10-23-43 already exists. Not creating.\n",
      "[INFO]  Data folder /media/louis/TOSHIBA EXT/FullData/NoNoise/1/auto_sending_goals_2021-06-29-10-22-41 already exists. Not creating.\n",
      "[INFO]  Data folder /media/louis/TOSHIBA EXT/FullData/NoNoise/10/auto_sending_goals_2021-06-29-10-30-24 already exists. Not creating.\n",
      "[INFO]  Data folder /media/louis/TOSHIBA EXT/FullData/NoNoise/11/auto_sending_goals_2021-06-29-10-30-48 already exists. Not creating.\n",
      "[INFO]  Data folder /media/louis/TOSHIBA EXT/FullData/NoNoise/12/auto_sending_goals_2021-06-29-10-33-03 already exists. Not creating.\n",
      "[INFO]  Data folder /media/louis/TOSHIBA EXT/FullData/NoNoise/13/auto_sending_goals_2021-06-29-10-35-19 already exists. Not creating.\n",
      "[INFO]  Data folder /media/louis/TOSHIBA EXT/FullData/NoNoise/14/auto_sending_goals_2021-06-29-10-37-34 already exists. Not creating.\n",
      "[INFO]  Data folder /media/louis/TOSHIBA EXT/FullData/NoNoise/15/auto_sending_goals_2021-06-29-10-39-50 already exists. Not creating.\n",
      "[INFO]  Data folder /media/louis/TOSHIBA EXT/FullData/NoNoise/16/auto_sending_goals_2021-06-29-10-42-06 already exists. Not creating.\n",
      "[INFO]  Data folder /media/louis/TOSHIBA EXT/FullData/NoNoise/17/auto_sending_goals_2021-06-29-10-44-21 already exists. Not creating.\n",
      "[INFO]  Data folder /media/louis/TOSHIBA EXT/FullData/NoNoise/18/auto_sending_goals_2021-06-29-10-46-37 already exists. Not creating.\n",
      "[INFO]  Data folder /media/louis/TOSHIBA EXT/FullData/NoNoise/19/auto_sending_goals_2021-06-29-10-48-52 already exists. Not creating.\n",
      "[INFO]  Data folder /media/louis/TOSHIBA EXT/FullData/NoNoise/2/auto_sending_goals_2021-06-29-10-23-19 already exists. Not creating.\n",
      "[INFO]  Data folder /media/louis/TOSHIBA EXT/FullData/NoNoise/20/auto_sending_goals_2021-06-29-10-51-08 already exists. Not creating.\n",
      "[INFO]  Data folder /media/louis/TOSHIBA EXT/FullData/NoNoise/21/auto_sending_goals_2021-06-29-10-53-24 already exists. Not creating.\n",
      "[INFO]  Data folder /media/louis/TOSHIBA EXT/FullData/NoNoise/22/auto_sending_goals_2021-06-29-10-55-39 already exists. Not creating.\n",
      "[INFO]  Data folder /media/louis/TOSHIBA EXT/FullData/NoNoise/23/auto_sending_goals_2021-06-29-10-57-55 already exists. Not creating.\n",
      "[INFO]  Data folder /media/louis/TOSHIBA EXT/FullData/NoNoise/24/auto_sending_goals_2021-06-29-11-00-10 already exists. Not creating.\n",
      "[INFO]  Data folder /media/louis/TOSHIBA EXT/FullData/NoNoise/25/auto_sending_goals_2021-06-29-11-02-26 already exists. Not creating.\n",
      "[INFO]  Data folder /media/louis/TOSHIBA EXT/FullData/NoNoise/26/auto_sending_goals_2021-06-29-11-04-42 already exists. Not creating.\n",
      "[INFO]  Data folder /media/louis/TOSHIBA EXT/FullData/NoNoise/27/auto_sending_goals_2021-06-29-11-06-57 already exists. Not creating.\n",
      "[INFO]  Data folder /media/louis/TOSHIBA EXT/FullData/NoNoise/28/auto_sending_goals_2021-06-29-11-09-13 already exists. Not creating.\n",
      "[INFO]  Data folder /media/louis/TOSHIBA EXT/FullData/NoNoise/29/auto_sending_goals_2021-06-29-11-11-28 already exists. Not creating.\n",
      "[INFO]  Data folder /media/louis/TOSHIBA EXT/FullData/NoNoise/30/auto_sending_goals_2021-06-29-11-13-44 already exists. Not creating.\n",
      "[INFO]  Data folder /media/louis/TOSHIBA EXT/FullData/NoNoise/31/auto_sending_goals_2021-06-30-09-53-34 already exists. Not creating.\n",
      "[INFO]  Data folder /media/louis/TOSHIBA EXT/FullData/NoNoise/32/auto_sending_goals_2021-06-30-09-54-12 already exists. Not creating.\n",
      "[INFO]  Data folder /media/louis/TOSHIBA EXT/FullData/NoNoise/33/auto_sending_goals_2021-06-30-09-54-36 already exists. Not creating.\n",
      "[INFO]  Data folder /media/louis/TOSHIBA EXT/FullData/NoNoise/34/auto_sending_goals_2021-06-30-09-55-01 already exists. Not creating.\n",
      "[INFO]  Data folder /media/louis/TOSHIBA EXT/FullData/NoNoise/35/auto_sending_goals_2021-06-30-09-55-27 already exists. Not creating.\n",
      "[INFO]  Data folder /media/louis/TOSHIBA EXT/FullData/NoNoise/36/auto_sending_goals_2021-06-30-09-57-43 already exists. Not creating.\n",
      "[INFO]  Data folder /media/louis/TOSHIBA EXT/FullData/NoNoise/37/auto_sending_goals_2021-06-30-09-58-13 already exists. Not creating.\n",
      "[INFO]  Data folder /media/louis/TOSHIBA EXT/FullData/NoNoise/38/auto_sending_goals_2021-06-30-10-00-29 already exists. Not creating.\n",
      "[INFO]  Data folder /media/louis/TOSHIBA EXT/FullData/NoNoise/39/auto_sending_goals_2021-06-30-10-02-44 already exists. Not creating.\n",
      "[INFO]  Data folder /media/louis/TOSHIBA EXT/FullData/NoNoise/4/auto_sending_goals_2021-06-29-10-24-08 already exists. Not creating.\n",
      "[INFO]  Data folder /media/louis/TOSHIBA EXT/FullData/NoNoise/40/auto_sending_goals_2021-06-30-10-03-16 already exists. Not creating.\n",
      "[INFO]  Data folder /media/louis/TOSHIBA EXT/FullData/NoNoise/41/auto_sending_goals_2021-06-30-10-03-40 already exists. Not creating.\n",
      "[INFO]  Data folder /media/louis/TOSHIBA EXT/FullData/NoNoise/42/auto_sending_goals_2021-06-30-10-04-03 already exists. Not creating.\n",
      "[INFO]  Data folder /media/louis/TOSHIBA EXT/FullData/NoNoise/43/auto_sending_goals_2021-06-30-10-06-18 already exists. Not creating.\n",
      "[INFO]  Data folder /media/louis/TOSHIBA EXT/FullData/NoNoise/44/auto_sending_goals_2021-06-30-10-08-34 already exists. Not creating.\n",
      "[INFO]  Data folder /media/louis/TOSHIBA EXT/FullData/NoNoise/45/auto_sending_goals_2021-06-30-10-10-50 already exists. Not creating.\n",
      "[INFO]  Data folder /media/louis/TOSHIBA EXT/FullData/NoNoise/46/auto_sending_goals_2021-06-30-10-13-05 already exists. Not creating.\n",
      "[INFO]  Data folder /media/louis/TOSHIBA EXT/FullData/NoNoise/47/auto_sending_goals_2021-06-30-10-15-21 already exists. Not creating.\n",
      "[INFO]  Data folder /media/louis/TOSHIBA EXT/FullData/NoNoise/48/auto_sending_goals_2021-06-30-10-17-36 already exists. Not creating.\n",
      "[INFO]  Data folder /media/louis/TOSHIBA EXT/FullData/NoNoise/49/auto_sending_goals_2021-06-30-10-19-52 already exists. Not creating.\n",
      "[INFO]  Data folder /media/louis/TOSHIBA EXT/FullData/NoNoise/5/auto_sending_goals_2021-06-29-10-24-33 already exists. Not creating.\n",
      "[INFO]  Data folder /media/louis/TOSHIBA EXT/FullData/NoNoise/50/auto_sending_goals_2021-06-30-10-22-08 already exists. Not creating.\n",
      "[INFO]  Data folder /media/louis/TOSHIBA EXT/FullData/NoNoise/51/auto_sending_goals_2021-06-30-10-24-23 already exists. Not creating.\n",
      "[INFO]  Data folder /media/louis/TOSHIBA EXT/FullData/NoNoise/52/auto_sending_goals_2021-06-30-10-26-39 already exists. Not creating.\n",
      "[INFO]  Data folder /media/louis/TOSHIBA EXT/FullData/NoNoise/53/auto_sending_goals_2021-06-30-10-28-54 already exists. Not creating.\n",
      "[INFO]  Data folder /media/louis/TOSHIBA EXT/FullData/NoNoise/54/auto_sending_goals_2021-06-30-10-31-10 already exists. Not creating.\n",
      "[INFO]  Data folder /media/louis/TOSHIBA EXT/FullData/NoNoise/55/auto_sending_goals_2021-06-30-10-33-26 already exists. Not creating.\n",
      "[INFO]  Data folder /media/louis/TOSHIBA EXT/FullData/NoNoise/56/auto_sending_goals_2021-06-30-10-35-41 already exists. Not creating.\n",
      "[INFO]  Data folder /media/louis/TOSHIBA EXT/FullData/NoNoise/57/auto_sending_goals_2021-06-30-10-37-57 already exists. Not creating.\n",
      "[INFO]  Data folder /media/louis/TOSHIBA EXT/FullData/NoNoise/58/auto_sending_goals_2021-06-30-10-40-13 already exists. Not creating.\n",
      "[INFO]  Data folder /media/louis/TOSHIBA EXT/FullData/NoNoise/59/auto_sending_goals_2021-06-30-10-42-28 already exists. Not creating.\n",
      "[INFO]  Data folder /media/louis/TOSHIBA EXT/FullData/NoNoise/6/auto_sending_goals_2021-06-29-10-26-49 already exists. Not creating.\n",
      "[INFO]  Data folder /media/louis/TOSHIBA EXT/FullData/NoNoise/60/auto_sending_goals_2021-06-30-10-44-44 already exists. Not creating.\n",
      "[INFO]  Data folder /media/louis/TOSHIBA EXT/FullData/NoNoise/7/auto_sending_goals_2021-06-29-10-27-20 already exists. Not creating.\n",
      "[INFO]  Data folder /media/louis/TOSHIBA EXT/FullData/NoNoise/8/auto_sending_goals_2021-06-29-10-29-36 already exists. Not creating.\n",
      "[INFO]  Data folder /media/louis/TOSHIBA EXT/FullData/NoNoise/9/auto_sending_goals_2021-06-29-10-29-59 already exists. Not creating.\n",
      "[INFO]  Data folder /media/louis/TOSHIBA EXT/FullData/OdomNoise/3/auto_sending_goals_2021-06-29-11-23-21 already exists. Not creating.\n",
      "[INFO]  Data folder /media/louis/TOSHIBA EXT/FullData/OdomNoise/1/auto_sending_goals_2021-06-29-11-21-09 already exists. Not creating.\n",
      "[INFO]  Data folder /media/louis/TOSHIBA EXT/FullData/OdomNoise/10/auto_sending_goals_2021-06-29-11-39-10 already exists. Not creating.\n",
      "[INFO]  Data folder /media/louis/TOSHIBA EXT/FullData/OdomNoise/11/auto_sending_goals_2021-06-29-11-41-25 already exists. Not creating.\n",
      "[INFO]  Data folder /media/louis/TOSHIBA EXT/FullData/OdomNoise/12/auto_sending_goals_2021-06-29-11-42-31 already exists. Not creating.\n",
      "[INFO]  Data folder /media/louis/TOSHIBA EXT/FullData/OdomNoise/13/auto_sending_goals_2021-06-29-11-44-47 already exists. Not creating.\n",
      "[INFO]  Data folder /media/louis/TOSHIBA EXT/FullData/OdomNoise/14/auto_sending_goals_2021-06-29-11-47-02 already exists. Not creating.\n",
      "[INFO]  Data folder /media/louis/TOSHIBA EXT/FullData/OdomNoise/15/auto_sending_goals_2021-06-29-11-49-18 already exists. Not creating.\n",
      "[INFO]  Data folder /media/louis/TOSHIBA EXT/FullData/OdomNoise/16/auto_sending_goals_2021-06-29-11-51-33 already exists. Not creating.\n",
      "[INFO]  Data folder /media/louis/TOSHIBA EXT/FullData/OdomNoise/17/auto_sending_goals_2021-06-29-11-53-49 already exists. Not creating.\n",
      "[INFO]  Data folder /media/louis/TOSHIBA EXT/FullData/OdomNoise/18/auto_sending_goals_2021-06-29-11-56-05 already exists. Not creating.\n",
      "[INFO]  Data folder /media/louis/TOSHIBA EXT/FullData/OdomNoise/19/auto_sending_goals_2021-06-29-11-58-20 already exists. Not creating.\n",
      "[INFO]  Data folder /media/louis/TOSHIBA EXT/FullData/OdomNoise/2/auto_sending_goals_2021-06-29-11-22-35 already exists. Not creating.\n",
      "[INFO]  Data folder /media/louis/TOSHIBA EXT/FullData/OdomNoise/20/auto_sending_goals_2021-06-29-12-00-36 already exists. Not creating.\n",
      "[INFO]  Data folder /media/louis/TOSHIBA EXT/FullData/OdomNoise/21/auto_sending_goals_2021-06-29-12-02-51 already exists. Not creating.\n",
      "[INFO]  Data folder /media/louis/TOSHIBA EXT/FullData/OdomNoise/22/auto_sending_goals_2021-06-29-12-05-07 already exists. Not creating.\n",
      "[INFO]  Data folder /media/louis/TOSHIBA EXT/FullData/OdomNoise/23/auto_sending_goals_2021-06-29-12-07-22 already exists. Not creating.\n",
      "[INFO]  Data folder /media/louis/TOSHIBA EXT/FullData/OdomNoise/24/auto_sending_goals_2021-06-29-12-09-38 already exists. Not creating.\n",
      "[INFO]  Data folder /media/louis/TOSHIBA EXT/FullData/OdomNoise/25/auto_sending_goals_2021-06-29-12-11-53 already exists. Not creating.\n",
      "[INFO]  Data folder /media/louis/TOSHIBA EXT/FullData/OdomNoise/26/auto_sending_goals_2021-06-29-12-14-09 already exists. Not creating.\n",
      "[INFO]  Data folder /media/louis/TOSHIBA EXT/FullData/OdomNoise/27/auto_sending_goals_2021-06-29-12-16-25 already exists. Not creating.\n",
      "[INFO]  Data folder /media/louis/TOSHIBA EXT/FullData/OdomNoise/28/auto_sending_goals_2021-06-29-12-18-40 already exists. Not creating.\n",
      "[INFO]  Data folder /media/louis/TOSHIBA EXT/FullData/OdomNoise/29/auto_sending_goals_2021-06-29-12-20-56 already exists. Not creating.\n",
      "[INFO]  Data folder /media/louis/TOSHIBA EXT/FullData/OdomNoise/30/auto_sending_goals_2021-06-29-12-23-11 already exists. Not creating.\n",
      "[INFO]  Data folder /media/louis/TOSHIBA EXT/FullData/OdomNoise/31/auto_sending_goals_2021-06-30-10-56-09 already exists. Not creating.\n",
      "[INFO]  Data folder /media/louis/TOSHIBA EXT/FullData/OdomNoise/32/auto_sending_goals_2021-06-30-10-58-25 already exists. Not creating.\n",
      "[INFO]  Data folder /media/louis/TOSHIBA EXT/FullData/OdomNoise/33/auto_sending_goals_2021-06-30-11-00-41 already exists. Not creating.\n",
      "[INFO]  Data folder /media/louis/TOSHIBA EXT/FullData/OdomNoise/34/auto_sending_goals_2021-06-30-11-02-56 already exists. Not creating.\n",
      "[INFO]  Data folder /media/louis/TOSHIBA EXT/FullData/OdomNoise/35/auto_sending_goals_2021-06-30-11-05-12 already exists. Not creating.\n",
      "[INFO]  Data folder /media/louis/TOSHIBA EXT/FullData/OdomNoise/36/auto_sending_goals_2021-06-30-11-07-27 already exists. Not creating.\n",
      "[INFO]  Data folder /media/louis/TOSHIBA EXT/FullData/OdomNoise/37/auto_sending_goals_2021-06-30-11-09-43 already exists. Not creating.\n",
      "[INFO]  Data folder /media/louis/TOSHIBA EXT/FullData/OdomNoise/38/auto_sending_goals_2021-06-30-11-11-58 already exists. Not creating.\n",
      "[INFO]  Data folder /media/louis/TOSHIBA EXT/FullData/OdomNoise/39/auto_sending_goals_2021-06-30-11-14-14 already exists. Not creating.\n",
      "[INFO]  Data folder /media/louis/TOSHIBA EXT/FullData/OdomNoise/4/auto_sending_goals_2021-06-29-11-25-36 already exists. Not creating.\n",
      "[INFO]  Data folder /media/louis/TOSHIBA EXT/FullData/OdomNoise/40/auto_sending_goals_2021-06-30-11-16-29 already exists. Not creating.\n",
      "[INFO]  Data folder /media/louis/TOSHIBA EXT/FullData/OdomNoise/41/auto_sending_goals_2021-06-30-11-18-45 already exists. Not creating.\n",
      "[INFO]  Data folder /media/louis/TOSHIBA EXT/FullData/OdomNoise/42/auto_sending_goals_2021-06-30-11-21-01 already exists. Not creating.\n",
      "[INFO]  Data folder /media/louis/TOSHIBA EXT/FullData/OdomNoise/43/auto_sending_goals_2021-06-30-11-23-16 already exists. Not creating.\n",
      "[INFO]  Data folder /media/louis/TOSHIBA EXT/FullData/OdomNoise/44/auto_sending_goals_2021-06-30-11-25-32 already exists. Not creating.\n",
      "[INFO]  Data folder /media/louis/TOSHIBA EXT/FullData/OdomNoise/45/auto_sending_goals_2021-06-30-11-27-47 already exists. Not creating.\n",
      "[INFO]  Data folder /media/louis/TOSHIBA EXT/FullData/OdomNoise/46/auto_sending_goals_2021-06-30-11-29-52 already exists. Not creating.\n",
      "[INFO]  Data folder /media/louis/TOSHIBA EXT/FullData/OdomNoise/47/auto_sending_goals_2021-06-30-11-32-08 already exists. Not creating.\n",
      "[INFO]  Data folder /media/louis/TOSHIBA EXT/FullData/OdomNoise/48/auto_sending_goals_2021-06-30-11-34-23 already exists. Not creating.\n",
      "[INFO]  Data folder /media/louis/TOSHIBA EXT/FullData/OdomNoise/49/auto_sending_goals_2021-06-30-11-34-42 already exists. Not creating.\n",
      "[INFO]  Data folder /media/louis/TOSHIBA EXT/FullData/OdomNoise/5/auto_sending_goals_2021-06-29-11-27-52 already exists. Not creating.\n",
      "[INFO]  Data folder /media/louis/TOSHIBA EXT/FullData/OdomNoise/50/auto_sending_goals_2021-06-30-11-36-58 already exists. Not creating.\n",
      "[INFO]  Data folder /media/louis/TOSHIBA EXT/FullData/OdomNoise/51/auto_sending_goals_2021-06-30-11-39-13 already exists. Not creating.\n",
      "[INFO]  Data folder /media/louis/TOSHIBA EXT/FullData/OdomNoise/52/auto_sending_goals_2021-06-30-11-41-29 already exists. Not creating.\n",
      "[INFO]  Data folder /media/louis/TOSHIBA EXT/FullData/OdomNoise/53/auto_sending_goals_2021-06-30-11-43-44 already exists. Not creating.\n"
     ]
    },
    {
     "ename": "FileNotFoundError",
     "evalue": "[Errno 2] No such file or directory",
     "output_type": "error",
     "traceback": [
      "\u001b[0;31m---------------------------------------------------------------------------\u001b[0m",
      "\u001b[0;31mFileNotFoundError\u001b[0m                         Traceback (most recent call last)",
      "\u001b[0;32m<ipython-input-1-a0ac4cac1144>\u001b[0m in \u001b[0;36m<module>\u001b[0;34m\u001b[0m\n\u001b[1;32m      2\u001b[0m \u001b[0;32mfrom\u001b[0m \u001b[0mread_data\u001b[0m \u001b[0;32mimport\u001b[0m \u001b[0mmake_dataset\u001b[0m\u001b[0;34m,\u001b[0m\u001b[0mread_bag\u001b[0m\u001b[0;34m\u001b[0m\u001b[0;34m\u001b[0m\u001b[0m\n\u001b[1;32m      3\u001b[0m \u001b[0;34m\u001b[0m\u001b[0m\n\u001b[0;32m----> 4\u001b[0;31m \u001b[0mtrain\u001b[0m\u001b[0;34m,\u001b[0m\u001b[0mtest\u001b[0m\u001b[0;34m=\u001b[0m\u001b[0mdata_preparation\u001b[0m\u001b[0;34m(\u001b[0m\u001b[0mpath\u001b[0m\u001b[0;34m=\u001b[0m\u001b[0;34m'/media/louis/TOSHIBA EXT/FullData/'\u001b[0m\u001b[0;34m,\u001b[0m\u001b[0mtraining\u001b[0m\u001b[0;34m=\u001b[0m\u001b[0;36m0.7\u001b[0m\u001b[0;34m)\u001b[0m\u001b[0;31m#The training parameters determines how much of the dataset is dedicated to training (1=100%)\u001b[0m\u001b[0;34m\u001b[0m\u001b[0;34m\u001b[0m\u001b[0m\n\u001b[0m",
      "\u001b[0;32m~/model_cnn/cnn.py\u001b[0m in \u001b[0;36mdata_preparation\u001b[0;34m(path, training)\u001b[0m\n\u001b[1;32m     48\u001b[0m \u001b[0;31m# %%\u001b[0m\u001b[0;34m\u001b[0m\u001b[0;34m\u001b[0m\u001b[0;34m\u001b[0m\u001b[0m\n\u001b[1;32m     49\u001b[0m \u001b[0;32mdef\u001b[0m \u001b[0mdata_preparation\u001b[0m\u001b[0;34m(\u001b[0m\u001b[0mpath\u001b[0m\u001b[0;34m,\u001b[0m\u001b[0mtraining\u001b[0m\u001b[0;34m=\u001b[0m\u001b[0;36m0.7\u001b[0m\u001b[0;34m)\u001b[0m\u001b[0;34m:\u001b[0m\u001b[0;34m\u001b[0m\u001b[0;34m\u001b[0m\u001b[0m\n\u001b[0;32m---> 50\u001b[0;31m     \u001b[0modoms\u001b[0m\u001b[0;34m,\u001b[0m\u001b[0mscans\u001b[0m\u001b[0;34m,\u001b[0m\u001b[0mlabels\u001b[0m\u001b[0;34m=\u001b[0m\u001b[0mmake_dataset\u001b[0m\u001b[0;34m(\u001b[0m\u001b[0mpath\u001b[0m\u001b[0;34m)\u001b[0m\u001b[0;34m\u001b[0m\u001b[0;34m\u001b[0m\u001b[0m\n\u001b[0m\u001b[1;32m     51\u001b[0m     \u001b[0mi\u001b[0m\u001b[0;34m=\u001b[0m\u001b[0mmath\u001b[0m\u001b[0;34m.\u001b[0m\u001b[0mceil\u001b[0m\u001b[0;34m(\u001b[0m\u001b[0;34m(\u001b[0m\u001b[0mlen\u001b[0m\u001b[0;34m(\u001b[0m\u001b[0modoms\u001b[0m\u001b[0;34m)\u001b[0m\u001b[0;34m-\u001b[0m\u001b[0;36m1\u001b[0m\u001b[0;34m)\u001b[0m\u001b[0;34m*\u001b[0m\u001b[0mtraining\u001b[0m\u001b[0;34m)\u001b[0m\u001b[0;34m\u001b[0m\u001b[0;34m\u001b[0m\u001b[0m\n\u001b[1;32m     52\u001b[0m     \u001b[0modoms_train\u001b[0m\u001b[0;34m,\u001b[0m\u001b[0mscans_train\u001b[0m\u001b[0;34m,\u001b[0m\u001b[0mlabels_train\u001b[0m\u001b[0;34m=\u001b[0m\u001b[0modoms\u001b[0m\u001b[0;34m[\u001b[0m\u001b[0;34m:\u001b[0m\u001b[0mi\u001b[0m\u001b[0;34m]\u001b[0m\u001b[0;34m,\u001b[0m\u001b[0mscans\u001b[0m\u001b[0;34m[\u001b[0m\u001b[0;34m:\u001b[0m\u001b[0mi\u001b[0m\u001b[0;34m]\u001b[0m\u001b[0;34m,\u001b[0m\u001b[0mlabels\u001b[0m\u001b[0;34m[\u001b[0m\u001b[0;34m:\u001b[0m\u001b[0mi\u001b[0m\u001b[0;34m]\u001b[0m\u001b[0;34m\u001b[0m\u001b[0;34m\u001b[0m\u001b[0m\n",
      "\u001b[0;32m~/model_cnn/read_data.py\u001b[0m in \u001b[0;36mmake_dataset\u001b[0;34m(path)\u001b[0m\n\u001b[1;32m     36\u001b[0m             \u001b[0mlabel\u001b[0m\u001b[0;34m=\u001b[0m\u001b[0;34m[\u001b[0m\u001b[0;36m0\u001b[0m\u001b[0;34m,\u001b[0m\u001b[0;36m0\u001b[0m\u001b[0;34m,\u001b[0m\u001b[0;36m1\u001b[0m\u001b[0;34m]\u001b[0m\u001b[0;34m\u001b[0m\u001b[0;34m\u001b[0m\u001b[0m\n\u001b[1;32m     37\u001b[0m         \u001b[0;32mfor\u001b[0m \u001b[0mfolder_data\u001b[0m \u001b[0;32min\u001b[0m \u001b[0mos\u001b[0m\u001b[0;34m.\u001b[0m\u001b[0mlistdir\u001b[0m\u001b[0;34m(\u001b[0m\u001b[0mos\u001b[0m\u001b[0;34m.\u001b[0m\u001b[0mpath\u001b[0m\u001b[0;34m.\u001b[0m\u001b[0mjoin\u001b[0m\u001b[0;34m(\u001b[0m\u001b[0mpath\u001b[0m\u001b[0;34m,\u001b[0m\u001b[0mfolder_class\u001b[0m\u001b[0;34m)\u001b[0m\u001b[0;34m)\u001b[0m\u001b[0;34m:\u001b[0m\u001b[0;34m\u001b[0m\u001b[0;34m\u001b[0m\u001b[0m\n\u001b[0;32m---> 38\u001b[0;31m             \u001b[0mdf_od\u001b[0m\u001b[0;34m,\u001b[0m\u001b[0mdf_sc\u001b[0m\u001b[0;34m=\u001b[0m\u001b[0mread_bag\u001b[0m\u001b[0;34m(\u001b[0m\u001b[0mos\u001b[0m\u001b[0;34m.\u001b[0m\u001b[0mpath\u001b[0m\u001b[0;34m.\u001b[0m\u001b[0mjoin\u001b[0m\u001b[0;34m(\u001b[0m\u001b[0mpath\u001b[0m\u001b[0;34m,\u001b[0m\u001b[0mfolder_class\u001b[0m\u001b[0;34m,\u001b[0m\u001b[0mfolder_data\u001b[0m\u001b[0;34m)\u001b[0m\u001b[0;34m)\u001b[0m\u001b[0;34m\u001b[0m\u001b[0;34m\u001b[0m\u001b[0m\n\u001b[0m\u001b[1;32m     39\u001b[0m             \u001b[0modoms\u001b[0m\u001b[0;34m.\u001b[0m\u001b[0mappend\u001b[0m\u001b[0;34m(\u001b[0m\u001b[0mdf_od\u001b[0m\u001b[0;34m.\u001b[0m\u001b[0mvalues\u001b[0m\u001b[0;34m)\u001b[0m\u001b[0;34m\u001b[0m\u001b[0;34m\u001b[0m\u001b[0m\n\u001b[1;32m     40\u001b[0m             \u001b[0mscans\u001b[0m\u001b[0;34m.\u001b[0m\u001b[0mappend\u001b[0m\u001b[0;34m(\u001b[0m\u001b[0mdf_sc\u001b[0m\u001b[0;34m.\u001b[0m\u001b[0mvalues\u001b[0m\u001b[0;34m)\u001b[0m\u001b[0;34m\u001b[0m\u001b[0;34m\u001b[0m\u001b[0m\n",
      "\u001b[0;32m~/model_cnn/read_data.py\u001b[0m in \u001b[0;36mread_bag\u001b[0;34m(path)\u001b[0m\n\u001b[1;32m     11\u001b[0m         \u001b[0;32mif\u001b[0m \u001b[0mf\u001b[0m\u001b[0;34m[\u001b[0m\u001b[0;34m-\u001b[0m\u001b[0;36m4\u001b[0m\u001b[0;34m:\u001b[0m\u001b[0;34m]\u001b[0m\u001b[0;34m==\u001b[0m\u001b[0;34m'.bag'\u001b[0m\u001b[0;34m:\u001b[0m\u001b[0;34m\u001b[0m\u001b[0;34m\u001b[0m\u001b[0m\n\u001b[1;32m     12\u001b[0m             \u001b[0mbag\u001b[0m\u001b[0;34m=\u001b[0m\u001b[0mbagpy\u001b[0m\u001b[0;34m.\u001b[0m\u001b[0mbagreader\u001b[0m\u001b[0;34m(\u001b[0m\u001b[0mos\u001b[0m\u001b[0;34m.\u001b[0m\u001b[0mpath\u001b[0m\u001b[0;34m.\u001b[0m\u001b[0mjoin\u001b[0m\u001b[0;34m(\u001b[0m\u001b[0mpath\u001b[0m\u001b[0;34m,\u001b[0m\u001b[0mf\u001b[0m\u001b[0;34m)\u001b[0m\u001b[0;34m)\u001b[0m\u001b[0;34m\u001b[0m\u001b[0;34m\u001b[0m\u001b[0m\n\u001b[0;32m---> 13\u001b[0;31m     \u001b[0modom\u001b[0m\u001b[0;34m=\u001b[0m\u001b[0mbag\u001b[0m\u001b[0;34m.\u001b[0m\u001b[0modometry_data\u001b[0m\u001b[0;34m(\u001b[0m\u001b[0;34m)\u001b[0m\u001b[0;34m\u001b[0m\u001b[0;34m\u001b[0m\u001b[0m\n\u001b[0m\u001b[1;32m     14\u001b[0m     \u001b[0mscan\u001b[0m\u001b[0;34m=\u001b[0m\u001b[0mbag\u001b[0m\u001b[0;34m.\u001b[0m\u001b[0mmessage_by_topic\u001b[0m\u001b[0;34m(\u001b[0m\u001b[0;34m\"/scan\"\u001b[0m\u001b[0;34m)\u001b[0m\u001b[0;34m\u001b[0m\u001b[0;34m\u001b[0m\u001b[0m\n\u001b[1;32m     15\u001b[0m     \u001b[0;31m#Opens as Dataframes\u001b[0m\u001b[0;34m\u001b[0m\u001b[0;34m\u001b[0m\u001b[0;34m\u001b[0m\u001b[0m\n",
      "\u001b[0;32m~/.local/lib/python3.8/site-packages/bagpy/bagreader.py\u001b[0m in \u001b[0;36modometry_data\u001b[0;34m(self, **kwargs)\u001b[0m\n\u001b[1;32m    625\u001b[0m                                             msg.twist.twist.linear.z]\n\u001b[1;32m    626\u001b[0m \u001b[0;34m\u001b[0m\u001b[0m\n\u001b[0;32m--> 627\u001b[0;31m                     \u001b[0mwriter\u001b[0m\u001b[0;34m.\u001b[0m\u001b[0mwriterow\u001b[0m\u001b[0;34m(\u001b[0m\u001b[0mnew_row\u001b[0m\u001b[0;34m)\u001b[0m\u001b[0;34m\u001b[0m\u001b[0;34m\u001b[0m\u001b[0m\n\u001b[0m\u001b[1;32m    628\u001b[0m \u001b[0;34m\u001b[0m\u001b[0m\n\u001b[1;32m    629\u001b[0m                 \u001b[0mk\u001b[0m \u001b[0;34m=\u001b[0m \u001b[0mk\u001b[0m \u001b[0;34m+\u001b[0m \u001b[0;36m1\u001b[0m\u001b[0;34m\u001b[0m\u001b[0;34m\u001b[0m\u001b[0m\n",
      "\u001b[0;31mFileNotFoundError\u001b[0m: [Errno 2] No such file or directory"
     ]
    }
   ],
   "source": [
    "from cnn import Turtlebot_CNN,data_preparation\n",
    "from read_data import make_dataset,read_bag\n",
    "\n",
    "train,test=data_preparation(path='/media/louis/TOSHIBA EXT/FullData/',training=0.7)#The training parameters determines how much of the dataset is dedicated to training (1=100%)\n"
   ]
  },
  {
   "cell_type": "markdown",
   "metadata": {},
   "source": [
    "## Training the Model\n",
    "\n",
    "We can now train the model using the fit method."
   ]
  },
  {
   "cell_type": "code",
   "execution_count": null,
   "metadata": {
    "tags": []
   },
   "outputs": [
    {
     "ename": "ValueError",
     "evalue": "`validation_split` is only supported for Tensors or NumPy arrays, found following types in the input: [<class 'tensorflow.python.data.ops.dataset_ops.BatchDataset'>]",
     "output_type": "error",
     "traceback": [
      "\u001b[0;31m---------------------------------------------------------------------------\u001b[0m",
      "\u001b[0;31mValueError\u001b[0m                                Traceback (most recent call last)",
      "\u001b[0;32m<ipython-input-3-9f03311a33e8>\u001b[0m in \u001b[0;36m<module>\u001b[0;34m\u001b[0m\n\u001b[1;32m      4\u001b[0m \u001b[0mcb_list_lstm\u001b[0m\u001b[0;34m=\u001b[0m\u001b[0;34m[\u001b[0m\u001b[0mtf\u001b[0m\u001b[0;34m.\u001b[0m\u001b[0mkeras\u001b[0m\u001b[0;34m.\u001b[0m\u001b[0mcallbacks\u001b[0m\u001b[0;34m.\u001b[0m\u001b[0mEarlyStopping\u001b[0m\u001b[0;34m(\u001b[0m\u001b[0mmonitor\u001b[0m\u001b[0;34m=\u001b[0m\u001b[0;34m'val_loss'\u001b[0m\u001b[0;34m,\u001b[0m\u001b[0mpatience\u001b[0m\u001b[0;34m=\u001b[0m\u001b[0;36m30\u001b[0m\u001b[0;34m)\u001b[0m\u001b[0;34m,\u001b[0m\u001b[0mtf\u001b[0m\u001b[0;34m.\u001b[0m\u001b[0mkeras\u001b[0m\u001b[0;34m.\u001b[0m\u001b[0mcallbacks\u001b[0m\u001b[0;34m.\u001b[0m\u001b[0mModelCheckpoint\u001b[0m\u001b[0;34m(\u001b[0m\u001b[0;34m'lstm_model/checkpoint_lstm.h5'\u001b[0m\u001b[0;34m,\u001b[0m\u001b[0mmonitor\u001b[0m\u001b[0;34m=\u001b[0m\u001b[0;34m'val_loss'\u001b[0m\u001b[0;34m,\u001b[0m\u001b[0msave_best_only\u001b[0m\u001b[0;34m=\u001b[0m\u001b[0;32mTrue\u001b[0m\u001b[0;34m,\u001b[0m\u001b[0msave_weights_only\u001b[0m\u001b[0;34m=\u001b[0m\u001b[0;32mTrue\u001b[0m\u001b[0;34m)\u001b[0m\u001b[0;34m]\u001b[0m\u001b[0;34m\u001b[0m\u001b[0;34m\u001b[0m\u001b[0m\n\u001b[1;32m      5\u001b[0m \u001b[0mlstm\u001b[0m\u001b[0;34m.\u001b[0m\u001b[0mcompile\u001b[0m\u001b[0;34m(\u001b[0m\u001b[0moptimizer\u001b[0m\u001b[0;34m=\u001b[0m\u001b[0;34m'adam'\u001b[0m\u001b[0;34m,\u001b[0m\u001b[0mloss\u001b[0m\u001b[0;34m=\u001b[0m\u001b[0;34m'categorical_crossentropy'\u001b[0m\u001b[0;34m)\u001b[0m\u001b[0;34m\u001b[0m\u001b[0;34m\u001b[0m\u001b[0m\n\u001b[0;32m----> 6\u001b[0;31m \u001b[0mhist_lstm\u001b[0m\u001b[0;34m=\u001b[0m\u001b[0mlstm\u001b[0m\u001b[0;34m.\u001b[0m\u001b[0mfit\u001b[0m\u001b[0;34m(\u001b[0m\u001b[0mtrain\u001b[0m\u001b[0;34m,\u001b[0m\u001b[0mepochs\u001b[0m\u001b[0;34m=\u001b[0m\u001b[0;36m1000000\u001b[0m\u001b[0;34m,\u001b[0m\u001b[0mcallbacks\u001b[0m\u001b[0;34m=\u001b[0m\u001b[0mcb_list_lstm\u001b[0m\u001b[0;34m,\u001b[0m\u001b[0mverbose\u001b[0m\u001b[0;34m=\u001b[0m\u001b[0;36m1\u001b[0m\u001b[0;34m,\u001b[0m\u001b[0mvalidation_split\u001b[0m\u001b[0;34m=\u001b[0m\u001b[0;36m0.2\u001b[0m\u001b[0;34m)\u001b[0m\u001b[0;34m\u001b[0m\u001b[0;34m\u001b[0m\u001b[0m\n\u001b[0m\u001b[1;32m      7\u001b[0m \u001b[0mplt\u001b[0m\u001b[0;34m.\u001b[0m\u001b[0mfigure\u001b[0m\u001b[0;34m(\u001b[0m\u001b[0;34m)\u001b[0m\u001b[0;34m\u001b[0m\u001b[0;34m\u001b[0m\u001b[0m\n\u001b[1;32m      8\u001b[0m \u001b[0mplt\u001b[0m\u001b[0;34m.\u001b[0m\u001b[0mplot\u001b[0m\u001b[0;34m(\u001b[0m\u001b[0mhist_lstm\u001b[0m\u001b[0;34m.\u001b[0m\u001b[0mhistory\u001b[0m\u001b[0;34m[\u001b[0m\u001b[0;34m'loss'\u001b[0m\u001b[0;34m]\u001b[0m\u001b[0;34m,\u001b[0m\u001b[0mlabel\u001b[0m\u001b[0;34m=\u001b[0m\u001b[0;34m'Training Loss'\u001b[0m\u001b[0;34m)\u001b[0m\u001b[0;34m\u001b[0m\u001b[0;34m\u001b[0m\u001b[0m\n",
      "\u001b[0;32m~/.local/lib/python3.8/site-packages/tensorflow/python/keras/engine/training.py\u001b[0m in \u001b[0;36mfit\u001b[0;34m(self, x, y, batch_size, epochs, verbose, callbacks, validation_split, validation_data, shuffle, class_weight, sample_weight, initial_epoch, steps_per_epoch, validation_steps, validation_batch_size, validation_freq, max_queue_size, workers, use_multiprocessing)\u001b[0m\n\u001b[1;32m   1038\u001b[0m       \u001b[0;31m# `Tensor` and `NumPy` input.\u001b[0m\u001b[0;34m\u001b[0m\u001b[0;34m\u001b[0m\u001b[0;34m\u001b[0m\u001b[0m\n\u001b[1;32m   1039\u001b[0m       (x, y, sample_weight), validation_data = (\n\u001b[0;32m-> 1040\u001b[0;31m           data_adapter.train_validation_split(\n\u001b[0m\u001b[1;32m   1041\u001b[0m               (x, y, sample_weight), validation_split=validation_split))\n\u001b[1;32m   1042\u001b[0m \u001b[0;34m\u001b[0m\u001b[0m\n",
      "\u001b[0;32m~/.local/lib/python3.8/site-packages/tensorflow/python/keras/engine/data_adapter.py\u001b[0m in \u001b[0;36mtrain_validation_split\u001b[0;34m(arrays, validation_split)\u001b[0m\n\u001b[1;32m   1355\u001b[0m   \u001b[0munsplitable\u001b[0m \u001b[0;34m=\u001b[0m \u001b[0;34m[\u001b[0m\u001b[0mtype\u001b[0m\u001b[0;34m(\u001b[0m\u001b[0mt\u001b[0m\u001b[0;34m)\u001b[0m \u001b[0;32mfor\u001b[0m \u001b[0mt\u001b[0m \u001b[0;32min\u001b[0m \u001b[0mflat_arrays\u001b[0m \u001b[0;32mif\u001b[0m \u001b[0;32mnot\u001b[0m \u001b[0m_can_split\u001b[0m\u001b[0;34m(\u001b[0m\u001b[0mt\u001b[0m\u001b[0;34m)\u001b[0m\u001b[0;34m]\u001b[0m\u001b[0;34m\u001b[0m\u001b[0;34m\u001b[0m\u001b[0m\n\u001b[1;32m   1356\u001b[0m   \u001b[0;32mif\u001b[0m \u001b[0munsplitable\u001b[0m\u001b[0;34m:\u001b[0m\u001b[0;34m\u001b[0m\u001b[0;34m\u001b[0m\u001b[0m\n\u001b[0;32m-> 1357\u001b[0;31m     raise ValueError(\n\u001b[0m\u001b[1;32m   1358\u001b[0m         \u001b[0;34m\"`validation_split` is only supported for Tensors or NumPy \"\u001b[0m\u001b[0;34m\u001b[0m\u001b[0;34m\u001b[0m\u001b[0m\n\u001b[1;32m   1359\u001b[0m         \"arrays, found following types in the input: {}\".format(unsplitable))\n",
      "\u001b[0;31mValueError\u001b[0m: `validation_split` is only supported for Tensors or NumPy arrays, found following types in the input: [<class 'tensorflow.python.data.ops.dataset_ops.BatchDataset'>]"
     ]
    }
   ],
   "source": [
    "import tensorflow as tf\n",
    "import matplotlib.pyplot as plt\n",
    "lstm=Turtlebot_CNN(type=\"lstm\")\n",
    "cb_list_lstm=[tf.keras.callbacks.EarlyStopping(monitor='val_loss',patience=30),tf.keras.callbacks.ModelCheckpoint('lstm_model/checkpoint_lstm.h5',monitor='val_loss',save_best_only=True,save_weights_only=True)]\n",
    "lstm.compile(optimizer='adam',loss='categorical_crossentropy')\n",
    "hist_lstm=lstm.fit(train,epochs=1000000,callbacks=cb_list_lstm,verbose=1,validation_split=0.2)\n",
    "plt.figure()\n",
    "plt.plot(hist_lstm.history['loss'],label='Training Loss')\n",
    "plt.legend()\n",
    "plt.show()\n"
   ]
  },
  {
   "cell_type": "code",
   "execution_count": null,
   "metadata": {},
   "outputs": [],
   "source": [
    "import tensorflow as tf\n",
    "import matplotlib.pyplot as plt\n",
    "lstm=Turtlebot_CNN(type=\"lstm\")\n",
    "lstm.compile(optimizer='adam',loss='categorical_crossentropy')\n",
    "hist_lstm=lstm.fit(train,epochs=1,verbose=1)\n",
    "plt.figure()\n",
    "plt.plot(hist_lstm.history['loss'],label='Training Loss')\n",
    "plt.legend()\n",
    "plt.show()"
   ]
  },
  {
   "cell_type": "code",
   "execution_count": null,
   "metadata": {},
   "outputs": [],
   "source": [
    "cnn=Turtlebot_CNN(type=\"cnn\")\n",
    "cb_list_cnn=[tf.keras.callbacks.EarlyStopping(monitor='loss',patience=30),tf.keras.callbacks.ModelCheckpoint('cnn_model/checkpoint_cnn.h5',monitor='loss',save_best_only=True,save_weights_only=True)]\n",
    "cnn.compile(optimizer='adam',loss='categorical_crossentropy')\n",
    "hist_cnn=cnn.fit(train,epochs=1000000,callbacks=cb_list_cnn)\n",
    "plt.figure()\n",
    "plt.plot(hist_cnn.history['loss'],label='Training Loss')\n",
    "plt.legend()\n",
    "plt.show()"
   ]
  },
  {
   "cell_type": "markdown",
   "metadata": {},
   "source": [
    "## Testing the model"
   ]
  },
  {
   "cell_type": "markdown",
   "metadata": {},
   "source": [
    "Here is a Visualization of what the CNN does \n",
    "\n",
    "![Visualization of the CNN](img/Schema_CNN.png)"
   ]
  },
  {
   "cell_type": "code",
   "execution_count": null,
   "metadata": {},
   "outputs": [],
   "source": [
    "import numpy as np\n",
    "def results(model,test):\n",
    "    res=model.predict(test)\n",
    "    c=0\n",
    "    for i,pred in enumerate(res):\n",
    "        y=test[i][1][0]\n",
    "        if np.argmax(y)==np.argmax(pred):\n",
    "            c+=1\n",
    "    return(c/len(res))\n",
    "            "
   ]
  },
  {
   "cell_type": "code",
   "execution_count": null,
   "metadata": {},
   "outputs": [],
   "source": [
    "lstm.load_weights('lstm_model/checkpoint_lstm.h5')\n",
    "cnn.load_weights('cnn_model/checkpoint_cnn.h5')\n",
    "print('LSTM :',results(lstm,test))\n",
    "print('CNN :',results(cnn,test))"
   ]
  },
  {
   "cell_type": "code",
   "execution_count": null,
   "metadata": {},
   "outputs": [],
   "source": [
    "model.predict(test)"
   ]
  },
  {
   "cell_type": "code",
   "execution_count": null,
   "metadata": {},
   "outputs": [],
   "source": [
    "train[0]"
   ]
  },
  {
   "cell_type": "code",
   "execution_count": null,
   "metadata": {},
   "outputs": [],
   "source": [
    "tf.data.Dataset.from_generator(train)"
   ]
  },
  {
   "cell_type": "code",
   "execution_count": null,
   "metadata": {},
   "outputs": [],
   "source": [
    "odoms,scans,labels=make_dataset('/media/louis/TOSHIBA EXT/FullData')"
   ]
  },
  {
   "cell_type": "code",
   "execution_count": null,
   "metadata": {},
   "outputs": [],
   "source": [
    "tf.data.Dataset.from_generator(lambda :odoms,output_shapes=[None,13],output_types=tf.float32)"
   ]
  },
  {
   "cell_type": "code",
   "execution_count": null,
   "metadata": {},
   "outputs": [],
   "source": [
    "np.shape(odoms[1])"
   ]
  },
  {
   "cell_type": "code",
   "execution_count": null,
   "metadata": {},
   "outputs": [],
   "source": [
    "lstm=Turtlebot_CNN(type='lstm')\n",
    "lstm.compile(optimizer='adam',loss='categorical_crossentropy')\n",
    "lstm.load_weights('lstm_model/checkpoint_lstm.h5')\n",
    "lstm.predict(train)"
   ]
  },
  {
   "cell_type": "code",
   "execution_count": null,
   "metadata": {},
   "outputs": [],
   "source": [
    "for element in train:\n",
    "    print(element)"
   ]
  },
  {
   "cell_type": "code",
   "execution_count": null,
   "metadata": {},
   "outputs": [],
   "source": [
    "train"
   ]
  }
 ],
 "metadata": {
  "interpreter": {
   "hash": "31f2aee4e71d21fbe5cf8b01ff0e069b9275f58929596ceb00d14d90e3e16cd6"
  },
  "kernelspec": {
   "display_name": "Python 3.8.5 64-bit",
   "name": "python3"
  },
  "language_info": {
   "codemirror_mode": {
    "name": "ipython",
    "version": 3
   },
   "file_extension": ".py",
   "mimetype": "text/x-python",
   "name": "python",
   "nbconvert_exporter": "python",
   "pygments_lexer": "ipython3",
   "version": "3.8.5"
  },
  "orig_nbformat": 4
 },
 "nbformat": 4,
 "nbformat_minor": 2
}