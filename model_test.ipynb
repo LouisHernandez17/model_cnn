{
 "cells": [
  {
   "cell_type": "code",
   "execution_count": 1,
   "source": [
    "from cnn import Turtlebot_CNN\n",
    "from lstm import Turtlebot_LSTM\n",
    "from read_data import make_dataset,split_data\n",
    "import tensorflow as tf\n",
    "import matplotlib.pyplot as plt\n",
    "import math\n",
    "from inception import Inception\n",
    "import os\n",
    "\n",
    "batch_sizes=[1,10,50,75]\n",
    "num_epochs=500\n",
    "\n",
    "ds,l=make_dataset(path='FullData/')"
   ],
   "outputs": [
    {
     "output_type": "stream",
     "name": "stdout",
     "text": [
      "[INFO]  Data folder FullData/NoNoise/29/auto_sending_goals_2021-06-29-11-11-28 already exists. Not creating.\n",
      "[INFO]  Data folder FullData/NoNoise/4/auto_sending_goals_2021-06-29-10-24-08 already exists. Not creating.\n",
      "[INFO]  Data folder FullData/NoNoise/42/auto_sending_goals_2021-06-30-10-04-03 already exists. Not creating.\n",
      "[INFO]  Data folder FullData/NoNoise/25/auto_sending_goals_2021-06-29-11-02-26 already exists. Not creating.\n",
      "[INFO]  Data folder FullData/NoNoise/19/auto_sending_goals_2021-06-29-10-48-52 already exists. Not creating.\n",
      "[INFO]  Data folder FullData/NoNoise/10/auto_sending_goals_2021-06-29-10-30-24 already exists. Not creating.\n",
      "[INFO]  Data folder FullData/NoNoise/33/auto_sending_goals_2021-06-30-09-54-36 already exists. Not creating.\n",
      "[INFO]  Data folder FullData/NoNoise/8/auto_sending_goals_2021-06-29-10-29-36 already exists. Not creating.\n",
      "[INFO]  Data folder FullData/NoNoise/40/auto_sending_goals_2021-06-30-10-03-16 already exists. Not creating.\n",
      "[INFO]  Data folder FullData/NoNoise/23/auto_sending_goals_2021-06-29-10-57-55 already exists. Not creating.\n",
      "[INFO]  Data folder FullData/NoNoise/49/auto_sending_goals_2021-06-30-10-19-52 already exists. Not creating.\n",
      "[INFO]  Data folder FullData/NoNoise/41/auto_sending_goals_2021-06-30-10-03-40 already exists. Not creating.\n",
      "[INFO]  Data folder FullData/NoNoise/51/auto_sending_goals_2021-06-30-10-24-23 already exists. Not creating.\n",
      "[INFO]  Data folder FullData/NoNoise/27/auto_sending_goals_2021-06-29-11-06-57 already exists. Not creating.\n",
      "[INFO]  Data folder FullData/NoNoise/14/auto_sending_goals_2021-06-29-10-37-34 already exists. Not creating.\n",
      "[INFO]  Data folder FullData/NoNoise/57/auto_sending_goals_2021-06-30-10-37-57 already exists. Not creating.\n",
      "[INFO]  Data folder FullData/NoNoise/7/auto_sending_goals_2021-06-29-10-27-20 already exists. Not creating.\n",
      "[INFO]  Data folder FullData/NoNoise/9/auto_sending_goals_2021-06-29-10-29-59 already exists. Not creating.\n",
      "[INFO]  Data folder FullData/NoNoise/11/auto_sending_goals_2021-06-29-10-30-48 already exists. Not creating.\n",
      "[INFO]  Data folder FullData/NoNoise/5/auto_sending_goals_2021-06-29-10-24-33 already exists. Not creating.\n",
      "[INFO]  Data folder FullData/NoNoise/22/auto_sending_goals_2021-06-29-10-55-39 already exists. Not creating.\n",
      "[INFO]  Data folder FullData/NoNoise/17/auto_sending_goals_2021-06-29-10-44-21 already exists. Not creating.\n",
      "[INFO]  Data folder FullData/NoNoise/36/auto_sending_goals_2021-06-30-09-57-43 already exists. Not creating.\n",
      "[INFO]  Data folder FullData/NoNoise/6/auto_sending_goals_2021-06-29-10-26-49 already exists. Not creating.\n",
      "[INFO]  Data folder FullData/NoNoise/59/auto_sending_goals_2021-06-30-10-42-28 already exists. Not creating.\n",
      "[INFO]  Data folder FullData/NoNoise/16/auto_sending_goals_2021-06-29-10-42-06 already exists. Not creating.\n",
      "[INFO]  Data folder FullData/NoNoise/34/auto_sending_goals_2021-06-30-09-55-01 already exists. Not creating.\n",
      "[INFO]  Data folder FullData/NoNoise/37/auto_sending_goals_2021-06-30-09-58-13 already exists. Not creating.\n",
      "[INFO]  Data folder FullData/NoNoise/52/auto_sending_goals_2021-06-30-10-26-39 already exists. Not creating.\n",
      "[INFO]  Data folder FullData/NoNoise/18/auto_sending_goals_2021-06-29-10-46-37 already exists. Not creating.\n",
      "[INFO]  Data folder FullData/NoNoise/47/auto_sending_goals_2021-06-30-10-15-21 already exists. Not creating.\n",
      "[INFO]  Data folder FullData/NoNoise/45/auto_sending_goals_2021-06-30-10-10-50 already exists. Not creating.\n",
      "[INFO]  Data folder FullData/NoNoise/46/auto_sending_goals_2021-06-30-10-13-05 already exists. Not creating.\n",
      "[INFO]  Data folder FullData/NoNoise/12/auto_sending_goals_2021-06-29-10-33-03 already exists. Not creating.\n",
      "[INFO]  Data folder FullData/NoNoise/26/auto_sending_goals_2021-06-29-11-04-42 already exists. Not creating.\n",
      "[INFO]  Data folder FullData/NoNoise/21/auto_sending_goals_2021-06-29-10-53-24 already exists. Not creating.\n",
      "[INFO]  Data folder FullData/NoNoise/30/auto_sending_goals_2021-06-29-11-13-44 already exists. Not creating.\n",
      "[INFO]  Data folder FullData/NoNoise/50/auto_sending_goals_2021-06-30-10-22-08 already exists. Not creating.\n",
      "[INFO]  Data folder FullData/NoNoise/54/auto_sending_goals_2021-06-30-10-31-10 already exists. Not creating.\n",
      "[INFO]  Data folder FullData/NoNoise/24/auto_sending_goals_2021-06-29-11-00-10 already exists. Not creating.\n",
      "[INFO]  Data folder FullData/NoNoise/28/auto_sending_goals_2021-06-29-11-09-13 already exists. Not creating.\n",
      "[INFO]  Data folder FullData/NoNoise/20/auto_sending_goals_2021-06-29-10-51-08 already exists. Not creating.\n",
      "[INFO]  Data folder FullData/NoNoise/15/auto_sending_goals_2021-06-29-10-39-50 already exists. Not creating.\n",
      "[INFO]  Data folder FullData/NoNoise/3/auto_sending_goals_2021-06-29-10-23-43 already exists. Not creating.\n",
      "[INFO]  Data folder FullData/NoNoise/58/auto_sending_goals_2021-06-30-10-40-13 already exists. Not creating.\n",
      "[INFO]  Data folder FullData/NoNoise/35/auto_sending_goals_2021-06-30-09-55-27 already exists. Not creating.\n",
      "[INFO]  Data folder FullData/NoNoise/60/auto_sending_goals_2021-06-30-10-44-44 already exists. Not creating.\n",
      "[INFO]  Data folder FullData/NoNoise/39/auto_sending_goals_2021-06-30-10-02-44 already exists. Not creating.\n",
      "[INFO]  Data folder FullData/NoNoise/32/auto_sending_goals_2021-06-30-09-54-12 already exists. Not creating.\n",
      "[INFO]  Data folder FullData/NoNoise/48/auto_sending_goals_2021-06-30-10-17-36 already exists. Not creating.\n",
      "[INFO]  Data folder FullData/NoNoise/44/auto_sending_goals_2021-06-30-10-08-34 already exists. Not creating.\n",
      "[INFO]  Data folder FullData/NoNoise/13/auto_sending_goals_2021-06-29-10-35-19 already exists. Not creating.\n",
      "[INFO]  Data folder FullData/NoNoise/53/auto_sending_goals_2021-06-30-10-28-54 already exists. Not creating.\n",
      "[INFO]  Data folder FullData/NoNoise/2/auto_sending_goals_2021-06-29-10-23-19 already exists. Not creating.\n",
      "[INFO]  Data folder FullData/NoNoise/56/auto_sending_goals_2021-06-30-10-35-41 already exists. Not creating.\n",
      "[INFO]  Data folder FullData/NoNoise/38/auto_sending_goals_2021-06-30-10-00-29 already exists. Not creating.\n",
      "[INFO]  Data folder FullData/NoNoise/43/auto_sending_goals_2021-06-30-10-06-18 already exists. Not creating.\n",
      "[INFO]  Data folder FullData/NoNoise/31/auto_sending_goals_2021-06-30-09-53-34 already exists. Not creating.\n",
      "[INFO]  Data folder FullData/NoNoise/1/auto_sending_goals_2021-06-29-10-22-41 already exists. Not creating.\n",
      "[INFO]  Data folder FullData/NoNoise/55/auto_sending_goals_2021-06-30-10-33-26 already exists. Not creating.\n",
      "[INFO]  Data folder FullData/OdomNoise/29/auto_sending_goals_2021-06-29-12-20-56 already exists. Not creating.\n",
      "[INFO]  Data folder FullData/OdomNoise/4/auto_sending_goals_2021-06-29-11-25-36 already exists. Not creating.\n",
      "[INFO]  Data folder FullData/OdomNoise/42/auto_sending_goals_2021-06-30-11-21-01 already exists. Not creating.\n",
      "[INFO]  Data folder FullData/OdomNoise/25/auto_sending_goals_2021-06-29-12-11-53 already exists. Not creating.\n",
      "[INFO]  Data folder FullData/OdomNoise/19/auto_sending_goals_2021-06-29-11-58-20 already exists. Not creating.\n",
      "[INFO]  Data folder FullData/OdomNoise/10/auto_sending_goals_2021-06-29-11-39-10 already exists. Not creating.\n",
      "[INFO]  Data folder FullData/OdomNoise/33/auto_sending_goals_2021-06-30-11-00-41 already exists. Not creating.\n",
      "[INFO]  Data folder FullData/OdomNoise/8/auto_sending_goals_2021-06-29-11-34-39 already exists. Not creating.\n",
      "[INFO]  Data folder FullData/OdomNoise/40/auto_sending_goals_2021-06-30-11-16-29 already exists. Not creating.\n",
      "[INFO]  Data folder FullData/OdomNoise/23/auto_sending_goals_2021-06-29-12-07-22 already exists. Not creating.\n",
      "[INFO]  Data folder FullData/OdomNoise/49/auto_sending_goals_2021-06-30-11-34-42 already exists. Not creating.\n",
      "[INFO]  Data folder FullData/OdomNoise/41/auto_sending_goals_2021-06-30-11-18-45 already exists. Not creating.\n",
      "[INFO]  Data folder FullData/OdomNoise/51/auto_sending_goals_2021-06-30-11-39-13 already exists. Not creating.\n",
      "[INFO]  Data folder FullData/OdomNoise/27/auto_sending_goals_2021-06-29-12-16-25 already exists. Not creating.\n",
      "[INFO]  Data folder FullData/OdomNoise/14/auto_sending_goals_2021-06-29-11-47-02 already exists. Not creating.\n",
      "[INFO]  Data folder FullData/OdomNoise/57/auto_sending_goals_2021-06-30-11-52-47 already exists. Not creating.\n",
      "[INFO]  Data folder FullData/OdomNoise/7/auto_sending_goals_2021-06-29-11-32-23 already exists. Not creating.\n",
      "[INFO]  Data folder FullData/OdomNoise/9/auto_sending_goals_2021-06-29-11-36-54 already exists. Not creating.\n",
      "[INFO]  Data folder FullData/OdomNoise/11/auto_sending_goals_2021-06-29-11-41-25 already exists. Not creating.\n",
      "[INFO]  Data folder FullData/OdomNoise/5/auto_sending_goals_2021-06-29-11-27-52 already exists. Not creating.\n",
      "[INFO]  Data folder FullData/OdomNoise/22/auto_sending_goals_2021-06-29-12-05-07 already exists. Not creating.\n",
      "[INFO]  Data folder FullData/OdomNoise/17/auto_sending_goals_2021-06-29-11-53-49 already exists. Not creating.\n",
      "[INFO]  Data folder FullData/OdomNoise/36/auto_sending_goals_2021-06-30-11-07-27 already exists. Not creating.\n",
      "[INFO]  Data folder FullData/OdomNoise/6/auto_sending_goals_2021-06-29-11-30-07 already exists. Not creating.\n",
      "[INFO]  Data folder FullData/OdomNoise/59/auto_sending_goals_2021-06-30-11-57-18 already exists. Not creating.\n",
      "[INFO]  Data folder FullData/OdomNoise/16/auto_sending_goals_2021-06-29-11-51-33 already exists. Not creating.\n",
      "[INFO]  Data folder FullData/OdomNoise/34/auto_sending_goals_2021-06-30-11-02-56 already exists. Not creating.\n",
      "[INFO]  Data folder FullData/OdomNoise/37/auto_sending_goals_2021-06-30-11-09-43 already exists. Not creating.\n",
      "[INFO]  Data folder FullData/OdomNoise/52/auto_sending_goals_2021-06-30-11-41-29 already exists. Not creating.\n",
      "[INFO]  Data folder FullData/OdomNoise/18/auto_sending_goals_2021-06-29-11-56-05 already exists. Not creating.\n",
      "[INFO]  Data folder FullData/OdomNoise/47/auto_sending_goals_2021-06-30-11-32-08 already exists. Not creating.\n",
      "[INFO]  Data folder FullData/OdomNoise/45/auto_sending_goals_2021-06-30-11-27-47 already exists. Not creating.\n",
      "[INFO]  Data folder FullData/OdomNoise/46/auto_sending_goals_2021-06-30-11-29-52 already exists. Not creating.\n",
      "[INFO]  Data folder FullData/OdomNoise/12/auto_sending_goals_2021-06-29-11-42-31 already exists. Not creating.\n",
      "[INFO]  Data folder FullData/OdomNoise/26/auto_sending_goals_2021-06-29-12-14-09 already exists. Not creating.\n",
      "[INFO]  Data folder FullData/OdomNoise/21/auto_sending_goals_2021-06-29-12-02-51 already exists. Not creating.\n",
      "[INFO]  Data folder FullData/OdomNoise/30/auto_sending_goals_2021-06-29-12-23-11 already exists. Not creating.\n",
      "[INFO]  Data folder FullData/OdomNoise/50/auto_sending_goals_2021-06-30-11-36-58 already exists. Not creating.\n",
      "[INFO]  Data folder FullData/OdomNoise/54/auto_sending_goals_2021-06-30-11-46-00 already exists. Not creating.\n",
      "[INFO]  Data folder FullData/OdomNoise/24/auto_sending_goals_2021-06-29-12-09-38 already exists. Not creating.\n",
      "[INFO]  Data folder FullData/OdomNoise/28/auto_sending_goals_2021-06-29-12-18-40 already exists. Not creating.\n",
      "[INFO]  Data folder FullData/OdomNoise/20/auto_sending_goals_2021-06-29-12-00-36 already exists. Not creating.\n",
      "[INFO]  Data folder FullData/OdomNoise/15/auto_sending_goals_2021-06-29-11-49-18 already exists. Not creating.\n",
      "[INFO]  Data folder FullData/OdomNoise/3/auto_sending_goals_2021-06-29-11-23-21 already exists. Not creating.\n",
      "[INFO]  Data folder FullData/OdomNoise/58/auto_sending_goals_2021-06-30-11-55-02 already exists. Not creating.\n",
      "[INFO]  Data folder FullData/OdomNoise/35/auto_sending_goals_2021-06-30-11-05-12 already exists. Not creating.\n",
      "[INFO]  Data folder FullData/OdomNoise/60/auto_sending_goals_2021-06-30-11-59-33 already exists. Not creating.\n",
      "[INFO]  Data folder FullData/OdomNoise/39/auto_sending_goals_2021-06-30-11-14-14 already exists. Not creating.\n",
      "[INFO]  Data folder FullData/OdomNoise/32/auto_sending_goals_2021-06-30-10-58-25 already exists. Not creating.\n",
      "[INFO]  Data folder FullData/OdomNoise/48/auto_sending_goals_2021-06-30-11-34-23 already exists. Not creating.\n",
      "[INFO]  Data folder FullData/OdomNoise/44/auto_sending_goals_2021-06-30-11-25-32 already exists. Not creating.\n",
      "[INFO]  Data folder FullData/OdomNoise/13/auto_sending_goals_2021-06-29-11-44-47 already exists. Not creating.\n",
      "[INFO]  Data folder FullData/OdomNoise/53/auto_sending_goals_2021-06-30-11-43-44 already exists. Not creating.\n",
      "[INFO]  Data folder FullData/OdomNoise/2/auto_sending_goals_2021-06-29-11-22-35 already exists. Not creating.\n",
      "[INFO]  Data folder FullData/OdomNoise/56/auto_sending_goals_2021-06-30-11-50-31 already exists. Not creating.\n",
      "[INFO]  Data folder FullData/OdomNoise/38/auto_sending_goals_2021-06-30-11-11-58 already exists. Not creating.\n",
      "[INFO]  Data folder FullData/OdomNoise/43/auto_sending_goals_2021-06-30-11-23-16 already exists. Not creating.\n",
      "[INFO]  Data folder FullData/OdomNoise/31/auto_sending_goals_2021-06-30-10-56-09 already exists. Not creating.\n",
      "[INFO]  Data folder FullData/OdomNoise/1/auto_sending_goals_2021-06-29-11-21-09 already exists. Not creating.\n",
      "[INFO]  Data folder FullData/OdomNoise/55/auto_sending_goals_2021-06-30-11-48-15 already exists. Not creating.\n",
      "[INFO]  Data folder FullData/ScanNoise/29/auto_sending_goals_2021-06-29-13-19-08 already exists. Not creating.\n",
      "[INFO]  Data folder FullData/ScanNoise/4/auto_sending_goals_2021-06-29-12-29-46 already exists. Not creating.\n",
      "[INFO]  Data folder FullData/ScanNoise/42/auto_sending_goals_2021-06-30-12-21-15 already exists. Not creating.\n",
      "[INFO]  Data folder FullData/ScanNoise/25/auto_sending_goals_2021-06-29-13-10-05 already exists. Not creating.\n",
      "[INFO]  Data folder FullData/ScanNoise/19/auto_sending_goals_2021-06-29-12-56-32 already exists. Not creating.\n",
      "[INFO]  Data folder FullData/ScanNoise/10/auto_sending_goals_2021-06-29-12-38-02 already exists. Not creating.\n",
      "[INFO]  Data folder FullData/ScanNoise/33/auto_sending_goals_2021-06-30-12-06-26 already exists. Not creating.\n",
      "[INFO]  Data folder FullData/ScanNoise/8/auto_sending_goals_2021-06-29-12-37-10 already exists. Not creating.\n",
      "[INFO]  Data folder FullData/ScanNoise/40/auto_sending_goals_2021-06-30-12-18-36 already exists. Not creating.\n",
      "[INFO]  Data folder FullData/ScanNoise/23/auto_sending_goals_2021-06-29-13-05-34 already exists. Not creating.\n",
      "[INFO]  Data folder FullData/ScanNoise/49/auto_sending_goals_2021-06-30-12-37-04 already exists. Not creating.\n",
      "[INFO]  Data folder FullData/ScanNoise/41/auto_sending_goals_2021-06-30-12-18-59 already exists. Not creating.\n",
      "[INFO]  Data folder FullData/ScanNoise/51/auto_sending_goals_2021-06-30-12-41-36 already exists. Not creating.\n",
      "[INFO]  Data folder FullData/ScanNoise/27/auto_sending_goals_2021-06-29-13-14-36 already exists. Not creating.\n",
      "[INFO]  Data folder FullData/ScanNoise/14/auto_sending_goals_2021-06-29-12-45-14 already exists. Not creating.\n",
      "[INFO]  Data folder FullData/ScanNoise/57/auto_sending_goals_2021-06-30-12-55-09 already exists. Not creating.\n",
      "[INFO]  Data folder FullData/ScanNoise/7/auto_sending_goals_2021-06-29-12-34-54 already exists. Not creating.\n",
      "[INFO]  Data folder FullData/ScanNoise/9/auto_sending_goals_2021-06-29-12-37-37 already exists. Not creating.\n",
      "[INFO]  Data folder FullData/ScanNoise/11/auto_sending_goals_2021-06-29-12-38-27 already exists. Not creating.\n",
      "[INFO]  Data folder FullData/ScanNoise/5/auto_sending_goals_2021-06-29-12-32-02 already exists. Not creating.\n",
      "[INFO]  Data folder FullData/ScanNoise/22/auto_sending_goals_2021-06-29-13-03-18 already exists. Not creating.\n",
      "[INFO]  Data folder FullData/ScanNoise/17/auto_sending_goals_2021-06-29-12-52-01 already exists. Not creating.\n",
      "[INFO]  Data folder FullData/ScanNoise/36/auto_sending_goals_2021-06-30-12-13-12 already exists. Not creating.\n",
      "[INFO]  Data folder FullData/ScanNoise/6/auto_sending_goals_2021-06-29-12-34-17 already exists. Not creating.\n",
      "[INFO]  Data folder FullData/ScanNoise/59/auto_sending_goals_2021-06-30-12-59-40 already exists. Not creating.\n",
      "[INFO]  Data folder FullData/ScanNoise/16/auto_sending_goals_2021-06-29-12-49-45 already exists. Not creating.\n",
      "[INFO]  Data folder FullData/ScanNoise/34/auto_sending_goals_2021-06-30-12-08-41 already exists. Not creating.\n",
      "[INFO]  Data folder FullData/ScanNoise/37/auto_sending_goals_2021-06-30-12-15-28 already exists. Not creating.\n",
      "[INFO]  Data folder FullData/ScanNoise/52/auto_sending_goals_2021-06-30-12-43-51 already exists. Not creating.\n",
      "[INFO]  Data folder FullData/ScanNoise/18/auto_sending_goals_2021-06-29-12-54-16 already exists. Not creating.\n",
      "[INFO]  Data folder FullData/ScanNoise/47/auto_sending_goals_2021-06-30-12-32-33 already exists. Not creating.\n",
      "[INFO]  Data folder FullData/ScanNoise/45/auto_sending_goals_2021-06-30-12-28-02 already exists. Not creating.\n",
      "[INFO]  Data folder FullData/ScanNoise/46/auto_sending_goals_2021-06-30-12-30-17 already exists. Not creating.\n",
      "[INFO]  Data folder FullData/ScanNoise/12/auto_sending_goals_2021-06-29-12-40-43 already exists. Not creating.\n",
      "[INFO]  Data folder FullData/ScanNoise/26/auto_sending_goals_2021-06-29-13-12-21 already exists. Not creating.\n",
      "[INFO]  Data folder FullData/ScanNoise/21/auto_sending_goals_2021-06-29-13-01-03 already exists. Not creating.\n",
      "[INFO]  Data folder FullData/ScanNoise/30/auto_sending_goals_2021-06-29-13-21-23 already exists. Not creating.\n",
      "[INFO]  Data folder FullData/ScanNoise/50/auto_sending_goals_2021-06-30-12-39-20 already exists. Not creating.\n",
      "[INFO]  Data folder FullData/ScanNoise/54/auto_sending_goals_2021-06-30-12-48-22 already exists. Not creating.\n",
      "[INFO]  Data folder FullData/ScanNoise/24/auto_sending_goals_2021-06-29-13-07-50 already exists. Not creating.\n",
      "[INFO]  Data folder FullData/ScanNoise/28/auto_sending_goals_2021-06-29-13-16-52 already exists. Not creating.\n",
      "[INFO]  Data folder FullData/ScanNoise/20/auto_sending_goals_2021-06-29-12-58-47 already exists. Not creating.\n",
      "[INFO]  Data folder FullData/ScanNoise/15/auto_sending_goals_2021-06-29-12-47-30 already exists. Not creating.\n",
      "[INFO]  Data folder FullData/ScanNoise/3/auto_sending_goals_2021-06-29-12-27-31 already exists. Not creating.\n",
      "[INFO]  Data folder FullData/ScanNoise/58/auto_sending_goals_2021-06-30-12-57-25 already exists. Not creating.\n",
      "[INFO]  Data folder FullData/ScanNoise/35/auto_sending_goals_2021-06-30-12-10-57 already exists. Not creating.\n",
      "[INFO]  Data folder FullData/ScanNoise/60/auto_sending_goals_2021-06-30-13-01-56 already exists. Not creating.\n",
      "[INFO]  Data folder FullData/ScanNoise/39/auto_sending_goals_2021-06-30-12-18-10 already exists. Not creating.\n",
      "[INFO]  Data folder FullData/ScanNoise/32/auto_sending_goals_2021-06-30-12-06-02 already exists. Not creating.\n",
      "[INFO]  Data folder FullData/ScanNoise/48/auto_sending_goals_2021-06-30-12-34-49 already exists. Not creating.\n",
      "[INFO]  Data folder FullData/ScanNoise/44/auto_sending_goals_2021-06-30-12-25-46 already exists. Not creating.\n",
      "[INFO]  Data folder FullData/ScanNoise/13/auto_sending_goals_2021-06-29-12-42-58 already exists. Not creating.\n",
      "[INFO]  Data folder FullData/ScanNoise/53/auto_sending_goals_2021-06-30-12-46-07 already exists. Not creating.\n",
      "[INFO]  Data folder FullData/ScanNoise/2/auto_sending_goals_2021-06-29-12-27-07 already exists. Not creating.\n",
      "[INFO]  Data folder FullData/ScanNoise/56/auto_sending_goals_2021-06-30-12-52-53 already exists. Not creating.\n",
      "[INFO]  Data folder FullData/ScanNoise/38/auto_sending_goals_2021-06-30-12-17-43 already exists. Not creating.\n",
      "[INFO]  Data folder FullData/ScanNoise/43/auto_sending_goals_2021-06-30-12-23-31 already exists. Not creating.\n",
      "[INFO]  Data folder FullData/ScanNoise/31/auto_sending_goals_2021-06-30-12-05-22 already exists. Not creating.\n",
      "[INFO]  Data folder FullData/ScanNoise/1/auto_sending_goals_2021-06-29-12-26-29 already exists. Not creating.\n",
      "[INFO]  Data folder FullData/ScanNoise/55/auto_sending_goals_2021-06-30-12-50-38 already exists. Not creating.\n"
     ]
    }
   ],
   "metadata": {
    "tags": [
     "outputPrepend"
    ]
   }
  },
  {
   "cell_type": "code",
   "execution_count": 2,
   "source": [
    "train,test,validation=split_data(ds,l,batch_train=batch_size,prop_train_val=0.8,prop_train=0.8)"
   ],
   "outputs": [],
   "metadata": {}
  },
  {
   "cell_type": "code",
   "execution_count": 3,
   "source": [
    "pred_ds,l_pred=make_dataset(path='Pred_data/12',with_label=False)"
   ],
   "outputs": [
    {
     "output_type": "stream",
     "name": "stdout",
     "text": [
      "[INFO]  Data folder Pred_data/12/auto_sending_goals_2021-06-29-10-33-03 already exists. Not creating.\n"
     ]
    }
   ],
   "metadata": {}
  },
  {
   "cell_type": "code",
   "execution_count": 4,
   "source": [
    "inc_scores=[]\n",
    "for batch_size in batch_sizes:\n",
    "    inc=Inception()\n",
    "    cb_list_inc=[tf.keras.callbacks.ModelCheckpoint('inc_model/checkpoint_inc_batch{}_epochs{}.h5'.format(batch_size,num_epochs),monitor='val_loss',save_weight_only=True,save_best_only=True)]#tf.keras.callbacks.EarlyStopping(monitor='val_loss',patience=50),\n",
    "    inc.compile(optimizer='adam',loss='categorical_crossentropy',metrics=[tf.keras.metrics.CategoricalAccuracy()])\n",
    "    hist_inc=inc.fit(train,epochs=num_epochs,callbacks=cb_list_inc,verbose=1,validation_data=validation)\n",
    "    inc_scores.append(inc.evaluate(test)[0])\n",
    "plt.figure()\n",
    "plt.plot(batch_sizes,inc_scores)\n",
    "plt.show()"
   ],
   "outputs": [
    {
     "output_type": "stream",
     "name": "stdout",
     "text": [
      "Epoch 1/10\n",
      "115/115 [==============================] - 32s 249ms/step - loss: 1.1474 - categorical_accuracy: 0.3967 - val_loss: 15.5814 - val_categorical_accuracy: 0.3130\n",
      "Epoch 2/10\n",
      "115/115 [==============================] - 30s 258ms/step - loss: 1.0585 - categorical_accuracy: 0.3673 - val_loss: 7.1472 - val_categorical_accuracy: 0.4261\n",
      "Epoch 3/10\n",
      "115/115 [==============================] - 28s 246ms/step - loss: 1.0016 - categorical_accuracy: 0.5103 - val_loss: 15.7447 - val_categorical_accuracy: 0.3739\n",
      "Epoch 4/10\n",
      "115/115 [==============================] - 28s 240ms/step - loss: 0.9820 - categorical_accuracy: 0.5101 - val_loss: 19.3574 - val_categorical_accuracy: 0.4609\n",
      "Epoch 5/10\n",
      "115/115 [==============================] - 27s 231ms/step - loss: 0.9345 - categorical_accuracy: 0.6193 - val_loss: 11.8300 - val_categorical_accuracy: 0.3217\n",
      "Epoch 6/10\n",
      "115/115 [==============================] - 26s 227ms/step - loss: 0.8594 - categorical_accuracy: 0.6335 - val_loss: 11.0092 - val_categorical_accuracy: 0.3565\n",
      "Epoch 7/10\n",
      "115/115 [==============================] - 26s 230ms/step - loss: 0.8096 - categorical_accuracy: 0.6210 - val_loss: 13.6369 - val_categorical_accuracy: 0.3304\n",
      "Epoch 8/10\n",
      "115/115 [==============================] - 26s 225ms/step - loss: 0.7187 - categorical_accuracy: 0.6978 - val_loss: 11.3037 - val_categorical_accuracy: 0.3652\n",
      "Epoch 9/10\n",
      "115/115 [==============================] - 27s 233ms/step - loss: 0.8042 - categorical_accuracy: 0.6192 - val_loss: 12.1708 - val_categorical_accuracy: 0.2957\n",
      "Epoch 10/10\n",
      "115/115 [==============================] - 27s 233ms/step - loss: 0.7755 - categorical_accuracy: 0.6269 - val_loss: 10.9369 - val_categorical_accuracy: 0.4870\n"
     ]
    }
   ],
   "metadata": {}
  },
  {
   "cell_type": "code",
   "execution_count": 5,
   "source": [
    "inc.load_weights('/home/louis/model_cnn/inc_model/checkpoint_inc_batch{}_epochs{}.h5'.format(batch_size,num_epochs))\n",
    "plt.figure()\n",
    "plt.plot(hist_inc.history['loss'],label='Training Loss')\n",
    "plt.plot(hist_inc.history['val_loss'],label='Validation Loss')\n",
    "plt.plot(hist_inc.history['categorical_accuracy'],label='Training Accuracy')\n",
    "plt.plot(hist_inc.history['val_categorical_accuracy'],label='Validation Accuracy')\n",
    "plt.legend()\n",
    "plt.ylim(-0.05,1.05)\n",
    "plt.show()\n",
    "inc.evaluate(test)"
   ],
   "outputs": [
    {
     "output_type": "display_data",
     "data": {
      "text/plain": [
       "<Figure size 432x288 with 1 Axes>"
      ],
      "image/png": "[encoded data removed]"
     },
     "metadata": {
      "needs_background": "light"
     }
    },
    {
     "output_type": "stream",
     "name": "stdout",
     "text": [
      "29/29 [==============================] - 1s 36ms/step - loss: 7.2220 - categorical_accuracy: 0.5172\n"
     ]
    },
    {
     "output_type": "execute_result",
     "data": {
      "text/plain": [
       "[7.222022533416748, 0.517241358757019]"
      ]
     },
     "metadata": {},
     "execution_count": 5
    }
   ],
   "metadata": {}
  },
  {
   "cell_type": "code",
   "execution_count": 6,
   "source": [
    "\n",
    "lstm_scores=[]\n",
    "for batch_size in batch_sizes:\n",
    "    lstm=Turtlebot_LSTM()\n",
    "    cb_list_lstm=[tf.keras.callbacks.ModelCheckpoint('lstm_model/checkpoint_lstm_batch{}_epochs{}'.format(batch_size,num_epochs),monitor='val_loss',save_best_only=True,save_weights_only=True)]#tf.keras.callbacks.EarlyStopping(monitor='val_loss',patience=50),\n",
    "    lstm.compile(optimizer='adam',loss='categorical_crossentropy',metrics=[tf.keras.metrics.CategoricalAccuracy()])\n",
    "    hist_lstm=lstm.fit(train,epochs=num_epochs,callbacks=cb_list_lstm,verbose=1,validation_data=validation)\n",
    "    lstm_scores.append(lstm.evaluate(test)[0])\n",
    "plt.figure()\n",
    "plt.plot(batch_sizes,lstm_scores)\n",
    "plt.show()"
   ],
   "outputs": [
    {
     "output_type": "stream",
     "name": "stdout",
     "text": [
      "Epoch 1/10\n",
      "115/115 [==============================] - 67s 572ms/step - loss: 1.0614 - categorical_accuracy: 0.5435 - val_loss: 0.9967 - val_categorical_accuracy: 0.5130\n",
      "Epoch 2/10\n",
      "115/115 [==============================] - 68s 595ms/step - loss: 0.9984 - categorical_accuracy: 0.5597 - val_loss: 0.8752 - val_categorical_accuracy: 0.6087\n",
      "Epoch 3/10\n",
      "112/115 [============================>.] - ETA: 1s - loss: 1.0720 - categorical_accuracy: 0.4491"
     ]
    }
   ],
   "metadata": {
    "tags": []
   }
  },
  {
   "cell_type": "code",
   "execution_count": null,
   "source": [
    "lstm.load_weights('lstm_model/checkpoint_lstm_batch{}_epochs{}'.format(batch_size,num_epochs))\n",
    "plt.figure()\n",
    "plt.plot(hist_lstm.history['loss'],label='Training Loss')\n",
    "plt.plot(hist_lstm.history['val_loss'],label='Validation Loss')\n",
    "plt.plot(hist_lstm.history['categorical_accuracy'],label='Training Accuracy')\n",
    "plt.plot(hist_lstm.history['val_categorical_accuracy'],label='Validation Accuracy')\n",
    "plt.legend()\n",
    "plt.ylim(-0.05,1.05)\n",
    "plt.show()\n",
    "lstm.evaluate(test)"
   ],
   "outputs": [
    {
     "output_type": "display_data",
     "data": {
      "text/plain": [
       "<Figure size 432x288 with 1 Axes>"
      ],
      "image/png": "[encoded data removed]"
     },
     "metadata": {
      "needs_background": "light"
     }
    },
    {
     "output_type": "stream",
     "name": "stdout",
     "text": [
      "29/29 [==============================] - 2s 82ms/step - loss: 1.0046 - categorical_accuracy: 0.3448\n"
     ]
    },
    {
     "output_type": "execute_result",
     "data": {
      "text/plain": [
       "[1.0045939683914185, 0.3448275923728943]"
      ]
     },
     "metadata": {},
     "execution_count": 7
    }
   ],
   "metadata": {}
  },
  {
   "cell_type": "code",
   "execution_count": null,
   "source": [
    "cnn_scores=[]\n",
    "for batch_size in batch_sizes:\n",
    "    cnn=Turtlebot_CNN()\n",
    "    cb_list_cnn=[tf.keras.callbacks.ModelCheckpoint('cnn_model/checkpoint_cnn_batch{}_epochs{}'.format(batch_size,num_epochs),monitor='val_loss',save_best_only=True,save_weights_only=True)]#,tf.keras.callbacks.EarlyStopping(monitor='val_loss',patience=50)]\n",
    "    cnn.compile(optimizer='adam',loss='categorical_crossentropy',metrics=[tf.keras.metrics.CategoricalAccuracy()])\n",
    "    hist_cnn=cnn.fit(train,epochs=num_epochs,callbacks=cb_list_cnn,verbose=1,validation_data=validation)\n",
    "    cnn_scores.append(cnn.evaluate(test)[0])"
   ],
   "outputs": [
    {
     "output_type": "stream",
     "name": "stdout",
     "text": [
      "115/115 [==============================] - 4s 27ms/step - loss: 1.0987 - categorical_accuracy: 0.4623 - val_loss: 0.9687 - val_categorical_accuracy: 0.5217\n",
      "Model: \"turtlebot_cnn\"\n",
      "_________________________________________________________________\n",
      "Layer (type)                 Output Shape              Param #   \n",
      "=================================================================\n",
      "masking_2 (Masking)          multiple                  0         \n",
      "_________________________________________________________________\n",
      "masking_3 (Masking)          multiple                  0         \n",
      "_________________________________________________________________\n",
      "conv1d_64 (Conv1D)           multiple                  8320      \n",
      "_________________________________________________________________\n",
      "conv1d_65 (Conv1D)           multiple                  20480     \n",
      "_________________________________________________________________\n",
      "conv1d_66 (Conv1D)           multiple                  460800    \n",
      "_________________________________________________________________\n",
      "conv1d_67 (Conv1D)           multiple                  81920     \n",
      "_________________________________________________________________\n",
      "conv1d_68 (Conv1D)           multiple                  20480     \n",
      "_________________________________________________________________\n",
      "global_average_pooling1d_2 ( multiple                  0         \n",
      "_________________________________________________________________\n",
      "global_average_pooling1d_3 ( multiple                  0         \n",
      "_________________________________________________________________\n",
      "concatenate_14 (Concatenate) multiple                  0         \n",
      "_________________________________________________________________\n",
      "dense_4 (Dense)              multiple                  4160      \n",
      "_________________________________________________________________\n",
      "dense_5 (Dense)              multiple                  8320      \n",
      "_________________________________________________________________\n",
      "dense_6 (Dense)              multiple                  387       \n",
      "=================================================================\n",
      "Total params: 604,867\n",
      "Trainable params: 604,867\n",
      "Non-trainable params: 0\n",
      "_________________________________________________________________\n"
     ]
    }
   ],
   "metadata": {
    "tags": []
   }
  },
  {
   "cell_type": "code",
   "execution_count": null,
   "source": [
    "cnn.load_weights('cnn_model/checkpoint_cnn_batch{}_epochs{}'.format(batch_size,num_epochs))\n",
    "\n",
    "plt.figure()\n",
    "plt.plot(hist_cnn.history['loss'],label='Training Loss')\n",
    "plt.plot(hist_cnn.history['val_loss'],label='Validation Loss')\n",
    "plt.plot(hist_cnn.history['categorical_accuracy'],label='Training Accuracy')\n",
    "plt.plot(hist_cnn.history['val_categorical_accuracy'],label='Validation Accuracy')\n",
    "plt.legend()\n",
    "plt.ylim(-0.05,1.05)\n",
    "plt.show()\n",
    "cnn.evaluate(test)"
   ],
   "outputs": [
    {
     "output_type": "display_data",
     "data": {
      "text/plain": [
       "<Figure size 432x288 with 1 Axes>"
      ],
      "image/png": "[encoded data removed]"
     },
     "metadata": {
      "needs_background": "light"
     }
    },
    {
     "output_type": "stream",
     "name": "stdout",
     "text": [
      "29/29 [==============================] - 0s 5ms/step - loss: 1.0110 - categorical_accuracy: 0.3448\n"
     ]
    },
    {
     "output_type": "execute_result",
     "data": {
      "text/plain": [
       "[1.0110050439834595, 0.3448275923728943]"
      ]
     },
     "metadata": {},
     "execution_count": 10
    }
   ],
   "metadata": {}
  },
  {
   "cell_type": "code",
   "execution_count": null,
   "source": [],
   "outputs": [],
   "metadata": {}
  }
 ],
 "metadata": {
  "interpreter": {
   "hash": "31f2aee4e71d21fbe5cf8b01ff0e069b9275f58929596ceb00d14d90e3e16cd6"
  },
  "kernelspec": {
   "display_name": "Python 3.8.10 64-bit",
   "name": "python3"
  },
  "language_info": {
   "name": "python",
   "version": ""
  },
  "orig_nbformat": 4
 },
 "nbformat": 4,
 "nbformat_minor": 2
}