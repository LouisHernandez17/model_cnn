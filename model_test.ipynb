{
 "cells": [
  {
   "cell_type": "code",
   "execution_count": 1,
   "metadata": {
    "tags": []
   },
   "outputs": [
    {
     "name": "stderr",
     "output_type": "stream",
     "text": [
      "Failed to load Python extension for LZ4 support. LZ4 compression will not be available.\n"
     ]
    },
    {
     "name": "stdout",
     "output_type": "stream",
     "text": [
      "[INFO]  Data folder FullData/NoNoise/49/auto_sending_goals_2021-06-30-10-19-52 already exists. Not creating.\n",
      "[INFO]  Data folder FullData/NoNoise/28/auto_sending_goals_2021-06-29-11-09-13 already exists. Not creating.\n",
      "[INFO]  Data folder FullData/NoNoise/11/auto_sending_goals_2021-06-29-10-30-48 already exists. Not creating.\n",
      "[INFO]  Data folder FullData/NoNoise/43/auto_sending_goals_2021-06-30-10-06-18 already exists. Not creating.\n",
      "[INFO]  Data folder FullData/NoNoise/51/auto_sending_goals_2021-06-30-10-24-23 already exists. Not creating.\n",
      "[INFO]  Data folder FullData/NoNoise/29/auto_sending_goals_2021-06-29-11-11-28 already exists. Not creating.\n",
      "[INFO]  Data folder FullData/NoNoise/59/auto_sending_goals_2021-06-30-10-42-28 already exists. Not creating.\n",
      "[INFO]  Data folder FullData/NoNoise/18/auto_sending_goals_2021-06-29-10-46-37 already exists. Not creating.\n",
      "[INFO]  Data folder FullData/NoNoise/41/auto_sending_goals_2021-06-30-10-03-40 already exists. Not creating.\n",
      "[INFO]  Data folder FullData/NoNoise/40/auto_sending_goals_2021-06-30-10-03-16 already exists. Not creating.\n",
      "[INFO]  Data folder FullData/NoNoise/54/auto_sending_goals_2021-06-30-10-31-10 already exists. Not creating.\n",
      "[INFO]  Data folder FullData/NoNoise/46/auto_sending_goals_2021-06-30-10-13-05 already exists. Not creating.\n",
      "[INFO]  Data folder FullData/NoNoise/44/auto_sending_goals_2021-06-30-10-08-34 already exists. Not creating.\n",
      "[INFO]  Data folder FullData/NoNoise/57/auto_sending_goals_2021-06-30-10-37-57 already exists. Not creating.\n",
      "[INFO]  Data folder FullData/NoNoise/20/auto_sending_goals_2021-06-29-10-51-08 already exists. Not creating.\n",
      "[INFO]  Data folder FullData/NoNoise/27/auto_sending_goals_2021-06-29-11-06-57 already exists. Not creating.\n",
      "[INFO]  Data folder FullData/NoNoise/24/auto_sending_goals_2021-06-29-11-00-10 already exists. Not creating.\n",
      "[INFO]  Data folder FullData/NoNoise/52/auto_sending_goals_2021-06-30-10-26-39 already exists. Not creating.\n",
      "[INFO]  Data folder FullData/NoNoise/42/auto_sending_goals_2021-06-30-10-04-03 already exists. Not creating.\n",
      "[INFO]  Data folder FullData/NoNoise/34/auto_sending_goals_2021-06-30-09-55-01 already exists. Not creating.\n",
      "[INFO]  Data folder FullData/NoNoise/17/auto_sending_goals_2021-06-29-10-44-21 already exists. Not creating.\n",
      "[INFO]  Data folder FullData/NoNoise/9/auto_sending_goals_2021-06-29-10-29-59 already exists. Not creating.\n",
      "[INFO]  Data folder FullData/NoNoise/35/auto_sending_goals_2021-06-30-09-55-27 already exists. Not creating.\n",
      "[INFO]  Data folder FullData/NoNoise/26/auto_sending_goals_2021-06-29-11-04-42 already exists. Not creating.\n",
      "[INFO]  Data folder FullData/NoNoise/21/auto_sending_goals_2021-06-29-10-53-24 already exists. Not creating.\n",
      "[INFO]  Data folder FullData/NoNoise/50/auto_sending_goals_2021-06-30-10-22-08 already exists. Not creating.\n",
      "[INFO]  Data folder FullData/NoNoise/23/auto_sending_goals_2021-06-29-10-57-55 already exists. Not creating.\n",
      "[INFO]  Data folder FullData/NoNoise/2/auto_sending_goals_2021-06-29-10-23-19 already exists. Not creating.\n",
      "[INFO]  Data folder FullData/NoNoise/6/auto_sending_goals_2021-06-29-10-26-49 already exists. Not creating.\n",
      "[INFO]  Data folder FullData/NoNoise/60/auto_sending_goals_2021-06-30-10-44-44 already exists. Not creating.\n",
      "[INFO]  Data folder FullData/NoNoise/3/auto_sending_goals_2021-06-29-10-23-43 already exists. Not creating.\n",
      "[INFO]  Data folder FullData/NoNoise/15/auto_sending_goals_2021-06-29-10-39-50 already exists. Not creating.\n",
      "[INFO]  Data folder FullData/NoNoise/37/auto_sending_goals_2021-06-30-09-58-13 already exists. Not creating.\n",
      "[INFO]  Data folder FullData/NoNoise/19/auto_sending_goals_2021-06-29-10-48-52 already exists. Not creating.\n",
      "[INFO]  Data folder FullData/NoNoise/8/auto_sending_goals_2021-06-29-10-29-36 already exists. Not creating.\n",
      "[INFO]  Data folder FullData/NoNoise/7/auto_sending_goals_2021-06-29-10-27-20 already exists. Not creating.\n",
      "[INFO]  Data folder FullData/NoNoise/5/auto_sending_goals_2021-06-29-10-24-33 already exists. Not creating.\n",
      "[INFO]  Data folder FullData/NoNoise/14/auto_sending_goals_2021-06-29-10-37-34 already exists. Not creating.\n",
      "[INFO]  Data folder FullData/NoNoise/53/auto_sending_goals_2021-06-30-10-28-54 already exists. Not creating.\n",
      "[INFO]  Data folder FullData/NoNoise/16/auto_sending_goals_2021-06-29-10-42-06 already exists. Not creating.\n",
      "[INFO]  Data folder FullData/NoNoise/56/auto_sending_goals_2021-06-30-10-35-41 already exists. Not creating.\n",
      "[INFO]  Data folder FullData/NoNoise/1/auto_sending_goals_2021-06-29-10-22-41 already exists. Not creating.\n",
      "[INFO]  Data folder FullData/NoNoise/55/auto_sending_goals_2021-06-30-10-33-26 already exists. Not creating.\n",
      "[INFO]  Data folder FullData/NoNoise/36/auto_sending_goals_2021-06-30-09-57-43 already exists. Not creating.\n",
      "[INFO]  Data folder FullData/NoNoise/47/auto_sending_goals_2021-06-30-10-15-21 already exists. Not creating.\n",
      "[INFO]  Data folder FullData/NoNoise/12/auto_sending_goals_2021-06-29-10-33-03 already exists. Not creating.\n",
      "[INFO]  Data folder FullData/NoNoise/33/auto_sending_goals_2021-06-30-09-54-36 already exists. Not creating.\n",
      "[INFO]  Data folder FullData/NoNoise/25/auto_sending_goals_2021-06-29-11-02-26 already exists. Not creating.\n",
      "[INFO]  Data folder FullData/NoNoise/32/auto_sending_goals_2021-06-30-09-54-12 already exists. Not creating.\n",
      "[INFO]  Data folder FullData/NoNoise/45/auto_sending_goals_2021-06-30-10-10-50 already exists. Not creating.\n",
      "[INFO]  Data folder FullData/NoNoise/13/auto_sending_goals_2021-06-29-10-35-19 already exists. Not creating.\n",
      "[INFO]  Data folder FullData/NoNoise/31/auto_sending_goals_2021-06-30-09-53-34 already exists. Not creating.\n",
      "[INFO]  Data folder FullData/NoNoise/38/auto_sending_goals_2021-06-30-10-00-29 already exists. Not creating.\n",
      "[INFO]  Data folder FullData/NoNoise/22/auto_sending_goals_2021-06-29-10-55-39 already exists. Not creating.\n",
      "[INFO]  Data folder FullData/NoNoise/58/auto_sending_goals_2021-06-30-10-40-13 already exists. Not creating.\n",
      "[INFO]  Data folder FullData/NoNoise/4/auto_sending_goals_2021-06-29-10-24-08 already exists. Not creating.\n",
      "[INFO]  Data folder FullData/NoNoise/48/auto_sending_goals_2021-06-30-10-17-36 already exists. Not creating.\n",
      "[INFO]  Data folder FullData/NoNoise/39/auto_sending_goals_2021-06-30-10-02-44 already exists. Not creating.\n",
      "[INFO]  Data folder FullData/NoNoise/30/auto_sending_goals_2021-06-29-11-13-44 already exists. Not creating.\n",
      "[INFO]  Data folder FullData/NoNoise/10/auto_sending_goals_2021-06-29-10-30-24 already exists. Not creating.\n",
      "[INFO]  Data folder FullData/OdomNoise/49/auto_sending_goals_2021-06-30-11-34-42 already exists. Not creating.\n",
      "[INFO]  Data folder FullData/OdomNoise/28/auto_sending_goals_2021-06-29-12-18-40 already exists. Not creating.\n",
      "[INFO]  Data folder FullData/OdomNoise/11/auto_sending_goals_2021-06-29-11-41-25 already exists. Not creating.\n",
      "[INFO]  Data folder FullData/OdomNoise/43/auto_sending_goals_2021-06-30-11-23-16 already exists. Not creating.\n",
      "[INFO]  Data folder FullData/OdomNoise/51/auto_sending_goals_2021-06-30-11-39-13 already exists. Not creating.\n",
      "[INFO]  Data folder FullData/OdomNoise/29/auto_sending_goals_2021-06-29-12-20-56 already exists. Not creating.\n",
      "[INFO]  Data folder FullData/OdomNoise/59/auto_sending_goals_2021-06-30-11-57-18 already exists. Not creating.\n",
      "[INFO]  Data folder FullData/OdomNoise/18/auto_sending_goals_2021-06-29-11-56-05 already exists. Not creating.\n",
      "[INFO]  Data folder FullData/OdomNoise/41/auto_sending_goals_2021-06-30-11-18-45 already exists. Not creating.\n",
      "[INFO]  Data folder FullData/OdomNoise/40/auto_sending_goals_2021-06-30-11-16-29 already exists. Not creating.\n",
      "[INFO]  Data folder FullData/OdomNoise/54/auto_sending_goals_2021-06-30-11-46-00 already exists. Not creating.\n",
      "[INFO]  Data folder FullData/OdomNoise/46/auto_sending_goals_2021-06-30-11-29-52 already exists. Not creating.\n",
      "[INFO]  Data folder FullData/OdomNoise/44/auto_sending_goals_2021-06-30-11-25-32 already exists. Not creating.\n",
      "[INFO]  Data folder FullData/OdomNoise/57/auto_sending_goals_2021-06-30-11-52-47 already exists. Not creating.\n",
      "[INFO]  Data folder FullData/OdomNoise/20/auto_sending_goals_2021-06-29-12-00-36 already exists. Not creating.\n",
      "[INFO]  Data folder FullData/OdomNoise/27/auto_sending_goals_2021-06-29-12-16-25 already exists. Not creating.\n",
      "[INFO]  Data folder FullData/OdomNoise/24/auto_sending_goals_2021-06-29-12-09-38 already exists. Not creating.\n",
      "[INFO]  Data folder FullData/OdomNoise/52/auto_sending_goals_2021-06-30-11-41-29 already exists. Not creating.\n",
      "[INFO]  Data folder FullData/OdomNoise/42/auto_sending_goals_2021-06-30-11-21-01 already exists. Not creating.\n",
      "[INFO]  Data folder FullData/OdomNoise/34/auto_sending_goals_2021-06-30-11-02-56 already exists. Not creating.\n",
      "[INFO]  Data folder FullData/OdomNoise/17/auto_sending_goals_2021-06-29-11-53-49 already exists. Not creating.\n",
      "[INFO]  Data folder FullData/OdomNoise/9/auto_sending_goals_2021-06-29-11-36-54 already exists. Not creating.\n",
      "[INFO]  Data folder FullData/OdomNoise/35/auto_sending_goals_2021-06-30-11-05-12 already exists. Not creating.\n",
      "[INFO]  Data folder FullData/OdomNoise/26/auto_sending_goals_2021-06-29-12-14-09 already exists. Not creating.\n",
      "[INFO]  Data folder FullData/OdomNoise/21/auto_sending_goals_2021-06-29-12-02-51 already exists. Not creating.\n",
      "[INFO]  Data folder FullData/OdomNoise/50/auto_sending_goals_2021-06-30-11-36-58 already exists. Not creating.\n",
      "[INFO]  Data folder FullData/OdomNoise/23/auto_sending_goals_2021-06-29-12-07-22 already exists. Not creating.\n",
      "[INFO]  Data folder FullData/OdomNoise/2/auto_sending_goals_2021-06-29-11-22-35 already exists. Not creating.\n",
      "[INFO]  Data folder FullData/OdomNoise/6/auto_sending_goals_2021-06-29-11-30-07 already exists. Not creating.\n",
      "[INFO]  Data folder FullData/OdomNoise/60/auto_sending_goals_2021-06-30-11-59-33 already exists. Not creating.\n",
      "[INFO]  Data folder FullData/OdomNoise/3/auto_sending_goals_2021-06-29-11-23-21 already exists. Not creating.\n",
      "[INFO]  Data folder FullData/OdomNoise/15/auto_sending_goals_2021-06-29-11-49-18 already exists. Not creating.\n",
      "[INFO]  Data folder FullData/OdomNoise/37/auto_sending_goals_2021-06-30-11-09-43 already exists. Not creating.\n",
      "[INFO]  Data folder FullData/OdomNoise/19/auto_sending_goals_2021-06-29-11-58-20 already exists. Not creating.\n",
      "[INFO]  Data folder FullData/OdomNoise/8/auto_sending_goals_2021-06-29-11-34-39 already exists. Not creating.\n",
      "[INFO]  Data folder FullData/OdomNoise/7/auto_sending_goals_2021-06-29-11-32-23 already exists. Not creating.\n",
      "[INFO]  Data folder FullData/OdomNoise/5/auto_sending_goals_2021-06-29-11-27-52 already exists. Not creating.\n",
      "[INFO]  Data folder FullData/OdomNoise/14/auto_sending_goals_2021-06-29-11-47-02 already exists. Not creating.\n",
      "[INFO]  Data folder FullData/OdomNoise/53/auto_sending_goals_2021-06-30-11-43-44 already exists. Not creating.\n",
      "[INFO]  Data folder FullData/OdomNoise/16/auto_sending_goals_2021-06-29-11-51-33 already exists. Not creating.\n",
      "[INFO]  Data folder FullData/OdomNoise/56/auto_sending_goals_2021-06-30-11-50-31 already exists. Not creating.\n",
      "[INFO]  Data folder FullData/OdomNoise/1/auto_sending_goals_2021-06-29-11-21-09 already exists. Not creating.\n",
      "[INFO]  Data folder FullData/OdomNoise/55/auto_sending_goals_2021-06-30-11-48-15 already exists. Not creating.\n",
      "[INFO]  Data folder FullData/OdomNoise/36/auto_sending_goals_2021-06-30-11-07-27 already exists. Not creating.\n",
      "[INFO]  Data folder FullData/OdomNoise/47/auto_sending_goals_2021-06-30-11-32-08 already exists. Not creating.\n",
      "[INFO]  Data folder FullData/OdomNoise/12/auto_sending_goals_2021-06-29-11-42-31 already exists. Not creating.\n",
      "[INFO]  Data folder FullData/OdomNoise/33/auto_sending_goals_2021-06-30-11-00-41 already exists. Not creating.\n",
      "[INFO]  Data folder FullData/OdomNoise/25/auto_sending_goals_2021-06-29-12-11-53 already exists. Not creating.\n",
      "[INFO]  Data folder FullData/OdomNoise/32/auto_sending_goals_2021-06-30-10-58-25 already exists. Not creating.\n",
      "[INFO]  Data folder FullData/OdomNoise/45/auto_sending_goals_2021-06-30-11-27-47 already exists. Not creating.\n",
      "[INFO]  Data folder FullData/OdomNoise/13/auto_sending_goals_2021-06-29-11-44-47 already exists. Not creating.\n",
      "[INFO]  Data folder FullData/OdomNoise/31/auto_sending_goals_2021-06-30-10-56-09 already exists. Not creating.\n",
      "[INFO]  Data folder FullData/OdomNoise/38/auto_sending_goals_2021-06-30-11-11-58 already exists. Not creating.\n",
      "[INFO]  Data folder FullData/OdomNoise/22/auto_sending_goals_2021-06-29-12-05-07 already exists. Not creating.\n",
      "[INFO]  Data folder FullData/OdomNoise/58/auto_sending_goals_2021-06-30-11-55-02 already exists. Not creating.\n",
      "[INFO]  Data folder FullData/OdomNoise/4/auto_sending_goals_2021-06-29-11-25-36 already exists. Not creating.\n",
      "[INFO]  Data folder FullData/OdomNoise/48/auto_sending_goals_2021-06-30-11-34-23 already exists. Not creating.\n",
      "[INFO]  Data folder FullData/OdomNoise/39/auto_sending_goals_2021-06-30-11-14-14 already exists. Not creating.\n",
      "[INFO]  Data folder FullData/OdomNoise/30/auto_sending_goals_2021-06-29-12-23-11 already exists. Not creating.\n",
      "[INFO]  Data folder FullData/OdomNoise/10/auto_sending_goals_2021-06-29-11-39-10 already exists. Not creating.\n",
      "[INFO]  Data folder FullData/ScanNoise/49/auto_sending_goals_2021-06-30-12-37-04 already exists. Not creating.\n",
      "[INFO]  Data folder FullData/ScanNoise/28/auto_sending_goals_2021-06-29-13-16-52 already exists. Not creating.\n",
      "[INFO]  Data folder FullData/ScanNoise/11/auto_sending_goals_2021-06-29-12-38-27 already exists. Not creating.\n",
      "[INFO]  Data folder FullData/ScanNoise/43/auto_sending_goals_2021-06-30-12-23-31 already exists. Not creating.\n",
      "[INFO]  Data folder FullData/ScanNoise/51/auto_sending_goals_2021-06-30-12-41-36 already exists. Not creating.\n",
      "[INFO]  Data folder FullData/ScanNoise/29/auto_sending_goals_2021-06-29-13-19-08 already exists. Not creating.\n",
      "[INFO]  Data folder FullData/ScanNoise/59/auto_sending_goals_2021-06-30-12-59-40 already exists. Not creating.\n",
      "[INFO]  Data folder FullData/ScanNoise/18/auto_sending_goals_2021-06-29-12-54-16 already exists. Not creating.\n",
      "[INFO]  Data folder FullData/ScanNoise/41/auto_sending_goals_2021-06-30-12-18-59 already exists. Not creating.\n",
      "[INFO]  Data folder FullData/ScanNoise/40/auto_sending_goals_2021-06-30-12-18-36 already exists. Not creating.\n",
      "[INFO]  Data folder FullData/ScanNoise/54/auto_sending_goals_2021-06-30-12-48-22 already exists. Not creating.\n",
      "[INFO]  Data folder FullData/ScanNoise/46/auto_sending_goals_2021-06-30-12-30-17 already exists. Not creating.\n",
      "[INFO]  Data folder FullData/ScanNoise/44/auto_sending_goals_2021-06-30-12-25-46 already exists. Not creating.\n",
      "[INFO]  Data folder FullData/ScanNoise/57/auto_sending_goals_2021-06-30-12-55-09 already exists. Not creating.\n",
      "[INFO]  Data folder FullData/ScanNoise/20/auto_sending_goals_2021-06-29-12-58-47 already exists. Not creating.\n",
      "[INFO]  Data folder FullData/ScanNoise/27/auto_sending_goals_2021-06-29-13-14-36 already exists. Not creating.\n",
      "[INFO]  Data folder FullData/ScanNoise/24/auto_sending_goals_2021-06-29-13-07-50 already exists. Not creating.\n",
      "[INFO]  Data folder FullData/ScanNoise/52/auto_sending_goals_2021-06-30-12-43-51 already exists. Not creating.\n",
      "[INFO]  Data folder FullData/ScanNoise/42/auto_sending_goals_2021-06-30-12-21-15 already exists. Not creating.\n",
      "[INFO]  Data folder FullData/ScanNoise/34/auto_sending_goals_2021-06-30-12-08-41 already exists. Not creating.\n",
      "[INFO]  Data folder FullData/ScanNoise/17/auto_sending_goals_2021-06-29-12-52-01 already exists. Not creating.\n",
      "[INFO]  Data folder FullData/ScanNoise/9/auto_sending_goals_2021-06-29-12-37-37 already exists. Not creating.\n",
      "[INFO]  Data folder FullData/ScanNoise/35/auto_sending_goals_2021-06-30-12-10-57 already exists. Not creating.\n",
      "[INFO]  Data folder FullData/ScanNoise/26/auto_sending_goals_2021-06-29-13-12-21 already exists. Not creating.\n",
      "[INFO]  Data folder FullData/ScanNoise/21/auto_sending_goals_2021-06-29-13-01-03 already exists. Not creating.\n",
      "[INFO]  Data folder FullData/ScanNoise/50/auto_sending_goals_2021-06-30-12-39-20 already exists. Not creating.\n",
      "[INFO]  Data folder FullData/ScanNoise/23/auto_sending_goals_2021-06-29-13-05-34 already exists. Not creating.\n",
      "[INFO]  Data folder FullData/ScanNoise/2/auto_sending_goals_2021-06-29-12-27-07 already exists. Not creating.\n",
      "[INFO]  Data folder FullData/ScanNoise/6/auto_sending_goals_2021-06-29-12-34-17 already exists. Not creating.\n",
      "[INFO]  Data folder FullData/ScanNoise/60/auto_sending_goals_2021-06-30-13-01-56 already exists. Not creating.\n",
      "[INFO]  Data folder FullData/ScanNoise/3/auto_sending_goals_2021-06-29-12-27-31 already exists. Not creating.\n",
      "[INFO]  Data folder FullData/ScanNoise/15/auto_sending_goals_2021-06-29-12-47-30 already exists. Not creating.\n",
      "[INFO]  Data folder FullData/ScanNoise/37/auto_sending_goals_2021-06-30-12-15-28 already exists. Not creating.\n",
      "[INFO]  Data folder FullData/ScanNoise/19/auto_sending_goals_2021-06-29-12-56-32 already exists. Not creating.\n",
      "[INFO]  Data folder FullData/ScanNoise/8/auto_sending_goals_2021-06-29-12-37-10 already exists. Not creating.\n",
      "[INFO]  Data folder FullData/ScanNoise/7/auto_sending_goals_2021-06-29-12-34-54 already exists. Not creating.\n",
      "[INFO]  Data folder FullData/ScanNoise/5/auto_sending_goals_2021-06-29-12-32-02 already exists. Not creating.\n",
      "[INFO]  Data folder FullData/ScanNoise/14/auto_sending_goals_2021-06-29-12-45-14 already exists. Not creating.\n",
      "[INFO]  Data folder FullData/ScanNoise/53/auto_sending_goals_2021-06-30-12-46-07 already exists. Not creating.\n",
      "[INFO]  Data folder FullData/ScanNoise/16/auto_sending_goals_2021-06-29-12-49-45 already exists. Not creating.\n",
      "[INFO]  Data folder FullData/ScanNoise/56/auto_sending_goals_2021-06-30-12-52-53 already exists. Not creating.\n",
      "[INFO]  Data folder FullData/ScanNoise/1/auto_sending_goals_2021-06-29-12-26-29 already exists. Not creating.\n",
      "[INFO]  Data folder FullData/ScanNoise/55/auto_sending_goals_2021-06-30-12-50-38 already exists. Not creating.\n",
      "[INFO]  Data folder FullData/ScanNoise/36/auto_sending_goals_2021-06-30-12-13-12 already exists. Not creating.\n",
      "[INFO]  Data folder FullData/ScanNoise/47/auto_sending_goals_2021-06-30-12-32-33 already exists. Not creating.\n",
      "[INFO]  Data folder FullData/ScanNoise/12/auto_sending_goals_2021-06-29-12-40-43 already exists. Not creating.\n",
      "[INFO]  Data folder FullData/ScanNoise/33/auto_sending_goals_2021-06-30-12-06-26 already exists. Not creating.\n",
      "[INFO]  Data folder FullData/ScanNoise/25/auto_sending_goals_2021-06-29-13-10-05 already exists. Not creating.\n",
      "[INFO]  Data folder FullData/ScanNoise/32/auto_sending_goals_2021-06-30-12-06-02 already exists. Not creating.\n",
      "[INFO]  Data folder FullData/ScanNoise/45/auto_sending_goals_2021-06-30-12-28-02 already exists. Not creating.\n",
      "[INFO]  Data folder FullData/ScanNoise/13/auto_sending_goals_2021-06-29-12-42-58 already exists. Not creating.\n",
      "[INFO]  Data folder FullData/ScanNoise/31/auto_sending_goals_2021-06-30-12-05-22 already exists. Not creating.\n",
      "[INFO]  Data folder FullData/ScanNoise/38/auto_sending_goals_2021-06-30-12-17-43 already exists. Not creating.\n",
      "[INFO]  Data folder FullData/ScanNoise/22/auto_sending_goals_2021-06-29-13-03-18 already exists. Not creating.\n",
      "[INFO]  Data folder FullData/ScanNoise/58/auto_sending_goals_2021-06-30-12-57-25 already exists. Not creating.\n",
      "[INFO]  Data folder FullData/ScanNoise/4/auto_sending_goals_2021-06-29-12-29-46 already exists. Not creating.\n",
      "[INFO]  Data folder FullData/ScanNoise/48/auto_sending_goals_2021-06-30-12-34-49 already exists. Not creating.\n",
      "[INFO]  Data folder FullData/ScanNoise/39/auto_sending_goals_2021-06-30-12-18-10 already exists. Not creating.\n",
      "[INFO]  Data folder FullData/ScanNoise/30/auto_sending_goals_2021-06-29-13-21-23 already exists. Not creating.\n",
      "[INFO]  Data folder FullData/ScanNoise/10/auto_sending_goals_2021-06-29-12-38-02 already exists. Not creating.\n"
     ]
    }
   ],
   "source": [
    "from cnn import Turtlebot_CNN\n",
    "from lstm import Turtlebot_LSTM\n",
    "from read_data import make_dataset,split_data\n",
    "import tensorflow as tf\n",
    "import matplotlib.pyplot as plt\n",
    "import math\n",
    "from inception import Inception\n",
    "\n",
    "batch_size=10\n",
    "num_epochs=1\n",
    "\n",
    "ds,l=make_dataset(path='FullData/')\n"
   ]
  },
  {
   "cell_type": "code",
   "execution_count": 2,
   "metadata": {},
   "outputs": [],
   "source": [
    "train,test,validation=split_data(ds,l,batch_train=batch_size,prop_train_val=0.8,prop_train=0.8)"
   ]
  },
  {
   "cell_type": "code",
   "execution_count": 3,
   "metadata": {
    "tags": [
     "outputPrepend"
    ]
   },
   "outputs": [
    {
     "name": "stdout",
     "output_type": "stream",
     "text": [
      "WARNING:tensorflow:Gradients do not exist for variables ['inception/inception_block/conv1d/kernel:0', 'inception/inception_block/conv1d_1/kernel:0', 'inception/inception_block/conv1d_2/kernel:0', 'inception/inception_block/conv1d_3/kernel:0', 'inception/inception_block/conv1d_4/kernel:0', 'inception/inception_block/batch_normalization/gamma:0', 'inception/inception_block/batch_normalization/beta:0', 'inception/inception_block_1/conv1d_5/kernel:0', 'inception/inception_block_1/conv1d_6/kernel:0', 'inception/inception_block_1/conv1d_7/kernel:0', 'inception/inception_block_1/conv1d_8/kernel:0', 'inception/inception_block_1/conv1d_9/kernel:0', 'inception/inception_block_1/batch_normalization_1/gamma:0', 'inception/inception_block_1/batch_normalization_1/beta:0', 'inception/inception_block_3/conv1d_15/kernel:0', 'inception/inception_block_3/conv1d_16/kernel:0', 'inception/inception_block_3/conv1d_17/kernel:0', 'inception/inception_block_3/conv1d_18/kernel:0', 'inception/inception_block_3/conv1d_19/kernel:0', 'inception/inception_block_3/batch_normalization_3/gamma:0', 'inception/inception_block_3/batch_normalization_3/beta:0', 'inception/inception_block_4/conv1d_20/kernel:0', 'inception/inception_block_4/conv1d_21/kernel:0', 'inception/inception_block_4/conv1d_22/kernel:0', 'inception/inception_block_4/conv1d_23/kernel:0', 'inception/inception_block_4/conv1d_24/kernel:0', 'inception/inception_block_4/batch_normalization_4/gamma:0', 'inception/inception_block_4/batch_normalization_4/beta:0', 'inception/inception_block_6/conv1d_30/kernel:0', 'inception/inception_block_6/conv1d_31/kernel:0', 'inception/inception_block_6/conv1d_32/kernel:0', 'inception/inception_block_6/conv1d_33/kernel:0', 'inception/inception_block_6/conv1d_34/kernel:0', 'inception/inception_block_6/batch_normalization_6/gamma:0', 'inception/inception_block_6/batch_normalization_6/beta:0', 'inception/inception_block_7/conv1d_35/kernel:0', 'inception/inception_block_7/conv1d_36/kernel:0', 'inception/inception_block_7/conv1d_37/kernel:0', 'inception/inception_block_7/conv1d_38/kernel:0', 'inception/inception_block_7/conv1d_39/kernel:0', 'inception/inception_block_7/batch_normalization_7/gamma:0', 'inception/inception_block_7/batch_normalization_7/beta:0', 'inception/inception_block_9/conv1d_45/kernel:0', 'inception/inception_block_9/conv1d_46/kernel:0', 'inception/inception_block_9/conv1d_47/kernel:0', 'inception/inception_block_9/conv1d_48/kernel:0', 'inception/inception_block_9/conv1d_49/kernel:0', 'inception/inception_block_9/batch_normalization_9/gamma:0', 'inception/inception_block_9/batch_normalization_9/beta:0', 'inception/inception_block_10/conv1d_50/kernel:0', 'inception/inception_block_10/conv1d_51/kernel:0', 'inception/inception_block_10/conv1d_52/kernel:0', 'inception/inception_block_10/conv1d_53/kernel:0', 'inception/inception_block_10/conv1d_54/kernel:0', 'inception/inception_block_10/batch_normalization_10/gamma:0', 'inception/inception_block_10/batch_normalization_10/beta:0'] when minimizing the loss.\n",
      "WARNING:tensorflow:Gradients do not exist for variables ['inception/inception_block/conv1d/kernel:0', 'inception/inception_block/conv1d_1/kernel:0', 'inception/inception_block/conv1d_2/kernel:0', 'inception/inception_block/conv1d_3/kernel:0', 'inception/inception_block/conv1d_4/kernel:0', 'inception/inception_block/batch_normalization/gamma:0', 'inception/inception_block/batch_normalization/beta:0', 'inception/inception_block_1/conv1d_5/kernel:0', 'inception/inception_block_1/conv1d_6/kernel:0', 'inception/inception_block_1/conv1d_7/kernel:0', 'inception/inception_block_1/conv1d_8/kernel:0', 'inception/inception_block_1/conv1d_9/kernel:0', 'inception/inception_block_1/batch_normalization_1/gamma:0', 'inception/inception_block_1/batch_normalization_1/beta:0', 'inception/inception_block_3/conv1d_15/kernel:0', 'inception/inception_block_3/conv1d_16/kernel:0', 'inception/inception_block_3/conv1d_17/kernel:0', 'inception/inception_block_3/conv1d_18/kernel:0', 'inception/inception_block_3/conv1d_19/kernel:0', 'inception/inception_block_3/batch_normalization_3/gamma:0', 'inception/inception_block_3/batch_normalization_3/beta:0', 'inception/inception_block_4/conv1d_20/kernel:0', 'inception/inception_block_4/conv1d_21/kernel:0', 'inception/inception_block_4/conv1d_22/kernel:0', 'inception/inception_block_4/conv1d_23/kernel:0', 'inception/inception_block_4/conv1d_24/kernel:0', 'inception/inception_block_4/batch_normalization_4/gamma:0', 'inception/inception_block_4/batch_normalization_4/beta:0', 'inception/inception_block_6/conv1d_30/kernel:0', 'inception/inception_block_6/conv1d_31/kernel:0', 'inception/inception_block_6/conv1d_32/kernel:0', 'inception/inception_block_6/conv1d_33/kernel:0', 'inception/inception_block_6/conv1d_34/kernel:0', 'inception/inception_block_6/batch_normalization_6/gamma:0', 'inception/inception_block_6/batch_normalization_6/beta:0', 'inception/inception_block_7/conv1d_35/kernel:0', 'inception/inception_block_7/conv1d_36/kernel:0', 'inception/inception_block_7/conv1d_37/kernel:0', 'inception/inception_block_7/conv1d_38/kernel:0', 'inception/inception_block_7/conv1d_39/kernel:0', 'inception/inception_block_7/batch_normalization_7/gamma:0', 'inception/inception_block_7/batch_normalization_7/beta:0', 'inception/inception_block_9/conv1d_45/kernel:0', 'inception/inception_block_9/conv1d_46/kernel:0', 'inception/inception_block_9/conv1d_47/kernel:0', 'inception/inception_block_9/conv1d_48/kernel:0', 'inception/inception_block_9/conv1d_49/kernel:0', 'inception/inception_block_9/batch_normalization_9/gamma:0', 'inception/inception_block_9/batch_normalization_9/beta:0', 'inception/inception_block_10/conv1d_50/kernel:0', 'inception/inception_block_10/conv1d_51/kernel:0', 'inception/inception_block_10/conv1d_52/kernel:0', 'inception/inception_block_10/conv1d_53/kernel:0', 'inception/inception_block_10/conv1d_54/kernel:0', 'inception/inception_block_10/batch_normalization_10/gamma:0', 'inception/inception_block_10/batch_normalization_10/beta:0'] when minimizing the loss.\n",
      "12/12 [==============================] - 11s 709ms/step - loss: 1.0514 - categorical_accuracy: 0.5043 - val_loss: 1.0220 - val_categorical_accuracy: 0.5304\n"
     ]
    }
   ],
   "source": [
    "inc=Inception()\n",
    "cb_list_inc=[tf.keras.callbacks.ModelCheckpoint('inc_model/checkpoint_inc_batch{}_epochs{}.h5'.format(batch_size,num_epochs),monitor='val_loss',save_best_only=True,save_weights_only=True)]#tf.keras.callbacks.EarlyStopping(monitor='val_loss',patience=50),\n",
    "inc.compile(optimizer='adam',loss='categorical_crossentropy',metrics=[tf.keras.metrics.CategoricalAccuracy()])\n",
    "hist_inc=inc.fit(train,epochs=num_epochs,callbacks=cb_list_inc,verbose=1,validation_data=validation)"
   ]
  },
  {
   "cell_type": "code",
   "execution_count": 4,
   "metadata": {},
   "outputs": [
    {
     "data": {
      "image/png": "[encoded data removed]",
      "text/plain": [
       "<Figure size 432x288 with 1 Axes>"
      ]
     },
     "metadata": {
      "needs_background": "light"
     },
     "output_type": "display_data"
    },
    {
     "name": "stdout",
     "output_type": "stream",
     "text": [
      "29/29 [==============================] - 0s 7ms/step - loss: 1.0351 - categorical_accuracy: 0.5517\n"
     ]
    },
    {
     "data": {
      "text/plain": [
       "[1.0350993871688843, 0.5517241358757019]"
      ]
     },
     "execution_count": 4,
     "metadata": {},
     "output_type": "execute_result"
    }
   ],
   "source": [
    "inc.load_weights('inc_model/checkpoint_inc_batch{}_epochs{}.h5'.format(batch_size,num_epochs))\n",
    "plt.figure()\n",
    "plt.plot(hist_inc.history['loss'],label='Training Loss')\n",
    "plt.plot(hist_inc.history['val_loss'],label='Validation Loss')\n",
    "plt.plot(hist_inc.history['categorical_accuracy'],label='Training Accuracy')\n",
    "plt.plot(hist_inc.history['val_categorical_accuracy'],label='Validation Accuracy')\n",
    "plt.legend()\n",
    "plt.ylim(-0.05,1.05)\n",
    "plt.show()\n",
    "inc.evaluate(test)"
   ]
  },
  {
   "cell_type": "code",
   "execution_count": 5,
   "metadata": {
    "tags": []
   },
   "outputs": [
    {
     "name": "stdout",
     "output_type": "stream",
     "text": [
      "12/12 [==============================] - 11s 844ms/step - loss: 1.0827 - categorical_accuracy: 0.4435 - val_loss: 1.0491 - val_categorical_accuracy: 0.4783\n"
     ]
    }
   ],
   "source": [
    "\n",
    "lstm=Turtlebot_LSTM()\n",
    "cb_list_lstm=[tf.keras.callbacks.ModelCheckpoint('lstm_model/checkpoint_lstm_batch{}_epochs{}.h5'.format(batch_size,num_epochs),monitor='val_loss',save_best_only=True,save_weights_only=True)]#tf.keras.callbacks.EarlyStopping(monitor='val_loss',patience=50),\n",
    "lstm.compile(optimizer='adam',loss='categorical_crossentropy',metrics=[tf.keras.metrics.CategoricalAccuracy()])\n",
    "hist_lstm=lstm.fit(train,epochs=1,callbacks=cb_list_lstm,verbose=1,validation_data=validation)"
   ]
  },
  {
   "cell_type": "code",
   "execution_count": 6,
   "metadata": {},
   "outputs": [
    {
     "data": {
      "image/png": "[encoded data removed]",
      "text/plain": [
       "<Figure size 432x288 with 1 Axes>"
      ]
     },
     "metadata": {
      "needs_background": "light"
     },
     "output_type": "display_data"
    },
    {
     "name": "stdout",
     "output_type": "stream",
     "text": [
      "29/29 [==============================] - 3s 111ms/step - loss: 0.1257 - categorical_accuracy: 0.9310\n"
     ]
    },
    {
     "data": {
      "text/plain": [
       "[0.12567266821861267, 0.931034505367279]"
      ]
     },
     "execution_count": 6,
     "metadata": {},
     "output_type": "execute_result"
    }
   ],
   "source": [
    "lstm.load_weights('lstm_model/checkpoint_lstm_best.h5'.format(batch_size,num_epochs))\n",
    "plt.figure()\n",
    "plt.plot(hist_lstm.history['loss'],label='Training Loss')\n",
    "plt.plot(hist_lstm.history['val_loss'],label='Validation Loss')\n",
    "plt.plot(hist_lstm.history['categorical_accuracy'],label='Training Accuracy')\n",
    "plt.plot(hist_lstm.history['val_categorical_accuracy'],label='Validation Accuracy')\n",
    "plt.legend()\n",
    "plt.ylim(-0.05,1.05)\n",
    "plt.show()\n",
    "lstm.evaluate(test)"
   ]
  },
  {
   "cell_type": "code",
   "execution_count": 7,
   "metadata": {
    "tags": []
   },
   "outputs": [
    {
     "name": "stdout",
     "output_type": "stream",
     "text": [
      "12/12 [==============================] - 2s 101ms/step - loss: 1.0308 - categorical_accuracy: 0.4348 - val_loss: 0.9720 - val_categorical_accuracy: 0.4957\n",
      "Model: \"turtlebot_cnn\"\n",
      "_________________________________________________________________\n",
      "Layer (type)                 Output Shape              Param #   \n",
      "=================================================================\n",
      "conv1d_64 (Conv1D)           multiple                  8320      \n",
      "_________________________________________________________________\n",
      "conv1d_65 (Conv1D)           multiple                  230400    \n",
      "_________________________________________________________________\n",
      "conv1d_66 (Conv1D)           multiple                  20480     \n",
      "_________________________________________________________________\n",
      "conv1d_67 (Conv1D)           multiple                  20480     \n",
      "_________________________________________________________________\n",
      "global_average_pooling1d_2 ( multiple                  0         \n",
      "_________________________________________________________________\n",
      "global_average_pooling1d_3 ( multiple                  0         \n",
      "_________________________________________________________________\n",
      "concatenate_14 (Concatenate) multiple                  0         \n",
      "_________________________________________________________________\n",
      "dense_6 (Dense)              multiple                  4160      \n",
      "_________________________________________________________________\n",
      "dense_7 (Dense)              multiple                  8320      \n",
      "_________________________________________________________________\n",
      "dense_8 (Dense)              multiple                  387       \n",
      "=================================================================\n",
      "Total params: 292,547\n",
      "Trainable params: 292,547\n",
      "Non-trainable params: 0\n",
      "_________________________________________________________________\n"
     ]
    }
   ],
   "source": [
    "cnn=Turtlebot_CNN()\n",
    "cb_list_cnn=[tf.keras.callbacks.ModelCheckpoint('cnn_model/checkpoint_cnn_batch{}_epochs{}.h5'.format(batch_size,num_epochs),monitor='val_loss',save_best_only=True,save_weights_only=True)]#,tf.keras.callbacks.EarlyStopping(monitor='val_loss',patience=50)]\n",
    "cnn.compile(optimizer='adam',loss='categorical_crossentropy',metrics=[tf.keras.metrics.CategoricalAccuracy()])\n",
    "hist_cnn=cnn.fit(train,epochs=1,callbacks=cb_list_cnn,verbose=1,validation_data=validation)\n",
    "cnn.summary()"
   ]
  },
  {
   "cell_type": "code",
   "execution_count": 8,
   "metadata": {},
   "outputs": [
    {
     "data": {
      "image/png": "[encoded data removed]",
      "text/plain": [
       "<Figure size 432x288 with 1 Axes>"
      ]
     },
     "metadata": {
      "needs_background": "light"
     },
     "output_type": "display_data"
    },
    {
     "name": "stdout",
     "output_type": "stream",
     "text": [
      "29/29 [==============================] - 0s 3ms/step - loss: 0.9628 - categorical_accuracy: 0.4828\n"
     ]
    },
    {
     "data": {
      "text/plain": [
       "[0.9627757668495178, 0.48275861144065857]"
      ]
     },
     "execution_count": 8,
     "metadata": {},
     "output_type": "execute_result"
    }
   ],
   "source": [
    "cnn.load_weights('cnn_model/checkpoint_cnn_batch{}_epochs{}.h5'.format(batch_size,num_epochs))\n",
    "\n",
    "plt.figure()\n",
    "plt.plot(hist_cnn.history['loss'],label='Training Loss')\n",
    "plt.plot(hist_cnn.history['val_loss'],label='Validation Loss')\n",
    "plt.plot(hist_cnn.history['categorical_accuracy'],label='Training Accuracy')\n",
    "plt.plot(hist_cnn.history['val_categorical_accuracy'],label='Validation Accuracy')\n",
    "plt.legend()\n",
    "plt.ylim(-0.05,1.05)\n",
    "plt.show()\n",
    "cnn.evaluate(test)"
   ]
  },
  {
   "cell_type": "code",
   "execution_count": 9,
   "metadata": {},
   "outputs": [
    {
     "data": {
      "text/plain": [
       "array([[2.0624520e-03, 5.0602873e-18, 9.9793756e-01],\n",
       "       [4.8924698e-11, 9.9999535e-01, 4.6694277e-06],\n",
       "       [4.7347751e-01, 2.2617690e-04, 5.2629626e-01],\n",
       "       [1.1269168e-12, 9.9999988e-01, 6.6302668e-08],\n",
       "       [5.8571535e-01, 1.8212825e-04, 4.1410258e-01],\n",
       "       [1.5986145e-05, 3.6713347e-05, 9.9994731e-01],\n",
       "       [5.2824050e-01, 5.9137784e-04, 4.7116816e-01],\n",
       "       [5.7301223e-01, 2.7809152e-03, 4.2420682e-01],\n",
       "       [4.7094816e-01, 2.8822834e-03, 5.2616960e-01],\n",
       "       [2.8906055e-04, 9.9864560e-01, 1.0654123e-03],\n",
       "       [2.1215870e-05, 2.3338927e-05, 9.9995542e-01],\n",
       "       [8.9948000e-05, 6.5262420e-11, 9.9991000e-01],\n",
       "       [1.2243039e-03, 9.9592364e-01, 2.8521132e-03],\n",
       "       [2.7680034e-03, 5.2602790e-08, 9.9723190e-01],\n",
       "       [3.8800989e-09, 9.9999976e-01, 1.8076052e-07],\n",
       "       [9.8904335e-01, 6.8231129e-05, 1.0888320e-02],\n",
       "       [9.9207896e-01, 6.9409092e-05, 7.8516351e-03],\n",
       "       [6.5180403e-01, 6.4264052e-09, 3.4819594e-01],\n",
       "       [1.1270672e-12, 9.9999988e-01, 6.6318734e-08],\n",
       "       [9.6889311e-01, 1.0186365e-04, 3.1004952e-02],\n",
       "       [1.9138579e-06, 9.9999809e-01, 8.4156238e-09],\n",
       "       [1.9077172e-05, 9.9925405e-01, 7.2681397e-04],\n",
       "       [6.9446774e-04, 9.9803239e-01, 1.2731345e-03],\n",
       "       [9.5349610e-01, 7.0452541e-03, 3.9458625e-02],\n",
       "       [1.5986145e-05, 3.6713383e-05, 9.9994731e-01],\n",
       "       [6.1084932e-01, 9.7578435e-05, 3.8905311e-01],\n",
       "       [9.7137445e-01, 4.0464844e-03, 2.4579054e-02],\n",
       "       [7.9270214e-04, 5.0033780e-04, 9.9870694e-01],\n",
       "       [1.5986128e-05, 3.6713383e-05, 9.9994731e-01]], dtype=float32)"
      ]
     },
     "execution_count": 9,
     "metadata": {},
     "output_type": "execute_result"
    }
   ],
   "source": [
    "lstm.predict(test)"
   ]
  },
  {
   "cell_type": "code",
   "execution_count": null,
   "metadata": {},
   "outputs": [],
   "source": []
  }
 ],
 "metadata": {
  "interpreter": {
   "hash": "31f2aee4e71d21fbe5cf8b01ff0e069b9275f58929596ceb00d14d90e3e16cd6"
  },
  "kernelspec": {
   "display_name": "Python 3.7.5 64-bit",
   "name": "python3"
  },
  "language_info": {
   "codemirror_mode": {
    "name": "ipython",
    "version": 3
   },
   "file_extension": ".py",
   "mimetype": "text/x-python",
   "name": "python",
   "nbconvert_exporter": "python",
   "pygments_lexer": "ipython3",
   "version": "3.7.5"
  },
  "orig_nbformat": 4
 },
 "nbformat": 4,
 "nbformat_minor": 2
}