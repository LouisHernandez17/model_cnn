{
 "cells": [
  {
   "cell_type": "code",
   "execution_count": null,
   "metadata": {
    "tags": [
     "outputPrepend"
    ]
   },
   "outputs": [],
   "source": [
    "from cnn import Turtlebot_CNN\n",
    "from lstm import Turtlebot_LSTM\n",
    "from read_data import make_dataset,split_data\n",
    "import tensorflow as tf\n",
    "import matplotlib.pyplot as plt\n",
    "import math\n",
    "from inception import Inception\n",
    "\n",
    "batch_size=10\n",
    "num_epochs=5000\n",
    "\n",
    "ds,l=make_dataset(path='FullData/')\n"
   ]
  },
  {
   "cell_type": "code",
   "execution_count": null,
   "metadata": {},
   "outputs": [],
   "source": [
    "train,test,validation=split_data(ds,l,batch_train=batch_size,prop_train_val=0.8,prop_train=0.8)"
   ]
  },
  {
   "cell_type": "code",
   "execution_count": null,
   "metadata": {},
   "outputs": [],
   "source": [
    "inc=Inception()\n",
    "cb_list_inc=[tf.keras.callbacks.ModelCheckpoint('inc_model/checkpoint_inc_batch{}_epochs{}.h5'.format(batch_size,num_epochs),monitor='val_loss',save_best_only=True,save_weights_only=True)]#tf.keras.callbacks.EarlyStopping(monitor='val_loss',patience=50),\n",
    "inc.compile(optimizer='adam',loss='categorical_crossentropy',metrics=[tf.keras.metrics.CategoricalAccuracy()])\n",
    "hist_inc=inc.fit(train,epochs=num_epochs,callbacks=cb_list_inc,verbose=1,validation_data=validation)"
   ]
  },
  {
   "cell_type": "code",
   "execution_count": null,
   "metadata": {},
   "outputs": [],
   "source": [
    "inc.load_weights('inc_model/checkpoint_inc_batch{}_epochs{}.h5'.format(batch_size,num_epochs))\n",
    "plt.figure()\n",
    "plt.plot(hist_inc.history['loss'],label='Training Loss')\n",
    "plt.plot(hist_inc.history['val_loss'],label='Validation Loss')\n",
    "plt.plot(hist_inc.history['categorical_accuracy'],label='Training Accuracy')\n",
    "plt.plot(hist_inc.history['val_categorical_accuracy'],label='Validation Accuracy')\n",
    "plt.legend()\n",
    "plt.ylim(-0.05,1.05)\n",
    "plt.show()\n",
    "inc.evaluate(test)"
   ]
  },
  {
   "cell_type": "code",
   "execution_count": null,
   "metadata": {
    "tags": []
   },
   "outputs": [],
   "source": [
    "\n",
    "lstm=Turtlebot_LSTM()\n",
    "cb_list_lstm=[tf.keras.callbacks.ModelCheckpoint('lstm_model/checkpoint_lstm_batch{}_epochs{}.h5'.format(batch_size,num_epochs),monitor='val_loss',save_best_only=True,save_weights_only=True)]#tf.keras.callbacks.EarlyStopping(monitor='val_loss',patience=50),\n",
    "lstm.compile(optimizer='adam',loss='categorical_crossentropy',metrics=[tf.keras.metrics.CategoricalAccuracy()])\n",
    "hist_lstm=lstm.fit(train,epochs=500,callbacks=cb_list_lstm,verbose=1,validation_data=validation)"
   ]
  },
  {
   "cell_type": "code",
   "execution_count": null,
   "metadata": {},
   "outputs": [],
   "source": [
    "lstm.load_weights('lstm_model/checkpoint_lstm_batch{}_epochs{}.h5'.format(batch_size,num_epochs))\n",
    "plt.figure()\n",
    "plt.plot(hist_lstm.history['loss'],label='Training Loss')\n",
    "plt.plot(hist_lstm.history['val_loss'],label='Validation Loss')\n",
    "plt.plot(hist_lstm.history['categorical_accuracy'],label='Training Accuracy')\n",
    "plt.plot(hist_lstm.history['val_categorical_accuracy'],label='Validation Accuracy')\n",
    "plt.legend()\n",
    "plt.ylim(-0.05,1.05)\n",
    "plt.show()\n",
    "lstm.evaluate(test)"
   ]
  },
  {
   "cell_type": "code",
   "execution_count": null,
   "metadata": {
    "tags": []
   },
   "outputs": [],
   "source": [
    "cnn=Turtlebot_CNN()\n",
    "cb_list_cnn=[tf.keras.callbacks.ModelCheckpoint('cnn_model/checkpoint_cnn_batch{}_epochs{}.h5'.format(batch_size,num_epochs),monitor='val_loss',save_best_only=True,save_weights_only=True)]#,tf.keras.callbacks.EarlyStopping(monitor='val_loss',patience=50)]\n",
    "cnn.compile(optimizer='adam',loss='categorical_crossentropy',metrics=[tf.keras.metrics.CategoricalAccuracy()])\n",
    "hist_cnn=cnn.fit(train,epochs=1,callbacks=cb_list_cnn,verbose=1,validation_data=validation)\n",
    "cnn.summary()"
   ]
  },
  {
   "cell_type": "code",
   "execution_count": null,
   "metadata": {},
   "outputs": [],
   "source": [
    "cnn.load_weights('cnn_model/checkpoint_cnn_batch{}_epochs{}.h5'.format(batch_size,num_epochs))\n",
    "\n",
    "plt.figure()\n",
    "plt.plot(hist_cnn.history['loss'],label='Training Loss')\n",
    "plt.plot(hist_cnn.history['val_loss'],label='Validation Loss')\n",
    "plt.plot(hist_cnn.history['categorical_accuracy'],label='Training Accuracy')\n",
    "plt.plot(hist_cnn.history['val_categorical_accuracy'],label='Validation Accuracy')\n",
    "plt.legend()\n",
    "plt.ylim(-0.05,1.05)\n",
    "plt.show()\n",
    "cnn.evaluate(test)"
   ]
  }
 ],
 "metadata": {
  "interpreter": {
   "hash": "31f2aee4e71d21fbe5cf8b01ff0e069b9275f58929596ceb00d14d90e3e16cd6"
  },
  "kernelspec": {
   "display_name": "Python 3.8.10 64-bit",
   "name": "python3"
  },
  "language_info": {
   "name": "python",
   "version": ""
  },
  "orig_nbformat": 4
 },
 "nbformat": 4,
 "nbformat_minor": 2
}