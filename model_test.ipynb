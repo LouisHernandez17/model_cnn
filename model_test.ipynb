{
 "cells": [
  {
   "cell_type": "markdown",
   "metadata": {},
   "source": [
    "# Demonstration of the CNN used for time series classification\n",
    "\n",
    "## Data preparation\n",
    "\n",
    "In order to feed data to our model, we need to turn it into a keras sequence. This way it is fed to the network as batches of 1 sample each time, and there is no issue with the fact the time series have a different size. The whole preparation is done in the data_preparation function. The data are also shuffled."
   ]
  },
  {
   "cell_type": "code",
   "execution_count": 1,
   "metadata": {
    "tags": [
     "outputPrepend"
    ]
   },
   "outputs": [
    {
     "name": "stdout",
     "output_type": "stream",
     "text": [
      "[INFO]  Data folder /media/louis/TOSHIBA EXT/FullData/NoNoise/43/auto_sending_goals_2021-06-30-10-06-18 already exists. Not creating.\n",
      "[INFO]  Data folder /media/louis/TOSHIBA EXT/FullData/NoNoise/1/auto_sending_goals_2021-06-29-10-22-41 already exists. Not creating.\n",
      "[INFO]  Data folder /media/louis/TOSHIBA EXT/FullData/NoNoise/10/auto_sending_goals_2021-06-29-10-30-24 already exists. Not creating.\n",
      "[INFO]  Data folder /media/louis/TOSHIBA EXT/FullData/NoNoise/11/auto_sending_goals_2021-06-29-10-30-48 already exists. Not creating.\n",
      "[INFO]  Data folder /media/louis/TOSHIBA EXT/FullData/NoNoise/12/auto_sending_goals_2021-06-29-10-33-03 already exists. Not creating.\n",
      "[INFO]  Data folder /media/louis/TOSHIBA EXT/FullData/NoNoise/13/auto_sending_goals_2021-06-29-10-35-19 already exists. Not creating.\n",
      "[INFO]  Data folder /media/louis/TOSHIBA EXT/FullData/NoNoise/14/auto_sending_goals_2021-06-29-10-37-34 already exists. Not creating.\n",
      "[INFO]  Data folder /media/louis/TOSHIBA EXT/FullData/NoNoise/15/auto_sending_goals_2021-06-29-10-39-50 already exists. Not creating.\n",
      "[INFO]  Data folder /media/louis/TOSHIBA EXT/FullData/NoNoise/16/auto_sending_goals_2021-06-29-10-42-06 already exists. Not creating.\n",
      "[INFO]  Data folder /media/louis/TOSHIBA EXT/FullData/NoNoise/17/auto_sending_goals_2021-06-29-10-44-21 already exists. Not creating.\n",
      "[INFO]  Data folder /media/louis/TOSHIBA EXT/FullData/NoNoise/18/auto_sending_goals_2021-06-29-10-46-37 already exists. Not creating.\n",
      "[INFO]  Data folder /media/louis/TOSHIBA EXT/FullData/NoNoise/19/auto_sending_goals_2021-06-29-10-48-52 already exists. Not creating.\n",
      "[INFO]  Data folder /media/louis/TOSHIBA EXT/FullData/NoNoise/2/auto_sending_goals_2021-06-29-10-23-19 already exists. Not creating.\n",
      "[INFO]  Data folder /media/louis/TOSHIBA EXT/FullData/NoNoise/20/auto_sending_goals_2021-06-29-10-51-08 already exists. Not creating.\n",
      "[INFO]  Data folder /media/louis/TOSHIBA EXT/FullData/NoNoise/21/auto_sending_goals_2021-06-29-10-53-24 already exists. Not creating.\n",
      "[INFO]  Data folder /media/louis/TOSHIBA EXT/FullData/NoNoise/22/auto_sending_goals_2021-06-29-10-55-39 already exists. Not creating.\n",
      "[INFO]  Data folder /media/louis/TOSHIBA EXT/FullData/NoNoise/23/auto_sending_goals_2021-06-29-10-57-55 already exists. Not creating.\n",
      "[INFO]  Data folder /media/louis/TOSHIBA EXT/FullData/NoNoise/24/auto_sending_goals_2021-06-29-11-00-10 already exists. Not creating.\n",
      "[INFO]  Data folder /media/louis/TOSHIBA EXT/FullData/NoNoise/25/auto_sending_goals_2021-06-29-11-02-26 already exists. Not creating.\n",
      "[INFO]  Data folder /media/louis/TOSHIBA EXT/FullData/NoNoise/26/auto_sending_goals_2021-06-29-11-04-42 already exists. Not creating.\n",
      "[INFO]  Data folder /media/louis/TOSHIBA EXT/FullData/NoNoise/27/auto_sending_goals_2021-06-29-11-06-57 already exists. Not creating.\n",
      "[INFO]  Data folder /media/louis/TOSHIBA EXT/FullData/NoNoise/28/auto_sending_goals_2021-06-29-11-09-13 already exists. Not creating.\n",
      "[INFO]  Data folder /media/louis/TOSHIBA EXT/FullData/NoNoise/29/auto_sending_goals_2021-06-29-11-11-28 already exists. Not creating.\n",
      "[INFO]  Data folder /media/louis/TOSHIBA EXT/FullData/NoNoise/3/auto_sending_goals_2021-06-29-10-23-43 already exists. Not creating.\n",
      "[INFO]  Data folder /media/louis/TOSHIBA EXT/FullData/NoNoise/30/auto_sending_goals_2021-06-29-11-13-44 already exists. Not creating.\n",
      "[INFO]  Data folder /media/louis/TOSHIBA EXT/FullData/NoNoise/31/auto_sending_goals_2021-06-30-09-53-34 already exists. Not creating.\n",
      "[INFO]  Data folder /media/louis/TOSHIBA EXT/FullData/NoNoise/32/auto_sending_goals_2021-06-30-09-54-12 already exists. Not creating.\n",
      "[INFO]  Data folder /media/louis/TOSHIBA EXT/FullData/NoNoise/33/auto_sending_goals_2021-06-30-09-54-36 already exists. Not creating.\n",
      "[INFO]  Data folder /media/louis/TOSHIBA EXT/FullData/NoNoise/34/auto_sending_goals_2021-06-30-09-55-01 already exists. Not creating.\n",
      "[INFO]  Data folder /media/louis/TOSHIBA EXT/FullData/NoNoise/35/auto_sending_goals_2021-06-30-09-55-27 already exists. Not creating.\n",
      "[INFO]  Data folder /media/louis/TOSHIBA EXT/FullData/NoNoise/36/auto_sending_goals_2021-06-30-09-57-43 already exists. Not creating.\n",
      "[INFO]  Data folder /media/louis/TOSHIBA EXT/FullData/NoNoise/37/auto_sending_goals_2021-06-30-09-58-13 already exists. Not creating.\n",
      "[INFO]  Data folder /media/louis/TOSHIBA EXT/FullData/NoNoise/38/auto_sending_goals_2021-06-30-10-00-29 already exists. Not creating.\n",
      "[INFO]  Data folder /media/louis/TOSHIBA EXT/FullData/NoNoise/39/auto_sending_goals_2021-06-30-10-02-44 already exists. Not creating.\n",
      "[INFO]  Data folder /media/louis/TOSHIBA EXT/FullData/NoNoise/4/auto_sending_goals_2021-06-29-10-24-08 already exists. Not creating.\n",
      "[INFO]  Data folder /media/louis/TOSHIBA EXT/FullData/NoNoise/40/auto_sending_goals_2021-06-30-10-03-16 already exists. Not creating.\n",
      "[INFO]  Data folder /media/louis/TOSHIBA EXT/FullData/NoNoise/41/auto_sending_goals_2021-06-30-10-03-40 already exists. Not creating.\n",
      "[INFO]  Data folder /media/louis/TOSHIBA EXT/FullData/NoNoise/42/auto_sending_goals_2021-06-30-10-04-03 already exists. Not creating.\n",
      "[INFO]  Data folder /media/louis/TOSHIBA EXT/FullData/NoNoise/44/auto_sending_goals_2021-06-30-10-08-34 already exists. Not creating.\n",
      "[INFO]  Data folder /media/louis/TOSHIBA EXT/FullData/NoNoise/45/auto_sending_goals_2021-06-30-10-10-50 already exists. Not creating.\n",
      "[INFO]  Data folder /media/louis/TOSHIBA EXT/FullData/NoNoise/46/auto_sending_goals_2021-06-30-10-13-05 already exists. Not creating.\n",
      "[INFO]  Data folder /media/louis/TOSHIBA EXT/FullData/NoNoise/47/auto_sending_goals_2021-06-30-10-15-21 already exists. Not creating.\n",
      "[INFO]  Data folder /media/louis/TOSHIBA EXT/FullData/NoNoise/48/auto_sending_goals_2021-06-30-10-17-36 already exists. Not creating.\n",
      "[INFO]  Data folder /media/louis/TOSHIBA EXT/FullData/NoNoise/49/auto_sending_goals_2021-06-30-10-19-52 already exists. Not creating.\n",
      "[INFO]  Data folder /media/louis/TOSHIBA EXT/FullData/NoNoise/5/auto_sending_goals_2021-06-29-10-24-33 already exists. Not creating.\n",
      "[INFO]  Data folder /media/louis/TOSHIBA EXT/FullData/NoNoise/50/auto_sending_goals_2021-06-30-10-22-08 already exists. Not creating.\n",
      "[INFO]  Data folder /media/louis/TOSHIBA EXT/FullData/NoNoise/51/auto_sending_goals_2021-06-30-10-24-23 already exists. Not creating.\n",
      "[INFO]  Data folder /media/louis/TOSHIBA EXT/FullData/NoNoise/52/auto_sending_goals_2021-06-30-10-26-39 already exists. Not creating.\n",
      "[INFO]  Data folder /media/louis/TOSHIBA EXT/FullData/NoNoise/53/auto_sending_goals_2021-06-30-10-28-54 already exists. Not creating.\n",
      "[INFO]  Data folder /media/louis/TOSHIBA EXT/FullData/NoNoise/54/auto_sending_goals_2021-06-30-10-31-10 already exists. Not creating.\n",
      "[INFO]  Data folder /media/louis/TOSHIBA EXT/FullData/NoNoise/55/auto_sending_goals_2021-06-30-10-33-26 already exists. Not creating.\n",
      "[INFO]  Data folder /media/louis/TOSHIBA EXT/FullData/NoNoise/56/auto_sending_goals_2021-06-30-10-35-41 already exists. Not creating.\n",
      "[INFO]  Data folder /media/louis/TOSHIBA EXT/FullData/NoNoise/57/auto_sending_goals_2021-06-30-10-37-57 already exists. Not creating.\n",
      "[INFO]  Data folder /media/louis/TOSHIBA EXT/FullData/NoNoise/58/auto_sending_goals_2021-06-30-10-40-13 already exists. Not creating.\n",
      "[INFO]  Data folder /media/louis/TOSHIBA EXT/FullData/NoNoise/59/auto_sending_goals_2021-06-30-10-42-28 already exists. Not creating.\n",
      "[INFO]  Data folder /media/louis/TOSHIBA EXT/FullData/NoNoise/6/auto_sending_goals_2021-06-29-10-26-49 already exists. Not creating.\n",
      "[INFO]  Data folder /media/louis/TOSHIBA EXT/FullData/NoNoise/60/auto_sending_goals_2021-06-30-10-44-44 already exists. Not creating.\n",
      "[INFO]  Data folder /media/louis/TOSHIBA EXT/FullData/NoNoise/7/auto_sending_goals_2021-06-29-10-27-20 already exists. Not creating.\n",
      "[INFO]  Data folder /media/louis/TOSHIBA EXT/FullData/NoNoise/8/auto_sending_goals_2021-06-29-10-29-36 already exists. Not creating.\n",
      "[INFO]  Data folder /media/louis/TOSHIBA EXT/FullData/NoNoise/9/auto_sending_goals_2021-06-29-10-29-59 already exists. Not creating.\n",
      "[INFO]  Data folder /media/louis/TOSHIBA EXT/FullData/OdomNoise/3/auto_sending_goals_2021-06-29-11-23-21 already exists. Not creating.\n",
      "[INFO]  Data folder /media/louis/TOSHIBA EXT/FullData/OdomNoise/1/auto_sending_goals_2021-06-29-11-21-09 already exists. Not creating.\n",
      "[INFO]  Data folder /media/louis/TOSHIBA EXT/FullData/OdomNoise/10/auto_sending_goals_2021-06-29-11-39-10 already exists. Not creating.\n",
      "[INFO]  Data folder /media/louis/TOSHIBA EXT/FullData/OdomNoise/11/auto_sending_goals_2021-06-29-11-41-25 already exists. Not creating.\n",
      "[INFO]  Data folder /media/louis/TOSHIBA EXT/FullData/OdomNoise/12/auto_sending_goals_2021-06-29-11-42-31 already exists. Not creating.\n",
      "[INFO]  Data folder /media/louis/TOSHIBA EXT/FullData/OdomNoise/13/auto_sending_goals_2021-06-29-11-44-47 already exists. Not creating.\n",
      "[INFO]  Data folder /media/louis/TOSHIBA EXT/FullData/OdomNoise/14/auto_sending_goals_2021-06-29-11-47-02 already exists. Not creating.\n",
      "[INFO]  Data folder /media/louis/TOSHIBA EXT/FullData/OdomNoise/15/auto_sending_goals_2021-06-29-11-49-18 already exists. Not creating.\n",
      "[INFO]  Data folder /media/louis/TOSHIBA EXT/FullData/OdomNoise/16/auto_sending_goals_2021-06-29-11-51-33 already exists. Not creating.\n",
      "[INFO]  Data folder /media/louis/TOSHIBA EXT/FullData/OdomNoise/17/auto_sending_goals_2021-06-29-11-53-49 already exists. Not creating.\n",
      "[INFO]  Data folder /media/louis/TOSHIBA EXT/FullData/OdomNoise/18/auto_sending_goals_2021-06-29-11-56-05 already exists. Not creating.\n",
      "[INFO]  Data folder /media/louis/TOSHIBA EXT/FullData/OdomNoise/19/auto_sending_goals_2021-06-29-11-58-20 already exists. Not creating.\n",
      "[INFO]  Data folder /media/louis/TOSHIBA EXT/FullData/OdomNoise/2/auto_sending_goals_2021-06-29-11-22-35 already exists. Not creating.\n",
      "[INFO]  Data folder /media/louis/TOSHIBA EXT/FullData/OdomNoise/20/auto_sending_goals_2021-06-29-12-00-36 already exists. Not creating.\n",
      "[INFO]  Data folder /media/louis/TOSHIBA EXT/FullData/OdomNoise/21/auto_sending_goals_2021-06-29-12-02-51 already exists. Not creating.\n",
      "[INFO]  Data folder /media/louis/TOSHIBA EXT/FullData/OdomNoise/22/auto_sending_goals_2021-06-29-12-05-07 already exists. Not creating.\n",
      "[INFO]  Data folder /media/louis/TOSHIBA EXT/FullData/OdomNoise/23/auto_sending_goals_2021-06-29-12-07-22 already exists. Not creating.\n",
      "[INFO]  Data folder /media/louis/TOSHIBA EXT/FullData/OdomNoise/24/auto_sending_goals_2021-06-29-12-09-38 already exists. Not creating.\n",
      "[INFO]  Data folder /media/louis/TOSHIBA EXT/FullData/OdomNoise/25/auto_sending_goals_2021-06-29-12-11-53 already exists. Not creating.\n",
      "[INFO]  Data folder /media/louis/TOSHIBA EXT/FullData/OdomNoise/26/auto_sending_goals_2021-06-29-12-14-09 already exists. Not creating.\n",
      "[INFO]  Data folder /media/louis/TOSHIBA EXT/FullData/OdomNoise/27/auto_sending_goals_2021-06-29-12-16-25 already exists. Not creating.\n",
      "[INFO]  Data folder /media/louis/TOSHIBA EXT/FullData/OdomNoise/28/auto_sending_goals_2021-06-29-12-18-40 already exists. Not creating.\n",
      "[INFO]  Data folder /media/louis/TOSHIBA EXT/FullData/OdomNoise/29/auto_sending_goals_2021-06-29-12-20-56 already exists. Not creating.\n",
      "[INFO]  Data folder /media/louis/TOSHIBA EXT/FullData/OdomNoise/30/auto_sending_goals_2021-06-29-12-23-11 already exists. Not creating.\n",
      "[INFO]  Data folder /media/louis/TOSHIBA EXT/FullData/OdomNoise/31/auto_sending_goals_2021-06-30-10-56-09 already exists. Not creating.\n",
      "[INFO]  Data folder /media/louis/TOSHIBA EXT/FullData/OdomNoise/32/auto_sending_goals_2021-06-30-10-58-25 already exists. Not creating.\n",
      "[INFO]  Data folder /media/louis/TOSHIBA EXT/FullData/OdomNoise/33/auto_sending_goals_2021-06-30-11-00-41 already exists. Not creating.\n",
      "[INFO]  Data folder /media/louis/TOSHIBA EXT/FullData/OdomNoise/34/auto_sending_goals_2021-06-30-11-02-56 already exists. Not creating.\n",
      "[INFO]  Data folder /media/louis/TOSHIBA EXT/FullData/OdomNoise/35/auto_sending_goals_2021-06-30-11-05-12 already exists. Not creating.\n",
      "[INFO]  Data folder /media/louis/TOSHIBA EXT/FullData/OdomNoise/36/auto_sending_goals_2021-06-30-11-07-27 already exists. Not creating.\n",
      "[INFO]  Data folder /media/louis/TOSHIBA EXT/FullData/OdomNoise/37/auto_sending_goals_2021-06-30-11-09-43 already exists. Not creating.\n",
      "[INFO]  Data folder /media/louis/TOSHIBA EXT/FullData/OdomNoise/38/auto_sending_goals_2021-06-30-11-11-58 already exists. Not creating.\n",
      "[INFO]  Data folder /media/louis/TOSHIBA EXT/FullData/OdomNoise/39/auto_sending_goals_2021-06-30-11-14-14 already exists. Not creating.\n",
      "[INFO]  Data folder /media/louis/TOSHIBA EXT/FullData/OdomNoise/4/auto_sending_goals_2021-06-29-11-25-36 already exists. Not creating.\n",
      "[INFO]  Data folder /media/louis/TOSHIBA EXT/FullData/OdomNoise/40/auto_sending_goals_2021-06-30-11-16-29 already exists. Not creating.\n",
      "[INFO]  Data folder /media/louis/TOSHIBA EXT/FullData/OdomNoise/41/auto_sending_goals_2021-06-30-11-18-45 already exists. Not creating.\n",
      "[INFO]  Data folder /media/louis/TOSHIBA EXT/FullData/OdomNoise/42/auto_sending_goals_2021-06-30-11-21-01 already exists. Not creating.\n",
      "[INFO]  Data folder /media/louis/TOSHIBA EXT/FullData/OdomNoise/43/auto_sending_goals_2021-06-30-11-23-16 already exists. Not creating.\n",
      "[INFO]  Data folder /media/louis/TOSHIBA EXT/FullData/OdomNoise/44/auto_sending_goals_2021-06-30-11-25-32 already exists. Not creating.\n",
      "[INFO]  Data folder /media/louis/TOSHIBA EXT/FullData/OdomNoise/45/auto_sending_goals_2021-06-30-11-27-47 already exists. Not creating.\n",
      "[INFO]  Data folder /media/louis/TOSHIBA EXT/FullData/OdomNoise/46/auto_sending_goals_2021-06-30-11-29-52 already exists. Not creating.\n",
      "[INFO]  Data folder /media/louis/TOSHIBA EXT/FullData/OdomNoise/47/auto_sending_goals_2021-06-30-11-32-08 already exists. Not creating.\n",
      "[INFO]  Data folder /media/louis/TOSHIBA EXT/FullData/OdomNoise/48/auto_sending_goals_2021-06-30-11-34-23 already exists. Not creating.\n",
      "[INFO]  Data folder /media/louis/TOSHIBA EXT/FullData/OdomNoise/49/auto_sending_goals_2021-06-30-11-34-42 already exists. Not creating.\n",
      "[INFO]  Data folder /media/louis/TOSHIBA EXT/FullData/OdomNoise/5/auto_sending_goals_2021-06-29-11-27-52 already exists. Not creating.\n",
      "[INFO]  Data folder /media/louis/TOSHIBA EXT/FullData/OdomNoise/50/auto_sending_goals_2021-06-30-11-36-58 already exists. Not creating.\n",
      "[INFO]  Data folder /media/louis/TOSHIBA EXT/FullData/OdomNoise/51/auto_sending_goals_2021-06-30-11-39-13 already exists. Not creating.\n",
      "[INFO]  Data folder /media/louis/TOSHIBA EXT/FullData/OdomNoise/52/auto_sending_goals_2021-06-30-11-41-29 already exists. Not creating.\n",
      "[INFO]  Data folder /media/louis/TOSHIBA EXT/FullData/OdomNoise/53/auto_sending_goals_2021-06-30-11-43-44 already exists. Not creating.\n",
      "[INFO]  Data folder /media/louis/TOSHIBA EXT/FullData/OdomNoise/54/auto_sending_goals_2021-06-30-11-46-00 already exists. Not creating.\n",
      "[INFO]  Data folder /media/louis/TOSHIBA EXT/FullData/OdomNoise/55/auto_sending_goals_2021-06-30-11-48-15 already exists. Not creating.\n",
      "[INFO]  Data folder /media/louis/TOSHIBA EXT/FullData/OdomNoise/56/auto_sending_goals_2021-06-30-11-50-31 already exists. Not creating.\n",
      "[INFO]  Data folder /media/louis/TOSHIBA EXT/FullData/OdomNoise/57/auto_sending_goals_2021-06-30-11-52-47 already exists. Not creating.\n",
      "[INFO]  Data folder /media/louis/TOSHIBA EXT/FullData/OdomNoise/58/auto_sending_goals_2021-06-30-11-55-02 already exists. Not creating.\n",
      "[INFO]  Data folder /media/louis/TOSHIBA EXT/FullData/OdomNoise/59/auto_sending_goals_2021-06-30-11-57-18 already exists. Not creating.\n",
      "[INFO]  Data folder /media/louis/TOSHIBA EXT/FullData/OdomNoise/6/auto_sending_goals_2021-06-29-11-30-07 already exists. Not creating.\n",
      "[INFO]  Data folder /media/louis/TOSHIBA EXT/FullData/OdomNoise/60/auto_sending_goals_2021-06-30-11-59-33 already exists. Not creating.\n",
      "[INFO]  Data folder /media/louis/TOSHIBA EXT/FullData/OdomNoise/7/auto_sending_goals_2021-06-29-11-32-23 already exists. Not creating.\n",
      "[INFO]  Data folder /media/louis/TOSHIBA EXT/FullData/OdomNoise/8/auto_sending_goals_2021-06-29-11-34-39 already exists. Not creating.\n",
      "[INFO]  Data folder /media/louis/TOSHIBA EXT/FullData/OdomNoise/9/auto_sending_goals_2021-06-29-11-36-54 already exists. Not creating.\n",
      "[INFO]  Data folder /media/louis/TOSHIBA EXT/FullData/ScanNoise/3/auto_sending_goals_2021-06-29-12-27-31 already exists. Not creating.\n",
      "[INFO]  Data folder /media/louis/TOSHIBA EXT/FullData/ScanNoise/1/auto_sending_goals_2021-06-29-12-26-29 already exists. Not creating.\n",
      "[INFO]  Data folder /media/louis/TOSHIBA EXT/FullData/ScanNoise/10/auto_sending_goals_2021-06-29-12-38-02 already exists. Not creating.\n",
      "[INFO]  Data folder /media/louis/TOSHIBA EXT/FullData/ScanNoise/11/auto_sending_goals_2021-06-29-12-38-27 already exists. Not creating.\n",
      "[INFO]  Data folder /media/louis/TOSHIBA EXT/FullData/ScanNoise/12/auto_sending_goals_2021-06-29-12-40-43 already exists. Not creating.\n",
      "[INFO]  Data folder /media/louis/TOSHIBA EXT/FullData/ScanNoise/13/auto_sending_goals_2021-06-29-12-42-58 already exists. Not creating.\n",
      "[INFO]  Data folder /media/louis/TOSHIBA EXT/FullData/ScanNoise/14/auto_sending_goals_2021-06-29-12-45-14 already exists. Not creating.\n",
      "[INFO]  Data folder /media/louis/TOSHIBA EXT/FullData/ScanNoise/15/auto_sending_goals_2021-06-29-12-47-30 already exists. Not creating.\n",
      "[INFO]  Data folder /media/louis/TOSHIBA EXT/FullData/ScanNoise/16/auto_sending_goals_2021-06-29-12-49-45 already exists. Not creating.\n",
      "[INFO]  Data folder /media/louis/TOSHIBA EXT/FullData/ScanNoise/17/auto_sending_goals_2021-06-29-12-52-01 already exists. Not creating.\n",
      "[INFO]  Data folder /media/louis/TOSHIBA EXT/FullData/ScanNoise/18/auto_sending_goals_2021-06-29-12-54-16 already exists. Not creating.\n",
      "[INFO]  Data folder /media/louis/TOSHIBA EXT/FullData/ScanNoise/19/auto_sending_goals_2021-06-29-12-56-32 already exists. Not creating.\n",
      "[INFO]  Data folder /media/louis/TOSHIBA EXT/FullData/ScanNoise/2/auto_sending_goals_2021-06-29-12-27-07 already exists. Not creating.\n",
      "[INFO]  Data folder /media/louis/TOSHIBA EXT/FullData/ScanNoise/20/auto_sending_goals_2021-06-29-12-58-47 already exists. Not creating.\n",
      "[INFO]  Data folder /media/louis/TOSHIBA EXT/FullData/ScanNoise/21/auto_sending_goals_2021-06-29-13-01-03 already exists. Not creating.\n",
      "[INFO]  Data folder /media/louis/TOSHIBA EXT/FullData/ScanNoise/22/auto_sending_goals_2021-06-29-13-03-18 already exists. Not creating.\n",
      "[INFO]  Data folder /media/louis/TOSHIBA EXT/FullData/ScanNoise/23/auto_sending_goals_2021-06-29-13-05-34 already exists. Not creating.\n",
      "[INFO]  Data folder /media/louis/TOSHIBA EXT/FullData/ScanNoise/24/auto_sending_goals_2021-06-29-13-07-50 already exists. Not creating.\n",
      "[INFO]  Data folder /media/louis/TOSHIBA EXT/FullData/ScanNoise/25/auto_sending_goals_2021-06-29-13-10-05 already exists. Not creating.\n",
      "[INFO]  Data folder /media/louis/TOSHIBA EXT/FullData/ScanNoise/26/auto_sending_goals_2021-06-29-13-12-21 already exists. Not creating.\n",
      "[INFO]  Data folder /media/louis/TOSHIBA EXT/FullData/ScanNoise/27/auto_sending_goals_2021-06-29-13-14-36 already exists. Not creating.\n",
      "[INFO]  Data folder /media/louis/TOSHIBA EXT/FullData/ScanNoise/28/auto_sending_goals_2021-06-29-13-16-52 already exists. Not creating.\n",
      "[INFO]  Data folder /media/louis/TOSHIBA EXT/FullData/ScanNoise/29/auto_sending_goals_2021-06-29-13-19-08 already exists. Not creating.\n",
      "[INFO]  Data folder /media/louis/TOSHIBA EXT/FullData/ScanNoise/30/auto_sending_goals_2021-06-29-13-21-23 already exists. Not creating.\n",
      "[INFO]  Data folder /media/louis/TOSHIBA EXT/FullData/ScanNoise/31/auto_sending_goals_2021-06-30-12-05-22 already exists. Not creating.\n",
      "[INFO]  Data folder /media/louis/TOSHIBA EXT/FullData/ScanNoise/32/auto_sending_goals_2021-06-30-12-06-02 already exists. Not creating.\n",
      "[INFO]  Data folder /media/louis/TOSHIBA EXT/FullData/ScanNoise/33/auto_sending_goals_2021-06-30-12-06-26 already exists. Not creating.\n",
      "[INFO]  Data folder /media/louis/TOSHIBA EXT/FullData/ScanNoise/34/auto_sending_goals_2021-06-30-12-08-41 already exists. Not creating.\n",
      "[INFO]  Data folder /media/louis/TOSHIBA EXT/FullData/ScanNoise/35/auto_sending_goals_2021-06-30-12-10-57 already exists. Not creating.\n",
      "[INFO]  Data folder /media/louis/TOSHIBA EXT/FullData/ScanNoise/36/auto_sending_goals_2021-06-30-12-13-12 already exists. Not creating.\n",
      "[INFO]  Data folder /media/louis/TOSHIBA EXT/FullData/ScanNoise/37/auto_sending_goals_2021-06-30-12-15-28 already exists. Not creating.\n",
      "[INFO]  Data folder /media/louis/TOSHIBA EXT/FullData/ScanNoise/38/auto_sending_goals_2021-06-30-12-17-43 already exists. Not creating.\n",
      "[INFO]  Data folder /media/louis/TOSHIBA EXT/FullData/ScanNoise/39/auto_sending_goals_2021-06-30-12-18-10 already exists. Not creating.\n",
      "[INFO]  Data folder /media/louis/TOSHIBA EXT/FullData/ScanNoise/4/auto_sending_goals_2021-06-29-12-29-46 already exists. Not creating.\n",
      "[INFO]  Data folder /media/louis/TOSHIBA EXT/FullData/ScanNoise/40/auto_sending_goals_2021-06-30-12-18-36 already exists. Not creating.\n",
      "[INFO]  Data folder /media/louis/TOSHIBA EXT/FullData/ScanNoise/41/auto_sending_goals_2021-06-30-12-18-59 already exists. Not creating.\n",
      "[INFO]  Data folder /media/louis/TOSHIBA EXT/FullData/ScanNoise/42/auto_sending_goals_2021-06-30-12-21-15 already exists. Not creating.\n",
      "[INFO]  Data folder /media/louis/TOSHIBA EXT/FullData/ScanNoise/43/auto_sending_goals_2021-06-30-12-23-31 already exists. Not creating.\n",
      "[INFO]  Data folder /media/louis/TOSHIBA EXT/FullData/ScanNoise/44/auto_sending_goals_2021-06-30-12-25-46 already exists. Not creating.\n",
      "[INFO]  Data folder /media/louis/TOSHIBA EXT/FullData/ScanNoise/45/auto_sending_goals_2021-06-30-12-28-02 already exists. Not creating.\n",
      "[INFO]  Data folder /media/louis/TOSHIBA EXT/FullData/ScanNoise/46/auto_sending_goals_2021-06-30-12-30-17 already exists. Not creating.\n",
      "[INFO]  Data folder /media/louis/TOSHIBA EXT/FullData/ScanNoise/47/auto_sending_goals_2021-06-30-12-32-33 already exists. Not creating.\n",
      "[INFO]  Data folder /media/louis/TOSHIBA EXT/FullData/ScanNoise/48/auto_sending_goals_2021-06-30-12-34-49 already exists. Not creating.\n",
      "[INFO]  Data folder /media/louis/TOSHIBA EXT/FullData/ScanNoise/49/auto_sending_goals_2021-06-30-12-37-04 already exists. Not creating.\n",
      "[INFO]  Data folder /media/louis/TOSHIBA EXT/FullData/ScanNoise/5/auto_sending_goals_2021-06-29-12-32-02 already exists. Not creating.\n",
      "[INFO]  Data folder /media/louis/TOSHIBA EXT/FullData/ScanNoise/50/auto_sending_goals_2021-06-30-12-39-20 already exists. Not creating.\n",
      "[INFO]  Data folder /media/louis/TOSHIBA EXT/FullData/ScanNoise/51/auto_sending_goals_2021-06-30-12-41-36 already exists. Not creating.\n",
      "[INFO]  Data folder /media/louis/TOSHIBA EXT/FullData/ScanNoise/52/auto_sending_goals_2021-06-30-12-43-51 already exists. Not creating.\n",
      "[INFO]  Data folder /media/louis/TOSHIBA EXT/FullData/ScanNoise/53/auto_sending_goals_2021-06-30-12-46-07 already exists. Not creating.\n",
      "[INFO]  Data folder /media/louis/TOSHIBA EXT/FullData/ScanNoise/54/auto_sending_goals_2021-06-30-12-48-22 already exists. Not creating.\n",
      "[INFO]  Data folder /media/louis/TOSHIBA EXT/FullData/ScanNoise/55/auto_sending_goals_2021-06-30-12-50-38 already exists. Not creating.\n",
      "[INFO]  Data folder /media/louis/TOSHIBA EXT/FullData/ScanNoise/56/auto_sending_goals_2021-06-30-12-52-53 already exists. Not creating.\n",
      "[INFO]  Data folder /media/louis/TOSHIBA EXT/FullData/ScanNoise/57/auto_sending_goals_2021-06-30-12-55-09 already exists. Not creating.\n",
      "[INFO]  Data folder /media/louis/TOSHIBA EXT/FullData/ScanNoise/58/auto_sending_goals_2021-06-30-12-57-25 already exists. Not creating.\n",
      "[INFO]  Data folder /media/louis/TOSHIBA EXT/FullData/ScanNoise/59/auto_sending_goals_2021-06-30-12-59-40 already exists. Not creating.\n",
      "[INFO]  Data folder /media/louis/TOSHIBA EXT/FullData/ScanNoise/6/auto_sending_goals_2021-06-29-12-34-17 already exists. Not creating.\n",
      "[INFO]  Data folder /media/louis/TOSHIBA EXT/FullData/ScanNoise/60/auto_sending_goals_2021-06-30-13-01-56 already exists. Not creating.\n",
      "[INFO]  Data folder /media/louis/TOSHIBA EXT/FullData/ScanNoise/7/auto_sending_goals_2021-06-29-12-34-54 already exists. Not creating.\n",
      "[INFO]  Data folder /media/louis/TOSHIBA EXT/FullData/ScanNoise/8/auto_sending_goals_2021-06-29-12-37-10 already exists. Not creating.\n",
      "[INFO]  Data folder /media/louis/TOSHIBA EXT/FullData/ScanNoise/9/auto_sending_goals_2021-06-29-12-37-37 already exists. Not creating.\n"
     ]
    }
   ],
   "source": [
    "from cnn import Turtlebot_CNN,Turtlebot_LSTM,data_preparation\n",
    "from read_data import make_dataset,read_bag\n",
    "import tensorflow as tf\n",
    "import matplotlib.pyplot as plt\n",
    "import math\n",
    "from inception import Inception\n",
    "\n",
    "\n",
    "ds,l=data_preparation(path='/media/louis/TOSHIBA EXT/FullData')\n"
   ]
  },
  {
   "cell_type": "code",
   "execution_count": 2,
   "metadata": {},
   "outputs": [
    {
     "name": "stdout",
     "output_type": "stream",
     "text": [
      "115\n"
     ]
    }
   ],
   "source": [
    "ds=ds.shuffle(l)\n",
    "prop_train_val=0.8\n",
    "l_train_val=math.ceil(prop_train_val*l)\n",
    "train_val=ds.take(l_train_val)\n",
    "test=ds.skip(l_train_val)\n",
    "prop_train=0.8\n",
    "l_train=math.floor(prop_train*l_train_val)\n",
    "train=train_val.take(l_train)\n",
    "validation=train_val.skip(l_train)\n",
    "print(l_train)"
   ]
  },
  {
   "cell_type": "code",
   "execution_count": 3,
   "metadata": {
    "tags": []
   },
   "outputs": [],
   "source": [
    "train=train.batch(10)\n",
    "test=test.batch(1)\n",
    "validation=validation.batch(1)"
   ]
  },
  {
   "cell_type": "code",
   "execution_count": 4,
   "metadata": {},
   "outputs": [
    {
     "name": "stdout",
     "output_type": "stream",
     "text": [
      "(None, None, 13)\n"
     ]
    },
    {
     "ename": "TypeError",
     "evalue": "in user code:\n\n    /home/louis/.local/lib/python3.8/site-packages/tensorflow/python/keras/engine/training.py:805 train_function  *\n        return step_function(self, iterator)\n    /home/louis/model_cnn/inception.py:86 call  *\n        od=inc(od)\n    /home/louis/model_cnn/inception.py:21 call  *\n        x=self.bottlneck(input)\n    /home/louis/.local/lib/python3.8/site-packages/tensorflow/python/keras/engine/base_layer.py:1012 __call__  **\n        outputs = call_fn(inputs, *args, **kwargs)\n    /home/louis/.local/lib/python3.8/site-packages/tensorflow/python/keras/layers/convolutional.py:248 call\n        outputs = self._convolution_op(inputs, self.kernel)\n    /home/louis/.local/lib/python3.8/site-packages/tensorflow/python/util/dispatch.py:201 wrapper\n        return target(*args, **kwargs)\n    /home/louis/.local/lib/python3.8/site-packages/tensorflow/python/ops/nn_ops.py:1013 convolution_v2\n        return convolution_internal(\n    /home/louis/.local/lib/python3.8/site-packages/tensorflow/python/ops/nn_ops.py:1143 convolution_internal\n        return op(\n    /home/louis/.local/lib/python3.8/site-packages/tensorflow/python/util/dispatch.py:201 wrapper\n        return target(*args, **kwargs)\n    /home/louis/.local/lib/python3.8/site-packages/tensorflow/python/util/deprecation.py:605 new_func\n        return func(*args, **kwargs)\n    /home/louis/.local/lib/python3.8/site-packages/tensorflow/python/util/deprecation.py:605 new_func\n        return func(*args, **kwargs)\n    /home/louis/.local/lib/python3.8/site-packages/tensorflow/python/ops/nn_ops.py:1885 conv1d\n        result = gen_nn_ops.conv2d(\n    /home/louis/.local/lib/python3.8/site-packages/tensorflow/python/ops/gen_nn_ops.py:969 conv2d\n        _, _, _op, _outputs = _op_def_library._apply_op_helper(\n    /home/louis/.local/lib/python3.8/site-packages/tensorflow/python/framework/op_def_library.py:525 _apply_op_helper\n        raise err\n    /home/louis/.local/lib/python3.8/site-packages/tensorflow/python/framework/op_def_library.py:517 _apply_op_helper\n        values = ops.convert_to_tensor(\n    /home/louis/.local/lib/python3.8/site-packages/tensorflow/python/profiler/trace.py:163 wrapped\n        return func(*args, **kwargs)\n    /home/louis/.local/lib/python3.8/site-packages/tensorflow/python/framework/ops.py:1540 convert_to_tensor\n        ret = conversion_func(value, dtype=dtype, name=name, as_ref=as_ref)\n    /home/louis/.local/lib/python3.8/site-packages/tensorflow/python/framework/constant_op.py:339 _constant_tensor_conversion_function\n        return constant(v, dtype=dtype, name=name)\n    /home/louis/.local/lib/python3.8/site-packages/tensorflow/python/framework/constant_op.py:264 constant\n        return _constant_impl(value, dtype, shape, name, verify_shape=False,\n    /home/louis/.local/lib/python3.8/site-packages/tensorflow/python/framework/constant_op.py:281 _constant_impl\n        tensor_util.make_tensor_proto(\n    /home/louis/.local/lib/python3.8/site-packages/tensorflow/python/framework/tensor_util.py:551 make_tensor_proto\n        raise TypeError(\"Failed to convert object of type %s to Tensor. \"\n\n    TypeError: Failed to convert object of type <class 'tensorflow.python.ops.ragged.ragged_tensor.RaggedTensor'> to Tensor. Contents: tf.RaggedTensor(values=tf.RaggedTensor(values=Tensor(\"RaggedFromVariant/RaggedTensorFromVariant:1\", shape=(None, 13), dtype=float32), row_splits=Tensor(\"RaggedFromVariant/RaggedTensorFromVariant:0\", shape=(None,), dtype=int64)), row_splits=Tensor(\"inception/inception_block/conv1d/conv1d/RaggedExpandDims/RaggedFromUniformRowLength/RowPartitionFromUniformRowLength/mul:0\", shape=(None,), dtype=int64)). Consider casting elements to a supported type.\n",
     "output_type": "error",
     "traceback": [
      "\u001b[0;31m---------------------------------------------------------------------------\u001b[0m",
      "\u001b[0;31mTypeError\u001b[0m                                 Traceback (most recent call last)",
      "\u001b[0;32m<ipython-input-4-8d99c623e400>\u001b[0m in \u001b[0;36m<module>\u001b[0;34m\u001b[0m\n\u001b[1;32m      2\u001b[0m \u001b[0mcb_list_inc\u001b[0m\u001b[0;34m=\u001b[0m\u001b[0;34m[\u001b[0m\u001b[0mtf\u001b[0m\u001b[0;34m.\u001b[0m\u001b[0mkeras\u001b[0m\u001b[0;34m.\u001b[0m\u001b[0mcallbacks\u001b[0m\u001b[0;34m.\u001b[0m\u001b[0mModelCheckpoint\u001b[0m\u001b[0;34m(\u001b[0m\u001b[0;34m'inc_model/checkpoint_inc.h5'\u001b[0m\u001b[0;34m,\u001b[0m\u001b[0mmonitor\u001b[0m\u001b[0;34m=\u001b[0m\u001b[0;34m'val_loss'\u001b[0m\u001b[0;34m,\u001b[0m\u001b[0msave_best_only\u001b[0m\u001b[0;34m=\u001b[0m\u001b[0;32mTrue\u001b[0m\u001b[0;34m,\u001b[0m\u001b[0msave_weights_only\u001b[0m\u001b[0;34m=\u001b[0m\u001b[0;32mTrue\u001b[0m\u001b[0;34m)\u001b[0m\u001b[0;34m]\u001b[0m\u001b[0;31m#tf.keras.callbacks.EarlyStopping(monitor='val_loss',patience=50),\u001b[0m\u001b[0;34m\u001b[0m\u001b[0;34m\u001b[0m\u001b[0m\n\u001b[1;32m      3\u001b[0m \u001b[0minc\u001b[0m\u001b[0;34m.\u001b[0m\u001b[0mcompile\u001b[0m\u001b[0;34m(\u001b[0m\u001b[0moptimizer\u001b[0m\u001b[0;34m=\u001b[0m\u001b[0;34m'adam'\u001b[0m\u001b[0;34m,\u001b[0m\u001b[0mloss\u001b[0m\u001b[0;34m=\u001b[0m\u001b[0;34m'categorical_crossentropy'\u001b[0m\u001b[0;34m,\u001b[0m\u001b[0mmetrics\u001b[0m\u001b[0;34m=\u001b[0m\u001b[0;34m[\u001b[0m\u001b[0mtf\u001b[0m\u001b[0;34m.\u001b[0m\u001b[0mkeras\u001b[0m\u001b[0;34m.\u001b[0m\u001b[0mmetrics\u001b[0m\u001b[0;34m.\u001b[0m\u001b[0mCategoricalAccuracy\u001b[0m\u001b[0;34m(\u001b[0m\u001b[0;34m)\u001b[0m\u001b[0;34m]\u001b[0m\u001b[0;34m)\u001b[0m\u001b[0;34m\u001b[0m\u001b[0;34m\u001b[0m\u001b[0m\n\u001b[0;32m----> 4\u001b[0;31m \u001b[0mhist_inc\u001b[0m\u001b[0;34m=\u001b[0m\u001b[0minc\u001b[0m\u001b[0;34m.\u001b[0m\u001b[0mfit\u001b[0m\u001b[0;34m(\u001b[0m\u001b[0mtrain\u001b[0m\u001b[0;34m,\u001b[0m\u001b[0mepochs\u001b[0m\u001b[0;34m=\u001b[0m\u001b[0;36m1\u001b[0m\u001b[0;34m,\u001b[0m\u001b[0mcallbacks\u001b[0m\u001b[0;34m=\u001b[0m\u001b[0mcb_list_inc\u001b[0m\u001b[0;34m,\u001b[0m\u001b[0mverbose\u001b[0m\u001b[0;34m=\u001b[0m\u001b[0;36m1\u001b[0m\u001b[0;34m,\u001b[0m\u001b[0mvalidation_data\u001b[0m\u001b[0;34m=\u001b[0m\u001b[0mvalidation\u001b[0m\u001b[0;34m)\u001b[0m\u001b[0;34m\u001b[0m\u001b[0;34m\u001b[0m\u001b[0m\n\u001b[0m",
      "\u001b[0;32m~/.local/lib/python3.8/site-packages/tensorflow/python/keras/engine/training.py\u001b[0m in \u001b[0;36mfit\u001b[0;34m(self, x, y, batch_size, epochs, verbose, callbacks, validation_split, validation_data, shuffle, class_weight, sample_weight, initial_epoch, steps_per_epoch, validation_steps, validation_batch_size, validation_freq, max_queue_size, workers, use_multiprocessing)\u001b[0m\n\u001b[1;32m   1098\u001b[0m                 _r=1):\n\u001b[1;32m   1099\u001b[0m               \u001b[0mcallbacks\u001b[0m\u001b[0;34m.\u001b[0m\u001b[0mon_train_batch_begin\u001b[0m\u001b[0;34m(\u001b[0m\u001b[0mstep\u001b[0m\u001b[0;34m)\u001b[0m\u001b[0;34m\u001b[0m\u001b[0;34m\u001b[0m\u001b[0m\n\u001b[0;32m-> 1100\u001b[0;31m               \u001b[0mtmp_logs\u001b[0m \u001b[0;34m=\u001b[0m \u001b[0mself\u001b[0m\u001b[0;34m.\u001b[0m\u001b[0mtrain_function\u001b[0m\u001b[0;34m(\u001b[0m\u001b[0miterator\u001b[0m\u001b[0;34m)\u001b[0m\u001b[0;34m\u001b[0m\u001b[0;34m\u001b[0m\u001b[0m\n\u001b[0m\u001b[1;32m   1101\u001b[0m               \u001b[0;32mif\u001b[0m \u001b[0mdata_handler\u001b[0m\u001b[0;34m.\u001b[0m\u001b[0mshould_sync\u001b[0m\u001b[0;34m:\u001b[0m\u001b[0;34m\u001b[0m\u001b[0;34m\u001b[0m\u001b[0m\n\u001b[1;32m   1102\u001b[0m                 \u001b[0mcontext\u001b[0m\u001b[0;34m.\u001b[0m\u001b[0masync_wait\u001b[0m\u001b[0;34m(\u001b[0m\u001b[0;34m)\u001b[0m\u001b[0;34m\u001b[0m\u001b[0;34m\u001b[0m\u001b[0m\n",
      "\u001b[0;32m~/.local/lib/python3.8/site-packages/tensorflow/python/eager/def_function.py\u001b[0m in \u001b[0;36m__call__\u001b[0;34m(self, *args, **kwds)\u001b[0m\n\u001b[1;32m    826\u001b[0m     \u001b[0mtracing_count\u001b[0m \u001b[0;34m=\u001b[0m \u001b[0mself\u001b[0m\u001b[0;34m.\u001b[0m\u001b[0mexperimental_get_tracing_count\u001b[0m\u001b[0;34m(\u001b[0m\u001b[0;34m)\u001b[0m\u001b[0;34m\u001b[0m\u001b[0;34m\u001b[0m\u001b[0m\n\u001b[1;32m    827\u001b[0m     \u001b[0;32mwith\u001b[0m \u001b[0mtrace\u001b[0m\u001b[0;34m.\u001b[0m\u001b[0mTrace\u001b[0m\u001b[0;34m(\u001b[0m\u001b[0mself\u001b[0m\u001b[0;34m.\u001b[0m\u001b[0m_name\u001b[0m\u001b[0;34m)\u001b[0m \u001b[0;32mas\u001b[0m \u001b[0mtm\u001b[0m\u001b[0;34m:\u001b[0m\u001b[0;34m\u001b[0m\u001b[0;34m\u001b[0m\u001b[0m\n\u001b[0;32m--> 828\u001b[0;31m       \u001b[0mresult\u001b[0m \u001b[0;34m=\u001b[0m \u001b[0mself\u001b[0m\u001b[0;34m.\u001b[0m\u001b[0m_call\u001b[0m\u001b[0;34m(\u001b[0m\u001b[0;34m*\u001b[0m\u001b[0margs\u001b[0m\u001b[0;34m,\u001b[0m \u001b[0;34m**\u001b[0m\u001b[0mkwds\u001b[0m\u001b[0;34m)\u001b[0m\u001b[0;34m\u001b[0m\u001b[0;34m\u001b[0m\u001b[0m\n\u001b[0m\u001b[1;32m    829\u001b[0m       \u001b[0mcompiler\u001b[0m \u001b[0;34m=\u001b[0m \u001b[0;34m\"xla\"\u001b[0m \u001b[0;32mif\u001b[0m \u001b[0mself\u001b[0m\u001b[0;34m.\u001b[0m\u001b[0m_experimental_compile\u001b[0m \u001b[0;32melse\u001b[0m \u001b[0;34m\"nonXla\"\u001b[0m\u001b[0;34m\u001b[0m\u001b[0;34m\u001b[0m\u001b[0m\n\u001b[1;32m    830\u001b[0m       \u001b[0mnew_tracing_count\u001b[0m \u001b[0;34m=\u001b[0m \u001b[0mself\u001b[0m\u001b[0;34m.\u001b[0m\u001b[0mexperimental_get_tracing_count\u001b[0m\u001b[0;34m(\u001b[0m\u001b[0;34m)\u001b[0m\u001b[0;34m\u001b[0m\u001b[0;34m\u001b[0m\u001b[0m\n",
      "\u001b[0;32m~/.local/lib/python3.8/site-packages/tensorflow/python/eager/def_function.py\u001b[0m in \u001b[0;36m_call\u001b[0;34m(self, *args, **kwds)\u001b[0m\n\u001b[1;32m    869\u001b[0m       \u001b[0;31m# This is the first call of __call__, so we have to initialize.\u001b[0m\u001b[0;34m\u001b[0m\u001b[0;34m\u001b[0m\u001b[0;34m\u001b[0m\u001b[0m\n\u001b[1;32m    870\u001b[0m       \u001b[0minitializers\u001b[0m \u001b[0;34m=\u001b[0m \u001b[0;34m[\u001b[0m\u001b[0;34m]\u001b[0m\u001b[0;34m\u001b[0m\u001b[0;34m\u001b[0m\u001b[0m\n\u001b[0;32m--> 871\u001b[0;31m       \u001b[0mself\u001b[0m\u001b[0;34m.\u001b[0m\u001b[0m_initialize\u001b[0m\u001b[0;34m(\u001b[0m\u001b[0margs\u001b[0m\u001b[0;34m,\u001b[0m \u001b[0mkwds\u001b[0m\u001b[0;34m,\u001b[0m \u001b[0madd_initializers_to\u001b[0m\u001b[0;34m=\u001b[0m\u001b[0minitializers\u001b[0m\u001b[0;34m)\u001b[0m\u001b[0;34m\u001b[0m\u001b[0;34m\u001b[0m\u001b[0m\n\u001b[0m\u001b[1;32m    872\u001b[0m     \u001b[0;32mfinally\u001b[0m\u001b[0;34m:\u001b[0m\u001b[0;34m\u001b[0m\u001b[0;34m\u001b[0m\u001b[0m\n\u001b[1;32m    873\u001b[0m       \u001b[0;31m# At this point we know that the initialization is complete (or less\u001b[0m\u001b[0;34m\u001b[0m\u001b[0;34m\u001b[0m\u001b[0;34m\u001b[0m\u001b[0m\n",
      "\u001b[0;32m~/.local/lib/python3.8/site-packages/tensorflow/python/eager/def_function.py\u001b[0m in \u001b[0;36m_initialize\u001b[0;34m(self, args, kwds, add_initializers_to)\u001b[0m\n\u001b[1;32m    723\u001b[0m     \u001b[0mself\u001b[0m\u001b[0;34m.\u001b[0m\u001b[0m_graph_deleter\u001b[0m \u001b[0;34m=\u001b[0m \u001b[0mFunctionDeleter\u001b[0m\u001b[0;34m(\u001b[0m\u001b[0mself\u001b[0m\u001b[0;34m.\u001b[0m\u001b[0m_lifted_initializer_graph\u001b[0m\u001b[0;34m)\u001b[0m\u001b[0;34m\u001b[0m\u001b[0;34m\u001b[0m\u001b[0m\n\u001b[1;32m    724\u001b[0m     self._concrete_stateful_fn = (\n\u001b[0;32m--> 725\u001b[0;31m         self._stateful_fn._get_concrete_function_internal_garbage_collected(  # pylint: disable=protected-access\n\u001b[0m\u001b[1;32m    726\u001b[0m             *args, **kwds))\n\u001b[1;32m    727\u001b[0m \u001b[0;34m\u001b[0m\u001b[0m\n",
      "\u001b[0;32m~/.local/lib/python3.8/site-packages/tensorflow/python/eager/function.py\u001b[0m in \u001b[0;36m_get_concrete_function_internal_garbage_collected\u001b[0;34m(self, *args, **kwargs)\u001b[0m\n\u001b[1;32m   2967\u001b[0m       \u001b[0margs\u001b[0m\u001b[0;34m,\u001b[0m \u001b[0mkwargs\u001b[0m \u001b[0;34m=\u001b[0m \u001b[0;32mNone\u001b[0m\u001b[0;34m,\u001b[0m \u001b[0;32mNone\u001b[0m\u001b[0;34m\u001b[0m\u001b[0;34m\u001b[0m\u001b[0m\n\u001b[1;32m   2968\u001b[0m     \u001b[0;32mwith\u001b[0m \u001b[0mself\u001b[0m\u001b[0;34m.\u001b[0m\u001b[0m_lock\u001b[0m\u001b[0;34m:\u001b[0m\u001b[0;34m\u001b[0m\u001b[0;34m\u001b[0m\u001b[0m\n\u001b[0;32m-> 2969\u001b[0;31m       \u001b[0mgraph_function\u001b[0m\u001b[0;34m,\u001b[0m \u001b[0m_\u001b[0m \u001b[0;34m=\u001b[0m \u001b[0mself\u001b[0m\u001b[0;34m.\u001b[0m\u001b[0m_maybe_define_function\u001b[0m\u001b[0;34m(\u001b[0m\u001b[0margs\u001b[0m\u001b[0;34m,\u001b[0m \u001b[0mkwargs\u001b[0m\u001b[0;34m)\u001b[0m\u001b[0;34m\u001b[0m\u001b[0;34m\u001b[0m\u001b[0m\n\u001b[0m\u001b[1;32m   2970\u001b[0m     \u001b[0;32mreturn\u001b[0m \u001b[0mgraph_function\u001b[0m\u001b[0;34m\u001b[0m\u001b[0;34m\u001b[0m\u001b[0m\n\u001b[1;32m   2971\u001b[0m \u001b[0;34m\u001b[0m\u001b[0m\n",
      "\u001b[0;32m~/.local/lib/python3.8/site-packages/tensorflow/python/eager/function.py\u001b[0m in \u001b[0;36m_maybe_define_function\u001b[0;34m(self, args, kwargs)\u001b[0m\n\u001b[1;32m   3359\u001b[0m \u001b[0;34m\u001b[0m\u001b[0m\n\u001b[1;32m   3360\u001b[0m           \u001b[0mself\u001b[0m\u001b[0;34m.\u001b[0m\u001b[0m_function_cache\u001b[0m\u001b[0;34m.\u001b[0m\u001b[0mmissed\u001b[0m\u001b[0;34m.\u001b[0m\u001b[0madd\u001b[0m\u001b[0;34m(\u001b[0m\u001b[0mcall_context_key\u001b[0m\u001b[0;34m)\u001b[0m\u001b[0;34m\u001b[0m\u001b[0;34m\u001b[0m\u001b[0m\n\u001b[0;32m-> 3361\u001b[0;31m           \u001b[0mgraph_function\u001b[0m \u001b[0;34m=\u001b[0m \u001b[0mself\u001b[0m\u001b[0;34m.\u001b[0m\u001b[0m_create_graph_function\u001b[0m\u001b[0;34m(\u001b[0m\u001b[0margs\u001b[0m\u001b[0;34m,\u001b[0m \u001b[0mkwargs\u001b[0m\u001b[0;34m)\u001b[0m\u001b[0;34m\u001b[0m\u001b[0;34m\u001b[0m\u001b[0m\n\u001b[0m\u001b[1;32m   3362\u001b[0m           \u001b[0mself\u001b[0m\u001b[0;34m.\u001b[0m\u001b[0m_function_cache\u001b[0m\u001b[0;34m.\u001b[0m\u001b[0mprimary\u001b[0m\u001b[0;34m[\u001b[0m\u001b[0mcache_key\u001b[0m\u001b[0;34m]\u001b[0m \u001b[0;34m=\u001b[0m \u001b[0mgraph_function\u001b[0m\u001b[0;34m\u001b[0m\u001b[0;34m\u001b[0m\u001b[0m\n\u001b[1;32m   3363\u001b[0m \u001b[0;34m\u001b[0m\u001b[0m\n",
      "\u001b[0;32m~/.local/lib/python3.8/site-packages/tensorflow/python/eager/function.py\u001b[0m in \u001b[0;36m_create_graph_function\u001b[0;34m(self, args, kwargs, override_flat_arg_shapes)\u001b[0m\n\u001b[1;32m   3194\u001b[0m     \u001b[0marg_names\u001b[0m \u001b[0;34m=\u001b[0m \u001b[0mbase_arg_names\u001b[0m \u001b[0;34m+\u001b[0m \u001b[0mmissing_arg_names\u001b[0m\u001b[0;34m\u001b[0m\u001b[0;34m\u001b[0m\u001b[0m\n\u001b[1;32m   3195\u001b[0m     graph_function = ConcreteFunction(\n\u001b[0;32m-> 3196\u001b[0;31m         func_graph_module.func_graph_from_py_func(\n\u001b[0m\u001b[1;32m   3197\u001b[0m             \u001b[0mself\u001b[0m\u001b[0;34m.\u001b[0m\u001b[0m_name\u001b[0m\u001b[0;34m,\u001b[0m\u001b[0;34m\u001b[0m\u001b[0;34m\u001b[0m\u001b[0m\n\u001b[1;32m   3198\u001b[0m             \u001b[0mself\u001b[0m\u001b[0;34m.\u001b[0m\u001b[0m_python_function\u001b[0m\u001b[0;34m,\u001b[0m\u001b[0;34m\u001b[0m\u001b[0;34m\u001b[0m\u001b[0m\n",
      "\u001b[0;32m~/.local/lib/python3.8/site-packages/tensorflow/python/framework/func_graph.py\u001b[0m in \u001b[0;36mfunc_graph_from_py_func\u001b[0;34m(name, python_func, args, kwargs, signature, func_graph, autograph, autograph_options, add_control_dependencies, arg_names, op_return_value, collections, capture_by_value, override_flat_arg_shapes)\u001b[0m\n\u001b[1;32m    988\u001b[0m         \u001b[0m_\u001b[0m\u001b[0;34m,\u001b[0m \u001b[0moriginal_func\u001b[0m \u001b[0;34m=\u001b[0m \u001b[0mtf_decorator\u001b[0m\u001b[0;34m.\u001b[0m\u001b[0munwrap\u001b[0m\u001b[0;34m(\u001b[0m\u001b[0mpython_func\u001b[0m\u001b[0;34m)\u001b[0m\u001b[0;34m\u001b[0m\u001b[0;34m\u001b[0m\u001b[0m\n\u001b[1;32m    989\u001b[0m \u001b[0;34m\u001b[0m\u001b[0m\n\u001b[0;32m--> 990\u001b[0;31m       \u001b[0mfunc_outputs\u001b[0m \u001b[0;34m=\u001b[0m \u001b[0mpython_func\u001b[0m\u001b[0;34m(\u001b[0m\u001b[0;34m*\u001b[0m\u001b[0mfunc_args\u001b[0m\u001b[0;34m,\u001b[0m \u001b[0;34m**\u001b[0m\u001b[0mfunc_kwargs\u001b[0m\u001b[0;34m)\u001b[0m\u001b[0;34m\u001b[0m\u001b[0;34m\u001b[0m\u001b[0m\n\u001b[0m\u001b[1;32m    991\u001b[0m \u001b[0;34m\u001b[0m\u001b[0m\n\u001b[1;32m    992\u001b[0m       \u001b[0;31m# invariant: `func_outputs` contains only Tensors, CompositeTensors,\u001b[0m\u001b[0;34m\u001b[0m\u001b[0;34m\u001b[0m\u001b[0;34m\u001b[0m\u001b[0m\n",
      "\u001b[0;32m~/.local/lib/python3.8/site-packages/tensorflow/python/eager/def_function.py\u001b[0m in \u001b[0;36mwrapped_fn\u001b[0;34m(*args, **kwds)\u001b[0m\n\u001b[1;32m    632\u001b[0m             \u001b[0mxla_context\u001b[0m\u001b[0;34m.\u001b[0m\u001b[0mExit\u001b[0m\u001b[0;34m(\u001b[0m\u001b[0;34m)\u001b[0m\u001b[0;34m\u001b[0m\u001b[0;34m\u001b[0m\u001b[0m\n\u001b[1;32m    633\u001b[0m         \u001b[0;32melse\u001b[0m\u001b[0;34m:\u001b[0m\u001b[0;34m\u001b[0m\u001b[0;34m\u001b[0m\u001b[0m\n\u001b[0;32m--> 634\u001b[0;31m           \u001b[0mout\u001b[0m \u001b[0;34m=\u001b[0m \u001b[0mweak_wrapped_fn\u001b[0m\u001b[0;34m(\u001b[0m\u001b[0;34m)\u001b[0m\u001b[0;34m.\u001b[0m\u001b[0m__wrapped__\u001b[0m\u001b[0;34m(\u001b[0m\u001b[0;34m*\u001b[0m\u001b[0margs\u001b[0m\u001b[0;34m,\u001b[0m \u001b[0;34m**\u001b[0m\u001b[0mkwds\u001b[0m\u001b[0;34m)\u001b[0m\u001b[0;34m\u001b[0m\u001b[0;34m\u001b[0m\u001b[0m\n\u001b[0m\u001b[1;32m    635\u001b[0m         \u001b[0;32mreturn\u001b[0m \u001b[0mout\u001b[0m\u001b[0;34m\u001b[0m\u001b[0;34m\u001b[0m\u001b[0m\n\u001b[1;32m    636\u001b[0m \u001b[0;34m\u001b[0m\u001b[0m\n",
      "\u001b[0;32m~/.local/lib/python3.8/site-packages/tensorflow/python/framework/func_graph.py\u001b[0m in \u001b[0;36mwrapper\u001b[0;34m(*args, **kwargs)\u001b[0m\n\u001b[1;32m    975\u001b[0m           \u001b[0;32mexcept\u001b[0m \u001b[0mException\u001b[0m \u001b[0;32mas\u001b[0m \u001b[0me\u001b[0m\u001b[0;34m:\u001b[0m  \u001b[0;31m# pylint:disable=broad-except\u001b[0m\u001b[0;34m\u001b[0m\u001b[0;34m\u001b[0m\u001b[0m\n\u001b[1;32m    976\u001b[0m             \u001b[0;32mif\u001b[0m \u001b[0mhasattr\u001b[0m\u001b[0;34m(\u001b[0m\u001b[0me\u001b[0m\u001b[0;34m,\u001b[0m \u001b[0;34m\"ag_error_metadata\"\u001b[0m\u001b[0;34m)\u001b[0m\u001b[0;34m:\u001b[0m\u001b[0;34m\u001b[0m\u001b[0;34m\u001b[0m\u001b[0m\n\u001b[0;32m--> 977\u001b[0;31m               \u001b[0;32mraise\u001b[0m \u001b[0me\u001b[0m\u001b[0;34m.\u001b[0m\u001b[0mag_error_metadata\u001b[0m\u001b[0;34m.\u001b[0m\u001b[0mto_exception\u001b[0m\u001b[0;34m(\u001b[0m\u001b[0me\u001b[0m\u001b[0;34m)\u001b[0m\u001b[0;34m\u001b[0m\u001b[0;34m\u001b[0m\u001b[0m\n\u001b[0m\u001b[1;32m    978\u001b[0m             \u001b[0;32melse\u001b[0m\u001b[0;34m:\u001b[0m\u001b[0;34m\u001b[0m\u001b[0;34m\u001b[0m\u001b[0m\n\u001b[1;32m    979\u001b[0m               \u001b[0;32mraise\u001b[0m\u001b[0;34m\u001b[0m\u001b[0;34m\u001b[0m\u001b[0m\n",
      "\u001b[0;31mTypeError\u001b[0m: in user code:\n\n    /home/louis/.local/lib/python3.8/site-packages/tensorflow/python/keras/engine/training.py:805 train_function  *\n        return step_function(self, iterator)\n    /home/louis/model_cnn/inception.py:86 call  *\n        od=inc(od)\n    /home/louis/model_cnn/inception.py:21 call  *\n        x=self.bottlneck(input)\n    /home/louis/.local/lib/python3.8/site-packages/tensorflow/python/keras/engine/base_layer.py:1012 __call__  **\n        outputs = call_fn(inputs, *args, **kwargs)\n    /home/louis/.local/lib/python3.8/site-packages/tensorflow/python/keras/layers/convolutional.py:248 call\n        outputs = self._convolution_op(inputs, self.kernel)\n    /home/louis/.local/lib/python3.8/site-packages/tensorflow/python/util/dispatch.py:201 wrapper\n        return target(*args, **kwargs)\n    /home/louis/.local/lib/python3.8/site-packages/tensorflow/python/ops/nn_ops.py:1013 convolution_v2\n        return convolution_internal(\n    /home/louis/.local/lib/python3.8/site-packages/tensorflow/python/ops/nn_ops.py:1143 convolution_internal\n        return op(\n    /home/louis/.local/lib/python3.8/site-packages/tensorflow/python/util/dispatch.py:201 wrapper\n        return target(*args, **kwargs)\n    /home/louis/.local/lib/python3.8/site-packages/tensorflow/python/util/deprecation.py:605 new_func\n        return func(*args, **kwargs)\n    /home/louis/.local/lib/python3.8/site-packages/tensorflow/python/util/deprecation.py:605 new_func\n        return func(*args, **kwargs)\n    /home/louis/.local/lib/python3.8/site-packages/tensorflow/python/ops/nn_ops.py:1885 conv1d\n        result = gen_nn_ops.conv2d(\n    /home/louis/.local/lib/python3.8/site-packages/tensorflow/python/ops/gen_nn_ops.py:969 conv2d\n        _, _, _op, _outputs = _op_def_library._apply_op_helper(\n    /home/louis/.local/lib/python3.8/site-packages/tensorflow/python/framework/op_def_library.py:525 _apply_op_helper\n        raise err\n    /home/louis/.local/lib/python3.8/site-packages/tensorflow/python/framework/op_def_library.py:517 _apply_op_helper\n        values = ops.convert_to_tensor(\n    /home/louis/.local/lib/python3.8/site-packages/tensorflow/python/profiler/trace.py:163 wrapped\n        return func(*args, **kwargs)\n    /home/louis/.local/lib/python3.8/site-packages/tensorflow/python/framework/ops.py:1540 convert_to_tensor\n        ret = conversion_func(value, dtype=dtype, name=name, as_ref=as_ref)\n    /home/louis/.local/lib/python3.8/site-packages/tensorflow/python/framework/constant_op.py:339 _constant_tensor_conversion_function\n        return constant(v, dtype=dtype, name=name)\n    /home/louis/.local/lib/python3.8/site-packages/tensorflow/python/framework/constant_op.py:264 constant\n        return _constant_impl(value, dtype, shape, name, verify_shape=False,\n    /home/louis/.local/lib/python3.8/site-packages/tensorflow/python/framework/constant_op.py:281 _constant_impl\n        tensor_util.make_tensor_proto(\n    /home/louis/.local/lib/python3.8/site-packages/tensorflow/python/framework/tensor_util.py:551 make_tensor_proto\n        raise TypeError(\"Failed to convert object of type %s to Tensor. \"\n\n    TypeError: Failed to convert object of type <class 'tensorflow.python.ops.ragged.ragged_tensor.RaggedTensor'> to Tensor. Contents: tf.RaggedTensor(values=tf.RaggedTensor(values=Tensor(\"RaggedFromVariant/RaggedTensorFromVariant:1\", shape=(None, 13), dtype=float32), row_splits=Tensor(\"RaggedFromVariant/RaggedTensorFromVariant:0\", shape=(None,), dtype=int64)), row_splits=Tensor(\"inception/inception_block/conv1d/conv1d/RaggedExpandDims/RaggedFromUniformRowLength/RowPartitionFromUniformRowLength/mul:0\", shape=(None,), dtype=int64)). Consider casting elements to a supported type.\n"
     ]
    }
   ],
   "source": [
    "inc=Inception()\n",
    "cb_list_inc=[tf.keras.callbacks.ModelCheckpoint('inc_model/checkpoint_inc.h5',monitor='val_loss',save_best_only=True,save_weights_only=True)]#tf.keras.callbacks.EarlyStopping(monitor='val_loss',patience=50),\n",
    "inc.compile(optimizer='adam',loss='categorical_crossentropy',metrics=[tf.keras.metrics.CategoricalAccuracy()])\n",
    "hist_inc=inc.fit(train,epochs=1,callbacks=cb_list_inc,verbose=1,validation_data=validation)"
   ]
  },
  {
   "cell_type": "markdown",
   "metadata": {},
   "source": [
    "## Training the Model\n",
    "\n",
    "We can now train the model using the fit method."
   ]
  },
  {
   "cell_type": "code",
   "execution_count": null,
   "metadata": {
    "tags": []
   },
   "outputs": [
    {
     "name": "stdout",
     "output_type": "stream",
     "text": [
      "12/12 [==============================] - 11s 853ms/step - loss: 1.1033 - categorical_accuracy: 0.2961 - val_loss: 1.0463 - val_categorical_accuracy: 0.4138\n",
      "Model: \"turtlebot_lstm_2\"\n",
      "_________________________________________________________________\n",
      "Layer (type)                 Output Shape              Param #   \n",
      "=================================================================\n",
      "lstm_4 (LSTM)                multiple                  5888      \n",
      "_________________________________________________________________\n",
      "lstm_5 (LSTM)                multiple                  50304     \n",
      "_________________________________________________________________\n",
      "concatenate_15 (Concatenate) multiple                  0         \n",
      "_________________________________________________________________\n",
      "dense_7 (Dense)              multiple                  4160      \n",
      "_________________________________________________________________\n",
      "dense_8 (Dense)              multiple                  8320      \n",
      "_________________________________________________________________\n",
      "dense_9 (Dense)              multiple                  387       \n",
      "=================================================================\n",
      "Total params: 69,059\n",
      "Trainable params: 69,059\n",
      "Non-trainable params: 0\n",
      "_________________________________________________________________\n"
     ]
    }
   ],
   "source": [
    "\n",
    "lstm=Turtlebot_LSTM()\n",
    "cb_list_lstm=[tf.keras.callbacks.ModelCheckpoint('lstm_model/checkpoint_lstm_new.h5',monitor='val_loss',save_best_only=True,save_weights_only=True)]#tf.keras.callbacks.EarlyStopping(monitor='val_loss',patience=50),\n",
    "lstm.compile(optimizer='adam',loss='categorical_crossentropy',metrics=[tf.keras.metrics.CategoricalAccuracy()])\n",
    "hist_lstm=lstm.fit(train,epochs=1,callbacks=cb_list_lstm,verbose=1,validation_data=validation)"
   ]
  },
  {
   "cell_type": "code",
   "execution_count": null,
   "metadata": {},
   "outputs": [],
   "source": [
    "lstm.load_weights('lstm_model/checkpoint_lstm.h5')\n",
    "plt.figure()\n",
    "plt.plot(hist_lstm.history['loss'],label='Training Loss')\n",
    "plt.plot(hist_lstm.history['val_loss'],label='Validation Loss')\n",
    "plt.plot(hist_lstm.history['categorical_accuracy'],label='Training Accuracy')\n",
    "plt.plot(hist_lstm.history['val_categorical_accuracy'],label='Validation Accuracy')\n",
    "plt.legend()\n",
    "plt.show()\n",
    "lstm.evaluate(test)"
   ]
  },
  {
   "cell_type": "code",
   "execution_count": 5,
   "metadata": {
    "tags": [
     "outputPrepend"
    ]
   },
   "outputs": [
    {
     "name": "stdout",
     "output_type": "stream",
     "text": [
      "Epoch 1/500\n",
      "(None, None, 13)\n"
     ]
    },
    {
     "ename": "StagingError",
     "evalue": "in user code:\n\n    /home/louis/.local/lib/python3.8/site-packages/tensorflow/python/keras/engine/training.py:805 train_function  *\n        return step_function(self, iterator)\n    /home/louis/model_cnn/cnn.py:34 call  *\n        x=self.concat([x1,x2])\n    /home/louis/.local/lib/python3.8/site-packages/tensorflow/python/keras/engine/base_layer.py:1008 __call__  **\n        self._maybe_build(inputs)\n    /home/louis/.local/lib/python3.8/site-packages/tensorflow/python/keras/engine/base_layer.py:2710 _maybe_build\n        self.build(input_shapes)  # pylint:disable=not-callable\n    /home/louis/.local/lib/python3.8/site-packages/tensorflow/python/keras/utils/tf_utils.py:272 wrapper\n        output_shape = fn(instance, input_shape)\n    /home/louis/.local/lib/python3.8/site-packages/tensorflow/python/keras/layers/merge.py:500 build\n        del reduced_inputs_shapes[i][self.axis]\n\n    IndexError: list assignment index out of range\n",
     "output_type": "error",
     "traceback": [
      "\u001b[0;31m---------------------------------------------------------------------------\u001b[0m",
      "\u001b[0;31mStagingError\u001b[0m                              Traceback (most recent call last)",
      "\u001b[0;32m<ipython-input-5-f87e0b32bfc3>\u001b[0m in \u001b[0;36m<module>\u001b[0;34m\u001b[0m\n\u001b[1;32m      2\u001b[0m \u001b[0mcb_list_cnn\u001b[0m\u001b[0;34m=\u001b[0m\u001b[0;34m[\u001b[0m\u001b[0mtf\u001b[0m\u001b[0;34m.\u001b[0m\u001b[0mkeras\u001b[0m\u001b[0;34m.\u001b[0m\u001b[0mcallbacks\u001b[0m\u001b[0;34m.\u001b[0m\u001b[0mModelCheckpoint\u001b[0m\u001b[0;34m(\u001b[0m\u001b[0;34m'cnn_model/checkpoint_cnn_new.h5'\u001b[0m\u001b[0;34m,\u001b[0m\u001b[0mmonitor\u001b[0m\u001b[0;34m=\u001b[0m\u001b[0;34m'val_loss'\u001b[0m\u001b[0;34m,\u001b[0m\u001b[0msave_best_only\u001b[0m\u001b[0;34m=\u001b[0m\u001b[0;32mTrue\u001b[0m\u001b[0;34m,\u001b[0m\u001b[0msave_weights_only\u001b[0m\u001b[0;34m=\u001b[0m\u001b[0;32mTrue\u001b[0m\u001b[0;34m)\u001b[0m\u001b[0;34m]\u001b[0m\u001b[0;31m#,tf.keras.callbacks.EarlyStopping(monitor='val_loss',patience=50)]\u001b[0m\u001b[0;34m\u001b[0m\u001b[0;34m\u001b[0m\u001b[0m\n\u001b[1;32m      3\u001b[0m \u001b[0mcnn\u001b[0m\u001b[0;34m.\u001b[0m\u001b[0mcompile\u001b[0m\u001b[0;34m(\u001b[0m\u001b[0moptimizer\u001b[0m\u001b[0;34m=\u001b[0m\u001b[0;34m'adam'\u001b[0m\u001b[0;34m,\u001b[0m\u001b[0mloss\u001b[0m\u001b[0;34m=\u001b[0m\u001b[0;34m'categorical_crossentropy'\u001b[0m\u001b[0;34m,\u001b[0m\u001b[0mmetrics\u001b[0m\u001b[0;34m=\u001b[0m\u001b[0;34m[\u001b[0m\u001b[0mtf\u001b[0m\u001b[0;34m.\u001b[0m\u001b[0mkeras\u001b[0m\u001b[0;34m.\u001b[0m\u001b[0mmetrics\u001b[0m\u001b[0;34m.\u001b[0m\u001b[0mCategoricalAccuracy\u001b[0m\u001b[0;34m(\u001b[0m\u001b[0;34m)\u001b[0m\u001b[0;34m]\u001b[0m\u001b[0;34m)\u001b[0m\u001b[0;34m\u001b[0m\u001b[0;34m\u001b[0m\u001b[0m\n\u001b[0;32m----> 4\u001b[0;31m \u001b[0mhist_cnn\u001b[0m\u001b[0;34m=\u001b[0m\u001b[0mcnn\u001b[0m\u001b[0;34m.\u001b[0m\u001b[0mfit\u001b[0m\u001b[0;34m(\u001b[0m\u001b[0mtrain\u001b[0m\u001b[0;34m,\u001b[0m\u001b[0mepochs\u001b[0m\u001b[0;34m=\u001b[0m\u001b[0;36m500\u001b[0m\u001b[0;34m,\u001b[0m\u001b[0mcallbacks\u001b[0m\u001b[0;34m=\u001b[0m\u001b[0mcb_list_cnn\u001b[0m\u001b[0;34m,\u001b[0m\u001b[0mverbose\u001b[0m\u001b[0;34m=\u001b[0m\u001b[0;36m1\u001b[0m\u001b[0;34m,\u001b[0m\u001b[0mvalidation_data\u001b[0m\u001b[0;34m=\u001b[0m\u001b[0mvalidation\u001b[0m\u001b[0;34m)\u001b[0m\u001b[0;34m\u001b[0m\u001b[0;34m\u001b[0m\u001b[0m\n\u001b[0m\u001b[1;32m      5\u001b[0m \u001b[0mcnn\u001b[0m\u001b[0;34m.\u001b[0m\u001b[0msummary\u001b[0m\u001b[0;34m(\u001b[0m\u001b[0;34m)\u001b[0m\u001b[0;34m\u001b[0m\u001b[0;34m\u001b[0m\u001b[0m\n",
      "\u001b[0;32m~/.local/lib/python3.8/site-packages/tensorflow/python/keras/engine/training.py\u001b[0m in \u001b[0;36mfit\u001b[0;34m(self, x, y, batch_size, epochs, verbose, callbacks, validation_split, validation_data, shuffle, class_weight, sample_weight, initial_epoch, steps_per_epoch, validation_steps, validation_batch_size, validation_freq, max_queue_size, workers, use_multiprocessing)\u001b[0m\n\u001b[1;32m   1098\u001b[0m                 _r=1):\n\u001b[1;32m   1099\u001b[0m               \u001b[0mcallbacks\u001b[0m\u001b[0;34m.\u001b[0m\u001b[0mon_train_batch_begin\u001b[0m\u001b[0;34m(\u001b[0m\u001b[0mstep\u001b[0m\u001b[0;34m)\u001b[0m\u001b[0;34m\u001b[0m\u001b[0;34m\u001b[0m\u001b[0m\n\u001b[0;32m-> 1100\u001b[0;31m               \u001b[0mtmp_logs\u001b[0m \u001b[0;34m=\u001b[0m \u001b[0mself\u001b[0m\u001b[0;34m.\u001b[0m\u001b[0mtrain_function\u001b[0m\u001b[0;34m(\u001b[0m\u001b[0miterator\u001b[0m\u001b[0;34m)\u001b[0m\u001b[0;34m\u001b[0m\u001b[0;34m\u001b[0m\u001b[0m\n\u001b[0m\u001b[1;32m   1101\u001b[0m               \u001b[0;32mif\u001b[0m \u001b[0mdata_handler\u001b[0m\u001b[0;34m.\u001b[0m\u001b[0mshould_sync\u001b[0m\u001b[0;34m:\u001b[0m\u001b[0;34m\u001b[0m\u001b[0;34m\u001b[0m\u001b[0m\n\u001b[1;32m   1102\u001b[0m                 \u001b[0mcontext\u001b[0m\u001b[0;34m.\u001b[0m\u001b[0masync_wait\u001b[0m\u001b[0;34m(\u001b[0m\u001b[0;34m)\u001b[0m\u001b[0;34m\u001b[0m\u001b[0;34m\u001b[0m\u001b[0m\n",
      "\u001b[0;32m~/.local/lib/python3.8/site-packages/tensorflow/python/eager/def_function.py\u001b[0m in \u001b[0;36m__call__\u001b[0;34m(self, *args, **kwds)\u001b[0m\n\u001b[1;32m    826\u001b[0m     \u001b[0mtracing_count\u001b[0m \u001b[0;34m=\u001b[0m \u001b[0mself\u001b[0m\u001b[0;34m.\u001b[0m\u001b[0mexperimental_get_tracing_count\u001b[0m\u001b[0;34m(\u001b[0m\u001b[0;34m)\u001b[0m\u001b[0;34m\u001b[0m\u001b[0;34m\u001b[0m\u001b[0m\n\u001b[1;32m    827\u001b[0m     \u001b[0;32mwith\u001b[0m \u001b[0mtrace\u001b[0m\u001b[0;34m.\u001b[0m\u001b[0mTrace\u001b[0m\u001b[0;34m(\u001b[0m\u001b[0mself\u001b[0m\u001b[0;34m.\u001b[0m\u001b[0m_name\u001b[0m\u001b[0;34m)\u001b[0m \u001b[0;32mas\u001b[0m \u001b[0mtm\u001b[0m\u001b[0;34m:\u001b[0m\u001b[0;34m\u001b[0m\u001b[0;34m\u001b[0m\u001b[0m\n\u001b[0;32m--> 828\u001b[0;31m       \u001b[0mresult\u001b[0m \u001b[0;34m=\u001b[0m \u001b[0mself\u001b[0m\u001b[0;34m.\u001b[0m\u001b[0m_call\u001b[0m\u001b[0;34m(\u001b[0m\u001b[0;34m*\u001b[0m\u001b[0margs\u001b[0m\u001b[0;34m,\u001b[0m \u001b[0;34m**\u001b[0m\u001b[0mkwds\u001b[0m\u001b[0;34m)\u001b[0m\u001b[0;34m\u001b[0m\u001b[0;34m\u001b[0m\u001b[0m\n\u001b[0m\u001b[1;32m    829\u001b[0m       \u001b[0mcompiler\u001b[0m \u001b[0;34m=\u001b[0m \u001b[0;34m\"xla\"\u001b[0m \u001b[0;32mif\u001b[0m \u001b[0mself\u001b[0m\u001b[0;34m.\u001b[0m\u001b[0m_experimental_compile\u001b[0m \u001b[0;32melse\u001b[0m \u001b[0;34m\"nonXla\"\u001b[0m\u001b[0;34m\u001b[0m\u001b[0;34m\u001b[0m\u001b[0m\n\u001b[1;32m    830\u001b[0m       \u001b[0mnew_tracing_count\u001b[0m \u001b[0;34m=\u001b[0m \u001b[0mself\u001b[0m\u001b[0;34m.\u001b[0m\u001b[0mexperimental_get_tracing_count\u001b[0m\u001b[0;34m(\u001b[0m\u001b[0;34m)\u001b[0m\u001b[0;34m\u001b[0m\u001b[0;34m\u001b[0m\u001b[0m\n",
      "\u001b[0;32m~/.local/lib/python3.8/site-packages/tensorflow/python/eager/def_function.py\u001b[0m in \u001b[0;36m_call\u001b[0;34m(self, *args, **kwds)\u001b[0m\n\u001b[1;32m    869\u001b[0m       \u001b[0;31m# This is the first call of __call__, so we have to initialize.\u001b[0m\u001b[0;34m\u001b[0m\u001b[0;34m\u001b[0m\u001b[0;34m\u001b[0m\u001b[0m\n\u001b[1;32m    870\u001b[0m       \u001b[0minitializers\u001b[0m \u001b[0;34m=\u001b[0m \u001b[0;34m[\u001b[0m\u001b[0;34m]\u001b[0m\u001b[0;34m\u001b[0m\u001b[0;34m\u001b[0m\u001b[0m\n\u001b[0;32m--> 871\u001b[0;31m       \u001b[0mself\u001b[0m\u001b[0;34m.\u001b[0m\u001b[0m_initialize\u001b[0m\u001b[0;34m(\u001b[0m\u001b[0margs\u001b[0m\u001b[0;34m,\u001b[0m \u001b[0mkwds\u001b[0m\u001b[0;34m,\u001b[0m \u001b[0madd_initializers_to\u001b[0m\u001b[0;34m=\u001b[0m\u001b[0minitializers\u001b[0m\u001b[0;34m)\u001b[0m\u001b[0;34m\u001b[0m\u001b[0;34m\u001b[0m\u001b[0m\n\u001b[0m\u001b[1;32m    872\u001b[0m     \u001b[0;32mfinally\u001b[0m\u001b[0;34m:\u001b[0m\u001b[0;34m\u001b[0m\u001b[0;34m\u001b[0m\u001b[0m\n\u001b[1;32m    873\u001b[0m       \u001b[0;31m# At this point we know that the initialization is complete (or less\u001b[0m\u001b[0;34m\u001b[0m\u001b[0;34m\u001b[0m\u001b[0;34m\u001b[0m\u001b[0m\n",
      "\u001b[0;32m~/.local/lib/python3.8/site-packages/tensorflow/python/eager/def_function.py\u001b[0m in \u001b[0;36m_initialize\u001b[0;34m(self, args, kwds, add_initializers_to)\u001b[0m\n\u001b[1;32m    723\u001b[0m     \u001b[0mself\u001b[0m\u001b[0;34m.\u001b[0m\u001b[0m_graph_deleter\u001b[0m \u001b[0;34m=\u001b[0m \u001b[0mFunctionDeleter\u001b[0m\u001b[0;34m(\u001b[0m\u001b[0mself\u001b[0m\u001b[0;34m.\u001b[0m\u001b[0m_lifted_initializer_graph\u001b[0m\u001b[0;34m)\u001b[0m\u001b[0;34m\u001b[0m\u001b[0;34m\u001b[0m\u001b[0m\n\u001b[1;32m    724\u001b[0m     self._concrete_stateful_fn = (\n\u001b[0;32m--> 725\u001b[0;31m         self._stateful_fn._get_concrete_function_internal_garbage_collected(  # pylint: disable=protected-access\n\u001b[0m\u001b[1;32m    726\u001b[0m             *args, **kwds))\n\u001b[1;32m    727\u001b[0m \u001b[0;34m\u001b[0m\u001b[0m\n",
      "\u001b[0;32m~/.local/lib/python3.8/site-packages/tensorflow/python/eager/function.py\u001b[0m in \u001b[0;36m_get_concrete_function_internal_garbage_collected\u001b[0;34m(self, *args, **kwargs)\u001b[0m\n\u001b[1;32m   2967\u001b[0m       \u001b[0margs\u001b[0m\u001b[0;34m,\u001b[0m \u001b[0mkwargs\u001b[0m \u001b[0;34m=\u001b[0m \u001b[0;32mNone\u001b[0m\u001b[0;34m,\u001b[0m \u001b[0;32mNone\u001b[0m\u001b[0;34m\u001b[0m\u001b[0;34m\u001b[0m\u001b[0m\n\u001b[1;32m   2968\u001b[0m     \u001b[0;32mwith\u001b[0m \u001b[0mself\u001b[0m\u001b[0;34m.\u001b[0m\u001b[0m_lock\u001b[0m\u001b[0;34m:\u001b[0m\u001b[0;34m\u001b[0m\u001b[0;34m\u001b[0m\u001b[0m\n\u001b[0;32m-> 2969\u001b[0;31m       \u001b[0mgraph_function\u001b[0m\u001b[0;34m,\u001b[0m \u001b[0m_\u001b[0m \u001b[0;34m=\u001b[0m \u001b[0mself\u001b[0m\u001b[0;34m.\u001b[0m\u001b[0m_maybe_define_function\u001b[0m\u001b[0;34m(\u001b[0m\u001b[0margs\u001b[0m\u001b[0;34m,\u001b[0m \u001b[0mkwargs\u001b[0m\u001b[0;34m)\u001b[0m\u001b[0;34m\u001b[0m\u001b[0;34m\u001b[0m\u001b[0m\n\u001b[0m\u001b[1;32m   2970\u001b[0m     \u001b[0;32mreturn\u001b[0m \u001b[0mgraph_function\u001b[0m\u001b[0;34m\u001b[0m\u001b[0;34m\u001b[0m\u001b[0m\n\u001b[1;32m   2971\u001b[0m \u001b[0;34m\u001b[0m\u001b[0m\n",
      "\u001b[0;32m~/.local/lib/python3.8/site-packages/tensorflow/python/eager/function.py\u001b[0m in \u001b[0;36m_maybe_define_function\u001b[0;34m(self, args, kwargs)\u001b[0m\n\u001b[1;32m   3359\u001b[0m \u001b[0;34m\u001b[0m\u001b[0m\n\u001b[1;32m   3360\u001b[0m           \u001b[0mself\u001b[0m\u001b[0;34m.\u001b[0m\u001b[0m_function_cache\u001b[0m\u001b[0;34m.\u001b[0m\u001b[0mmissed\u001b[0m\u001b[0;34m.\u001b[0m\u001b[0madd\u001b[0m\u001b[0;34m(\u001b[0m\u001b[0mcall_context_key\u001b[0m\u001b[0;34m)\u001b[0m\u001b[0;34m\u001b[0m\u001b[0;34m\u001b[0m\u001b[0m\n\u001b[0;32m-> 3361\u001b[0;31m           \u001b[0mgraph_function\u001b[0m \u001b[0;34m=\u001b[0m \u001b[0mself\u001b[0m\u001b[0;34m.\u001b[0m\u001b[0m_create_graph_function\u001b[0m\u001b[0;34m(\u001b[0m\u001b[0margs\u001b[0m\u001b[0;34m,\u001b[0m \u001b[0mkwargs\u001b[0m\u001b[0;34m)\u001b[0m\u001b[0;34m\u001b[0m\u001b[0;34m\u001b[0m\u001b[0m\n\u001b[0m\u001b[1;32m   3362\u001b[0m           \u001b[0mself\u001b[0m\u001b[0;34m.\u001b[0m\u001b[0m_function_cache\u001b[0m\u001b[0;34m.\u001b[0m\u001b[0mprimary\u001b[0m\u001b[0;34m[\u001b[0m\u001b[0mcache_key\u001b[0m\u001b[0;34m]\u001b[0m \u001b[0;34m=\u001b[0m \u001b[0mgraph_function\u001b[0m\u001b[0;34m\u001b[0m\u001b[0;34m\u001b[0m\u001b[0m\n\u001b[1;32m   3363\u001b[0m \u001b[0;34m\u001b[0m\u001b[0m\n",
      "\u001b[0;32m~/.local/lib/python3.8/site-packages/tensorflow/python/eager/function.py\u001b[0m in \u001b[0;36m_create_graph_function\u001b[0;34m(self, args, kwargs, override_flat_arg_shapes)\u001b[0m\n\u001b[1;32m   3194\u001b[0m     \u001b[0marg_names\u001b[0m \u001b[0;34m=\u001b[0m \u001b[0mbase_arg_names\u001b[0m \u001b[0;34m+\u001b[0m \u001b[0mmissing_arg_names\u001b[0m\u001b[0;34m\u001b[0m\u001b[0;34m\u001b[0m\u001b[0m\n\u001b[1;32m   3195\u001b[0m     graph_function = ConcreteFunction(\n\u001b[0;32m-> 3196\u001b[0;31m         func_graph_module.func_graph_from_py_func(\n\u001b[0m\u001b[1;32m   3197\u001b[0m             \u001b[0mself\u001b[0m\u001b[0;34m.\u001b[0m\u001b[0m_name\u001b[0m\u001b[0;34m,\u001b[0m\u001b[0;34m\u001b[0m\u001b[0;34m\u001b[0m\u001b[0m\n\u001b[1;32m   3198\u001b[0m             \u001b[0mself\u001b[0m\u001b[0;34m.\u001b[0m\u001b[0m_python_function\u001b[0m\u001b[0;34m,\u001b[0m\u001b[0;34m\u001b[0m\u001b[0;34m\u001b[0m\u001b[0m\n",
      "\u001b[0;32m~/.local/lib/python3.8/site-packages/tensorflow/python/framework/func_graph.py\u001b[0m in \u001b[0;36mfunc_graph_from_py_func\u001b[0;34m(name, python_func, args, kwargs, signature, func_graph, autograph, autograph_options, add_control_dependencies, arg_names, op_return_value, collections, capture_by_value, override_flat_arg_shapes)\u001b[0m\n\u001b[1;32m    988\u001b[0m         \u001b[0m_\u001b[0m\u001b[0;34m,\u001b[0m \u001b[0moriginal_func\u001b[0m \u001b[0;34m=\u001b[0m \u001b[0mtf_decorator\u001b[0m\u001b[0;34m.\u001b[0m\u001b[0munwrap\u001b[0m\u001b[0;34m(\u001b[0m\u001b[0mpython_func\u001b[0m\u001b[0;34m)\u001b[0m\u001b[0;34m\u001b[0m\u001b[0;34m\u001b[0m\u001b[0m\n\u001b[1;32m    989\u001b[0m \u001b[0;34m\u001b[0m\u001b[0m\n\u001b[0;32m--> 990\u001b[0;31m       \u001b[0mfunc_outputs\u001b[0m \u001b[0;34m=\u001b[0m \u001b[0mpython_func\u001b[0m\u001b[0;34m(\u001b[0m\u001b[0;34m*\u001b[0m\u001b[0mfunc_args\u001b[0m\u001b[0;34m,\u001b[0m \u001b[0;34m**\u001b[0m\u001b[0mfunc_kwargs\u001b[0m\u001b[0;34m)\u001b[0m\u001b[0;34m\u001b[0m\u001b[0;34m\u001b[0m\u001b[0m\n\u001b[0m\u001b[1;32m    991\u001b[0m \u001b[0;34m\u001b[0m\u001b[0m\n\u001b[1;32m    992\u001b[0m       \u001b[0;31m# invariant: `func_outputs` contains only Tensors, CompositeTensors,\u001b[0m\u001b[0;34m\u001b[0m\u001b[0;34m\u001b[0m\u001b[0;34m\u001b[0m\u001b[0m\n",
      "\u001b[0;32m~/.local/lib/python3.8/site-packages/tensorflow/python/eager/def_function.py\u001b[0m in \u001b[0;36mwrapped_fn\u001b[0;34m(*args, **kwds)\u001b[0m\n\u001b[1;32m    632\u001b[0m             \u001b[0mxla_context\u001b[0m\u001b[0;34m.\u001b[0m\u001b[0mExit\u001b[0m\u001b[0;34m(\u001b[0m\u001b[0;34m)\u001b[0m\u001b[0;34m\u001b[0m\u001b[0;34m\u001b[0m\u001b[0m\n\u001b[1;32m    633\u001b[0m         \u001b[0;32melse\u001b[0m\u001b[0;34m:\u001b[0m\u001b[0;34m\u001b[0m\u001b[0;34m\u001b[0m\u001b[0m\n\u001b[0;32m--> 634\u001b[0;31m           \u001b[0mout\u001b[0m \u001b[0;34m=\u001b[0m \u001b[0mweak_wrapped_fn\u001b[0m\u001b[0;34m(\u001b[0m\u001b[0;34m)\u001b[0m\u001b[0;34m.\u001b[0m\u001b[0m__wrapped__\u001b[0m\u001b[0;34m(\u001b[0m\u001b[0;34m*\u001b[0m\u001b[0margs\u001b[0m\u001b[0;34m,\u001b[0m \u001b[0;34m**\u001b[0m\u001b[0mkwds\u001b[0m\u001b[0;34m)\u001b[0m\u001b[0;34m\u001b[0m\u001b[0;34m\u001b[0m\u001b[0m\n\u001b[0m\u001b[1;32m    635\u001b[0m         \u001b[0;32mreturn\u001b[0m \u001b[0mout\u001b[0m\u001b[0;34m\u001b[0m\u001b[0;34m\u001b[0m\u001b[0m\n\u001b[1;32m    636\u001b[0m \u001b[0;34m\u001b[0m\u001b[0m\n",
      "\u001b[0;32m~/.local/lib/python3.8/site-packages/tensorflow/python/framework/func_graph.py\u001b[0m in \u001b[0;36mwrapper\u001b[0;34m(*args, **kwargs)\u001b[0m\n\u001b[1;32m    975\u001b[0m           \u001b[0;32mexcept\u001b[0m \u001b[0mException\u001b[0m \u001b[0;32mas\u001b[0m \u001b[0me\u001b[0m\u001b[0;34m:\u001b[0m  \u001b[0;31m# pylint:disable=broad-except\u001b[0m\u001b[0;34m\u001b[0m\u001b[0;34m\u001b[0m\u001b[0m\n\u001b[1;32m    976\u001b[0m             \u001b[0;32mif\u001b[0m \u001b[0mhasattr\u001b[0m\u001b[0;34m(\u001b[0m\u001b[0me\u001b[0m\u001b[0;34m,\u001b[0m \u001b[0;34m\"ag_error_metadata\"\u001b[0m\u001b[0;34m)\u001b[0m\u001b[0;34m:\u001b[0m\u001b[0;34m\u001b[0m\u001b[0;34m\u001b[0m\u001b[0m\n\u001b[0;32m--> 977\u001b[0;31m               \u001b[0;32mraise\u001b[0m \u001b[0me\u001b[0m\u001b[0;34m.\u001b[0m\u001b[0mag_error_metadata\u001b[0m\u001b[0;34m.\u001b[0m\u001b[0mto_exception\u001b[0m\u001b[0;34m(\u001b[0m\u001b[0me\u001b[0m\u001b[0;34m)\u001b[0m\u001b[0;34m\u001b[0m\u001b[0;34m\u001b[0m\u001b[0m\n\u001b[0m\u001b[1;32m    978\u001b[0m             \u001b[0;32melse\u001b[0m\u001b[0;34m:\u001b[0m\u001b[0;34m\u001b[0m\u001b[0;34m\u001b[0m\u001b[0m\n\u001b[1;32m    979\u001b[0m               \u001b[0;32mraise\u001b[0m\u001b[0;34m\u001b[0m\u001b[0;34m\u001b[0m\u001b[0m\n",
      "\u001b[0;31mStagingError\u001b[0m: in user code:\n\n    /home/louis/.local/lib/python3.8/site-packages/tensorflow/python/keras/engine/training.py:805 train_function  *\n        return step_function(self, iterator)\n    /home/louis/model_cnn/cnn.py:34 call  *\n        x=self.concat([x1,x2])\n    /home/louis/.local/lib/python3.8/site-packages/tensorflow/python/keras/engine/base_layer.py:1008 __call__  **\n        self._maybe_build(inputs)\n    /home/louis/.local/lib/python3.8/site-packages/tensorflow/python/keras/engine/base_layer.py:2710 _maybe_build\n        self.build(input_shapes)  # pylint:disable=not-callable\n    /home/louis/.local/lib/python3.8/site-packages/tensorflow/python/keras/utils/tf_utils.py:272 wrapper\n        output_shape = fn(instance, input_shape)\n    /home/louis/.local/lib/python3.8/site-packages/tensorflow/python/keras/layers/merge.py:500 build\n        del reduced_inputs_shapes[i][self.axis]\n\n    IndexError: list assignment index out of range\n"
     ]
    }
   ],
   "source": [
    "cnn=Turtlebot_CNN()\n",
    "cb_list_cnn=[tf.keras.callbacks.ModelCheckpoint('cnn_model/checkpoint_cnn_new.h5',monitor='val_loss',save_best_only=True,save_weights_only=True)]#,tf.keras.callbacks.EarlyStopping(monitor='val_loss',patience=50)]\n",
    "cnn.compile(optimizer='adam',loss='categorical_crossentropy',metrics=[tf.keras.metrics.CategoricalAccuracy()])\n",
    "hist_cnn=cnn.fit(train,epochs=500,callbacks=cb_list_cnn,verbose=1,validation_data=validation)\n",
    "cnn.summary()"
   ]
  },
  {
   "cell_type": "code",
   "execution_count": null,
   "metadata": {},
   "outputs": [],
   "source": [
    "cnn.load_weights('cnn_model/checkpoint_cnn_new.h5')\n",
    "\n",
    "plt.figure()\n",
    "plt.plot(hist_cnn.history['loss'],label='Training Loss')\n",
    "plt.plot(hist_cnn.history['val_loss'],label='Validation Loss')\n",
    "plt.plot(hist_cnn.history['categorical_accuracy'],label='Training Accuracy')\n",
    "plt.plot(hist_cnn.history['val_categorical_accuracy'],label='Validation Accuracy')\n",
    "plt.legend()\n",
    "plt.show()\n",
    "cnn.evaluate(test)"
   ]
  },
  {
   "cell_type": "markdown",
   "metadata": {},
   "source": [
    "## Testing the model"
   ]
  },
  {
   "cell_type": "code",
   "execution_count": null,
   "metadata": {},
   "outputs": [],
   "source": []
  },
  {
   "cell_type": "markdown",
   "metadata": {},
   "source": [
    "Here is a Visualization of what the CNN does \n",
    "\n",
    "![Visualization of the CNN](img/Schema_CNN.png)"
   ]
  },
  {
   "cell_type": "code",
   "execution_count": null,
   "metadata": {},
   "outputs": [],
   "source": [
    "import numpy as np\n",
    "def results(model,test):\n",
    "    res=model.predict(test)\n",
    "    c=0\n",
    "    for i,pred in enumerate(res):\n",
    "        y=test[i][1][0]\n",
    "        if np.argmax(y)==np.argmax(pred):\n",
    "            c+=1\n",
    "    return(c/len(res))\n",
    "            "
   ]
  },
  {
   "cell_type": "code",
   "execution_count": null,
   "metadata": {},
   "outputs": [],
   "source": [
    "lstm.load_weights('lstm_model/checkpoint_lstm.h5')\n",
    "cnn.load_weights('cnn_model/checkpoint_cnn.h5')\n",
    "print('LSTM :',results(lstm,test))\n",
    "print('CNN :',results(cnn,test))"
   ]
  },
  {
   "cell_type": "code",
   "execution_count": null,
   "metadata": {},
   "outputs": [],
   "source": [
    "model.predict(test)"
   ]
  },
  {
   "cell_type": "code",
   "execution_count": null,
   "metadata": {},
   "outputs": [],
   "source": [
    "train[0]"
   ]
  },
  {
   "cell_type": "code",
   "execution_count": null,
   "metadata": {},
   "outputs": [],
   "source": [
    "tf.data.Dataset.from_generator(train)"
   ]
  },
  {
   "cell_type": "code",
   "execution_count": null,
   "metadata": {},
   "outputs": [],
   "source": [
    "odoms,scans,labels=make_dataset('/media/louis/TOSHIBA EXT/FullData')"
   ]
  },
  {
   "cell_type": "code",
   "execution_count": null,
   "metadata": {},
   "outputs": [],
   "source": [
    "tf.data.Dataset.from_generator(lambda :odoms,output_shapes=[None,13],output_types=tf.float32)"
   ]
  },
  {
   "cell_type": "code",
   "execution_count": null,
   "metadata": {},
   "outputs": [],
   "source": [
    "np.shape(odoms[1])"
   ]
  },
  {
   "cell_type": "code",
   "execution_count": null,
   "metadata": {},
   "outputs": [],
   "source": [
    "lstm=Turtlebot_CNN(type='lstm')\n",
    "lstm.compile(optimizer='adam',loss='categorical_crossentropy')\n",
    "lstm.load_weights('lstm_model/checkpoint_lstm.h5')\n",
    "lstm.predict(train)"
   ]
  },
  {
   "cell_type": "code",
   "execution_count": null,
   "metadata": {},
   "outputs": [],
   "source": [
    "for element in train:\n",
    "    print(element)"
   ]
  },
  {
   "cell_type": "code",
   "execution_count": null,
   "metadata": {},
   "outputs": [
    {
     "name": "stdout",
     "output_type": "stream",
     "text": [
      "[INFO]  Data folder /media/louis/TOSHIBA EXT/FullData/NoNoise/43/auto_sending_goals_2021-06-30-10-06-18 already exists. Not creating.\n",
      "[INFO]  Data folder /media/louis/TOSHIBA EXT/FullData/NoNoise/1/auto_sending_goals_2021-06-29-10-22-41 already exists. Not creating.\n",
      "[INFO]  Data folder /media/louis/TOSHIBA EXT/FullData/NoNoise/10/auto_sending_goals_2021-06-29-10-30-24 already exists. Not creating.\n",
      "[INFO]  Data folder /media/louis/TOSHIBA EXT/FullData/NoNoise/11/auto_sending_goals_2021-06-29-10-30-48 already exists. Not creating.\n",
      "[INFO]  Data folder /media/louis/TOSHIBA EXT/FullData/NoNoise/12/auto_sending_goals_2021-06-29-10-33-03 already exists. Not creating.\n",
      "[INFO]  Data folder /media/louis/TOSHIBA EXT/FullData/NoNoise/13/auto_sending_goals_2021-06-29-10-35-19 already exists. Not creating.\n",
      "[INFO]  Data folder /media/louis/TOSHIBA EXT/FullData/NoNoise/14/auto_sending_goals_2021-06-29-10-37-34 already exists. Not creating.\n",
      "[INFO]  Data folder /media/louis/TOSHIBA EXT/FullData/NoNoise/15/auto_sending_goals_2021-06-29-10-39-50 already exists. Not creating.\n",
      "[INFO]  Data folder /media/louis/TOSHIBA EXT/FullData/NoNoise/16/auto_sending_goals_2021-06-29-10-42-06 already exists. Not creating.\n",
      "[INFO]  Data folder /media/louis/TOSHIBA EXT/FullData/NoNoise/17/auto_sending_goals_2021-06-29-10-44-21 already exists. Not creating.\n",
      "[INFO]  Data folder /media/louis/TOSHIBA EXT/FullData/NoNoise/18/auto_sending_goals_2021-06-29-10-46-37 already exists. Not creating.\n",
      "[INFO]  Data folder /media/louis/TOSHIBA EXT/FullData/NoNoise/19/auto_sending_goals_2021-06-29-10-48-52 already exists. Not creating.\n",
      "[INFO]  Data folder /media/louis/TOSHIBA EXT/FullData/NoNoise/2/auto_sending_goals_2021-06-29-10-23-19 already exists. Not creating.\n",
      "[INFO]  Data folder /media/louis/TOSHIBA EXT/FullData/NoNoise/20/auto_sending_goals_2021-06-29-10-51-08 already exists. Not creating.\n",
      "[INFO]  Data folder /media/louis/TOSHIBA EXT/FullData/NoNoise/21/auto_sending_goals_2021-06-29-10-53-24 already exists. Not creating.\n",
      "[INFO]  Data folder /media/louis/TOSHIBA EXT/FullData/NoNoise/22/auto_sending_goals_2021-06-29-10-55-39 already exists. Not creating.\n",
      "[INFO]  Data folder /media/louis/TOSHIBA EXT/FullData/NoNoise/23/auto_sending_goals_2021-06-29-10-57-55 already exists. Not creating.\n",
      "[INFO]  Data folder /media/louis/TOSHIBA EXT/FullData/NoNoise/24/auto_sending_goals_2021-06-29-11-00-10 already exists. Not creating.\n",
      "[INFO]  Data folder /media/louis/TOSHIBA EXT/FullData/NoNoise/25/auto_sending_goals_2021-06-29-11-02-26 already exists. Not creating.\n",
      "[INFO]  Data folder /media/louis/TOSHIBA EXT/FullData/NoNoise/26/auto_sending_goals_2021-06-29-11-04-42 already exists. Not creating.\n",
      "[INFO]  Data folder /media/louis/TOSHIBA EXT/FullData/NoNoise/27/auto_sending_goals_2021-06-29-11-06-57 already exists. Not creating.\n",
      "[INFO]  Data folder /media/louis/TOSHIBA EXT/FullData/NoNoise/28/auto_sending_goals_2021-06-29-11-09-13 already exists. Not creating.\n",
      "[INFO]  Data folder /media/louis/TOSHIBA EXT/FullData/NoNoise/29/auto_sending_goals_2021-06-29-11-11-28 already exists. Not creating.\n",
      "[INFO]  Data folder /media/louis/TOSHIBA EXT/FullData/NoNoise/3/auto_sending_goals_2021-06-29-10-23-43 already exists. Not creating.\n",
      "[INFO]  Data folder /media/louis/TOSHIBA EXT/FullData/NoNoise/30/auto_sending_goals_2021-06-29-11-13-44 already exists. Not creating.\n",
      "[INFO]  Data folder /media/louis/TOSHIBA EXT/FullData/NoNoise/31/auto_sending_goals_2021-06-30-09-53-34 already exists. Not creating.\n",
      "[INFO]  Data folder /media/louis/TOSHIBA EXT/FullData/NoNoise/32/auto_sending_goals_2021-06-30-09-54-12 already exists. Not creating.\n",
      "[INFO]  Data folder /media/louis/TOSHIBA EXT/FullData/NoNoise/33/auto_sending_goals_2021-06-30-09-54-36 already exists. Not creating.\n",
      "[INFO]  Data folder /media/louis/TOSHIBA EXT/FullData/NoNoise/34/auto_sending_goals_2021-06-30-09-55-01 already exists. Not creating.\n",
      "[INFO]  Data folder /media/louis/TOSHIBA EXT/FullData/NoNoise/35/auto_sending_goals_2021-06-30-09-55-27 already exists. Not creating.\n",
      "[INFO]  Data folder /media/louis/TOSHIBA EXT/FullData/NoNoise/36/auto_sending_goals_2021-06-30-09-57-43 already exists. Not creating.\n",
      "[INFO]  Data folder /media/louis/TOSHIBA EXT/FullData/NoNoise/37/auto_sending_goals_2021-06-30-09-58-13 already exists. Not creating.\n",
      "[INFO]  Data folder /media/louis/TOSHIBA EXT/FullData/NoNoise/38/auto_sending_goals_2021-06-30-10-00-29 already exists. Not creating.\n",
      "[INFO]  Data folder /media/louis/TOSHIBA EXT/FullData/NoNoise/39/auto_sending_goals_2021-06-30-10-02-44 already exists. Not creating.\n",
      "[INFO]  Data folder /media/louis/TOSHIBA EXT/FullData/NoNoise/4/auto_sending_goals_2021-06-29-10-24-08 already exists. Not creating.\n",
      "[INFO]  Data folder /media/louis/TOSHIBA EXT/FullData/NoNoise/40/auto_sending_goals_2021-06-30-10-03-16 already exists. Not creating.\n",
      "[INFO]  Data folder /media/louis/TOSHIBA EXT/FullData/NoNoise/41/auto_sending_goals_2021-06-30-10-03-40 already exists. Not creating.\n",
      "[INFO]  Data folder /media/louis/TOSHIBA EXT/FullData/NoNoise/42/auto_sending_goals_2021-06-30-10-04-03 already exists. Not creating.\n",
      "[INFO]  Data folder /media/louis/TOSHIBA EXT/FullData/NoNoise/44/auto_sending_goals_2021-06-30-10-08-34 already exists. Not creating.\n",
      "[INFO]  Data folder /media/louis/TOSHIBA EXT/FullData/NoNoise/45/auto_sending_goals_2021-06-30-10-10-50 already exists. Not creating.\n",
      "[INFO]  Data folder /media/louis/TOSHIBA EXT/FullData/NoNoise/46/auto_sending_goals_2021-06-30-10-13-05 already exists. Not creating.\n",
      "[INFO]  Data folder /media/louis/TOSHIBA EXT/FullData/NoNoise/47/auto_sending_goals_2021-06-30-10-15-21 already exists. Not creating.\n",
      "[INFO]  Data folder /media/louis/TOSHIBA EXT/FullData/NoNoise/48/auto_sending_goals_2021-06-30-10-17-36 already exists. Not creating.\n",
      "[INFO]  Data folder /media/louis/TOSHIBA EXT/FullData/NoNoise/49/auto_sending_goals_2021-06-30-10-19-52 already exists. Not creating.\n",
      "[INFO]  Data folder /media/louis/TOSHIBA EXT/FullData/NoNoise/5/auto_sending_goals_2021-06-29-10-24-33 already exists. Not creating.\n",
      "[INFO]  Data folder /media/louis/TOSHIBA EXT/FullData/NoNoise/50/auto_sending_goals_2021-06-30-10-22-08 already exists. Not creating.\n",
      "[INFO]  Data folder /media/louis/TOSHIBA EXT/FullData/NoNoise/51/auto_sending_goals_2021-06-30-10-24-23 already exists. Not creating.\n",
      "[INFO]  Data folder /media/louis/TOSHIBA EXT/FullData/NoNoise/52/auto_sending_goals_2021-06-30-10-26-39 already exists. Not creating.\n",
      "[INFO]  Data folder /media/louis/TOSHIBA EXT/FullData/NoNoise/53/auto_sending_goals_2021-06-30-10-28-54 already exists. Not creating.\n",
      "[INFO]  Data folder /media/louis/TOSHIBA EXT/FullData/NoNoise/54/auto_sending_goals_2021-06-30-10-31-10 already exists. Not creating.\n",
      "[INFO]  Data folder /media/louis/TOSHIBA EXT/FullData/NoNoise/55/auto_sending_goals_2021-06-30-10-33-26 already exists. Not creating.\n",
      "[INFO]  Data folder /media/louis/TOSHIBA EXT/FullData/NoNoise/56/auto_sending_goals_2021-06-30-10-35-41 already exists. Not creating.\n",
      "[INFO]  Data folder /media/louis/TOSHIBA EXT/FullData/NoNoise/57/auto_sending_goals_2021-06-30-10-37-57 already exists. Not creating.\n",
      "[INFO]  Data folder /media/louis/TOSHIBA EXT/FullData/NoNoise/58/auto_sending_goals_2021-06-30-10-40-13 already exists. Not creating.\n",
      "[INFO]  Data folder /media/louis/TOSHIBA EXT/FullData/NoNoise/59/auto_sending_goals_2021-06-30-10-42-28 already exists. Not creating.\n",
      "[INFO]  Data folder /media/louis/TOSHIBA EXT/FullData/NoNoise/6/auto_sending_goals_2021-06-29-10-26-49 already exists. Not creating.\n",
      "[INFO]  Data folder /media/louis/TOSHIBA EXT/FullData/NoNoise/60/auto_sending_goals_2021-06-30-10-44-44 already exists. Not creating.\n",
      "[INFO]  Data folder /media/louis/TOSHIBA EXT/FullData/NoNoise/7/auto_sending_goals_2021-06-29-10-27-20 already exists. Not creating.\n",
      "[INFO]  Data folder /media/louis/TOSHIBA EXT/FullData/NoNoise/8/auto_sending_goals_2021-06-29-10-29-36 already exists. Not creating.\n",
      "[INFO]  Data folder /media/louis/TOSHIBA EXT/FullData/NoNoise/9/auto_sending_goals_2021-06-29-10-29-59 already exists. Not creating.\n",
      "[INFO]  Data folder /media/louis/TOSHIBA EXT/FullData/OdomNoise/3/auto_sending_goals_2021-06-29-11-23-21 already exists. Not creating.\n",
      "[INFO]  Data folder /media/louis/TOSHIBA EXT/FullData/OdomNoise/1/auto_sending_goals_2021-06-29-11-21-09 already exists. Not creating.\n",
      "[INFO]  Data folder /media/louis/TOSHIBA EXT/FullData/OdomNoise/10/auto_sending_goals_2021-06-29-11-39-10 already exists. Not creating.\n",
      "[INFO]  Data folder /media/louis/TOSHIBA EXT/FullData/OdomNoise/11/auto_sending_goals_2021-06-29-11-41-25 already exists. Not creating.\n",
      "[INFO]  Data folder /media/louis/TOSHIBA EXT/FullData/OdomNoise/12/auto_sending_goals_2021-06-29-11-42-31 already exists. Not creating.\n",
      "[INFO]  Data folder /media/louis/TOSHIBA EXT/FullData/OdomNoise/13/auto_sending_goals_2021-06-29-11-44-47 already exists. Not creating.\n",
      "[INFO]  Data folder /media/louis/TOSHIBA EXT/FullData/OdomNoise/14/auto_sending_goals_2021-06-29-11-47-02 already exists. Not creating.\n",
      "[INFO]  Data folder /media/louis/TOSHIBA EXT/FullData/OdomNoise/15/auto_sending_goals_2021-06-29-11-49-18 already exists. Not creating.\n",
      "[INFO]  Data folder /media/louis/TOSHIBA EXT/FullData/OdomNoise/16/auto_sending_goals_2021-06-29-11-51-33 already exists. Not creating.\n",
      "[INFO]  Data folder /media/louis/TOSHIBA EXT/FullData/OdomNoise/17/auto_sending_goals_2021-06-29-11-53-49 already exists. Not creating.\n",
      "[INFO]  Data folder /media/louis/TOSHIBA EXT/FullData/OdomNoise/18/auto_sending_goals_2021-06-29-11-56-05 already exists. Not creating.\n",
      "[INFO]  Data folder /media/louis/TOSHIBA EXT/FullData/OdomNoise/19/auto_sending_goals_2021-06-29-11-58-20 already exists. Not creating.\n",
      "[INFO]  Data folder /media/louis/TOSHIBA EXT/FullData/OdomNoise/2/auto_sending_goals_2021-06-29-11-22-35 already exists. Not creating.\n",
      "[INFO]  Data folder /media/louis/TOSHIBA EXT/FullData/OdomNoise/20/auto_sending_goals_2021-06-29-12-00-36 already exists. Not creating.\n",
      "[INFO]  Data folder /media/louis/TOSHIBA EXT/FullData/OdomNoise/21/auto_sending_goals_2021-06-29-12-02-51 already exists. Not creating.\n",
      "[INFO]  Data folder /media/louis/TOSHIBA EXT/FullData/OdomNoise/22/auto_sending_goals_2021-06-29-12-05-07 already exists. Not creating.\n",
      "[INFO]  Data folder /media/louis/TOSHIBA EXT/FullData/OdomNoise/23/auto_sending_goals_2021-06-29-12-07-22 already exists. Not creating.\n",
      "[INFO]  Data folder /media/louis/TOSHIBA EXT/FullData/OdomNoise/24/auto_sending_goals_2021-06-29-12-09-38 already exists. Not creating.\n",
      "[INFO]  Data folder /media/louis/TOSHIBA EXT/FullData/OdomNoise/25/auto_sending_goals_2021-06-29-12-11-53 already exists. Not creating.\n",
      "[INFO]  Data folder /media/louis/TOSHIBA EXT/FullData/OdomNoise/26/auto_sending_goals_2021-06-29-12-14-09 already exists. Not creating.\n",
      "[INFO]  Data folder /media/louis/TOSHIBA EXT/FullData/OdomNoise/27/auto_sending_goals_2021-06-29-12-16-25 already exists. Not creating.\n",
      "[INFO]  Data folder /media/louis/TOSHIBA EXT/FullData/OdomNoise/28/auto_sending_goals_2021-06-29-12-18-40 already exists. Not creating.\n",
      "[INFO]  Data folder /media/louis/TOSHIBA EXT/FullData/OdomNoise/29/auto_sending_goals_2021-06-29-12-20-56 already exists. Not creating.\n",
      "[INFO]  Data folder /media/louis/TOSHIBA EXT/FullData/OdomNoise/30/auto_sending_goals_2021-06-29-12-23-11 already exists. Not creating.\n",
      "[INFO]  Data folder /media/louis/TOSHIBA EXT/FullData/OdomNoise/31/auto_sending_goals_2021-06-30-10-56-09 already exists. Not creating.\n",
      "[INFO]  Data folder /media/louis/TOSHIBA EXT/FullData/OdomNoise/32/auto_sending_goals_2021-06-30-10-58-25 already exists. Not creating.\n",
      "[INFO]  Data folder /media/louis/TOSHIBA EXT/FullData/OdomNoise/33/auto_sending_goals_2021-06-30-11-00-41 already exists. Not creating.\n",
      "[INFO]  Data folder /media/louis/TOSHIBA EXT/FullData/OdomNoise/34/auto_sending_goals_2021-06-30-11-02-56 already exists. Not creating.\n",
      "[INFO]  Data folder /media/louis/TOSHIBA EXT/FullData/OdomNoise/35/auto_sending_goals_2021-06-30-11-05-12 already exists. Not creating.\n",
      "[INFO]  Data folder /media/louis/TOSHIBA EXT/FullData/OdomNoise/36/auto_sending_goals_2021-06-30-11-07-27 already exists. Not creating.\n",
      "[INFO]  Data folder /media/louis/TOSHIBA EXT/FullData/OdomNoise/37/auto_sending_goals_2021-06-30-11-09-43 already exists. Not creating.\n",
      "[INFO]  Data folder /media/louis/TOSHIBA EXT/FullData/OdomNoise/38/auto_sending_goals_2021-06-30-11-11-58 already exists. Not creating.\n",
      "[INFO]  Data folder /media/louis/TOSHIBA EXT/FullData/OdomNoise/39/auto_sending_goals_2021-06-30-11-14-14 already exists. Not creating.\n",
      "[INFO]  Data folder /media/louis/TOSHIBA EXT/FullData/OdomNoise/4/auto_sending_goals_2021-06-29-11-25-36 already exists. Not creating.\n",
      "[INFO]  Data folder /media/louis/TOSHIBA EXT/FullData/OdomNoise/40/auto_sending_goals_2021-06-30-11-16-29 already exists. Not creating.\n",
      "[INFO]  Data folder /media/louis/TOSHIBA EXT/FullData/OdomNoise/41/auto_sending_goals_2021-06-30-11-18-45 already exists. Not creating.\n",
      "[INFO]  Data folder /media/louis/TOSHIBA EXT/FullData/OdomNoise/42/auto_sending_goals_2021-06-30-11-21-01 already exists. Not creating.\n",
      "[INFO]  Data folder /media/louis/TOSHIBA EXT/FullData/OdomNoise/43/auto_sending_goals_2021-06-30-11-23-16 already exists. Not creating.\n",
      "[INFO]  Data folder /media/louis/TOSHIBA EXT/FullData/OdomNoise/44/auto_sending_goals_2021-06-30-11-25-32 already exists. Not creating.\n",
      "[INFO]  Data folder /media/louis/TOSHIBA EXT/FullData/OdomNoise/45/auto_sending_goals_2021-06-30-11-27-47 already exists. Not creating.\n",
      "[INFO]  Data folder /media/louis/TOSHIBA EXT/FullData/OdomNoise/46/auto_sending_goals_2021-06-30-11-29-52 already exists. Not creating.\n",
      "[INFO]  Data folder /media/louis/TOSHIBA EXT/FullData/OdomNoise/47/auto_sending_goals_2021-06-30-11-32-08 already exists. Not creating.\n",
      "[INFO]  Data folder /media/louis/TOSHIBA EXT/FullData/OdomNoise/48/auto_sending_goals_2021-06-30-11-34-23 already exists. Not creating.\n",
      "[INFO]  Data folder /media/louis/TOSHIBA EXT/FullData/OdomNoise/49/auto_sending_goals_2021-06-30-11-34-42 already exists. Not creating.\n",
      "[INFO]  Data folder /media/louis/TOSHIBA EXT/FullData/OdomNoise/5/auto_sending_goals_2021-06-29-11-27-52 already exists. Not creating.\n",
      "[INFO]  Data folder /media/louis/TOSHIBA EXT/FullData/OdomNoise/50/auto_sending_goals_2021-06-30-11-36-58 already exists. Not creating.\n",
      "[INFO]  Data folder /media/louis/TOSHIBA EXT/FullData/OdomNoise/51/auto_sending_goals_2021-06-30-11-39-13 already exists. Not creating.\n",
      "[INFO]  Data folder /media/louis/TOSHIBA EXT/FullData/OdomNoise/52/auto_sending_goals_2021-06-30-11-41-29 already exists. Not creating.\n",
      "[INFO]  Data folder /media/louis/TOSHIBA EXT/FullData/OdomNoise/53/auto_sending_goals_2021-06-30-11-43-44 already exists. Not creating.\n",
      "[INFO]  Data folder /media/louis/TOSHIBA EXT/FullData/OdomNoise/54/auto_sending_goals_2021-06-30-11-46-00 already exists. Not creating.\n",
      "[INFO]  Data folder /media/louis/TOSHIBA EXT/FullData/OdomNoise/55/auto_sending_goals_2021-06-30-11-48-15 already exists. Not creating.\n",
      "[INFO]  Data folder /media/louis/TOSHIBA EXT/FullData/OdomNoise/56/auto_sending_goals_2021-06-30-11-50-31 already exists. Not creating.\n",
      "[INFO]  Data folder /media/louis/TOSHIBA EXT/FullData/OdomNoise/57/auto_sending_goals_2021-06-30-11-52-47 already exists. Not creating.\n",
      "[INFO]  Data folder /media/louis/TOSHIBA EXT/FullData/OdomNoise/58/auto_sending_goals_2021-06-30-11-55-02 already exists. Not creating.\n",
      "[INFO]  Data folder /media/louis/TOSHIBA EXT/FullData/OdomNoise/59/auto_sending_goals_2021-06-30-11-57-18 already exists. Not creating.\n",
      "[INFO]  Data folder /media/louis/TOSHIBA EXT/FullData/OdomNoise/6/auto_sending_goals_2021-06-29-11-30-07 already exists. Not creating.\n",
      "[INFO]  Data folder /media/louis/TOSHIBA EXT/FullData/OdomNoise/60/auto_sending_goals_2021-06-30-11-59-33 already exists. Not creating.\n",
      "[INFO]  Data folder /media/louis/TOSHIBA EXT/FullData/OdomNoise/7/auto_sending_goals_2021-06-29-11-32-23 already exists. Not creating.\n",
      "[INFO]  Data folder /media/louis/TOSHIBA EXT/FullData/OdomNoise/8/auto_sending_goals_2021-06-29-11-34-39 already exists. Not creating.\n",
      "[INFO]  Data folder /media/louis/TOSHIBA EXT/FullData/OdomNoise/9/auto_sending_goals_2021-06-29-11-36-54 already exists. Not creating.\n",
      "[INFO]  Data folder /media/louis/TOSHIBA EXT/FullData/ScanNoise/3/auto_sending_goals_2021-06-29-12-27-31 already exists. Not creating.\n",
      "[INFO]  Data folder /media/louis/TOSHIBA EXT/FullData/ScanNoise/1/auto_sending_goals_2021-06-29-12-26-29 already exists. Not creating.\n",
      "[INFO]  Data folder /media/louis/TOSHIBA EXT/FullData/ScanNoise/10/auto_sending_goals_2021-06-29-12-38-02 already exists. Not creating.\n",
      "[INFO]  Data folder /media/louis/TOSHIBA EXT/FullData/ScanNoise/11/auto_sending_goals_2021-06-29-12-38-27 already exists. Not creating.\n",
      "[INFO]  Data folder /media/louis/TOSHIBA EXT/FullData/ScanNoise/12/auto_sending_goals_2021-06-29-12-40-43 already exists. Not creating.\n",
      "[INFO]  Data folder /media/louis/TOSHIBA EXT/FullData/ScanNoise/13/auto_sending_goals_2021-06-29-12-42-58 already exists. Not creating.\n",
      "[INFO]  Data folder /media/louis/TOSHIBA EXT/FullData/ScanNoise/14/auto_sending_goals_2021-06-29-12-45-14 already exists. Not creating.\n",
      "[INFO]  Data folder /media/louis/TOSHIBA EXT/FullData/ScanNoise/15/auto_sending_goals_2021-06-29-12-47-30 already exists. Not creating.\n",
      "[INFO]  Data folder /media/louis/TOSHIBA EXT/FullData/ScanNoise/16/auto_sending_goals_2021-06-29-12-49-45 already exists. Not creating.\n",
      "[INFO]  Data folder /media/louis/TOSHIBA EXT/FullData/ScanNoise/17/auto_sending_goals_2021-06-29-12-52-01 already exists. Not creating.\n",
      "[INFO]  Data folder /media/louis/TOSHIBA EXT/FullData/ScanNoise/18/auto_sending_goals_2021-06-29-12-54-16 already exists. Not creating.\n",
      "[INFO]  Data folder /media/louis/TOSHIBA EXT/FullData/ScanNoise/19/auto_sending_goals_2021-06-29-12-56-32 already exists. Not creating.\n",
      "[INFO]  Data folder /media/louis/TOSHIBA EXT/FullData/ScanNoise/2/auto_sending_goals_2021-06-29-12-27-07 already exists. Not creating.\n",
      "[INFO]  Data folder /media/louis/TOSHIBA EXT/FullData/ScanNoise/20/auto_sending_goals_2021-06-29-12-58-47 already exists. Not creating.\n",
      "[INFO]  Data folder /media/louis/TOSHIBA EXT/FullData/ScanNoise/21/auto_sending_goals_2021-06-29-13-01-03 already exists. Not creating.\n",
      "[INFO]  Data folder /media/louis/TOSHIBA EXT/FullData/ScanNoise/22/auto_sending_goals_2021-06-29-13-03-18 already exists. Not creating.\n",
      "[INFO]  Data folder /media/louis/TOSHIBA EXT/FullData/ScanNoise/23/auto_sending_goals_2021-06-29-13-05-34 already exists. Not creating.\n",
      "[INFO]  Data folder /media/louis/TOSHIBA EXT/FullData/ScanNoise/24/auto_sending_goals_2021-06-29-13-07-50 already exists. Not creating.\n",
      "[INFO]  Data folder /media/louis/TOSHIBA EXT/FullData/ScanNoise/25/auto_sending_goals_2021-06-29-13-10-05 already exists. Not creating.\n",
      "[INFO]  Data folder /media/louis/TOSHIBA EXT/FullData/ScanNoise/26/auto_sending_goals_2021-06-29-13-12-21 already exists. Not creating.\n",
      "[INFO]  Data folder /media/louis/TOSHIBA EXT/FullData/ScanNoise/27/auto_sending_goals_2021-06-29-13-14-36 already exists. Not creating.\n",
      "[INFO]  Data folder /media/louis/TOSHIBA EXT/FullData/ScanNoise/28/auto_sending_goals_2021-06-29-13-16-52 already exists. Not creating.\n",
      "[INFO]  Data folder /media/louis/TOSHIBA EXT/FullData/ScanNoise/29/auto_sending_goals_2021-06-29-13-19-08 already exists. Not creating.\n",
      "[INFO]  Data folder /media/louis/TOSHIBA EXT/FullData/ScanNoise/30/auto_sending_goals_2021-06-29-13-21-23 already exists. Not creating.\n",
      "[INFO]  Data folder /media/louis/TOSHIBA EXT/FullData/ScanNoise/31/auto_sending_goals_2021-06-30-12-05-22 already exists. Not creating.\n",
      "[INFO]  Data folder /media/louis/TOSHIBA EXT/FullData/ScanNoise/32/auto_sending_goals_2021-06-30-12-06-02 already exists. Not creating.\n",
      "[INFO]  Data folder /media/louis/TOSHIBA EXT/FullData/ScanNoise/33/auto_sending_goals_2021-06-30-12-06-26 already exists. Not creating.\n",
      "[INFO]  Data folder /media/louis/TOSHIBA EXT/FullData/ScanNoise/34/auto_sending_goals_2021-06-30-12-08-41 already exists. Not creating.\n",
      "[INFO]  Data folder /media/louis/TOSHIBA EXT/FullData/ScanNoise/35/auto_sending_goals_2021-06-30-12-10-57 already exists. Not creating.\n",
      "[INFO]  Data folder /media/louis/TOSHIBA EXT/FullData/ScanNoise/36/auto_sending_goals_2021-06-30-12-13-12 already exists. Not creating.\n",
      "[INFO]  Data folder /media/louis/TOSHIBA EXT/FullData/ScanNoise/37/auto_sending_goals_2021-06-30-12-15-28 already exists. Not creating.\n",
      "[INFO]  Data folder /media/louis/TOSHIBA EXT/FullData/ScanNoise/38/auto_sending_goals_2021-06-30-12-17-43 already exists. Not creating.\n",
      "[INFO]  Data folder /media/louis/TOSHIBA EXT/FullData/ScanNoise/39/auto_sending_goals_2021-06-30-12-18-10 already exists. Not creating.\n",
      "[INFO]  Data folder /media/louis/TOSHIBA EXT/FullData/ScanNoise/4/auto_sending_goals_2021-06-29-12-29-46 already exists. Not creating.\n",
      "[INFO]  Data folder /media/louis/TOSHIBA EXT/FullData/ScanNoise/40/auto_sending_goals_2021-06-30-12-18-36 already exists. Not creating.\n",
      "[INFO]  Data folder /media/louis/TOSHIBA EXT/FullData/ScanNoise/41/auto_sending_goals_2021-06-30-12-18-59 already exists. Not creating.\n",
      "[INFO]  Data folder /media/louis/TOSHIBA EXT/FullData/ScanNoise/42/auto_sending_goals_2021-06-30-12-21-15 already exists. Not creating.\n",
      "[INFO]  Data folder /media/louis/TOSHIBA EXT/FullData/ScanNoise/43/auto_sending_goals_2021-06-30-12-23-31 already exists. Not creating.\n",
      "[INFO]  Data folder /media/louis/TOSHIBA EXT/FullData/ScanNoise/44/auto_sending_goals_2021-06-30-12-25-46 already exists. Not creating.\n",
      "[INFO]  Data folder /media/louis/TOSHIBA EXT/FullData/ScanNoise/45/auto_sending_goals_2021-06-30-12-28-02 already exists. Not creating.\n",
      "[INFO]  Data folder /media/louis/TOSHIBA EXT/FullData/ScanNoise/46/auto_sending_goals_2021-06-30-12-30-17 already exists. Not creating.\n",
      "[INFO]  Data folder /media/louis/TOSHIBA EXT/FullData/ScanNoise/47/auto_sending_goals_2021-06-30-12-32-33 already exists. Not creating.\n",
      "[INFO]  Data folder /media/louis/TOSHIBA EXT/FullData/ScanNoise/48/auto_sending_goals_2021-06-30-12-34-49 already exists. Not creating.\n",
      "[INFO]  Data folder /media/louis/TOSHIBA EXT/FullData/ScanNoise/49/auto_sending_goals_2021-06-30-12-37-04 already exists. Not creating.\n",
      "[INFO]  Data folder /media/louis/TOSHIBA EXT/FullData/ScanNoise/5/auto_sending_goals_2021-06-29-12-32-02 already exists. Not creating.\n",
      "[INFO]  Data folder /media/louis/TOSHIBA EXT/FullData/ScanNoise/50/auto_sending_goals_2021-06-30-12-39-20 already exists. Not creating.\n",
      "[INFO]  Data folder /media/louis/TOSHIBA EXT/FullData/ScanNoise/51/auto_sending_goals_2021-06-30-12-41-36 already exists. Not creating.\n",
      "[INFO]  Data folder /media/louis/TOSHIBA EXT/FullData/ScanNoise/52/auto_sending_goals_2021-06-30-12-43-51 already exists. Not creating.\n",
      "[INFO]  Data folder /media/louis/TOSHIBA EXT/FullData/ScanNoise/53/auto_sending_goals_2021-06-30-12-46-07 already exists. Not creating.\n",
      "[INFO]  Data folder /media/louis/TOSHIBA EXT/FullData/ScanNoise/54/auto_sending_goals_2021-06-30-12-48-22 already exists. Not creating.\n",
      "[INFO]  Data folder /media/louis/TOSHIBA EXT/FullData/ScanNoise/55/auto_sending_goals_2021-06-30-12-50-38 already exists. Not creating.\n",
      "[INFO]  Data folder /media/louis/TOSHIBA EXT/FullData/ScanNoise/56/auto_sending_goals_2021-06-30-12-52-53 already exists. Not creating.\n",
      "[INFO]  Data folder /media/louis/TOSHIBA EXT/FullData/ScanNoise/57/auto_sending_goals_2021-06-30-12-55-09 already exists. Not creating.\n",
      "[INFO]  Data folder /media/louis/TOSHIBA EXT/FullData/ScanNoise/58/auto_sending_goals_2021-06-30-12-57-25 already exists. Not creating.\n",
      "[INFO]  Data folder /media/louis/TOSHIBA EXT/FullData/ScanNoise/59/auto_sending_goals_2021-06-30-12-59-40 already exists. Not creating.\n",
      "[INFO]  Data folder /media/louis/TOSHIBA EXT/FullData/ScanNoise/6/auto_sending_goals_2021-06-29-12-34-17 already exists. Not creating.\n",
      "[INFO]  Data folder /media/louis/TOSHIBA EXT/FullData/ScanNoise/60/auto_sending_goals_2021-06-30-13-01-56 already exists. Not creating.\n",
      "[INFO]  Data folder /media/louis/TOSHIBA EXT/FullData/ScanNoise/7/auto_sending_goals_2021-06-29-12-34-54 already exists. Not creating.\n",
      "[INFO]  Data folder /media/louis/TOSHIBA EXT/FullData/ScanNoise/8/auto_sending_goals_2021-06-29-12-37-10 already exists. Not creating.\n",
      "[INFO]  Data folder /media/louis/TOSHIBA EXT/FullData/ScanNoise/9/auto_sending_goals_2021-06-29-12-37-37 already exists. Not creating.\n"
     ]
    },
    {
     "ename": "ValueError",
     "evalue": "The truth value of an array with more than one element is ambiguous. Use a.any() or a.all()",
     "output_type": "error",
     "traceback": [
      "\u001b[0;31m---------------------------------------------------------------------------\u001b[0m",
      "\u001b[0;31mValueError\u001b[0m                                Traceback (most recent call last)",
      "\u001b[0;32m<ipython-input-1-9fd4be95b4aa>\u001b[0m in \u001b[0;36m<module>\u001b[0;34m\u001b[0m\n\u001b[1;32m      3\u001b[0m \u001b[0;32mfrom\u001b[0m \u001b[0mread_data\u001b[0m \u001b[0;32mimport\u001b[0m \u001b[0mmake_dataset\u001b[0m\u001b[0;34m\u001b[0m\u001b[0;34m\u001b[0m\u001b[0m\n\u001b[1;32m      4\u001b[0m \u001b[0;34m\u001b[0m\u001b[0m\n\u001b[0;32m----> 5\u001b[0;31m \u001b[0modoms\u001b[0m\u001b[0;34m,\u001b[0m\u001b[0mscans\u001b[0m\u001b[0;34m,\u001b[0m\u001b[0mlabels\u001b[0m\u001b[0;34m=\u001b[0m\u001b[0mmake_dataset\u001b[0m\u001b[0;34m(\u001b[0m\u001b[0;34m\"/media/louis/TOSHIBA EXT/FullData\"\u001b[0m\u001b[0;34m)\u001b[0m\u001b[0;34m\u001b[0m\u001b[0;34m\u001b[0m\u001b[0m\n\u001b[0m",
      "\u001b[0;32m~/model_cnn/read_data.py\u001b[0m in \u001b[0;36mmake_dataset\u001b[0;34m(path)\u001b[0m\n\u001b[1;32m     43\u001b[0m                 \u001b[0mscans\u001b[0m\u001b[0;34m.\u001b[0m\u001b[0mappend\u001b[0m\u001b[0;34m(\u001b[0m\u001b[0mdf_sc\u001b[0m\u001b[0;34m.\u001b[0m\u001b[0mvalues\u001b[0m\u001b[0;34m)\u001b[0m\u001b[0;34m\u001b[0m\u001b[0;34m\u001b[0m\u001b[0m\n\u001b[1;32m     44\u001b[0m                 \u001b[0mlabels\u001b[0m\u001b[0;34m.\u001b[0m\u001b[0mappend\u001b[0m\u001b[0;34m(\u001b[0m\u001b[0mlabel\u001b[0m\u001b[0;34m)\u001b[0m\u001b[0;34m\u001b[0m\u001b[0;34m\u001b[0m\u001b[0m\n\u001b[0;32m---> 45\u001b[0;31m     \u001b[0modoms\u001b[0m\u001b[0;34m=\u001b[0m\u001b[0mtf\u001b[0m\u001b[0;34m.\u001b[0m\u001b[0mragged\u001b[0m\u001b[0;34m.\u001b[0m\u001b[0mconstant\u001b[0m\u001b[0;34m(\u001b[0m\u001b[0modoms\u001b[0m\u001b[0;34m,\u001b[0m\u001b[0mragged_rank\u001b[0m\u001b[0;34m=\u001b[0m\u001b[0;36m1\u001b[0m\u001b[0;34m)\u001b[0m\u001b[0;34m\u001b[0m\u001b[0;34m\u001b[0m\u001b[0m\n\u001b[0m\u001b[1;32m     46\u001b[0m     \u001b[0mscans\u001b[0m\u001b[0;34m=\u001b[0m\u001b[0mtf\u001b[0m\u001b[0;34m.\u001b[0m\u001b[0mragged\u001b[0m\u001b[0;34m.\u001b[0m\u001b[0mconstant\u001b[0m\u001b[0;34m(\u001b[0m\u001b[0mscans\u001b[0m\u001b[0;34m,\u001b[0m\u001b[0mragged_rank\u001b[0m\u001b[0;34m=\u001b[0m\u001b[0;36m1\u001b[0m\u001b[0;34m)\u001b[0m\u001b[0;34m\u001b[0m\u001b[0;34m\u001b[0m\u001b[0m\n\u001b[1;32m     47\u001b[0m     \u001b[0;32mreturn\u001b[0m \u001b[0modoms\u001b[0m\u001b[0;34m,\u001b[0m\u001b[0mscans\u001b[0m\u001b[0;34m,\u001b[0m\u001b[0mlabels\u001b[0m\u001b[0;34m\u001b[0m\u001b[0;34m\u001b[0m\u001b[0m\n",
      "\u001b[0;32m~/.local/lib/python3.8/site-packages/tensorflow/python/util/dispatch.py\u001b[0m in \u001b[0;36mwrapper\u001b[0;34m(*args, **kwargs)\u001b[0m\n\u001b[1;32m    199\u001b[0m     \u001b[0;34m\"\"\"Call target, and fall back on dispatchers if there is a TypeError.\"\"\"\u001b[0m\u001b[0;34m\u001b[0m\u001b[0;34m\u001b[0m\u001b[0m\n\u001b[1;32m    200\u001b[0m     \u001b[0;32mtry\u001b[0m\u001b[0;34m:\u001b[0m\u001b[0;34m\u001b[0m\u001b[0;34m\u001b[0m\u001b[0m\n\u001b[0;32m--> 201\u001b[0;31m       \u001b[0;32mreturn\u001b[0m \u001b[0mtarget\u001b[0m\u001b[0;34m(\u001b[0m\u001b[0;34m*\u001b[0m\u001b[0margs\u001b[0m\u001b[0;34m,\u001b[0m \u001b[0;34m**\u001b[0m\u001b[0mkwargs\u001b[0m\u001b[0;34m)\u001b[0m\u001b[0;34m\u001b[0m\u001b[0;34m\u001b[0m\u001b[0m\n\u001b[0m\u001b[1;32m    202\u001b[0m     \u001b[0;32mexcept\u001b[0m \u001b[0;34m(\u001b[0m\u001b[0mTypeError\u001b[0m\u001b[0;34m,\u001b[0m \u001b[0mValueError\u001b[0m\u001b[0;34m)\u001b[0m\u001b[0;34m:\u001b[0m\u001b[0;34m\u001b[0m\u001b[0;34m\u001b[0m\u001b[0m\n\u001b[1;32m    203\u001b[0m       \u001b[0;31m# Note: convert_to_eager_tensor currently raises a ValueError, not a\u001b[0m\u001b[0;34m\u001b[0m\u001b[0;34m\u001b[0m\u001b[0;34m\u001b[0m\u001b[0m\n",
      "\u001b[0;32m~/.local/lib/python3.8/site-packages/tensorflow/python/ops/ragged/ragged_factory_ops.py\u001b[0m in \u001b[0;36mconstant\u001b[0;34m(pylist, dtype, ragged_rank, inner_shape, name, row_splits_dtype)\u001b[0m\n\u001b[1;32m     84\u001b[0m \u001b[0;34m\u001b[0m\u001b[0m\n\u001b[1;32m     85\u001b[0m   \u001b[0;32mwith\u001b[0m \u001b[0mops\u001b[0m\u001b[0;34m.\u001b[0m\u001b[0mname_scope\u001b[0m\u001b[0;34m(\u001b[0m\u001b[0mname\u001b[0m\u001b[0;34m,\u001b[0m \u001b[0;34m\"RaggedConstant\"\u001b[0m\u001b[0;34m)\u001b[0m\u001b[0;34m:\u001b[0m\u001b[0;34m\u001b[0m\u001b[0;34m\u001b[0m\u001b[0m\n\u001b[0;32m---> 86\u001b[0;31m     return _constant_value(ragged_factory, constant_op.constant, pylist, dtype,\n\u001b[0m\u001b[1;32m     87\u001b[0m                            ragged_rank, inner_shape)\n\u001b[1;32m     88\u001b[0m \u001b[0;34m\u001b[0m\u001b[0m\n",
      "\u001b[0;32m~/.local/lib/python3.8/site-packages/tensorflow/python/ops/ragged/ragged_factory_ops.py\u001b[0m in \u001b[0;36m_constant_value\u001b[0;34m(ragged_factory, inner_factory, pylist, dtype, ragged_rank, inner_shape)\u001b[0m\n\u001b[1;32m    216\u001b[0m       \u001b[0minner_shape\u001b[0m \u001b[0;34m=\u001b[0m \u001b[0;34m(\u001b[0m\u001b[0;34m)\u001b[0m\u001b[0;34m\u001b[0m\u001b[0;34m\u001b[0m\u001b[0m\n\u001b[1;32m    217\u001b[0m     \u001b[0;32melse\u001b[0m\u001b[0;34m:\u001b[0m\u001b[0;34m\u001b[0m\u001b[0;34m\u001b[0m\u001b[0m\n\u001b[0;32m--> 218\u001b[0;31m       \u001b[0minner_shape\u001b[0m \u001b[0;34m=\u001b[0m \u001b[0m_default_inner_shape_for_pylist\u001b[0m\u001b[0;34m(\u001b[0m\u001b[0mpylist\u001b[0m\u001b[0;34m,\u001b[0m \u001b[0mragged_rank\u001b[0m\u001b[0;34m)\u001b[0m\u001b[0;34m\u001b[0m\u001b[0;34m\u001b[0m\u001b[0m\n\u001b[0m\u001b[1;32m    219\u001b[0m \u001b[0;34m\u001b[0m\u001b[0m\n\u001b[1;32m    220\u001b[0m   \u001b[0;31m# Compute default value for ragged_rank.\u001b[0m\u001b[0;34m\u001b[0m\u001b[0;34m\u001b[0m\u001b[0;34m\u001b[0m\u001b[0m\n",
      "\u001b[0;32m~/.local/lib/python3.8/site-packages/tensorflow/python/ops/ragged/ragged_factory_ops.py\u001b[0m in \u001b[0;36m_default_inner_shape_for_pylist\u001b[0;34m(pylist, ragged_rank)\u001b[0m\n\u001b[1;32m    309\u001b[0m   \u001b[0;31m# Compute the inner shape looking only at the leftmost elements; and then\u001b[0m\u001b[0;34m\u001b[0m\u001b[0;34m\u001b[0m\u001b[0;34m\u001b[0m\u001b[0m\n\u001b[1;32m    310\u001b[0m   \u001b[0;31m# use check_inner_shape to verify that other elements have the same shape.\u001b[0m\u001b[0;34m\u001b[0m\u001b[0;34m\u001b[0m\u001b[0;34m\u001b[0m\u001b[0m\n\u001b[0;32m--> 311\u001b[0;31m   \u001b[0minner_shape\u001b[0m \u001b[0;34m=\u001b[0m \u001b[0mget_inner_shape\u001b[0m\u001b[0;34m(\u001b[0m\u001b[0mflat_values\u001b[0m\u001b[0;34m)\u001b[0m\u001b[0;34m\u001b[0m\u001b[0;34m\u001b[0m\u001b[0m\n\u001b[0m\u001b[1;32m    312\u001b[0m   \u001b[0mcheck_inner_shape\u001b[0m\u001b[0;34m(\u001b[0m\u001b[0mflat_values\u001b[0m\u001b[0;34m,\u001b[0m \u001b[0minner_shape\u001b[0m\u001b[0;34m)\u001b[0m\u001b[0;34m\u001b[0m\u001b[0;34m\u001b[0m\u001b[0m\n\u001b[1;32m    313\u001b[0m   \u001b[0;32mreturn\u001b[0m \u001b[0minner_shape\u001b[0m\u001b[0;34m[\u001b[0m\u001b[0;36m1\u001b[0m\u001b[0;34m:\u001b[0m\u001b[0;34m]\u001b[0m\u001b[0;34m\u001b[0m\u001b[0;34m\u001b[0m\u001b[0m\n",
      "\u001b[0;32m~/.local/lib/python3.8/site-packages/tensorflow/python/ops/ragged/ragged_factory_ops.py\u001b[0m in \u001b[0;36mget_inner_shape\u001b[0;34m(item)\u001b[0m\n\u001b[1;32m    283\u001b[0m       \u001b[0;32mreturn\u001b[0m \u001b[0;34m(\u001b[0m\u001b[0;34m)\u001b[0m\u001b[0;34m\u001b[0m\u001b[0;34m\u001b[0m\u001b[0m\n\u001b[1;32m    284\u001b[0m     \u001b[0;32melif\u001b[0m \u001b[0mitem\u001b[0m\u001b[0;34m:\u001b[0m\u001b[0;34m\u001b[0m\u001b[0;34m\u001b[0m\u001b[0m\n\u001b[0;32m--> 285\u001b[0;31m       \u001b[0;32mreturn\u001b[0m \u001b[0;34m(\u001b[0m\u001b[0mlen\u001b[0m\u001b[0;34m(\u001b[0m\u001b[0mitem\u001b[0m\u001b[0;34m)\u001b[0m\u001b[0;34m,\u001b[0m\u001b[0;34m)\u001b[0m \u001b[0;34m+\u001b[0m \u001b[0mget_inner_shape\u001b[0m\u001b[0;34m(\u001b[0m\u001b[0mitem\u001b[0m\u001b[0;34m[\u001b[0m\u001b[0;36m0\u001b[0m\u001b[0;34m]\u001b[0m\u001b[0;34m)\u001b[0m\u001b[0;34m\u001b[0m\u001b[0;34m\u001b[0m\u001b[0m\n\u001b[0m\u001b[1;32m    286\u001b[0m     \u001b[0;32mreturn\u001b[0m \u001b[0;34m(\u001b[0m\u001b[0;36m0\u001b[0m\u001b[0;34m,\u001b[0m\u001b[0;34m)\u001b[0m\u001b[0;34m\u001b[0m\u001b[0;34m\u001b[0m\u001b[0m\n\u001b[1;32m    287\u001b[0m \u001b[0;34m\u001b[0m\u001b[0m\n",
      "\u001b[0;32m~/.local/lib/python3.8/site-packages/tensorflow/python/ops/ragged/ragged_factory_ops.py\u001b[0m in \u001b[0;36mget_inner_shape\u001b[0;34m(item)\u001b[0m\n\u001b[1;32m    282\u001b[0m     \u001b[0;32mif\u001b[0m \u001b[0;32mnot\u001b[0m \u001b[0misinstance\u001b[0m\u001b[0;34m(\u001b[0m\u001b[0mitem\u001b[0m\u001b[0;34m,\u001b[0m \u001b[0;34m(\u001b[0m\u001b[0mlist\u001b[0m\u001b[0;34m,\u001b[0m \u001b[0mtuple\u001b[0m\u001b[0;34m)\u001b[0m\u001b[0;34m)\u001b[0m \u001b[0;32mand\u001b[0m \u001b[0mnp\u001b[0m\u001b[0;34m.\u001b[0m\u001b[0mndim\u001b[0m\u001b[0;34m(\u001b[0m\u001b[0mitem\u001b[0m\u001b[0;34m)\u001b[0m \u001b[0;34m==\u001b[0m \u001b[0;36m0\u001b[0m\u001b[0;34m:\u001b[0m\u001b[0;34m\u001b[0m\u001b[0;34m\u001b[0m\u001b[0m\n\u001b[1;32m    283\u001b[0m       \u001b[0;32mreturn\u001b[0m \u001b[0;34m(\u001b[0m\u001b[0;34m)\u001b[0m\u001b[0;34m\u001b[0m\u001b[0;34m\u001b[0m\u001b[0m\n\u001b[0;32m--> 284\u001b[0;31m     \u001b[0;32melif\u001b[0m \u001b[0mitem\u001b[0m\u001b[0;34m:\u001b[0m\u001b[0;34m\u001b[0m\u001b[0;34m\u001b[0m\u001b[0m\n\u001b[0m\u001b[1;32m    285\u001b[0m       \u001b[0;32mreturn\u001b[0m \u001b[0;34m(\u001b[0m\u001b[0mlen\u001b[0m\u001b[0;34m(\u001b[0m\u001b[0mitem\u001b[0m\u001b[0;34m)\u001b[0m\u001b[0;34m,\u001b[0m\u001b[0;34m)\u001b[0m \u001b[0;34m+\u001b[0m \u001b[0mget_inner_shape\u001b[0m\u001b[0;34m(\u001b[0m\u001b[0mitem\u001b[0m\u001b[0;34m[\u001b[0m\u001b[0;36m0\u001b[0m\u001b[0;34m]\u001b[0m\u001b[0;34m)\u001b[0m\u001b[0;34m\u001b[0m\u001b[0;34m\u001b[0m\u001b[0m\n\u001b[1;32m    286\u001b[0m     \u001b[0;32mreturn\u001b[0m \u001b[0;34m(\u001b[0m\u001b[0;36m0\u001b[0m\u001b[0;34m,\u001b[0m\u001b[0;34m)\u001b[0m\u001b[0;34m\u001b[0m\u001b[0;34m\u001b[0m\u001b[0m\n",
      "\u001b[0;31mValueError\u001b[0m: The truth value of an array with more than one element is ambiguous. Use a.any() or a.all()"
     ]
    }
   ],
   "source": [
    "import tensorflow as tf\n",
    "import numpy as np\n",
    "from read_data import make_dataset\n",
    "\n",
    "odoms,scans,labels=make_dataset(\"/media/louis/TOSHIBA EXT/FullData\")\n"
   ]
  },
  {
   "cell_type": "code",
   "execution_count": null,
   "metadata": {},
   "outputs": [],
   "source": []
  },
  {
   "cell_type": "code",
   "execution_count": null,
   "metadata": {},
   "outputs": [
    {
     "data": {
      "text/plain": [
       "list"
      ]
     },
     "execution_count": 8,
     "metadata": {},
     "output_type": "execute_result"
    }
   ],
   "source": [
    "tf.data.Dataset.from_tensor_slices(odoms)"
   ]
  },
  {
   "cell_type": "code",
   "execution_count": null,
   "metadata": {},
   "outputs": [
    {
     "name": "stdout",
     "output_type": "stream",
     "text": [
      "plop\n",
      "(303, 13)\n",
      "plop\n",
      "(417, 13)\n",
      "plop\n",
      "(481, 13)\n",
      "plop\n",
      "(448, 13)\n",
      "plop\n",
      "(364, 13)\n",
      "plop\n",
      "(331, 13)\n",
      "plop\n",
      "(222, 13)\n",
      "plop\n",
      "(454, 13)\n",
      "plop\n",
      "(448, 13)\n",
      "plop\n",
      "(378, 13)\n"
     ]
    }
   ],
   "source": [
    "list_data=[np.random.random((np.random.randint(200,500),13)).tolist() for i in range(10)]\n",
    "test=tf.ragged.constant(list_data,ragged_rank=1)\n",
    "ds=tf.data.Dataset.from_tensor_slices(test)"
   ]
  },
  {
   "cell_type": "code",
   "execution_count": null,
   "metadata": {},
   "outputs": [],
   "source": []
  },
  {
   "cell_type": "code",
   "execution_count": null,
   "metadata": {},
   "outputs": [],
   "source": []
  }
 ],
 "metadata": {
  "interpreter": {
   "hash": "31f2aee4e71d21fbe5cf8b01ff0e069b9275f58929596ceb00d14d90e3e16cd6"
  },
  "kernelspec": {
   "display_name": "Python 3.8.10 64-bit",
   "name": "python3"
  },
  "language_info": {
   "name": "python",
   "version": ""
  },
  "orig_nbformat": 4
 },
 "nbformat": 4,
 "nbformat_minor": 2
}