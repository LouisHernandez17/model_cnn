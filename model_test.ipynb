{
 "cells": [
  {
   "cell_type": "markdown",
   "metadata": {},
   "source": [
    "# Demonstration of the CNN used for time series classification\n",
    "\n",
    "## Data preparation\n",
    "\n",
    "In order to feed data to our model, we need to turn it into a keras sequence. This way it is fed to the network as batches of 1 sample each time, and there is no issue with the fact the time series have a different size. The whole preparation is done in the data_preparation function. The data are also shuffled."
   ]
  },
  {
   "cell_type": "code",
   "execution_count": 1,
   "metadata": {
    "tags": [
     "outputPrepend"
    ]
   },
   "outputs": [
    {
     "output_type": "stream",
     "name": "stderr",
     "text": [
      "ng_goals_2021-06-30-11-41-29 already exists. Not creating.\n",
      "[INFO]  Data folder /home/rwu-lh/FullData/OdomNoise/42/auto_sending_goals_2021-06-30-11-21-01 already exists. Not creating.\n",
      "[INFO]  Data folder /home/rwu-lh/FullData/OdomNoise/34/auto_sending_goals_2021-06-30-11-02-56 already exists. Not creating.\n",
      "[INFO]  Data folder /home/rwu-lh/FullData/OdomNoise/17/auto_sending_goals_2021-06-29-11-53-49 already exists. Not creating.\n",
      "[INFO]  Data folder /home/rwu-lh/FullData/OdomNoise/9/auto_sending_goals_2021-06-29-11-36-54 already exists. Not creating.\n",
      "[INFO]  Data folder /home/rwu-lh/FullData/OdomNoise/35/auto_sending_goals_2021-06-30-11-05-12 already exists. Not creating.\n",
      "[INFO]  Data folder /home/rwu-lh/FullData/OdomNoise/26/auto_sending_goals_2021-06-29-12-14-09 already exists. Not creating.\n",
      "[INFO]  Data folder /home/rwu-lh/FullData/OdomNoise/21/auto_sending_goals_2021-06-29-12-02-51 already exists. Not creating.\n",
      "[INFO]  Data folder /home/rwu-lh/FullData/OdomNoise/50/auto_sending_goals_2021-06-30-11-36-58 already exists. Not creating.\n",
      "[INFO]  Data folder /home/rwu-lh/FullData/OdomNoise/23/auto_sending_goals_2021-06-29-12-07-22 already exists. Not creating.\n",
      "[INFO]  Data folder /home/rwu-lh/FullData/OdomNoise/2/auto_sending_goals_2021-06-29-11-22-35 already exists. Not creating.\n",
      "[INFO]  Data folder /home/rwu-lh/FullData/OdomNoise/6/auto_sending_goals_2021-06-29-11-30-07 already exists. Not creating.\n",
      "[INFO]  Data folder /home/rwu-lh/FullData/OdomNoise/60/auto_sending_goals_2021-06-30-11-59-33 already exists. Not creating.\n",
      "[INFO]  Data folder /home/rwu-lh/FullData/OdomNoise/3/auto_sending_goals_2021-06-29-11-23-21 already exists. Not creating.\n",
      "[INFO]  Data folder /home/rwu-lh/FullData/OdomNoise/15/auto_sending_goals_2021-06-29-11-49-18 already exists. Not creating.\n",
      "[INFO]  Data folder /home/rwu-lh/FullData/OdomNoise/37/auto_sending_goals_2021-06-30-11-09-43 already exists. Not creating.\n",
      "[INFO]  Data folder /home/rwu-lh/FullData/OdomNoise/19/auto_sending_goals_2021-06-29-11-58-20 already exists. Not creating.\n",
      "[INFO]  Data folder /home/rwu-lh/FullData/OdomNoise/8/auto_sending_goals_2021-06-29-11-34-39 already exists. Not creating.\n",
      "[INFO]  Data folder /home/rwu-lh/FullData/OdomNoise/7/auto_sending_goals_2021-06-29-11-32-23 already exists. Not creating.\n",
      "[INFO]  Data folder /home/rwu-lh/FullData/OdomNoise/5/auto_sending_goals_2021-06-29-11-27-52 already exists. Not creating.\n",
      "[INFO]  Data folder /home/rwu-lh/FullData/OdomNoise/14/auto_sending_goals_2021-06-29-11-47-02 already exists. Not creating.\n",
      "[INFO]  Data folder /home/rwu-lh/FullData/OdomNoise/53/auto_sending_goals_2021-06-30-11-43-44 already exists. Not creating.\n",
      "[INFO]  Data folder /home/rwu-lh/FullData/OdomNoise/16/auto_sending_goals_2021-06-29-11-51-33 already exists. Not creating.\n",
      "[INFO]  Data folder /home/rwu-lh/FullData/OdomNoise/56/auto_sending_goals_2021-06-30-11-50-31 already exists. Not creating.\n",
      "[INFO]  Data folder /home/rwu-lh/FullData/OdomNoise/1/auto_sending_goals_2021-06-29-11-21-09 already exists. Not creating.\n",
      "[INFO]  Data folder /home/rwu-lh/FullData/OdomNoise/55/auto_sending_goals_2021-06-30-11-48-15 already exists. Not creating.\n",
      "[INFO]  Data folder /home/rwu-lh/FullData/OdomNoise/36/auto_sending_goals_2021-06-30-11-07-27 already exists. Not creating.\n",
      "[INFO]  Data folder /home/rwu-lh/FullData/OdomNoise/47/auto_sending_goals_2021-06-30-11-32-08 already exists. Not creating.\n",
      "[INFO]  Data folder /home/rwu-lh/FullData/OdomNoise/12/auto_sending_goals_2021-06-29-11-42-31 already exists. Not creating.\n",
      "[INFO]  Data folder /home/rwu-lh/FullData/OdomNoise/33/auto_sending_goals_2021-06-30-11-00-41 already exists. Not creating.\n",
      "[INFO]  Data folder /home/rwu-lh/FullData/OdomNoise/25/auto_sending_goals_2021-06-29-12-11-53 already exists. Not creating.\n",
      "[INFO]  Data folder /home/rwu-lh/FullData/OdomNoise/32/auto_sending_goals_2021-06-30-10-58-25 already exists. Not creating.\n",
      "[INFO]  Data folder /home/rwu-lh/FullData/OdomNoise/45/auto_sending_goals_2021-06-30-11-27-47 already exists. Not creating.\n",
      "[INFO]  Data folder /home/rwu-lh/FullData/OdomNoise/13/auto_sending_goals_2021-06-29-11-44-47 already exists. Not creating.\n",
      "[INFO]  Data folder /home/rwu-lh/FullData/OdomNoise/31/auto_sending_goals_2021-06-30-10-56-09 already exists. Not creating.\n",
      "[INFO]  Data folder /home/rwu-lh/FullData/OdomNoise/38/auto_sending_goals_2021-06-30-11-11-58 already exists. Not creating.\n",
      "[INFO]  Data folder /home/rwu-lh/FullData/OdomNoise/22/auto_sending_goals_2021-06-29-12-05-07 already exists. Not creating.\n",
      "[INFO]  Data folder /home/rwu-lh/FullData/OdomNoise/58/auto_sending_goals_2021-06-30-11-55-02 already exists. Not creating.\n",
      "[INFO]  Data folder /home/rwu-lh/FullData/OdomNoise/4/auto_sending_goals_2021-06-29-11-25-36 already exists. Not creating.\n",
      "[INFO]  Data folder /home/rwu-lh/FullData/OdomNoise/48/auto_sending_goals_2021-06-30-11-34-23 already exists. Not creating.\n",
      "[INFO]  Data folder /home/rwu-lh/FullData/OdomNoise/39/auto_sending_goals_2021-06-30-11-14-14 already exists. Not creating.\n",
      "[INFO]  Data folder /home/rwu-lh/FullData/OdomNoise/30/auto_sending_goals_2021-06-29-12-23-11 already exists. Not creating.\n",
      "[INFO]  Data folder /home/rwu-lh/FullData/OdomNoise/10/auto_sending_goals_2021-06-29-11-39-10 already exists. Not creating.\n",
      "[INFO]  Data folder /home/rwu-lh/FullData/ScanNoise/49/auto_sending_goals_2021-06-30-12-37-04 already exists. Not creating.\n",
      "[INFO]  Data folder /home/rwu-lh/FullData/ScanNoise/28/auto_sending_goals_2021-06-29-13-16-52 already exists. Not creating.\n",
      "[INFO]  Data folder /home/rwu-lh/FullData/ScanNoise/11/auto_sending_goals_2021-06-29-12-38-27 already exists. Not creating.\n",
      "[INFO]  Data folder /home/rwu-lh/FullData/ScanNoise/43/auto_sending_goals_2021-06-30-12-23-31 already exists. Not creating.\n",
      "[INFO]  Data folder /home/rwu-lh/FullData/ScanNoise/51/auto_sending_goals_2021-06-30-12-41-36 already exists. Not creating.\n",
      "[INFO]  Data folder /home/rwu-lh/FullData/ScanNoise/29/auto_sending_goals_2021-06-29-13-19-08 already exists. Not creating.\n",
      "[INFO]  Data folder /home/rwu-lh/FullData/ScanNoise/59/auto_sending_goals_2021-06-30-12-59-40 already exists. Not creating.\n",
      "[INFO]  Data folder /home/rwu-lh/FullData/ScanNoise/18/auto_sending_goals_2021-06-29-12-54-16 already exists. Not creating.\n",
      "[INFO]  Data folder /home/rwu-lh/FullData/ScanNoise/41/auto_sending_goals_2021-06-30-12-18-59 already exists. Not creating.\n",
      "[INFO]  Data folder /home/rwu-lh/FullData/ScanNoise/40/auto_sending_goals_2021-06-30-12-18-36 already exists. Not creating.\n",
      "[INFO]  Data folder /home/rwu-lh/FullData/ScanNoise/54/auto_sending_goals_2021-06-30-12-48-22 already exists. Not creating.\n",
      "[INFO]  Data folder /home/rwu-lh/FullData/ScanNoise/46/auto_sending_goals_2021-06-30-12-30-17 already exists. Not creating.\n",
      "[INFO]  Data folder /home/rwu-lh/FullData/ScanNoise/44/auto_sending_goals_2021-06-30-12-25-46 already exists. Not creating.\n",
      "[INFO]  Data folder /home/rwu-lh/FullData/ScanNoise/57/auto_sending_goals_2021-06-30-12-55-09 already exists. Not creating.\n",
      "[INFO]  Data folder /home/rwu-lh/FullData/ScanNoise/20/auto_sending_goals_2021-06-29-12-58-47 already exists. Not creating.\n",
      "[INFO]  Data folder /home/rwu-lh/FullData/ScanNoise/27/auto_sending_goals_2021-06-29-13-14-36 already exists. Not creating.\n",
      "[INFO]  Data folder /home/rwu-lh/FullData/ScanNoise/24/auto_sending_goals_2021-06-29-13-07-50 already exists. Not creating.\n",
      "[INFO]  Data folder /home/rwu-lh/FullData/ScanNoise/52/auto_sending_goals_2021-06-30-12-43-51 already exists. Not creating.\n",
      "[INFO]  Data folder /home/rwu-lh/FullData/ScanNoise/42/auto_sending_goals_2021-06-30-12-21-15 already exists. Not creating.\n",
      "[INFO]  Data folder /home/rwu-lh/FullData/ScanNoise/34/auto_sending_goals_2021-06-30-12-08-41 already exists. Not creating.\n",
      "[INFO]  Data folder /home/rwu-lh/FullData/ScanNoise/17/auto_sending_goals_2021-06-29-12-52-01 already exists. Not creating.\n",
      "[INFO]  Data folder /home/rwu-lh/FullData/ScanNoise/9/auto_sending_goals_2021-06-29-12-37-37 already exists. Not creating.\n",
      "[INFO]  Data folder /home/rwu-lh/FullData/ScanNoise/35/auto_sending_goals_2021-06-30-12-10-57 already exists. Not creating.\n",
      "[INFO]  Data folder /home/rwu-lh/FullData/ScanNoise/26/auto_sending_goals_2021-06-29-13-12-21 already exists. Not creating.\n",
      "[INFO]  Data folder /home/rwu-lh/FullData/ScanNoise/21/auto_sending_goals_2021-06-29-13-01-03 already exists. Not creating.\n",
      "[INFO]  Data folder /home/rwu-lh/FullData/ScanNoise/50/auto_sending_goals_2021-06-30-12-39-20 already exists. Not creating.\n",
      "[INFO]  Data folder /home/rwu-lh/FullData/ScanNoise/23/auto_sending_goals_2021-06-29-13-05-34 already exists. Not creating.\n",
      "[INFO]  Data folder /home/rwu-lh/FullData/ScanNoise/2/auto_sending_goals_2021-06-29-12-27-07 already exists. Not creating.\n",
      "[INFO]  Data folder /home/rwu-lh/FullData/ScanNoise/6/auto_sending_goals_2021-06-29-12-34-17 already exists. Not creating.\n",
      "[INFO]  Data folder /home/rwu-lh/FullData/ScanNoise/60/auto_sending_goals_2021-06-30-13-01-56 already exists. Not creating.\n",
      "[INFO]  Data folder /home/rwu-lh/FullData/ScanNoise/3/auto_sending_goals_2021-06-29-12-27-31 already exists. Not creating.\n",
      "[INFO]  Data folder /home/rwu-lh/FullData/ScanNoise/15/auto_sending_goals_2021-06-29-12-47-30 already exists. Not creating.\n",
      "[INFO]  Data folder /home/rwu-lh/FullData/ScanNoise/37/auto_sending_goals_2021-06-30-12-15-28 already exists. Not creating.\n",
      "[INFO]  Data folder /home/rwu-lh/FullData/ScanNoise/19/auto_sending_goals_2021-06-29-12-56-32 already exists. Not creating.\n",
      "[INFO]  Data folder /home/rwu-lh/FullData/ScanNoise/8/auto_sending_goals_2021-06-29-12-37-10 already exists. Not creating.\n",
      "[INFO]  Data folder /home/rwu-lh/FullData/ScanNoise/7/auto_sending_goals_2021-06-29-12-34-54 already exists. Not creating.\n",
      "[INFO]  Data folder /home/rwu-lh/FullData/ScanNoise/5/auto_sending_goals_2021-06-29-12-32-02 already exists. Not creating.\n",
      "[INFO]  Data folder /home/rwu-lh/FullData/ScanNoise/14/auto_sending_goals_2021-06-29-12-45-14 already exists. Not creating.\n",
      "[INFO]  Data folder /home/rwu-lh/FullData/ScanNoise/53/auto_sending_goals_2021-06-30-12-46-07 already exists. Not creating.\n",
      "[INFO]  Data folder /home/rwu-lh/FullData/ScanNoise/16/auto_sending_goals_2021-06-29-12-49-45 already exists. Not creating.\n",
      "[INFO]  Data folder /home/rwu-lh/FullData/ScanNoise/56/auto_sending_goals_2021-06-30-12-52-53 already exists. Not creating.\n",
      "[INFO]  Data folder /home/rwu-lh/FullData/ScanNoise/1/auto_sending_goals_2021-06-29-12-26-29 already exists. Not creating.\n",
      "[INFO]  Data folder /home/rwu-lh/FullData/ScanNoise/55/auto_sending_goals_2021-06-30-12-50-38 already exists. Not creating.\n",
      "[INFO]  Data folder /home/rwu-lh/FullData/ScanNoise/36/auto_sending_goals_2021-06-30-12-13-12 already exists. Not creating.\n",
      "[INFO]  Data folder /home/rwu-lh/FullData/ScanNoise/47/auto_sending_goals_2021-06-30-12-32-33 already exists. Not creating.\n",
      "[INFO]  Data folder /home/rwu-lh/FullData/ScanNoise/12/auto_sending_goals_2021-06-29-12-40-43 already exists. Not creating.\n",
      "[INFO]  Data folder /home/rwu-lh/FullData/ScanNoise/33/auto_sending_goals_2021-06-30-12-06-26 already exists. Not creating.\n",
      "[INFO]  Data folder /home/rwu-lh/FullData/ScanNoise/25/auto_sending_goals_2021-06-29-13-10-05 already exists. Not creating.\n",
      "[INFO]  Data folder /home/rwu-lh/FullData/ScanNoise/32/auto_sending_goals_2021-06-30-12-06-02 already exists. Not creating.\n",
      "[INFO]  Data folder /home/rwu-lh/FullData/ScanNoise/45/auto_sending_goals_2021-06-30-12-28-02 already exists. Not creating.\n",
      "[INFO]  Data folder /home/rwu-lh/FullData/ScanNoise/13/auto_sending_goals_2021-06-29-12-42-58 already exists. Not creating.\n",
      "[INFO]  Data folder /home/rwu-lh/FullData/ScanNoise/31/auto_sending_goals_2021-06-30-12-05-22 already exists. Not creating.\n",
      "[INFO]  Data folder /home/rwu-lh/FullData/ScanNoise/38/auto_sending_goals_2021-06-30-12-17-43 already exists. Not creating.\n",
      "[INFO]  Data folder /home/rwu-lh/FullData/ScanNoise/22/auto_sending_goals_2021-06-29-13-03-18 already exists. Not creating.\n",
      "[INFO]  Data folder /home/rwu-lh/FullData/ScanNoise/58/auto_sending_goals_2021-06-30-12-57-25 already exists. Not creating.\n",
      "[INFO]  Data folder /home/rwu-lh/FullData/ScanNoise/4/auto_sending_goals_2021-06-29-12-29-46 already exists. Not creating.\n",
      "[INFO]  Data folder /home/rwu-lh/FullData/ScanNoise/48/auto_sending_goals_2021-06-30-12-34-49 already exists. Not creating.\n",
      "[INFO]  Data folder /home/rwu-lh/FullData/ScanNoise/39/auto_sending_goals_2021-06-30-12-18-10 already exists. Not creating.\n",
      "[INFO]  Data folder /home/rwu-lh/FullData/ScanNoise/30/auto_sending_goals_2021-06-29-13-21-23 already exists. Not creating.\n",
      "[INFO]  Data folder /home/rwu-lh/FullData/ScanNoise/10/auto_sending_goals_2021-06-29-12-38-02 already exists. Not creating.\n",
      "[INFO]  Data folder /home/rwu-lh/FullData/NoNoise/49/auto_sending_goals_2021-06-30-10-19-52 already exists. Not creating.\n",
      "[INFO]  Data folder /home/rwu-lh/FullData/NoNoise/28/auto_sending_goals_2021-06-29-11-09-13 already exists. Not creating.\n",
      "[INFO]  Data folder /home/rwu-lh/FullData/NoNoise/11/auto_sending_goals_2021-06-29-10-30-48 already exists. Not creating.\n",
      "[INFO]  Data folder /home/rwu-lh/FullData/NoNoise/43/auto_sending_goals_2021-06-30-10-06-18 already exists. Not creating.\n",
      "[INFO]  Data folder /home/rwu-lh/FullData/NoNoise/51/auto_sending_goals_2021-06-30-10-24-23 already exists. Not creating.\n",
      "[INFO]  Data folder /home/rwu-lh/FullData/NoNoise/29/auto_sending_goals_2021-06-29-11-11-28 already exists. Not creating.\n",
      "[INFO]  Data folder /home/rwu-lh/FullData/NoNoise/59/auto_sending_goals_2021-06-30-10-42-28 already exists. Not creating.\n",
      "[INFO]  Data folder /home/rwu-lh/FullData/NoNoise/18/auto_sending_goals_2021-06-29-10-46-37 already exists. Not creating.\n",
      "[INFO]  Data folder /home/rwu-lh/FullData/NoNoise/41/auto_sending_goals_2021-06-30-10-03-40 already exists. Not creating.\n",
      "[INFO]  Data folder /home/rwu-lh/FullData/NoNoise/40/auto_sending_goals_2021-06-30-10-03-16 already exists. Not creating.\n",
      "[INFO]  Data folder /home/rwu-lh/FullData/NoNoise/54/auto_sending_goals_2021-06-30-10-31-10 already exists. Not creating.\n",
      "[INFO]  Data folder /home/rwu-lh/FullData/NoNoise/46/auto_sending_goals_2021-06-30-10-13-05 already exists. Not creating.\n",
      "[INFO]  Data folder /home/rwu-lh/FullData/NoNoise/44/auto_sending_goals_2021-06-30-10-08-34 already exists. Not creating.\n",
      "[INFO]  Data folder /home/rwu-lh/FullData/NoNoise/57/auto_sending_goals_2021-06-30-10-37-57 already exists. Not creating.\n",
      "[INFO]  Data folder /home/rwu-lh/FullData/NoNoise/20/auto_sending_goals_2021-06-29-10-51-08 already exists. Not creating.\n",
      "[INFO]  Data folder /home/rwu-lh/FullData/NoNoise/27/auto_sending_goals_2021-06-29-11-06-57 already exists. Not creating.\n",
      "[INFO]  Data folder /home/rwu-lh/FullData/NoNoise/24/auto_sending_goals_2021-06-29-11-00-10 already exists. Not creating.\n",
      "[INFO]  Data folder /home/rwu-lh/FullData/NoNoise/52/auto_sending_goals_2021-06-30-10-26-39 already exists. Not creating.\n",
      "[INFO]  Data folder /home/rwu-lh/FullData/NoNoise/42/auto_sending_goals_2021-06-30-10-04-03 already exists. Not creating.\n",
      "[INFO]  Data folder /home/rwu-lh/FullData/NoNoise/34/auto_sending_goals_2021-06-30-09-55-01 already exists. Not creating.\n",
      "[INFO]  Data folder /home/rwu-lh/FullData/NoNoise/17/auto_sending_goals_2021-06-29-10-44-21 already exists. Not creating.\n",
      "[INFO]  Data folder /home/rwu-lh/FullData/NoNoise/9/auto_sending_goals_2021-06-29-10-29-59 already exists. Not creating.\n",
      "[INFO]  Data folder /home/rwu-lh/FullData/NoNoise/35/auto_sending_goals_2021-06-30-09-55-27 already exists. Not creating.\n",
      "[INFO]  Data folder /home/rwu-lh/FullData/NoNoise/26/auto_sending_goals_2021-06-29-11-04-42 already exists. Not creating.\n",
      "[INFO]  Data folder /home/rwu-lh/FullData/NoNoise/21/auto_sending_goals_2021-06-29-10-53-24 already exists. Not creating.\n",
      "[INFO]  Data folder /home/rwu-lh/FullData/NoNoise/50/auto_sending_goals_2021-06-30-10-22-08 already exists. Not creating.\n",
      "[INFO]  Data folder /home/rwu-lh/FullData/NoNoise/23/auto_sending_goals_2021-06-29-10-57-55 already exists. Not creating.\n",
      "[INFO]  Data folder /home/rwu-lh/FullData/NoNoise/2/auto_sending_goals_2021-06-29-10-23-19 already exists. Not creating.\n",
      "[INFO]  Data folder /home/rwu-lh/FullData/NoNoise/6/auto_sending_goals_2021-06-29-10-26-49 already exists. Not creating.\n",
      "[INFO]  Data folder /home/rwu-lh/FullData/NoNoise/60/auto_sending_goals_2021-06-30-10-44-44 already exists. Not creating.\n",
      "[INFO]  Data folder /home/rwu-lh/FullData/NoNoise/3/auto_sending_goals_2021-06-29-10-23-43 already exists. Not creating.\n",
      "[INFO]  Data folder /home/rwu-lh/FullData/NoNoise/15/auto_sending_goals_2021-06-29-10-39-50 already exists. Not creating.\n",
      "[INFO]  Data folder /home/rwu-lh/FullData/NoNoise/37/auto_sending_goals_2021-06-30-09-58-13 already exists. Not creating.\n",
      "[INFO]  Data folder /home/rwu-lh/FullData/NoNoise/19/auto_sending_goals_2021-06-29-10-48-52 already exists. Not creating.\n",
      "[INFO]  Data folder /home/rwu-lh/FullData/NoNoise/8/auto_sending_goals_2021-06-29-10-29-36 already exists. Not creating.\n",
      "[INFO]  Data folder /home/rwu-lh/FullData/NoNoise/7/auto_sending_goals_2021-06-29-10-27-20 already exists. Not creating.\n",
      "[INFO]  Data folder /home/rwu-lh/FullData/NoNoise/5/auto_sending_goals_2021-06-29-10-24-33 already exists. Not creating.\n",
      "[INFO]  Data folder /home/rwu-lh/FullData/NoNoise/14/auto_sending_goals_2021-06-29-10-37-34 already exists. Not creating.\n",
      "[INFO]  Data folder /home/rwu-lh/FullData/NoNoise/53/auto_sending_goals_2021-06-30-10-28-54 already exists. Not creating.\n",
      "[INFO]  Data folder /home/rwu-lh/FullData/NoNoise/16/auto_sending_goals_2021-06-29-10-42-06 already exists. Not creating.\n",
      "[INFO]  Data folder /home/rwu-lh/FullData/NoNoise/56/auto_sending_goals_2021-06-30-10-35-41 already exists. Not creating.\n",
      "[INFO]  Data folder /home/rwu-lh/FullData/NoNoise/1/auto_sending_goals_2021-06-29-10-22-41 already exists. Not creating.\n",
      "[INFO]  Data folder /home/rwu-lh/FullData/NoNoise/55/auto_sending_goals_2021-06-30-10-33-26 already exists. Not creating.\n",
      "[INFO]  Data folder /home/rwu-lh/FullData/NoNoise/36/auto_sending_goals_2021-06-30-09-57-43 already exists. Not creating.\n",
      "[INFO]  Data folder /home/rwu-lh/FullData/NoNoise/47/auto_sending_goals_2021-06-30-10-15-21 already exists. Not creating.\n",
      "[INFO]  Data folder /home/rwu-lh/FullData/NoNoise/12/auto_sending_goals_2021-06-29-10-33-03 already exists. Not creating.\n",
      "[INFO]  Data folder /home/rwu-lh/FullData/NoNoise/33/auto_sending_goals_2021-06-30-09-54-36 already exists. Not creating.\n",
      "[INFO]  Data folder /home/rwu-lh/FullData/NoNoise/25/auto_sending_goals_2021-06-29-11-02-26 already exists. Not creating.\n",
      "[INFO]  Data folder /home/rwu-lh/FullData/NoNoise/32/auto_sending_goals_2021-06-30-09-54-12 already exists. Not creating.\n",
      "[INFO]  Data folder /home/rwu-lh/FullData/NoNoise/45/auto_sending_goals_2021-06-30-10-10-50 already exists. Not creating.\n",
      "[INFO]  Data folder /home/rwu-lh/FullData/NoNoise/13/auto_sending_goals_2021-06-29-10-35-19 already exists. Not creating.\n",
      "[INFO]  Data folder /home/rwu-lh/FullData/NoNoise/31/auto_sending_goals_2021-06-30-09-53-34 already exists. Not creating.\n",
      "[INFO]  Data folder /home/rwu-lh/FullData/NoNoise/38/auto_sending_goals_2021-06-30-10-00-29 already exists. Not creating.\n",
      "[INFO]  Data folder /home/rwu-lh/FullData/NoNoise/22/auto_sending_goals_2021-06-29-10-55-39 already exists. Not creating.\n",
      "[INFO]  Data folder /home/rwu-lh/FullData/NoNoise/58/auto_sending_goals_2021-06-30-10-40-13 already exists. Not creating.\n",
      "[INFO]  Data folder /home/rwu-lh/FullData/NoNoise/4/auto_sending_goals_2021-06-29-10-24-08 already exists. Not creating.\n",
      "[INFO]  Data folder /home/rwu-lh/FullData/NoNoise/48/auto_sending_goals_2021-06-30-10-17-36 already exists. Not creating.\n",
      "[INFO]  Data folder /home/rwu-lh/FullData/NoNoise/39/auto_sending_goals_2021-06-30-10-02-44 already exists. Not creating.\n",
      "[INFO]  Data folder /home/rwu-lh/FullData/NoNoise/30/auto_sending_goals_2021-06-29-11-13-44 already exists. Not creating.\n",
      "[INFO]  Data folder /home/rwu-lh/FullData/NoNoise/10/auto_sending_goals_2021-06-29-10-30-24 already exists. Not creating.\n"
     ]
    }
   ],
   "source": [
    "from cnn import Turtlebot_CNN,Turtlebot_LSTM,data_preparation\n",
    "from read_data import make_dataset,read_bag\n",
    "import tensorflow as tf\n",
    "import matplotlib.pyplot as plt\n",
    "import math\n",
    "from inception import Inception\n",
    "\n",
    "\n",
    "ds,l=data_preparation(path='/home/rwu-lh/FullData/')\n"
   ]
  },
  {
   "cell_type": "code",
   "execution_count": 2,
   "metadata": {},
   "outputs": [
    {
     "output_type": "stream",
     "name": "stdout",
     "text": [
      "115\n"
     ]
    }
   ],
   "source": [
    "ds=ds.shuffle(l)\n",
    "prop_train_val=0.8\n",
    "l_train_val=math.ceil(prop_train_val*l)\n",
    "train_val=ds.take(l_train_val)\n",
    "test=ds.skip(l_train_val)\n",
    "prop_train=0.8\n",
    "l_train=math.floor(prop_train*l_train_val)\n",
    "train=train_val.take(l_train)\n",
    "validation=train_val.skip(l_train)\n",
    "print(l_train)"
   ]
  },
  {
   "cell_type": "code",
   "execution_count": 3,
   "metadata": {
    "tags": []
   },
   "outputs": [],
   "source": [
    "train=train.batch(10)\n",
    "test=test.batch(1)\n",
    "validation=validation.batch(1)"
   ]
  },
  {
   "cell_type": "code",
   "execution_count": 5,
   "metadata": {},
   "outputs": [
    {
     "output_type": "stream",
     "name": "stdout",
     "text": [
      "Epoch 1/500\n",
      "12/12 [==============================] - 23s 2s/step - loss: 1.2053 - categorical_accuracy: 0.4609 - val_loss: 2.1067 - val_categorical_accuracy: 0.2759\n",
      "Epoch 2/500\n",
      "12/12 [==============================] - 17s 1s/step - loss: 1.0337 - categorical_accuracy: 0.5478 - val_loss: 1.8355 - val_categorical_accuracy: 0.4138\n",
      "Epoch 3/500\n",
      "12/12 [==============================] - 17s 1s/step - loss: 0.8736 - categorical_accuracy: 0.6348 - val_loss: 3.4675 - val_categorical_accuracy: 0.3448\n",
      "Epoch 4/500\n",
      "12/12 [==============================] - 17s 1s/step - loss: 0.8629 - categorical_accuracy: 0.6435 - val_loss: 2.7632 - val_categorical_accuracy: 0.3448\n",
      "Epoch 5/500\n",
      "12/12 [==============================] - 17s 1s/step - loss: 0.8819 - categorical_accuracy: 0.6174 - val_loss: 3.6906 - val_categorical_accuracy: 0.3793\n",
      "Epoch 6/500\n",
      " 7/12 [================>.............] - ETA: 7s - loss: 0.7243 - categorical_accuracy: 0.6857"
     ]
    },
    {
     "output_type": "error",
     "ename": "KeyboardInterrupt",
     "evalue": "",
     "traceback": [
      "\u001b[0;31m---------------------------------------------------------------------------\u001b[0m",
      "\u001b[0;31mKeyboardInterrupt\u001b[0m                         Traceback (most recent call last)",
      "\u001b[0;32m<ipython-input-5-71b3a0ffbc67>\u001b[0m in \u001b[0;36m<module>\u001b[0;34m\u001b[0m\n\u001b[1;32m      2\u001b[0m \u001b[0mcb_list_inc\u001b[0m\u001b[0;34m=\u001b[0m\u001b[0;34m[\u001b[0m\u001b[0mtf\u001b[0m\u001b[0;34m.\u001b[0m\u001b[0mkeras\u001b[0m\u001b[0;34m.\u001b[0m\u001b[0mcallbacks\u001b[0m\u001b[0;34m.\u001b[0m\u001b[0mModelCheckpoint\u001b[0m\u001b[0;34m(\u001b[0m\u001b[0;34m'inc_model/checkpoint_inc.h5'\u001b[0m\u001b[0;34m,\u001b[0m\u001b[0mmonitor\u001b[0m\u001b[0;34m=\u001b[0m\u001b[0;34m'val_loss'\u001b[0m\u001b[0;34m,\u001b[0m\u001b[0msave_best_only\u001b[0m\u001b[0;34m=\u001b[0m\u001b[0;32mTrue\u001b[0m\u001b[0;34m,\u001b[0m\u001b[0msave_weights_only\u001b[0m\u001b[0;34m=\u001b[0m\u001b[0;32mTrue\u001b[0m\u001b[0;34m)\u001b[0m\u001b[0;34m]\u001b[0m\u001b[0;31m#tf.keras.callbacks.EarlyStopping(monitor='val_loss',patience=50),\u001b[0m\u001b[0;34m\u001b[0m\u001b[0;34m\u001b[0m\u001b[0m\n\u001b[1;32m      3\u001b[0m \u001b[0minc\u001b[0m\u001b[0;34m.\u001b[0m\u001b[0mcompile\u001b[0m\u001b[0;34m(\u001b[0m\u001b[0moptimizer\u001b[0m\u001b[0;34m=\u001b[0m\u001b[0;34m'adam'\u001b[0m\u001b[0;34m,\u001b[0m\u001b[0mloss\u001b[0m\u001b[0;34m=\u001b[0m\u001b[0;34m'categorical_crossentropy'\u001b[0m\u001b[0;34m,\u001b[0m\u001b[0mmetrics\u001b[0m\u001b[0;34m=\u001b[0m\u001b[0;34m[\u001b[0m\u001b[0mtf\u001b[0m\u001b[0;34m.\u001b[0m\u001b[0mkeras\u001b[0m\u001b[0;34m.\u001b[0m\u001b[0mmetrics\u001b[0m\u001b[0;34m.\u001b[0m\u001b[0mCategoricalAccuracy\u001b[0m\u001b[0;34m(\u001b[0m\u001b[0;34m)\u001b[0m\u001b[0;34m]\u001b[0m\u001b[0;34m)\u001b[0m\u001b[0;34m\u001b[0m\u001b[0;34m\u001b[0m\u001b[0m\n\u001b[0;32m----> 4\u001b[0;31m \u001b[0mhist_inc\u001b[0m\u001b[0;34m=\u001b[0m\u001b[0minc\u001b[0m\u001b[0;34m.\u001b[0m\u001b[0mfit\u001b[0m\u001b[0;34m(\u001b[0m\u001b[0mtrain\u001b[0m\u001b[0;34m,\u001b[0m\u001b[0mepochs\u001b[0m\u001b[0;34m=\u001b[0m\u001b[0;36m500\u001b[0m\u001b[0;34m,\u001b[0m\u001b[0mcallbacks\u001b[0m\u001b[0;34m=\u001b[0m\u001b[0mcb_list_inc\u001b[0m\u001b[0;34m,\u001b[0m\u001b[0mverbose\u001b[0m\u001b[0;34m=\u001b[0m\u001b[0;36m1\u001b[0m\u001b[0;34m,\u001b[0m\u001b[0mvalidation_data\u001b[0m\u001b[0;34m=\u001b[0m\u001b[0mvalidation\u001b[0m\u001b[0;34m)\u001b[0m\u001b[0;34m\u001b[0m\u001b[0;34m\u001b[0m\u001b[0m\n\u001b[0m",
      "\u001b[0;32m~/.local/lib/python3.7/site-packages/tensorflow/python/keras/engine/training.py\u001b[0m in \u001b[0;36mfit\u001b[0;34m(self, x, y, batch_size, epochs, verbose, callbacks, validation_split, validation_data, shuffle, class_weight, sample_weight, initial_epoch, steps_per_epoch, validation_steps, validation_batch_size, validation_freq, max_queue_size, workers, use_multiprocessing)\u001b[0m\n\u001b[1;32m   1181\u001b[0m                 _r=1):\n\u001b[1;32m   1182\u001b[0m               \u001b[0mcallbacks\u001b[0m\u001b[0;34m.\u001b[0m\u001b[0mon_train_batch_begin\u001b[0m\u001b[0;34m(\u001b[0m\u001b[0mstep\u001b[0m\u001b[0;34m)\u001b[0m\u001b[0;34m\u001b[0m\u001b[0;34m\u001b[0m\u001b[0m\n\u001b[0;32m-> 1183\u001b[0;31m               \u001b[0mtmp_logs\u001b[0m \u001b[0;34m=\u001b[0m \u001b[0mself\u001b[0m\u001b[0;34m.\u001b[0m\u001b[0mtrain_function\u001b[0m\u001b[0;34m(\u001b[0m\u001b[0miterator\u001b[0m\u001b[0;34m)\u001b[0m\u001b[0;34m\u001b[0m\u001b[0;34m\u001b[0m\u001b[0m\n\u001b[0m\u001b[1;32m   1184\u001b[0m               \u001b[0;32mif\u001b[0m \u001b[0mdata_handler\u001b[0m\u001b[0;34m.\u001b[0m\u001b[0mshould_sync\u001b[0m\u001b[0;34m:\u001b[0m\u001b[0;34m\u001b[0m\u001b[0;34m\u001b[0m\u001b[0m\n\u001b[1;32m   1185\u001b[0m                 \u001b[0mcontext\u001b[0m\u001b[0;34m.\u001b[0m\u001b[0masync_wait\u001b[0m\u001b[0;34m(\u001b[0m\u001b[0;34m)\u001b[0m\u001b[0;34m\u001b[0m\u001b[0;34m\u001b[0m\u001b[0m\n",
      "\u001b[0;32m~/.local/lib/python3.7/site-packages/tensorflow/python/eager/def_function.py\u001b[0m in \u001b[0;36m__call__\u001b[0;34m(self, *args, **kwds)\u001b[0m\n\u001b[1;32m    887\u001b[0m \u001b[0;34m\u001b[0m\u001b[0m\n\u001b[1;32m    888\u001b[0m       \u001b[0;32mwith\u001b[0m \u001b[0mOptionalXlaContext\u001b[0m\u001b[0;34m(\u001b[0m\u001b[0mself\u001b[0m\u001b[0;34m.\u001b[0m\u001b[0m_jit_compile\u001b[0m\u001b[0;34m)\u001b[0m\u001b[0;34m:\u001b[0m\u001b[0;34m\u001b[0m\u001b[0;34m\u001b[0m\u001b[0m\n\u001b[0;32m--> 889\u001b[0;31m         \u001b[0mresult\u001b[0m \u001b[0;34m=\u001b[0m \u001b[0mself\u001b[0m\u001b[0;34m.\u001b[0m\u001b[0m_call\u001b[0m\u001b[0;34m(\u001b[0m\u001b[0;34m*\u001b[0m\u001b[0margs\u001b[0m\u001b[0;34m,\u001b[0m \u001b[0;34m**\u001b[0m\u001b[0mkwds\u001b[0m\u001b[0;34m)\u001b[0m\u001b[0;34m\u001b[0m\u001b[0;34m\u001b[0m\u001b[0m\n\u001b[0m\u001b[1;32m    890\u001b[0m \u001b[0;34m\u001b[0m\u001b[0m\n\u001b[1;32m    891\u001b[0m       \u001b[0mnew_tracing_count\u001b[0m \u001b[0;34m=\u001b[0m \u001b[0mself\u001b[0m\u001b[0;34m.\u001b[0m\u001b[0mexperimental_get_tracing_count\u001b[0m\u001b[0;34m(\u001b[0m\u001b[0;34m)\u001b[0m\u001b[0;34m\u001b[0m\u001b[0;34m\u001b[0m\u001b[0m\n",
      "\u001b[0;32m~/.local/lib/python3.7/site-packages/tensorflow/python/eager/def_function.py\u001b[0m in \u001b[0;36m_call\u001b[0;34m(self, *args, **kwds)\u001b[0m\n\u001b[1;32m    915\u001b[0m       \u001b[0;31m# In this case we have created variables on the first call, so we run the\u001b[0m\u001b[0;34m\u001b[0m\u001b[0;34m\u001b[0m\u001b[0;34m\u001b[0m\u001b[0m\n\u001b[1;32m    916\u001b[0m       \u001b[0;31m# defunned version which is guaranteed to never create variables.\u001b[0m\u001b[0;34m\u001b[0m\u001b[0;34m\u001b[0m\u001b[0;34m\u001b[0m\u001b[0m\n\u001b[0;32m--> 917\u001b[0;31m       \u001b[0;32mreturn\u001b[0m \u001b[0mself\u001b[0m\u001b[0;34m.\u001b[0m\u001b[0m_stateless_fn\u001b[0m\u001b[0;34m(\u001b[0m\u001b[0;34m*\u001b[0m\u001b[0margs\u001b[0m\u001b[0;34m,\u001b[0m \u001b[0;34m**\u001b[0m\u001b[0mkwds\u001b[0m\u001b[0;34m)\u001b[0m  \u001b[0;31m# pylint: disable=not-callable\u001b[0m\u001b[0;34m\u001b[0m\u001b[0;34m\u001b[0m\u001b[0m\n\u001b[0m\u001b[1;32m    918\u001b[0m     \u001b[0;32melif\u001b[0m \u001b[0mself\u001b[0m\u001b[0;34m.\u001b[0m\u001b[0m_stateful_fn\u001b[0m \u001b[0;32mis\u001b[0m \u001b[0;32mnot\u001b[0m \u001b[0;32mNone\u001b[0m\u001b[0;34m:\u001b[0m\u001b[0;34m\u001b[0m\u001b[0;34m\u001b[0m\u001b[0m\n\u001b[1;32m    919\u001b[0m       \u001b[0;31m# Release the lock early so that multiple threads can perform the call\u001b[0m\u001b[0;34m\u001b[0m\u001b[0;34m\u001b[0m\u001b[0;34m\u001b[0m\u001b[0m\n",
      "\u001b[0;32m~/.local/lib/python3.7/site-packages/tensorflow/python/eager/function.py\u001b[0m in \u001b[0;36m__call__\u001b[0;34m(self, *args, **kwargs)\u001b[0m\n\u001b[1;32m   3022\u001b[0m        filtered_flat_args) = self._maybe_define_function(args, kwargs)\n\u001b[1;32m   3023\u001b[0m     return graph_function._call_flat(\n\u001b[0;32m-> 3024\u001b[0;31m         filtered_flat_args, captured_inputs=graph_function.captured_inputs)  # pylint: disable=protected-access\n\u001b[0m\u001b[1;32m   3025\u001b[0m \u001b[0;34m\u001b[0m\u001b[0m\n\u001b[1;32m   3026\u001b[0m   \u001b[0;34m@\u001b[0m\u001b[0mproperty\u001b[0m\u001b[0;34m\u001b[0m\u001b[0;34m\u001b[0m\u001b[0m\n",
      "\u001b[0;32m~/.local/lib/python3.7/site-packages/tensorflow/python/eager/function.py\u001b[0m in \u001b[0;36m_call_flat\u001b[0;34m(self, args, captured_inputs, cancellation_manager)\u001b[0m\n\u001b[1;32m   1959\u001b[0m       \u001b[0;31m# No tape is watching; skip to running the function.\u001b[0m\u001b[0;34m\u001b[0m\u001b[0;34m\u001b[0m\u001b[0;34m\u001b[0m\u001b[0m\n\u001b[1;32m   1960\u001b[0m       return self._build_call_outputs(self._inference_function.call(\n\u001b[0;32m-> 1961\u001b[0;31m           ctx, args, cancellation_manager=cancellation_manager))\n\u001b[0m\u001b[1;32m   1962\u001b[0m     forward_backward = self._select_forward_and_backward_functions(\n\u001b[1;32m   1963\u001b[0m         \u001b[0margs\u001b[0m\u001b[0;34m,\u001b[0m\u001b[0;34m\u001b[0m\u001b[0;34m\u001b[0m\u001b[0m\n",
      "\u001b[0;32m~/.local/lib/python3.7/site-packages/tensorflow/python/eager/function.py\u001b[0m in \u001b[0;36mcall\u001b[0;34m(self, ctx, args, cancellation_manager)\u001b[0m\n\u001b[1;32m    594\u001b[0m               \u001b[0minputs\u001b[0m\u001b[0;34m=\u001b[0m\u001b[0margs\u001b[0m\u001b[0;34m,\u001b[0m\u001b[0;34m\u001b[0m\u001b[0;34m\u001b[0m\u001b[0m\n\u001b[1;32m    595\u001b[0m               \u001b[0mattrs\u001b[0m\u001b[0;34m=\u001b[0m\u001b[0mattrs\u001b[0m\u001b[0;34m,\u001b[0m\u001b[0;34m\u001b[0m\u001b[0;34m\u001b[0m\u001b[0m\n\u001b[0;32m--> 596\u001b[0;31m               ctx=ctx)\n\u001b[0m\u001b[1;32m    597\u001b[0m         \u001b[0;32melse\u001b[0m\u001b[0;34m:\u001b[0m\u001b[0;34m\u001b[0m\u001b[0;34m\u001b[0m\u001b[0m\n\u001b[1;32m    598\u001b[0m           outputs = execute.execute_with_cancellation(\n",
      "\u001b[0;32m~/.local/lib/python3.7/site-packages/tensorflow/python/eager/execute.py\u001b[0m in \u001b[0;36mquick_execute\u001b[0;34m(op_name, num_outputs, inputs, attrs, ctx, name)\u001b[0m\n\u001b[1;32m     58\u001b[0m     \u001b[0mctx\u001b[0m\u001b[0;34m.\u001b[0m\u001b[0mensure_initialized\u001b[0m\u001b[0;34m(\u001b[0m\u001b[0;34m)\u001b[0m\u001b[0;34m\u001b[0m\u001b[0;34m\u001b[0m\u001b[0m\n\u001b[1;32m     59\u001b[0m     tensors = pywrap_tfe.TFE_Py_Execute(ctx._handle, device_name, op_name,\n\u001b[0;32m---> 60\u001b[0;31m                                         inputs, attrs, num_outputs)\n\u001b[0m\u001b[1;32m     61\u001b[0m   \u001b[0;32mexcept\u001b[0m \u001b[0mcore\u001b[0m\u001b[0;34m.\u001b[0m\u001b[0m_NotOkStatusException\u001b[0m \u001b[0;32mas\u001b[0m \u001b[0me\u001b[0m\u001b[0;34m:\u001b[0m\u001b[0;34m\u001b[0m\u001b[0;34m\u001b[0m\u001b[0m\n\u001b[1;32m     62\u001b[0m     \u001b[0;32mif\u001b[0m \u001b[0mname\u001b[0m \u001b[0;32mis\u001b[0m \u001b[0;32mnot\u001b[0m \u001b[0;32mNone\u001b[0m\u001b[0;34m:\u001b[0m\u001b[0;34m\u001b[0m\u001b[0;34m\u001b[0m\u001b[0m\n",
      "\u001b[0;31mKeyboardInterrupt\u001b[0m: "
     ]
    }
   ],
   "source": [
    "inc=Inception()\n",
    "cb_list_inc=[tf.keras.callbacks.ModelCheckpoint('inc_model/checkpoint_inc.h5',monitor='val_loss',save_best_only=True,save_weights_only=True)]#tf.keras.callbacks.EarlyStopping(monitor='val_loss',patience=50),\n",
    "inc.compile(optimizer='adam',loss='categorical_crossentropy',metrics=[tf.keras.metrics.CategoricalAccuracy()])\n",
    "hist_inc=inc.fit(train,epochs=500,callbacks=cb_list_inc,verbose=1,validation_data=validation)"
   ]
  },
  {
   "cell_type": "code",
   "execution_count": null,
   "metadata": {},
   "outputs": [],
   "source": [
    "inc.load_weights('inc_model/checkpoint_inc.h5')\n",
    "plt.figure()\n",
    "plt.plot(hist_inc.history['loss'],label='Training Loss')\n",
    "plt.plot(hist_inc.history['val_loss'],label='Validation Loss')\n",
    "plt.plot(hist_inc.history['categorical_accuracy'],label='Training Accuracy')\n",
    "plt.plot(hist_inc.history['val_categorical_accuracy'],label='Validation Accuracy')\n",
    "plt.legend()\n",
    "plt.show()\n",
    "inc.evaluate(test)"
   ]
  },
  {
   "cell_type": "markdown",
   "metadata": {},
   "source": [
    "## Training the Model\n",
    "\n",
    "We can now train the model using the fit method."
   ]
  },
  {
   "cell_type": "code",
   "execution_count": 6,
   "metadata": {
    "tags": []
   },
   "outputs": [
    {
     "output_type": "stream",
     "name": "stdout",
     "text": [
      "12/12 [==============================] - 14s 1s/step - loss: 1.0940 - categorical_accuracy: 0.3913 - val_loss: 1.0682 - val_categorical_accuracy: 0.4828\n"
     ]
    }
   ],
   "source": [
    "\n",
    "lstm=Turtlebot_LSTM()\n",
    "cb_list_lstm=[tf.keras.callbacks.ModelCheckpoint('lstm_model/checkpoint_lstm_new.h5',monitor='val_loss',save_best_only=True,save_weights_only=True)]#tf.keras.callbacks.EarlyStopping(monitor='val_loss',patience=50),\n",
    "lstm.compile(optimizer='adam',loss='categorical_crossentropy',metrics=[tf.keras.metrics.CategoricalAccuracy()])\n",
    "hist_lstm=lstm.fit(train,epochs=500,callbacks=cb_list_lstm,verbose=1,validation_data=validation)"
   ]
  },
  {
   "cell_type": "code",
   "execution_count": null,
   "metadata": {},
   "outputs": [],
   "source": [
    "lstm.load_weights('lstm_model/checkpoint_lstm.h5')\n",
    "plt.figure()\n",
    "plt.plot(hist_lstm.history['loss'],label='Training Loss')\n",
    "plt.plot(hist_lstm.history['val_loss'],label='Validation Loss')\n",
    "plt.plot(hist_lstm.history['categorical_accuracy'],label='Training Accuracy')\n",
    "plt.plot(hist_lstm.history['val_categorical_accuracy'],label='Validation Accuracy')\n",
    "plt.legend()\n",
    "plt.show()\n",
    "lstm.evaluate(test)"
   ]
  },
  {
   "cell_type": "code",
   "execution_count": 4,
   "metadata": {
    "tags": []
   },
   "outputs": [
    {
     "output_type": "stream",
     "name": "stdout",
     "text": [
      "(None, 32)\n",
      "(None, 32)\n",
      "(None, 32)\n",
      "(None, 32)\n",
      "112/115 [============================>.] - ETA: 0s - loss: 1.1523 - categorical_accuracy: 0.4375(None, 32)\n",
      "(None, 32)\n",
      "115/115 [==============================] - 2s 14ms/step - loss: 1.1479 - categorical_accuracy: 0.4435 - val_loss: 0.9142 - val_categorical_accuracy: 0.6552\n",
      "Model: \"turtlebot_cnn\"\n",
      "_________________________________________________________________\n",
      "Layer (type)                 Output Shape              Param #   \n",
      "=================================================================\n",
      "conv1d (Conv1D)              multiple                  8384      \n",
      "_________________________________________________________________\n",
      "conv1d_1 (Conv1D)            multiple                  20512     \n",
      "_________________________________________________________________\n",
      "conv1d_2 (Conv1D)            multiple                  460928    \n",
      "_________________________________________________________________\n",
      "conv1d_3 (Conv1D)            multiple                  81984     \n",
      "_________________________________________________________________\n",
      "conv1d_4 (Conv1D)            multiple                  20512     \n",
      "_________________________________________________________________\n",
      "global_average_pooling1d (Gl multiple                  0         \n",
      "_________________________________________________________________\n",
      "global_average_pooling1d_1 ( multiple                  0         \n",
      "_________________________________________________________________\n",
      "concatenate (Concatenate)    multiple                  0         \n",
      "_________________________________________________________________\n",
      "dense (Dense)                multiple                  4160      \n",
      "_________________________________________________________________\n",
      "dense_1 (Dense)              multiple                  8320      \n",
      "_________________________________________________________________\n",
      "dense_2 (Dense)              multiple                  387       \n",
      "=================================================================\n",
      "Total params: 605,187\n",
      "Trainable params: 605,187\n",
      "Non-trainable params: 0\n",
      "_________________________________________________________________\n"
     ]
    }
   ],
   "source": [
    "cnn=Turtlebot_CNN()\n",
    "cb_list_cnn=[tf.keras.callbacks.ModelCheckpoint('cnn_model/checkpoint_cnn_new.h5',monitor='val_loss',save_best_only=True,save_weights_only=True)]#,tf.keras.callbacks.EarlyStopping(monitor='val_loss',patience=50)]\n",
    "cnn.compile(optimizer='adam',loss='categorical_crossentropy',metrics=[tf.keras.metrics.CategoricalAccuracy()])\n",
    "hist_cnn=cnn.fit(train,epochs=1,callbacks=cb_list_cnn,verbose=1,validation_data=validation)\n",
    "cnn.summary()"
   ]
  },
  {
   "cell_type": "code",
   "execution_count": null,
   "metadata": {},
   "outputs": [],
   "source": [
    "cnn.load_weights('cnn_model/checkpoint_cnn_new.h5')\n",
    "\n",
    "plt.figure()\n",
    "plt.plot(hist_cnn.history['loss'],label='Training Loss')\n",
    "plt.plot(hist_cnn.history['val_loss'],label='Validation Loss')\n",
    "plt.plot(hist_cnn.history['categorical_accuracy'],label='Training Accuracy')\n",
    "plt.plot(hist_cnn.history['val_categorical_accuracy'],label='Validation Accuracy')\n",
    "plt.legend()\n",
    "plt.show()\n",
    "cnn.evaluate(test)"
   ]
  },
  {
   "cell_type": "markdown",
   "metadata": {},
   "source": [
    "## Testing the model"
   ]
  },
  {
   "cell_type": "code",
   "execution_count": null,
   "metadata": {},
   "outputs": [],
   "source": []
  },
  {
   "cell_type": "markdown",
   "metadata": {},
   "source": [
    "Here is a Visualization of what the CNN does \n",
    "\n",
    "![Visualization of the CNN](img/Schema_CNN.png)"
   ]
  },
  {
   "cell_type": "code",
   "execution_count": null,
   "metadata": {},
   "outputs": [],
   "source": [
    "import numpy as np\n",
    "def results(model,test):\n",
    "    res=model.predict(test)\n",
    "    c=0\n",
    "    for i,pred in enumerate(res):\n",
    "        y=test[i][1][0]\n",
    "        if np.argmax(y)==np.argmax(pred):\n",
    "            c+=1\n",
    "    return(c/len(res))\n",
    "            "
   ]
  },
  {
   "cell_type": "code",
   "execution_count": null,
   "metadata": {},
   "outputs": [],
   "source": [
    "lstm.load_weights('lstm_model/checkpoint_lstm.h5')\n",
    "cnn.load_weights('cnn_model/checkpoint_cnn.h5')\n",
    "print('LSTM :',results(lstm,test))\n",
    "print('CNN :',results(cnn,test))"
   ]
  },
  {
   "cell_type": "code",
   "execution_count": null,
   "metadata": {},
   "outputs": [],
   "source": [
    "model.predict(test)"
   ]
  },
  {
   "cell_type": "code",
   "execution_count": null,
   "metadata": {},
   "outputs": [],
   "source": [
    "train[0]"
   ]
  },
  {
   "cell_type": "code",
   "execution_count": null,
   "metadata": {},
   "outputs": [],
   "source": [
    "tf.data.Dataset.from_generator(train)"
   ]
  },
  {
   "cell_type": "code",
   "execution_count": null,
   "metadata": {},
   "outputs": [],
   "source": [
    "odoms,scans,labels=make_dataset('/media/louis/TOSHIBA EXT/FullData')"
   ]
  },
  {
   "cell_type": "code",
   "execution_count": null,
   "metadata": {},
   "outputs": [],
   "source": [
    "tf.data.Dataset.from_generator(lambda :odoms,output_shapes=[None,13],output_types=tf.float32)"
   ]
  },
  {
   "cell_type": "code",
   "execution_count": null,
   "metadata": {},
   "outputs": [],
   "source": [
    "np.shape(odoms[1])"
   ]
  },
  {
   "cell_type": "code",
   "execution_count": null,
   "metadata": {},
   "outputs": [],
   "source": [
    "lstm=Turtlebot_CNN(type='lstm')\n",
    "lstm.compile(optimizer='adam',loss='categorical_crossentropy')\n",
    "lstm.load_weights('lstm_model/checkpoint_lstm.h5')\n",
    "lstm.predict(train)"
   ]
  },
  {
   "cell_type": "code",
   "execution_count": null,
   "metadata": {},
   "outputs": [],
   "source": [
    "for element in train:\n",
    "    print(element)"
   ]
  },
  {
   "cell_type": "code",
   "execution_count": null,
   "metadata": {},
   "outputs": [
    {
     "name": "stdout",
     "output_type": "stream",
     "text": [
      "[INFO]  Data folder /media/louis/TOSHIBA EXT/FullData/NoNoise/43/auto_sending_goals_2021-06-30-10-06-18 already exists. Not creating.\n",
      "[INFO]  Data folder /media/louis/TOSHIBA EXT/FullData/NoNoise/1/auto_sending_goals_2021-06-29-10-22-41 already exists. Not creating.\n",
      "[INFO]  Data folder /media/louis/TOSHIBA EXT/FullData/NoNoise/10/auto_sending_goals_2021-06-29-10-30-24 already exists. Not creating.\n",
      "[INFO]  Data folder /media/louis/TOSHIBA EXT/FullData/NoNoise/11/auto_sending_goals_2021-06-29-10-30-48 already exists. Not creating.\n",
      "[INFO]  Data folder /media/louis/TOSHIBA EXT/FullData/NoNoise/12/auto_sending_goals_2021-06-29-10-33-03 already exists. Not creating.\n",
      "[INFO]  Data folder /media/louis/TOSHIBA EXT/FullData/NoNoise/13/auto_sending_goals_2021-06-29-10-35-19 already exists. Not creating.\n",
      "[INFO]  Data folder /media/louis/TOSHIBA EXT/FullData/NoNoise/14/auto_sending_goals_2021-06-29-10-37-34 already exists. Not creating.\n",
      "[INFO]  Data folder /media/louis/TOSHIBA EXT/FullData/NoNoise/15/auto_sending_goals_2021-06-29-10-39-50 already exists. Not creating.\n",
      "[INFO]  Data folder /media/louis/TOSHIBA EXT/FullData/NoNoise/16/auto_sending_goals_2021-06-29-10-42-06 already exists. Not creating.\n",
      "[INFO]  Data folder /media/louis/TOSHIBA EXT/FullData/NoNoise/17/auto_sending_goals_2021-06-29-10-44-21 already exists. Not creating.\n",
      "[INFO]  Data folder /media/louis/TOSHIBA EXT/FullData/NoNoise/18/auto_sending_goals_2021-06-29-10-46-37 already exists. Not creating.\n",
      "[INFO]  Data folder /media/louis/TOSHIBA EXT/FullData/NoNoise/19/auto_sending_goals_2021-06-29-10-48-52 already exists. Not creating.\n",
      "[INFO]  Data folder /media/louis/TOSHIBA EXT/FullData/NoNoise/2/auto_sending_goals_2021-06-29-10-23-19 already exists. Not creating.\n",
      "[INFO]  Data folder /media/louis/TOSHIBA EXT/FullData/NoNoise/20/auto_sending_goals_2021-06-29-10-51-08 already exists. Not creating.\n",
      "[INFO]  Data folder /media/louis/TOSHIBA EXT/FullData/NoNoise/21/auto_sending_goals_2021-06-29-10-53-24 already exists. Not creating.\n",
      "[INFO]  Data folder /media/louis/TOSHIBA EXT/FullData/NoNoise/22/auto_sending_goals_2021-06-29-10-55-39 already exists. Not creating.\n",
      "[INFO]  Data folder /media/louis/TOSHIBA EXT/FullData/NoNoise/23/auto_sending_goals_2021-06-29-10-57-55 already exists. Not creating.\n",
      "[INFO]  Data folder /media/louis/TOSHIBA EXT/FullData/NoNoise/24/auto_sending_goals_2021-06-29-11-00-10 already exists. Not creating.\n",
      "[INFO]  Data folder /media/louis/TOSHIBA EXT/FullData/NoNoise/25/auto_sending_goals_2021-06-29-11-02-26 already exists. Not creating.\n",
      "[INFO]  Data folder /media/louis/TOSHIBA EXT/FullData/NoNoise/26/auto_sending_goals_2021-06-29-11-04-42 already exists. Not creating.\n",
      "[INFO]  Data folder /media/louis/TOSHIBA EXT/FullData/NoNoise/27/auto_sending_goals_2021-06-29-11-06-57 already exists. Not creating.\n",
      "[INFO]  Data folder /media/louis/TOSHIBA EXT/FullData/NoNoise/28/auto_sending_goals_2021-06-29-11-09-13 already exists. Not creating.\n",
      "[INFO]  Data folder /media/louis/TOSHIBA EXT/FullData/NoNoise/29/auto_sending_goals_2021-06-29-11-11-28 already exists. Not creating.\n",
      "[INFO]  Data folder /media/louis/TOSHIBA EXT/FullData/NoNoise/3/auto_sending_goals_2021-06-29-10-23-43 already exists. Not creating.\n",
      "[INFO]  Data folder /media/louis/TOSHIBA EXT/FullData/NoNoise/30/auto_sending_goals_2021-06-29-11-13-44 already exists. Not creating.\n",
      "[INFO]  Data folder /media/louis/TOSHIBA EXT/FullData/NoNoise/31/auto_sending_goals_2021-06-30-09-53-34 already exists. Not creating.\n",
      "[INFO]  Data folder /media/louis/TOSHIBA EXT/FullData/NoNoise/32/auto_sending_goals_2021-06-30-09-54-12 already exists. Not creating.\n",
      "[INFO]  Data folder /media/louis/TOSHIBA EXT/FullData/NoNoise/33/auto_sending_goals_2021-06-30-09-54-36 already exists. Not creating.\n",
      "[INFO]  Data folder /media/louis/TOSHIBA EXT/FullData/NoNoise/34/auto_sending_goals_2021-06-30-09-55-01 already exists. Not creating.\n",
      "[INFO]  Data folder /media/louis/TOSHIBA EXT/FullData/NoNoise/35/auto_sending_goals_2021-06-30-09-55-27 already exists. Not creating.\n",
      "[INFO]  Data folder /media/louis/TOSHIBA EXT/FullData/NoNoise/36/auto_sending_goals_2021-06-30-09-57-43 already exists. Not creating.\n",
      "[INFO]  Data folder /media/louis/TOSHIBA EXT/FullData/NoNoise/37/auto_sending_goals_2021-06-30-09-58-13 already exists. Not creating.\n",
      "[INFO]  Data folder /media/louis/TOSHIBA EXT/FullData/NoNoise/38/auto_sending_goals_2021-06-30-10-00-29 already exists. Not creating.\n",
      "[INFO]  Data folder /media/louis/TOSHIBA EXT/FullData/NoNoise/39/auto_sending_goals_2021-06-30-10-02-44 already exists. Not creating.\n",
      "[INFO]  Data folder /media/louis/TOSHIBA EXT/FullData/NoNoise/4/auto_sending_goals_2021-06-29-10-24-08 already exists. Not creating.\n",
      "[INFO]  Data folder /media/louis/TOSHIBA EXT/FullData/NoNoise/40/auto_sending_goals_2021-06-30-10-03-16 already exists. Not creating.\n",
      "[INFO]  Data folder /media/louis/TOSHIBA EXT/FullData/NoNoise/41/auto_sending_goals_2021-06-30-10-03-40 already exists. Not creating.\n",
      "[INFO]  Data folder /media/louis/TOSHIBA EXT/FullData/NoNoise/42/auto_sending_goals_2021-06-30-10-04-03 already exists. Not creating.\n",
      "[INFO]  Data folder /media/louis/TOSHIBA EXT/FullData/NoNoise/44/auto_sending_goals_2021-06-30-10-08-34 already exists. Not creating.\n",
      "[INFO]  Data folder /media/louis/TOSHIBA EXT/FullData/NoNoise/45/auto_sending_goals_2021-06-30-10-10-50 already exists. Not creating.\n",
      "[INFO]  Data folder /media/louis/TOSHIBA EXT/FullData/NoNoise/46/auto_sending_goals_2021-06-30-10-13-05 already exists. Not creating.\n",
      "[INFO]  Data folder /media/louis/TOSHIBA EXT/FullData/NoNoise/47/auto_sending_goals_2021-06-30-10-15-21 already exists. Not creating.\n",
      "[INFO]  Data folder /media/louis/TOSHIBA EXT/FullData/NoNoise/48/auto_sending_goals_2021-06-30-10-17-36 already exists. Not creating.\n",
      "[INFO]  Data folder /media/louis/TOSHIBA EXT/FullData/NoNoise/49/auto_sending_goals_2021-06-30-10-19-52 already exists. Not creating.\n",
      "[INFO]  Data folder /media/louis/TOSHIBA EXT/FullData/NoNoise/5/auto_sending_goals_2021-06-29-10-24-33 already exists. Not creating.\n",
      "[INFO]  Data folder /media/louis/TOSHIBA EXT/FullData/NoNoise/50/auto_sending_goals_2021-06-30-10-22-08 already exists. Not creating.\n",
      "[INFO]  Data folder /media/louis/TOSHIBA EXT/FullData/NoNoise/51/auto_sending_goals_2021-06-30-10-24-23 already exists. Not creating.\n",
      "[INFO]  Data folder /media/louis/TOSHIBA EXT/FullData/NoNoise/52/auto_sending_goals_2021-06-30-10-26-39 already exists. Not creating.\n",
      "[INFO]  Data folder /media/louis/TOSHIBA EXT/FullData/NoNoise/53/auto_sending_goals_2021-06-30-10-28-54 already exists. Not creating.\n",
      "[INFO]  Data folder /media/louis/TOSHIBA EXT/FullData/NoNoise/54/auto_sending_goals_2021-06-30-10-31-10 already exists. Not creating.\n",
      "[INFO]  Data folder /media/louis/TOSHIBA EXT/FullData/NoNoise/55/auto_sending_goals_2021-06-30-10-33-26 already exists. Not creating.\n",
      "[INFO]  Data folder /media/louis/TOSHIBA EXT/FullData/NoNoise/56/auto_sending_goals_2021-06-30-10-35-41 already exists. Not creating.\n",
      "[INFO]  Data folder /media/louis/TOSHIBA EXT/FullData/NoNoise/57/auto_sending_goals_2021-06-30-10-37-57 already exists. Not creating.\n",
      "[INFO]  Data folder /media/louis/TOSHIBA EXT/FullData/NoNoise/58/auto_sending_goals_2021-06-30-10-40-13 already exists. Not creating.\n",
      "[INFO]  Data folder /media/louis/TOSHIBA EXT/FullData/NoNoise/59/auto_sending_goals_2021-06-30-10-42-28 already exists. Not creating.\n",
      "[INFO]  Data folder /media/louis/TOSHIBA EXT/FullData/NoNoise/6/auto_sending_goals_2021-06-29-10-26-49 already exists. Not creating.\n",
      "[INFO]  Data folder /media/louis/TOSHIBA EXT/FullData/NoNoise/60/auto_sending_goals_2021-06-30-10-44-44 already exists. Not creating.\n",
      "[INFO]  Data folder /media/louis/TOSHIBA EXT/FullData/NoNoise/7/auto_sending_goals_2021-06-29-10-27-20 already exists. Not creating.\n",
      "[INFO]  Data folder /media/louis/TOSHIBA EXT/FullData/NoNoise/8/auto_sending_goals_2021-06-29-10-29-36 already exists. Not creating.\n",
      "[INFO]  Data folder /media/louis/TOSHIBA EXT/FullData/NoNoise/9/auto_sending_goals_2021-06-29-10-29-59 already exists. Not creating.\n",
      "[INFO]  Data folder /media/louis/TOSHIBA EXT/FullData/OdomNoise/3/auto_sending_goals_2021-06-29-11-23-21 already exists. Not creating.\n",
      "[INFO]  Data folder /media/louis/TOSHIBA EXT/FullData/OdomNoise/1/auto_sending_goals_2021-06-29-11-21-09 already exists. Not creating.\n",
      "[INFO]  Data folder /media/louis/TOSHIBA EXT/FullData/OdomNoise/10/auto_sending_goals_2021-06-29-11-39-10 already exists. Not creating.\n",
      "[INFO]  Data folder /media/louis/TOSHIBA EXT/FullData/OdomNoise/11/auto_sending_goals_2021-06-29-11-41-25 already exists. Not creating.\n",
      "[INFO]  Data folder /media/louis/TOSHIBA EXT/FullData/OdomNoise/12/auto_sending_goals_2021-06-29-11-42-31 already exists. Not creating.\n",
      "[INFO]  Data folder /media/louis/TOSHIBA EXT/FullData/OdomNoise/13/auto_sending_goals_2021-06-29-11-44-47 already exists. Not creating.\n",
      "[INFO]  Data folder /media/louis/TOSHIBA EXT/FullData/OdomNoise/14/auto_sending_goals_2021-06-29-11-47-02 already exists. Not creating.\n",
      "[INFO]  Data folder /media/louis/TOSHIBA EXT/FullData/OdomNoise/15/auto_sending_goals_2021-06-29-11-49-18 already exists. Not creating.\n",
      "[INFO]  Data folder /media/louis/TOSHIBA EXT/FullData/OdomNoise/16/auto_sending_goals_2021-06-29-11-51-33 already exists. Not creating.\n",
      "[INFO]  Data folder /media/louis/TOSHIBA EXT/FullData/OdomNoise/17/auto_sending_goals_2021-06-29-11-53-49 already exists. Not creating.\n",
      "[INFO]  Data folder /media/louis/TOSHIBA EXT/FullData/OdomNoise/18/auto_sending_goals_2021-06-29-11-56-05 already exists. Not creating.\n",
      "[INFO]  Data folder /media/louis/TOSHIBA EXT/FullData/OdomNoise/19/auto_sending_goals_2021-06-29-11-58-20 already exists. Not creating.\n",
      "[INFO]  Data folder /media/louis/TOSHIBA EXT/FullData/OdomNoise/2/auto_sending_goals_2021-06-29-11-22-35 already exists. Not creating.\n",
      "[INFO]  Data folder /media/louis/TOSHIBA EXT/FullData/OdomNoise/20/auto_sending_goals_2021-06-29-12-00-36 already exists. Not creating.\n",
      "[INFO]  Data folder /media/louis/TOSHIBA EXT/FullData/OdomNoise/21/auto_sending_goals_2021-06-29-12-02-51 already exists. Not creating.\n",
      "[INFO]  Data folder /media/louis/TOSHIBA EXT/FullData/OdomNoise/22/auto_sending_goals_2021-06-29-12-05-07 already exists. Not creating.\n",
      "[INFO]  Data folder /media/louis/TOSHIBA EXT/FullData/OdomNoise/23/auto_sending_goals_2021-06-29-12-07-22 already exists. Not creating.\n",
      "[INFO]  Data folder /media/louis/TOSHIBA EXT/FullData/OdomNoise/24/auto_sending_goals_2021-06-29-12-09-38 already exists. Not creating.\n",
      "[INFO]  Data folder /media/louis/TOSHIBA EXT/FullData/OdomNoise/25/auto_sending_goals_2021-06-29-12-11-53 already exists. Not creating.\n",
      "[INFO]  Data folder /media/louis/TOSHIBA EXT/FullData/OdomNoise/26/auto_sending_goals_2021-06-29-12-14-09 already exists. Not creating.\n",
      "[INFO]  Data folder /media/louis/TOSHIBA EXT/FullData/OdomNoise/27/auto_sending_goals_2021-06-29-12-16-25 already exists. Not creating.\n",
      "[INFO]  Data folder /media/louis/TOSHIBA EXT/FullData/OdomNoise/28/auto_sending_goals_2021-06-29-12-18-40 already exists. Not creating.\n",
      "[INFO]  Data folder /media/louis/TOSHIBA EXT/FullData/OdomNoise/29/auto_sending_goals_2021-06-29-12-20-56 already exists. Not creating.\n",
      "[INFO]  Data folder /media/louis/TOSHIBA EXT/FullData/OdomNoise/30/auto_sending_goals_2021-06-29-12-23-11 already exists. Not creating.\n",
      "[INFO]  Data folder /media/louis/TOSHIBA EXT/FullData/OdomNoise/31/auto_sending_goals_2021-06-30-10-56-09 already exists. Not creating.\n",
      "[INFO]  Data folder /media/louis/TOSHIBA EXT/FullData/OdomNoise/32/auto_sending_goals_2021-06-30-10-58-25 already exists. Not creating.\n",
      "[INFO]  Data folder /media/louis/TOSHIBA EXT/FullData/OdomNoise/33/auto_sending_goals_2021-06-30-11-00-41 already exists. Not creating.\n",
      "[INFO]  Data folder /media/louis/TOSHIBA EXT/FullData/OdomNoise/34/auto_sending_goals_2021-06-30-11-02-56 already exists. Not creating.\n",
      "[INFO]  Data folder /media/louis/TOSHIBA EXT/FullData/OdomNoise/35/auto_sending_goals_2021-06-30-11-05-12 already exists. Not creating.\n",
      "[INFO]  Data folder /media/louis/TOSHIBA EXT/FullData/OdomNoise/36/auto_sending_goals_2021-06-30-11-07-27 already exists. Not creating.\n",
      "[INFO]  Data folder /media/louis/TOSHIBA EXT/FullData/OdomNoise/37/auto_sending_goals_2021-06-30-11-09-43 already exists. Not creating.\n",
      "[INFO]  Data folder /media/louis/TOSHIBA EXT/FullData/OdomNoise/38/auto_sending_goals_2021-06-30-11-11-58 already exists. Not creating.\n",
      "[INFO]  Data folder /media/louis/TOSHIBA EXT/FullData/OdomNoise/39/auto_sending_goals_2021-06-30-11-14-14 already exists. Not creating.\n",
      "[INFO]  Data folder /media/louis/TOSHIBA EXT/FullData/OdomNoise/4/auto_sending_goals_2021-06-29-11-25-36 already exists. Not creating.\n",
      "[INFO]  Data folder /media/louis/TOSHIBA EXT/FullData/OdomNoise/40/auto_sending_goals_2021-06-30-11-16-29 already exists. Not creating.\n",
      "[INFO]  Data folder /media/louis/TOSHIBA EXT/FullData/OdomNoise/41/auto_sending_goals_2021-06-30-11-18-45 already exists. Not creating.\n",
      "[INFO]  Data folder /media/louis/TOSHIBA EXT/FullData/OdomNoise/42/auto_sending_goals_2021-06-30-11-21-01 already exists. Not creating.\n",
      "[INFO]  Data folder /media/louis/TOSHIBA EXT/FullData/OdomNoise/43/auto_sending_goals_2021-06-30-11-23-16 already exists. Not creating.\n",
      "[INFO]  Data folder /media/louis/TOSHIBA EXT/FullData/OdomNoise/44/auto_sending_goals_2021-06-30-11-25-32 already exists. Not creating.\n",
      "[INFO]  Data folder /media/louis/TOSHIBA EXT/FullData/OdomNoise/45/auto_sending_goals_2021-06-30-11-27-47 already exists. Not creating.\n",
      "[INFO]  Data folder /media/louis/TOSHIBA EXT/FullData/OdomNoise/46/auto_sending_goals_2021-06-30-11-29-52 already exists. Not creating.\n",
      "[INFO]  Data folder /media/louis/TOSHIBA EXT/FullData/OdomNoise/47/auto_sending_goals_2021-06-30-11-32-08 already exists. Not creating.\n",
      "[INFO]  Data folder /media/louis/TOSHIBA EXT/FullData/OdomNoise/48/auto_sending_goals_2021-06-30-11-34-23 already exists. Not creating.\n",
      "[INFO]  Data folder /media/louis/TOSHIBA EXT/FullData/OdomNoise/49/auto_sending_goals_2021-06-30-11-34-42 already exists. Not creating.\n",
      "[INFO]  Data folder /media/louis/TOSHIBA EXT/FullData/OdomNoise/5/auto_sending_goals_2021-06-29-11-27-52 already exists. Not creating.\n",
      "[INFO]  Data folder /media/louis/TOSHIBA EXT/FullData/OdomNoise/50/auto_sending_goals_2021-06-30-11-36-58 already exists. Not creating.\n",
      "[INFO]  Data folder /media/louis/TOSHIBA EXT/FullData/OdomNoise/51/auto_sending_goals_2021-06-30-11-39-13 already exists. Not creating.\n",
      "[INFO]  Data folder /media/louis/TOSHIBA EXT/FullData/OdomNoise/52/auto_sending_goals_2021-06-30-11-41-29 already exists. Not creating.\n",
      "[INFO]  Data folder /media/louis/TOSHIBA EXT/FullData/OdomNoise/53/auto_sending_goals_2021-06-30-11-43-44 already exists. Not creating.\n",
      "[INFO]  Data folder /media/louis/TOSHIBA EXT/FullData/OdomNoise/54/auto_sending_goals_2021-06-30-11-46-00 already exists. Not creating.\n",
      "[INFO]  Data folder /media/louis/TOSHIBA EXT/FullData/OdomNoise/55/auto_sending_goals_2021-06-30-11-48-15 already exists. Not creating.\n",
      "[INFO]  Data folder /media/louis/TOSHIBA EXT/FullData/OdomNoise/56/auto_sending_goals_2021-06-30-11-50-31 already exists. Not creating.\n",
      "[INFO]  Data folder /media/louis/TOSHIBA EXT/FullData/OdomNoise/57/auto_sending_goals_2021-06-30-11-52-47 already exists. Not creating.\n",
      "[INFO]  Data folder /media/louis/TOSHIBA EXT/FullData/OdomNoise/58/auto_sending_goals_2021-06-30-11-55-02 already exists. Not creating.\n",
      "[INFO]  Data folder /media/louis/TOSHIBA EXT/FullData/OdomNoise/59/auto_sending_goals_2021-06-30-11-57-18 already exists. Not creating.\n",
      "[INFO]  Data folder /media/louis/TOSHIBA EXT/FullData/OdomNoise/6/auto_sending_goals_2021-06-29-11-30-07 already exists. Not creating.\n",
      "[INFO]  Data folder /media/louis/TOSHIBA EXT/FullData/OdomNoise/60/auto_sending_goals_2021-06-30-11-59-33 already exists. Not creating.\n",
      "[INFO]  Data folder /media/louis/TOSHIBA EXT/FullData/OdomNoise/7/auto_sending_goals_2021-06-29-11-32-23 already exists. Not creating.\n",
      "[INFO]  Data folder /media/louis/TOSHIBA EXT/FullData/OdomNoise/8/auto_sending_goals_2021-06-29-11-34-39 already exists. Not creating.\n",
      "[INFO]  Data folder /media/louis/TOSHIBA EXT/FullData/OdomNoise/9/auto_sending_goals_2021-06-29-11-36-54 already exists. Not creating.\n",
      "[INFO]  Data folder /media/louis/TOSHIBA EXT/FullData/ScanNoise/3/auto_sending_goals_2021-06-29-12-27-31 already exists. Not creating.\n",
      "[INFO]  Data folder /media/louis/TOSHIBA EXT/FullData/ScanNoise/1/auto_sending_goals_2021-06-29-12-26-29 already exists. Not creating.\n",
      "[INFO]  Data folder /media/louis/TOSHIBA EXT/FullData/ScanNoise/10/auto_sending_goals_2021-06-29-12-38-02 already exists. Not creating.\n",
      "[INFO]  Data folder /media/louis/TOSHIBA EXT/FullData/ScanNoise/11/auto_sending_goals_2021-06-29-12-38-27 already exists. Not creating.\n",
      "[INFO]  Data folder /media/louis/TOSHIBA EXT/FullData/ScanNoise/12/auto_sending_goals_2021-06-29-12-40-43 already exists. Not creating.\n",
      "[INFO]  Data folder /media/louis/TOSHIBA EXT/FullData/ScanNoise/13/auto_sending_goals_2021-06-29-12-42-58 already exists. Not creating.\n",
      "[INFO]  Data folder /media/louis/TOSHIBA EXT/FullData/ScanNoise/14/auto_sending_goals_2021-06-29-12-45-14 already exists. Not creating.\n",
      "[INFO]  Data folder /media/louis/TOSHIBA EXT/FullData/ScanNoise/15/auto_sending_goals_2021-06-29-12-47-30 already exists. Not creating.\n",
      "[INFO]  Data folder /media/louis/TOSHIBA EXT/FullData/ScanNoise/16/auto_sending_goals_2021-06-29-12-49-45 already exists. Not creating.\n",
      "[INFO]  Data folder /media/louis/TOSHIBA EXT/FullData/ScanNoise/17/auto_sending_goals_2021-06-29-12-52-01 already exists. Not creating.\n",
      "[INFO]  Data folder /media/louis/TOSHIBA EXT/FullData/ScanNoise/18/auto_sending_goals_2021-06-29-12-54-16 already exists. Not creating.\n",
      "[INFO]  Data folder /media/louis/TOSHIBA EXT/FullData/ScanNoise/19/auto_sending_goals_2021-06-29-12-56-32 already exists. Not creating.\n",
      "[INFO]  Data folder /media/louis/TOSHIBA EXT/FullData/ScanNoise/2/auto_sending_goals_2021-06-29-12-27-07 already exists. Not creating.\n",
      "[INFO]  Data folder /media/louis/TOSHIBA EXT/FullData/ScanNoise/20/auto_sending_goals_2021-06-29-12-58-47 already exists. Not creating.\n",
      "[INFO]  Data folder /media/louis/TOSHIBA EXT/FullData/ScanNoise/21/auto_sending_goals_2021-06-29-13-01-03 already exists. Not creating.\n",
      "[INFO]  Data folder /media/louis/TOSHIBA EXT/FullData/ScanNoise/22/auto_sending_goals_2021-06-29-13-03-18 already exists. Not creating.\n",
      "[INFO]  Data folder /media/louis/TOSHIBA EXT/FullData/ScanNoise/23/auto_sending_goals_2021-06-29-13-05-34 already exists. Not creating.\n",
      "[INFO]  Data folder /media/louis/TOSHIBA EXT/FullData/ScanNoise/24/auto_sending_goals_2021-06-29-13-07-50 already exists. Not creating.\n",
      "[INFO]  Data folder /media/louis/TOSHIBA EXT/FullData/ScanNoise/25/auto_sending_goals_2021-06-29-13-10-05 already exists. Not creating.\n",
      "[INFO]  Data folder /media/louis/TOSHIBA EXT/FullData/ScanNoise/26/auto_sending_goals_2021-06-29-13-12-21 already exists. Not creating.\n",
      "[INFO]  Data folder /media/louis/TOSHIBA EXT/FullData/ScanNoise/27/auto_sending_goals_2021-06-29-13-14-36 already exists. Not creating.\n",
      "[INFO]  Data folder /media/louis/TOSHIBA EXT/FullData/ScanNoise/28/auto_sending_goals_2021-06-29-13-16-52 already exists. Not creating.\n",
      "[INFO]  Data folder /media/louis/TOSHIBA EXT/FullData/ScanNoise/29/auto_sending_goals_2021-06-29-13-19-08 already exists. Not creating.\n",
      "[INFO]  Data folder /media/louis/TOSHIBA EXT/FullData/ScanNoise/30/auto_sending_goals_2021-06-29-13-21-23 already exists. Not creating.\n",
      "[INFO]  Data folder /media/louis/TOSHIBA EXT/FullData/ScanNoise/31/auto_sending_goals_2021-06-30-12-05-22 already exists. Not creating.\n",
      "[INFO]  Data folder /media/louis/TOSHIBA EXT/FullData/ScanNoise/32/auto_sending_goals_2021-06-30-12-06-02 already exists. Not creating.\n",
      "[INFO]  Data folder /media/louis/TOSHIBA EXT/FullData/ScanNoise/33/auto_sending_goals_2021-06-30-12-06-26 already exists. Not creating.\n",
      "[INFO]  Data folder /media/louis/TOSHIBA EXT/FullData/ScanNoise/34/auto_sending_goals_2021-06-30-12-08-41 already exists. Not creating.\n",
      "[INFO]  Data folder /media/louis/TOSHIBA EXT/FullData/ScanNoise/35/auto_sending_goals_2021-06-30-12-10-57 already exists. Not creating.\n",
      "[INFO]  Data folder /media/louis/TOSHIBA EXT/FullData/ScanNoise/36/auto_sending_goals_2021-06-30-12-13-12 already exists. Not creating.\n",
      "[INFO]  Data folder /media/louis/TOSHIBA EXT/FullData/ScanNoise/37/auto_sending_goals_2021-06-30-12-15-28 already exists. Not creating.\n",
      "[INFO]  Data folder /media/louis/TOSHIBA EXT/FullData/ScanNoise/38/auto_sending_goals_2021-06-30-12-17-43 already exists. Not creating.\n",
      "[INFO]  Data folder /media/louis/TOSHIBA EXT/FullData/ScanNoise/39/auto_sending_goals_2021-06-30-12-18-10 already exists. Not creating.\n",
      "[INFO]  Data folder /media/louis/TOSHIBA EXT/FullData/ScanNoise/4/auto_sending_goals_2021-06-29-12-29-46 already exists. Not creating.\n",
      "[INFO]  Data folder /media/louis/TOSHIBA EXT/FullData/ScanNoise/40/auto_sending_goals_2021-06-30-12-18-36 already exists. Not creating.\n",
      "[INFO]  Data folder /media/louis/TOSHIBA EXT/FullData/ScanNoise/41/auto_sending_goals_2021-06-30-12-18-59 already exists. Not creating.\n",
      "[INFO]  Data folder /media/louis/TOSHIBA EXT/FullData/ScanNoise/42/auto_sending_goals_2021-06-30-12-21-15 already exists. Not creating.\n",
      "[INFO]  Data folder /media/louis/TOSHIBA EXT/FullData/ScanNoise/43/auto_sending_goals_2021-06-30-12-23-31 already exists. Not creating.\n",
      "[INFO]  Data folder /media/louis/TOSHIBA EXT/FullData/ScanNoise/44/auto_sending_goals_2021-06-30-12-25-46 already exists. Not creating.\n",
      "[INFO]  Data folder /media/louis/TOSHIBA EXT/FullData/ScanNoise/45/auto_sending_goals_2021-06-30-12-28-02 already exists. Not creating.\n",
      "[INFO]  Data folder /media/louis/TOSHIBA EXT/FullData/ScanNoise/46/auto_sending_goals_2021-06-30-12-30-17 already exists. Not creating.\n",
      "[INFO]  Data folder /media/louis/TOSHIBA EXT/FullData/ScanNoise/47/auto_sending_goals_2021-06-30-12-32-33 already exists. Not creating.\n",
      "[INFO]  Data folder /media/louis/TOSHIBA EXT/FullData/ScanNoise/48/auto_sending_goals_2021-06-30-12-34-49 already exists. Not creating.\n",
      "[INFO]  Data folder /media/louis/TOSHIBA EXT/FullData/ScanNoise/49/auto_sending_goals_2021-06-30-12-37-04 already exists. Not creating.\n",
      "[INFO]  Data folder /media/louis/TOSHIBA EXT/FullData/ScanNoise/5/auto_sending_goals_2021-06-29-12-32-02 already exists. Not creating.\n",
      "[INFO]  Data folder /media/louis/TOSHIBA EXT/FullData/ScanNoise/50/auto_sending_goals_2021-06-30-12-39-20 already exists. Not creating.\n",
      "[INFO]  Data folder /media/louis/TOSHIBA EXT/FullData/ScanNoise/51/auto_sending_goals_2021-06-30-12-41-36 already exists. Not creating.\n",
      "[INFO]  Data folder /media/louis/TOSHIBA EXT/FullData/ScanNoise/52/auto_sending_goals_2021-06-30-12-43-51 already exists. Not creating.\n",
      "[INFO]  Data folder /media/louis/TOSHIBA EXT/FullData/ScanNoise/53/auto_sending_goals_2021-06-30-12-46-07 already exists. Not creating.\n",
      "[INFO]  Data folder /media/louis/TOSHIBA EXT/FullData/ScanNoise/54/auto_sending_goals_2021-06-30-12-48-22 already exists. Not creating.\n",
      "[INFO]  Data folder /media/louis/TOSHIBA EXT/FullData/ScanNoise/55/auto_sending_goals_2021-06-30-12-50-38 already exists. Not creating.\n",
      "[INFO]  Data folder /media/louis/TOSHIBA EXT/FullData/ScanNoise/56/auto_sending_goals_2021-06-30-12-52-53 already exists. Not creating.\n",
      "[INFO]  Data folder /media/louis/TOSHIBA EXT/FullData/ScanNoise/57/auto_sending_goals_2021-06-30-12-55-09 already exists. Not creating.\n",
      "[INFO]  Data folder /media/louis/TOSHIBA EXT/FullData/ScanNoise/58/auto_sending_goals_2021-06-30-12-57-25 already exists. Not creating.\n",
      "[INFO]  Data folder /media/louis/TOSHIBA EXT/FullData/ScanNoise/59/auto_sending_goals_2021-06-30-12-59-40 already exists. Not creating.\n",
      "[INFO]  Data folder /media/louis/TOSHIBA EXT/FullData/ScanNoise/6/auto_sending_goals_2021-06-29-12-34-17 already exists. Not creating.\n",
      "[INFO]  Data folder /media/louis/TOSHIBA EXT/FullData/ScanNoise/60/auto_sending_goals_2021-06-30-13-01-56 already exists. Not creating.\n",
      "[INFO]  Data folder /media/louis/TOSHIBA EXT/FullData/ScanNoise/7/auto_sending_goals_2021-06-29-12-34-54 already exists. Not creating.\n",
      "[INFO]  Data folder /media/louis/TOSHIBA EXT/FullData/ScanNoise/8/auto_sending_goals_2021-06-29-12-37-10 already exists. Not creating.\n",
      "[INFO]  Data folder /media/louis/TOSHIBA EXT/FullData/ScanNoise/9/auto_sending_goals_2021-06-29-12-37-37 already exists. Not creating.\n"
     ]
    },
    {
     "ename": "ValueError",
     "evalue": "The truth value of an array with more than one element is ambiguous. Use a.any() or a.all()",
     "output_type": "error",
     "traceback": [
      "\u001b[0;31m---------------------------------------------------------------------------\u001b[0m",
      "\u001b[0;31mValueError\u001b[0m                                Traceback (most recent call last)",
      "\u001b[0;32m<ipython-input-1-9fd4be95b4aa>\u001b[0m in \u001b[0;36m<module>\u001b[0;34m\u001b[0m\n\u001b[1;32m      3\u001b[0m \u001b[0;32mfrom\u001b[0m \u001b[0mread_data\u001b[0m \u001b[0;32mimport\u001b[0m \u001b[0mmake_dataset\u001b[0m\u001b[0;34m\u001b[0m\u001b[0;34m\u001b[0m\u001b[0m\n\u001b[1;32m      4\u001b[0m \u001b[0;34m\u001b[0m\u001b[0m\n\u001b[0;32m----> 5\u001b[0;31m \u001b[0modoms\u001b[0m\u001b[0;34m,\u001b[0m\u001b[0mscans\u001b[0m\u001b[0;34m,\u001b[0m\u001b[0mlabels\u001b[0m\u001b[0;34m=\u001b[0m\u001b[0mmake_dataset\u001b[0m\u001b[0;34m(\u001b[0m\u001b[0;34m\"/media/louis/TOSHIBA EXT/FullData\"\u001b[0m\u001b[0;34m)\u001b[0m\u001b[0;34m\u001b[0m\u001b[0;34m\u001b[0m\u001b[0m\n\u001b[0m",
      "\u001b[0;32m~/model_cnn/read_data.py\u001b[0m in \u001b[0;36mmake_dataset\u001b[0;34m(path)\u001b[0m\n\u001b[1;32m     43\u001b[0m                 \u001b[0mscans\u001b[0m\u001b[0;34m.\u001b[0m\u001b[0mappend\u001b[0m\u001b[0;34m(\u001b[0m\u001b[0mdf_sc\u001b[0m\u001b[0;34m.\u001b[0m\u001b[0mvalues\u001b[0m\u001b[0;34m)\u001b[0m\u001b[0;34m\u001b[0m\u001b[0;34m\u001b[0m\u001b[0m\n\u001b[1;32m     44\u001b[0m                 \u001b[0mlabels\u001b[0m\u001b[0;34m.\u001b[0m\u001b[0mappend\u001b[0m\u001b[0;34m(\u001b[0m\u001b[0mlabel\u001b[0m\u001b[0;34m)\u001b[0m\u001b[0;34m\u001b[0m\u001b[0;34m\u001b[0m\u001b[0m\n\u001b[0;32m---> 45\u001b[0;31m     \u001b[0modoms\u001b[0m\u001b[0;34m=\u001b[0m\u001b[0mtf\u001b[0m\u001b[0;34m.\u001b[0m\u001b[0mragged\u001b[0m\u001b[0;34m.\u001b[0m\u001b[0mconstant\u001b[0m\u001b[0;34m(\u001b[0m\u001b[0modoms\u001b[0m\u001b[0;34m,\u001b[0m\u001b[0mragged_rank\u001b[0m\u001b[0;34m=\u001b[0m\u001b[0;36m1\u001b[0m\u001b[0;34m)\u001b[0m\u001b[0;34m\u001b[0m\u001b[0;34m\u001b[0m\u001b[0m\n\u001b[0m\u001b[1;32m     46\u001b[0m     \u001b[0mscans\u001b[0m\u001b[0;34m=\u001b[0m\u001b[0mtf\u001b[0m\u001b[0;34m.\u001b[0m\u001b[0mragged\u001b[0m\u001b[0;34m.\u001b[0m\u001b[0mconstant\u001b[0m\u001b[0;34m(\u001b[0m\u001b[0mscans\u001b[0m\u001b[0;34m,\u001b[0m\u001b[0mragged_rank\u001b[0m\u001b[0;34m=\u001b[0m\u001b[0;36m1\u001b[0m\u001b[0;34m)\u001b[0m\u001b[0;34m\u001b[0m\u001b[0;34m\u001b[0m\u001b[0m\n\u001b[1;32m     47\u001b[0m     \u001b[0;32mreturn\u001b[0m \u001b[0modoms\u001b[0m\u001b[0;34m,\u001b[0m\u001b[0mscans\u001b[0m\u001b[0;34m,\u001b[0m\u001b[0mlabels\u001b[0m\u001b[0;34m\u001b[0m\u001b[0;34m\u001b[0m\u001b[0m\n",
      "\u001b[0;32m~/.local/lib/python3.8/site-packages/tensorflow/python/util/dispatch.py\u001b[0m in \u001b[0;36mwrapper\u001b[0;34m(*args, **kwargs)\u001b[0m\n\u001b[1;32m    199\u001b[0m     \u001b[0;34m\"\"\"Call target, and fall back on dispatchers if there is a TypeError.\"\"\"\u001b[0m\u001b[0;34m\u001b[0m\u001b[0;34m\u001b[0m\u001b[0m\n\u001b[1;32m    200\u001b[0m     \u001b[0;32mtry\u001b[0m\u001b[0;34m:\u001b[0m\u001b[0;34m\u001b[0m\u001b[0;34m\u001b[0m\u001b[0m\n\u001b[0;32m--> 201\u001b[0;31m       \u001b[0;32mreturn\u001b[0m \u001b[0mtarget\u001b[0m\u001b[0;34m(\u001b[0m\u001b[0;34m*\u001b[0m\u001b[0margs\u001b[0m\u001b[0;34m,\u001b[0m \u001b[0;34m**\u001b[0m\u001b[0mkwargs\u001b[0m\u001b[0;34m)\u001b[0m\u001b[0;34m\u001b[0m\u001b[0;34m\u001b[0m\u001b[0m\n\u001b[0m\u001b[1;32m    202\u001b[0m     \u001b[0;32mexcept\u001b[0m \u001b[0;34m(\u001b[0m\u001b[0mTypeError\u001b[0m\u001b[0;34m,\u001b[0m \u001b[0mValueError\u001b[0m\u001b[0;34m)\u001b[0m\u001b[0;34m:\u001b[0m\u001b[0;34m\u001b[0m\u001b[0;34m\u001b[0m\u001b[0m\n\u001b[1;32m    203\u001b[0m       \u001b[0;31m# Note: convert_to_eager_tensor currently raises a ValueError, not a\u001b[0m\u001b[0;34m\u001b[0m\u001b[0;34m\u001b[0m\u001b[0;34m\u001b[0m\u001b[0m\n",
      "\u001b[0;32m~/.local/lib/python3.8/site-packages/tensorflow/python/ops/ragged/ragged_factory_ops.py\u001b[0m in \u001b[0;36mconstant\u001b[0;34m(pylist, dtype, ragged_rank, inner_shape, name, row_splits_dtype)\u001b[0m\n\u001b[1;32m     84\u001b[0m \u001b[0;34m\u001b[0m\u001b[0m\n\u001b[1;32m     85\u001b[0m   \u001b[0;32mwith\u001b[0m \u001b[0mops\u001b[0m\u001b[0;34m.\u001b[0m\u001b[0mname_scope\u001b[0m\u001b[0;34m(\u001b[0m\u001b[0mname\u001b[0m\u001b[0;34m,\u001b[0m \u001b[0;34m\"RaggedConstant\"\u001b[0m\u001b[0;34m)\u001b[0m\u001b[0;34m:\u001b[0m\u001b[0;34m\u001b[0m\u001b[0;34m\u001b[0m\u001b[0m\n\u001b[0;32m---> 86\u001b[0;31m     return _constant_value(ragged_factory, constant_op.constant, pylist, dtype,\n\u001b[0m\u001b[1;32m     87\u001b[0m                            ragged_rank, inner_shape)\n\u001b[1;32m     88\u001b[0m \u001b[0;34m\u001b[0m\u001b[0m\n",
      "\u001b[0;32m~/.local/lib/python3.8/site-packages/tensorflow/python/ops/ragged/ragged_factory_ops.py\u001b[0m in \u001b[0;36m_constant_value\u001b[0;34m(ragged_factory, inner_factory, pylist, dtype, ragged_rank, inner_shape)\u001b[0m\n\u001b[1;32m    216\u001b[0m       \u001b[0minner_shape\u001b[0m \u001b[0;34m=\u001b[0m \u001b[0;34m(\u001b[0m\u001b[0;34m)\u001b[0m\u001b[0;34m\u001b[0m\u001b[0;34m\u001b[0m\u001b[0m\n\u001b[1;32m    217\u001b[0m     \u001b[0;32melse\u001b[0m\u001b[0;34m:\u001b[0m\u001b[0;34m\u001b[0m\u001b[0;34m\u001b[0m\u001b[0m\n\u001b[0;32m--> 218\u001b[0;31m       \u001b[0minner_shape\u001b[0m \u001b[0;34m=\u001b[0m \u001b[0m_default_inner_shape_for_pylist\u001b[0m\u001b[0;34m(\u001b[0m\u001b[0mpylist\u001b[0m\u001b[0;34m,\u001b[0m \u001b[0mragged_rank\u001b[0m\u001b[0;34m)\u001b[0m\u001b[0;34m\u001b[0m\u001b[0;34m\u001b[0m\u001b[0m\n\u001b[0m\u001b[1;32m    219\u001b[0m \u001b[0;34m\u001b[0m\u001b[0m\n\u001b[1;32m    220\u001b[0m   \u001b[0;31m# Compute default value for ragged_rank.\u001b[0m\u001b[0;34m\u001b[0m\u001b[0;34m\u001b[0m\u001b[0;34m\u001b[0m\u001b[0m\n",
      "\u001b[0;32m~/.local/lib/python3.8/site-packages/tensorflow/python/ops/ragged/ragged_factory_ops.py\u001b[0m in \u001b[0;36m_default_inner_shape_for_pylist\u001b[0;34m(pylist, ragged_rank)\u001b[0m\n\u001b[1;32m    309\u001b[0m   \u001b[0;31m# Compute the inner shape looking only at the leftmost elements; and then\u001b[0m\u001b[0;34m\u001b[0m\u001b[0;34m\u001b[0m\u001b[0;34m\u001b[0m\u001b[0m\n\u001b[1;32m    310\u001b[0m   \u001b[0;31m# use check_inner_shape to verify that other elements have the same shape.\u001b[0m\u001b[0;34m\u001b[0m\u001b[0;34m\u001b[0m\u001b[0;34m\u001b[0m\u001b[0m\n\u001b[0;32m--> 311\u001b[0;31m   \u001b[0minner_shape\u001b[0m \u001b[0;34m=\u001b[0m \u001b[0mget_inner_shape\u001b[0m\u001b[0;34m(\u001b[0m\u001b[0mflat_values\u001b[0m\u001b[0;34m)\u001b[0m\u001b[0;34m\u001b[0m\u001b[0;34m\u001b[0m\u001b[0m\n\u001b[0m\u001b[1;32m    312\u001b[0m   \u001b[0mcheck_inner_shape\u001b[0m\u001b[0;34m(\u001b[0m\u001b[0mflat_values\u001b[0m\u001b[0;34m,\u001b[0m \u001b[0minner_shape\u001b[0m\u001b[0;34m)\u001b[0m\u001b[0;34m\u001b[0m\u001b[0;34m\u001b[0m\u001b[0m\n\u001b[1;32m    313\u001b[0m   \u001b[0;32mreturn\u001b[0m \u001b[0minner_shape\u001b[0m\u001b[0;34m[\u001b[0m\u001b[0;36m1\u001b[0m\u001b[0;34m:\u001b[0m\u001b[0;34m]\u001b[0m\u001b[0;34m\u001b[0m\u001b[0;34m\u001b[0m\u001b[0m\n",
      "\u001b[0;32m~/.local/lib/python3.8/site-packages/tensorflow/python/ops/ragged/ragged_factory_ops.py\u001b[0m in \u001b[0;36mget_inner_shape\u001b[0;34m(item)\u001b[0m\n\u001b[1;32m    283\u001b[0m       \u001b[0;32mreturn\u001b[0m \u001b[0;34m(\u001b[0m\u001b[0;34m)\u001b[0m\u001b[0;34m\u001b[0m\u001b[0;34m\u001b[0m\u001b[0m\n\u001b[1;32m    284\u001b[0m     \u001b[0;32melif\u001b[0m \u001b[0mitem\u001b[0m\u001b[0;34m:\u001b[0m\u001b[0;34m\u001b[0m\u001b[0;34m\u001b[0m\u001b[0m\n\u001b[0;32m--> 285\u001b[0;31m       \u001b[0;32mreturn\u001b[0m \u001b[0;34m(\u001b[0m\u001b[0mlen\u001b[0m\u001b[0;34m(\u001b[0m\u001b[0mitem\u001b[0m\u001b[0;34m)\u001b[0m\u001b[0;34m,\u001b[0m\u001b[0;34m)\u001b[0m \u001b[0;34m+\u001b[0m \u001b[0mget_inner_shape\u001b[0m\u001b[0;34m(\u001b[0m\u001b[0mitem\u001b[0m\u001b[0;34m[\u001b[0m\u001b[0;36m0\u001b[0m\u001b[0;34m]\u001b[0m\u001b[0;34m)\u001b[0m\u001b[0;34m\u001b[0m\u001b[0;34m\u001b[0m\u001b[0m\n\u001b[0m\u001b[1;32m    286\u001b[0m     \u001b[0;32mreturn\u001b[0m \u001b[0;34m(\u001b[0m\u001b[0;36m0\u001b[0m\u001b[0;34m,\u001b[0m\u001b[0;34m)\u001b[0m\u001b[0;34m\u001b[0m\u001b[0;34m\u001b[0m\u001b[0m\n\u001b[1;32m    287\u001b[0m \u001b[0;34m\u001b[0m\u001b[0m\n",
      "\u001b[0;32m~/.local/lib/python3.8/site-packages/tensorflow/python/ops/ragged/ragged_factory_ops.py\u001b[0m in \u001b[0;36mget_inner_shape\u001b[0;34m(item)\u001b[0m\n\u001b[1;32m    282\u001b[0m     \u001b[0;32mif\u001b[0m \u001b[0;32mnot\u001b[0m \u001b[0misinstance\u001b[0m\u001b[0;34m(\u001b[0m\u001b[0mitem\u001b[0m\u001b[0;34m,\u001b[0m \u001b[0;34m(\u001b[0m\u001b[0mlist\u001b[0m\u001b[0;34m,\u001b[0m \u001b[0mtuple\u001b[0m\u001b[0;34m)\u001b[0m\u001b[0;34m)\u001b[0m \u001b[0;32mand\u001b[0m \u001b[0mnp\u001b[0m\u001b[0;34m.\u001b[0m\u001b[0mndim\u001b[0m\u001b[0;34m(\u001b[0m\u001b[0mitem\u001b[0m\u001b[0;34m)\u001b[0m \u001b[0;34m==\u001b[0m \u001b[0;36m0\u001b[0m\u001b[0;34m:\u001b[0m\u001b[0;34m\u001b[0m\u001b[0;34m\u001b[0m\u001b[0m\n\u001b[1;32m    283\u001b[0m       \u001b[0;32mreturn\u001b[0m \u001b[0;34m(\u001b[0m\u001b[0;34m)\u001b[0m\u001b[0;34m\u001b[0m\u001b[0;34m\u001b[0m\u001b[0m\n\u001b[0;32m--> 284\u001b[0;31m     \u001b[0;32melif\u001b[0m \u001b[0mitem\u001b[0m\u001b[0;34m:\u001b[0m\u001b[0;34m\u001b[0m\u001b[0;34m\u001b[0m\u001b[0m\n\u001b[0m\u001b[1;32m    285\u001b[0m       \u001b[0;32mreturn\u001b[0m \u001b[0;34m(\u001b[0m\u001b[0mlen\u001b[0m\u001b[0;34m(\u001b[0m\u001b[0mitem\u001b[0m\u001b[0;34m)\u001b[0m\u001b[0;34m,\u001b[0m\u001b[0;34m)\u001b[0m \u001b[0;34m+\u001b[0m \u001b[0mget_inner_shape\u001b[0m\u001b[0;34m(\u001b[0m\u001b[0mitem\u001b[0m\u001b[0;34m[\u001b[0m\u001b[0;36m0\u001b[0m\u001b[0;34m]\u001b[0m\u001b[0;34m)\u001b[0m\u001b[0;34m\u001b[0m\u001b[0;34m\u001b[0m\u001b[0m\n\u001b[1;32m    286\u001b[0m     \u001b[0;32mreturn\u001b[0m \u001b[0;34m(\u001b[0m\u001b[0;36m0\u001b[0m\u001b[0;34m,\u001b[0m\u001b[0;34m)\u001b[0m\u001b[0;34m\u001b[0m\u001b[0;34m\u001b[0m\u001b[0m\n",
      "\u001b[0;31mValueError\u001b[0m: The truth value of an array with more than one element is ambiguous. Use a.any() or a.all()"
     ]
    }
   ],
   "source": [
    "import tensorflow as tf\n",
    "import numpy as np\n",
    "from read_data import make_dataset\n",
    "\n",
    "odoms,scans,labels=make_dataset(\"/media/louis/TOSHIBA EXT/FullData\")\n"
   ]
  },
  {
   "cell_type": "code",
   "execution_count": null,
   "metadata": {},
   "outputs": [],
   "source": []
  },
  {
   "cell_type": "code",
   "execution_count": null,
   "metadata": {},
   "outputs": [
    {
     "data": {
      "text/plain": [
       "list"
      ]
     },
     "execution_count": 8,
     "metadata": {},
     "output_type": "execute_result"
    }
   ],
   "source": [
    "tf.data.Dataset.from_tensor_slices(odoms)"
   ]
  },
  {
   "cell_type": "code",
   "execution_count": null,
   "metadata": {},
   "outputs": [
    {
     "name": "stdout",
     "output_type": "stream",
     "text": [
      "plop\n",
      "(303, 13)\n",
      "plop\n",
      "(417, 13)\n",
      "plop\n",
      "(481, 13)\n",
      "plop\n",
      "(448, 13)\n",
      "plop\n",
      "(364, 13)\n",
      "plop\n",
      "(331, 13)\n",
      "plop\n",
      "(222, 13)\n",
      "plop\n",
      "(454, 13)\n",
      "plop\n",
      "(448, 13)\n",
      "plop\n",
      "(378, 13)\n"
     ]
    }
   ],
   "source": [
    "list_data=[np.random.random((np.random.randint(200,500),13)).tolist() for i in range(10)]\n",
    "test=tf.ragged.constant(list_data,ragged_rank=1)\n",
    "ds=tf.data.Dataset.from_tensor_slices(test)"
   ]
  },
  {
   "cell_type": "code",
   "execution_count": null,
   "metadata": {},
   "outputs": [],
   "source": []
  },
  {
   "cell_type": "code",
   "execution_count": null,
   "metadata": {},
   "outputs": [],
   "source": []
  }
 ],
 "metadata": {
  "interpreter": {
   "hash": "31f2aee4e71d21fbe5cf8b01ff0e069b9275f58929596ceb00d14d90e3e16cd6"
  },
  "kernelspec": {
   "name": "python3",
   "display_name": "Python 3.7.5 64-bit"
  },
  "language_info": {
   "name": "python",
   "version": "3.7.5"
  },
  "orig_nbformat": 4
 },
 "nbformat": 4,
 "nbformat_minor": 2
}